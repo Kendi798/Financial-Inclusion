{
  "nbformat": 4,
  "nbformat_minor": 0,
  "metadata": {
    "colab": {
      "provenance": [],
      "mount_file_id": "1iYlo_vGJyjaW2FZd6TuNDzHe8CgHPBn1",
      "authorship_tag": "ABX9TyOiyV1CnqGlztU/Me3ZqjIZ",
      "include_colab_link": true
    },
    "kernelspec": {
      "name": "python3",
      "display_name": "Python 3"
    },
    "language_info": {
      "name": "python"
    }
  },
  "cells": [
    {
      "cell_type": "markdown",
      "metadata": {
        "id": "view-in-github",
        "colab_type": "text"
      },
      "source": [
        "<a href=\"https://colab.research.google.com/github/KendiSookie/Financial-Inclusion/blob/main/Financial_Inclusion_by_Lisa_Kendi.ipynb\" target=\"_parent\"><img src=\"https://colab.research.google.com/assets/colab-badge.svg\" alt=\"Open In Colab\"/></a>"
      ]
    },
    {
      "cell_type": "markdown",
      "source": [
        "\n",
        "\n",
        "**THE STATE OF FINANCIAL INCLUSION IN KENYA,TANZANIA,UGANDA AND RWANDA** "
      ],
      "metadata": {
        "id": "g3MVVE5PmUMi"
      }
    },
    {
      "cell_type": "markdown",
      "source": [
        "# 1.0) Project Overview\n",
        "**Financial inclusion** means that individuals and businesses have access to useful and affordable financial products and services that meet their needs.\n",
        "\n",
        "Being able to have access to a transaction account is a first step toward broader financial inclusion since a transaction account allows people to store money, and send and receive payments. A transaction account serves as a gateway to other financial services, which is why ensuring that people worldwide can have access to a transaction account continues to be an area of  focus for the World Bank Group (WBG). \n",
        "\n",
        "Financial Inclusion remains one of the main obstacles to economic and human development in Africa. For example, across Kenya, Rwanda, Tanzania, and Uganda only 9.1 million adults (or 13.9% of the adult population) have access to or use a commercial bank account."
      ],
      "metadata": {
        "id": "ohdrvXVnJra2"
      }
    },
    {
      "cell_type": "markdown",
      "source": [
        "# 1.2) Problem Statement\n",
        "\n",
        "Financial Inclusion remains one of the main obstacles to economic and human development in Africa. For example, across Kenya, Rwanda, Tanzania, and Uganda only 9.1 million adults (or 13.9% of the adult population) have access to or use a commercial bank account.\n"
      ],
      "metadata": {
        "id": "at1hQof6Jl2K"
      }
    },
    {
      "cell_type": "markdown",
      "source": [
        "#1.3) Objectives\n",
        "#a) Main objective\n",
        "The objective of this project is to develop a predictive model that determines which individuals are most likely to have or use a bank account.\n",
        "\n",
        "#b) Specific objectives\n",
        "\n",
        "1. To create a machine learning model that will make the predictions.\n",
        "\n"
      ],
      "metadata": {
        "id": "9dP8dVaKIzjO"
      }
    },
    {
      "cell_type": "markdown",
      "source": [
        "# 1.4)Specifying the question\n",
        "\n",
        "\n",
        "1.   Which individuals are most likely to have or use a bank account"
      ],
      "metadata": {
        "id": "z5GprNH2Knm2"
      }
    },
    {
      "cell_type": "markdown",
      "source": [
        "# 1.5) Defining the metric of success\n",
        "Project will be considered successful if we train a machine learning model that will be able to predict which type of individuals are likely to have or use a bank account"
      ],
      "metadata": {
        "id": "7BAHZ5pgUi0I"
      }
    },
    {
      "cell_type": "markdown",
      "source": [
        "#1.6) Understanding the question\n",
        "\n",
        "The dataset we have describes ~23,524 variables. Information on the car type, make, customer age and start of policy are in the data.\n",
        "\n",
        "Below are the various variables in our dataset;\n",
        "\n",
        "1. **Country** :\tCountry\n",
        "2. **Year**  :\tYear in concideration\n",
        "3.  **gender_of_respondent** :\tGender of the respondent\n",
        "4. **Respondent Age**:\tAge of the respondent\n",
        "5. **household_size**:\tSize of household\n",
        "6.\t**Type of Location** :\tThe type of location of an individual\n",
        "7.\t**marital_status** :\tMarital status of the respondent\n"
      ],
      "metadata": {
        "id": "YMJVMWrBUnIn"
      }
    },
    {
      "cell_type": "markdown",
      "source": [
        "#1.7) Experimental Design Taken\n",
        "\n",
        "1. Loading the required libraries\n",
        "2. Reading and previewing dataset\n",
        "3. Tidying the data\n",
        "4. Exploratory Data Analysis\n",
        "5. Implementing the solution \n",
        "6. Challenging the solution.\n",
        "7. Conclusion\n",
        "8. Reccomendation"
      ],
      "metadata": {
        "id": "1GIrwuEcUtx_"
      }
    },
    {
      "cell_type": "markdown",
      "source": [
        "# 1.8) Data Relevance\n",
        "The dataset is relevant for the analysis process.This dataset provides a complete overview of **12,000** respondents who have bank accountss and who do not.\n",
        "\n",
        "The dataset was extracted from Kaggle"
      ],
      "metadata": {
        "id": "jaKcZuhpUypT"
      }
    },
    {
      "cell_type": "markdown",
      "source": [
        "# 2) Reading the data"
      ],
      "metadata": {
        "id": "9p6t6EzGKxhe"
      }
    },
    {
      "cell_type": "code",
      "source": [
        "#Importing the libraries\n",
        "import pandas as pd\n",
        "import numpy as np\n",
        "from matplotlib import pyplot as plt\n",
        "import seaborn as sns\n",
        "import missingno as msno\n",
        "%matplotlib inline"
      ],
      "metadata": {
        "id": "y7LkFILxrnvm"
      },
      "execution_count": null,
      "outputs": []
    },
    {
      "cell_type": "code",
      "source": [
        "from google.colab import drive\n",
        "drive.mount('/content/drive')"
      ],
      "metadata": {
        "id": "Lx3pF3e428ic",
        "colab": {
          "base_uri": "https://localhost:8080/"
        },
        "outputId": "c2af1475-bbc3-495a-f221-018aa77d0b56"
      },
      "execution_count": null,
      "outputs": [
        {
          "output_type": "stream",
          "name": "stdout",
          "text": [
            "Drive already mounted at /content/drive; to attempt to forcibly remount, call drive.mount(\"/content/drive\", force_remount=True).\n"
          ]
        }
      ]
    },
    {
      "cell_type": "code",
      "source": [
        "#Reading the dataset\n",
        "Financial=pd.read_csv('/content/drive/MyDrive/Financial Dataset - 1.csv')"
      ],
      "metadata": {
        "id": "Rxmig5_x1_a8"
      },
      "execution_count": null,
      "outputs": []
    },
    {
      "cell_type": "markdown",
      "source": [
        "# 3) Understanding the dataset"
      ],
      "metadata": {
        "id": "QXGn3XF77ddP"
      }
    },
    {
      "cell_type": "code",
      "source": [
        "#Reading the first 5 values of the dataset\n",
        "Financial.head()"
      ],
      "metadata": {
        "colab": {
          "base_uri": "https://localhost:8080/",
          "height": 426
        },
        "id": "s4eFnd1x4f8U",
        "outputId": "c1f6fd1c-1790-455b-a679-225fd2d1f9a5"
      },
      "execution_count": null,
      "outputs": [
        {
          "output_type": "execute_result",
          "data": {
            "text/plain": [
              "  country  year    uniqueid Has a Bank account Type of Location  \\\n",
              "0   Kenya  2018  uniqueid_1                Yes            Rural   \n",
              "1   Kenya  2018  uniqueid_2                 No            Rural   \n",
              "2   Kenya  2018  uniqueid_3                Yes            Urban   \n",
              "3   Kenya  2018  uniqueid_4                 No            Rural   \n",
              "4   Kenya  2018  uniqueid_5                 No            Urban   \n",
              "\n",
              "  Cell Phone Access  household_size  Respondent Age gender_of_respondent  \\\n",
              "0               Yes             3.0            24.0               Female   \n",
              "1                No             5.0            70.0               Female   \n",
              "2               Yes             5.0            26.0                 Male   \n",
              "3               Yes             5.0            34.0               Female   \n",
              "4                No             8.0            26.0                 Male   \n",
              "\n",
              "  The relathip with head           marital_status  \\\n",
              "0                 Spouse  Married/Living together   \n",
              "1      Head of Household                  Widowed   \n",
              "2         Other relative     Single/Never Married   \n",
              "3      Head of Household  Married/Living together   \n",
              "4                  Child     Single/Never Married   \n",
              "\n",
              "               Level of Educuation                Type of Job  \n",
              "0              Secondary education              Self employed  \n",
              "1              No formal education       Government Dependent  \n",
              "2  Vocational/Specialised training              Self employed  \n",
              "3                Primary education  Formally employed Private  \n",
              "4                Primary education        Informally employed  "
            ],
            "text/html": [
              "\n",
              "  <div id=\"df-e5c32885-bdb8-4624-920c-633d0458d65b\">\n",
              "    <div class=\"colab-df-container\">\n",
              "      <div>\n",
              "<style scoped>\n",
              "    .dataframe tbody tr th:only-of-type {\n",
              "        vertical-align: middle;\n",
              "    }\n",
              "\n",
              "    .dataframe tbody tr th {\n",
              "        vertical-align: top;\n",
              "    }\n",
              "\n",
              "    .dataframe thead th {\n",
              "        text-align: right;\n",
              "    }\n",
              "</style>\n",
              "<table border=\"1\" class=\"dataframe\">\n",
              "  <thead>\n",
              "    <tr style=\"text-align: right;\">\n",
              "      <th></th>\n",
              "      <th>country</th>\n",
              "      <th>year</th>\n",
              "      <th>uniqueid</th>\n",
              "      <th>Has a Bank account</th>\n",
              "      <th>Type of Location</th>\n",
              "      <th>Cell Phone Access</th>\n",
              "      <th>household_size</th>\n",
              "      <th>Respondent Age</th>\n",
              "      <th>gender_of_respondent</th>\n",
              "      <th>The relathip with head</th>\n",
              "      <th>marital_status</th>\n",
              "      <th>Level of Educuation</th>\n",
              "      <th>Type of Job</th>\n",
              "    </tr>\n",
              "  </thead>\n",
              "  <tbody>\n",
              "    <tr>\n",
              "      <th>0</th>\n",
              "      <td>Kenya</td>\n",
              "      <td>2018</td>\n",
              "      <td>uniqueid_1</td>\n",
              "      <td>Yes</td>\n",
              "      <td>Rural</td>\n",
              "      <td>Yes</td>\n",
              "      <td>3.0</td>\n",
              "      <td>24.0</td>\n",
              "      <td>Female</td>\n",
              "      <td>Spouse</td>\n",
              "      <td>Married/Living together</td>\n",
              "      <td>Secondary education</td>\n",
              "      <td>Self employed</td>\n",
              "    </tr>\n",
              "    <tr>\n",
              "      <th>1</th>\n",
              "      <td>Kenya</td>\n",
              "      <td>2018</td>\n",
              "      <td>uniqueid_2</td>\n",
              "      <td>No</td>\n",
              "      <td>Rural</td>\n",
              "      <td>No</td>\n",
              "      <td>5.0</td>\n",
              "      <td>70.0</td>\n",
              "      <td>Female</td>\n",
              "      <td>Head of Household</td>\n",
              "      <td>Widowed</td>\n",
              "      <td>No formal education</td>\n",
              "      <td>Government Dependent</td>\n",
              "    </tr>\n",
              "    <tr>\n",
              "      <th>2</th>\n",
              "      <td>Kenya</td>\n",
              "      <td>2018</td>\n",
              "      <td>uniqueid_3</td>\n",
              "      <td>Yes</td>\n",
              "      <td>Urban</td>\n",
              "      <td>Yes</td>\n",
              "      <td>5.0</td>\n",
              "      <td>26.0</td>\n",
              "      <td>Male</td>\n",
              "      <td>Other relative</td>\n",
              "      <td>Single/Never Married</td>\n",
              "      <td>Vocational/Specialised training</td>\n",
              "      <td>Self employed</td>\n",
              "    </tr>\n",
              "    <tr>\n",
              "      <th>3</th>\n",
              "      <td>Kenya</td>\n",
              "      <td>2018</td>\n",
              "      <td>uniqueid_4</td>\n",
              "      <td>No</td>\n",
              "      <td>Rural</td>\n",
              "      <td>Yes</td>\n",
              "      <td>5.0</td>\n",
              "      <td>34.0</td>\n",
              "      <td>Female</td>\n",
              "      <td>Head of Household</td>\n",
              "      <td>Married/Living together</td>\n",
              "      <td>Primary education</td>\n",
              "      <td>Formally employed Private</td>\n",
              "    </tr>\n",
              "    <tr>\n",
              "      <th>4</th>\n",
              "      <td>Kenya</td>\n",
              "      <td>2018</td>\n",
              "      <td>uniqueid_5</td>\n",
              "      <td>No</td>\n",
              "      <td>Urban</td>\n",
              "      <td>No</td>\n",
              "      <td>8.0</td>\n",
              "      <td>26.0</td>\n",
              "      <td>Male</td>\n",
              "      <td>Child</td>\n",
              "      <td>Single/Never Married</td>\n",
              "      <td>Primary education</td>\n",
              "      <td>Informally employed</td>\n",
              "    </tr>\n",
              "  </tbody>\n",
              "</table>\n",
              "</div>\n",
              "      <button class=\"colab-df-convert\" onclick=\"convertToInteractive('df-e5c32885-bdb8-4624-920c-633d0458d65b')\"\n",
              "              title=\"Convert this dataframe to an interactive table.\"\n",
              "              style=\"display:none;\">\n",
              "        \n",
              "  <svg xmlns=\"http://www.w3.org/2000/svg\" height=\"24px\"viewBox=\"0 0 24 24\"\n",
              "       width=\"24px\">\n",
              "    <path d=\"M0 0h24v24H0V0z\" fill=\"none\"/>\n",
              "    <path d=\"M18.56 5.44l.94 2.06.94-2.06 2.06-.94-2.06-.94-.94-2.06-.94 2.06-2.06.94zm-11 1L8.5 8.5l.94-2.06 2.06-.94-2.06-.94L8.5 2.5l-.94 2.06-2.06.94zm10 10l.94 2.06.94-2.06 2.06-.94-2.06-.94-.94-2.06-.94 2.06-2.06.94z\"/><path d=\"M17.41 7.96l-1.37-1.37c-.4-.4-.92-.59-1.43-.59-.52 0-1.04.2-1.43.59L10.3 9.45l-7.72 7.72c-.78.78-.78 2.05 0 2.83L4 21.41c.39.39.9.59 1.41.59.51 0 1.02-.2 1.41-.59l7.78-7.78 2.81-2.81c.8-.78.8-2.07 0-2.86zM5.41 20L4 18.59l7.72-7.72 1.47 1.35L5.41 20z\"/>\n",
              "  </svg>\n",
              "      </button>\n",
              "      \n",
              "  <style>\n",
              "    .colab-df-container {\n",
              "      display:flex;\n",
              "      flex-wrap:wrap;\n",
              "      gap: 12px;\n",
              "    }\n",
              "\n",
              "    .colab-df-convert {\n",
              "      background-color: #E8F0FE;\n",
              "      border: none;\n",
              "      border-radius: 50%;\n",
              "      cursor: pointer;\n",
              "      display: none;\n",
              "      fill: #1967D2;\n",
              "      height: 32px;\n",
              "      padding: 0 0 0 0;\n",
              "      width: 32px;\n",
              "    }\n",
              "\n",
              "    .colab-df-convert:hover {\n",
              "      background-color: #E2EBFA;\n",
              "      box-shadow: 0px 1px 2px rgba(60, 64, 67, 0.3), 0px 1px 3px 1px rgba(60, 64, 67, 0.15);\n",
              "      fill: #174EA6;\n",
              "    }\n",
              "\n",
              "    [theme=dark] .colab-df-convert {\n",
              "      background-color: #3B4455;\n",
              "      fill: #D2E3FC;\n",
              "    }\n",
              "\n",
              "    [theme=dark] .colab-df-convert:hover {\n",
              "      background-color: #434B5C;\n",
              "      box-shadow: 0px 1px 3px 1px rgba(0, 0, 0, 0.15);\n",
              "      filter: drop-shadow(0px 1px 2px rgba(0, 0, 0, 0.3));\n",
              "      fill: #FFFFFF;\n",
              "    }\n",
              "  </style>\n",
              "\n",
              "      <script>\n",
              "        const buttonEl =\n",
              "          document.querySelector('#df-e5c32885-bdb8-4624-920c-633d0458d65b button.colab-df-convert');\n",
              "        buttonEl.style.display =\n",
              "          google.colab.kernel.accessAllowed ? 'block' : 'none';\n",
              "\n",
              "        async function convertToInteractive(key) {\n",
              "          const element = document.querySelector('#df-e5c32885-bdb8-4624-920c-633d0458d65b');\n",
              "          const dataTable =\n",
              "            await google.colab.kernel.invokeFunction('convertToInteractive',\n",
              "                                                     [key], {});\n",
              "          if (!dataTable) return;\n",
              "\n",
              "          const docLinkHtml = 'Like what you see? Visit the ' +\n",
              "            '<a target=\"_blank\" href=https://colab.research.google.com/notebooks/data_table.ipynb>data table notebook</a>'\n",
              "            + ' to learn more about interactive tables.';\n",
              "          element.innerHTML = '';\n",
              "          dataTable['output_type'] = 'display_data';\n",
              "          await google.colab.output.renderOutput(dataTable, element);\n",
              "          const docLink = document.createElement('div');\n",
              "          docLink.innerHTML = docLinkHtml;\n",
              "          element.appendChild(docLink);\n",
              "        }\n",
              "      </script>\n",
              "    </div>\n",
              "  </div>\n",
              "  "
            ]
          },
          "metadata": {},
          "execution_count": 4
        }
      ]
    },
    {
      "cell_type": "code",
      "source": [
        "#Reading the last 5 values of the dataset\n",
        "Financial.tail()"
      ],
      "metadata": {
        "colab": {
          "base_uri": "https://localhost:8080/",
          "height": 409
        },
        "id": "QHj2AaXO4pFf",
        "outputId": "b06af66d-9fb7-4d3b-c0fc-fb051b1facdb"
      },
      "execution_count": null,
      "outputs": [
        {
          "output_type": "execute_result",
          "data": {
            "text/plain": [
              "      country  year       uniqueid Has a Bank account Type of Location  \\\n",
              "23519  Uganda  2018  uniqueid_2113                 No            Rural   \n",
              "23520  Uganda  2018  uniqueid_2114                 No            Rural   \n",
              "23521  Uganda  2018  uniqueid_2115                 No            Rural   \n",
              "23522  Uganda  2018  uniqueid_2116                 No            Urban   \n",
              "23523  Uganda  2018  uniqueid_2117                 No            Rural   \n",
              "\n",
              "      Cell Phone Access  household_size  Respondent Age gender_of_respondent  \\\n",
              "23519               Yes             4.0            48.0               Female   \n",
              "23520               Yes             2.0            27.0               Female   \n",
              "23521               Yes             5.0            27.0               Female   \n",
              "23522               Yes             7.0            30.0               Female   \n",
              "23523               Yes            10.0            20.0                 Male   \n",
              "\n",
              "      The relathip with head        marital_status  Level of Educuation  \\\n",
              "23519      Head of Household    Divorced/Seperated  No formal education   \n",
              "23520      Head of Household  Single/Never Married  Secondary education   \n",
              "23521                 Parent               Widowed    Primary education   \n",
              "23522                 Parent    Divorced/Seperated  Secondary education   \n",
              "23523                  Child  Single/Never Married  Secondary education   \n",
              "\n",
              "         Type of Job  \n",
              "23519   Other Income  \n",
              "23520   Other Income  \n",
              "23521   Other Income  \n",
              "23522  Self employed  \n",
              "23523      No Income  "
            ],
            "text/html": [
              "\n",
              "  <div id=\"df-48fcb213-a6f5-473b-a870-bfce50f41ef2\">\n",
              "    <div class=\"colab-df-container\">\n",
              "      <div>\n",
              "<style scoped>\n",
              "    .dataframe tbody tr th:only-of-type {\n",
              "        vertical-align: middle;\n",
              "    }\n",
              "\n",
              "    .dataframe tbody tr th {\n",
              "        vertical-align: top;\n",
              "    }\n",
              "\n",
              "    .dataframe thead th {\n",
              "        text-align: right;\n",
              "    }\n",
              "</style>\n",
              "<table border=\"1\" class=\"dataframe\">\n",
              "  <thead>\n",
              "    <tr style=\"text-align: right;\">\n",
              "      <th></th>\n",
              "      <th>country</th>\n",
              "      <th>year</th>\n",
              "      <th>uniqueid</th>\n",
              "      <th>Has a Bank account</th>\n",
              "      <th>Type of Location</th>\n",
              "      <th>Cell Phone Access</th>\n",
              "      <th>household_size</th>\n",
              "      <th>Respondent Age</th>\n",
              "      <th>gender_of_respondent</th>\n",
              "      <th>The relathip with head</th>\n",
              "      <th>marital_status</th>\n",
              "      <th>Level of Educuation</th>\n",
              "      <th>Type of Job</th>\n",
              "    </tr>\n",
              "  </thead>\n",
              "  <tbody>\n",
              "    <tr>\n",
              "      <th>23519</th>\n",
              "      <td>Uganda</td>\n",
              "      <td>2018</td>\n",
              "      <td>uniqueid_2113</td>\n",
              "      <td>No</td>\n",
              "      <td>Rural</td>\n",
              "      <td>Yes</td>\n",
              "      <td>4.0</td>\n",
              "      <td>48.0</td>\n",
              "      <td>Female</td>\n",
              "      <td>Head of Household</td>\n",
              "      <td>Divorced/Seperated</td>\n",
              "      <td>No formal education</td>\n",
              "      <td>Other Income</td>\n",
              "    </tr>\n",
              "    <tr>\n",
              "      <th>23520</th>\n",
              "      <td>Uganda</td>\n",
              "      <td>2018</td>\n",
              "      <td>uniqueid_2114</td>\n",
              "      <td>No</td>\n",
              "      <td>Rural</td>\n",
              "      <td>Yes</td>\n",
              "      <td>2.0</td>\n",
              "      <td>27.0</td>\n",
              "      <td>Female</td>\n",
              "      <td>Head of Household</td>\n",
              "      <td>Single/Never Married</td>\n",
              "      <td>Secondary education</td>\n",
              "      <td>Other Income</td>\n",
              "    </tr>\n",
              "    <tr>\n",
              "      <th>23521</th>\n",
              "      <td>Uganda</td>\n",
              "      <td>2018</td>\n",
              "      <td>uniqueid_2115</td>\n",
              "      <td>No</td>\n",
              "      <td>Rural</td>\n",
              "      <td>Yes</td>\n",
              "      <td>5.0</td>\n",
              "      <td>27.0</td>\n",
              "      <td>Female</td>\n",
              "      <td>Parent</td>\n",
              "      <td>Widowed</td>\n",
              "      <td>Primary education</td>\n",
              "      <td>Other Income</td>\n",
              "    </tr>\n",
              "    <tr>\n",
              "      <th>23522</th>\n",
              "      <td>Uganda</td>\n",
              "      <td>2018</td>\n",
              "      <td>uniqueid_2116</td>\n",
              "      <td>No</td>\n",
              "      <td>Urban</td>\n",
              "      <td>Yes</td>\n",
              "      <td>7.0</td>\n",
              "      <td>30.0</td>\n",
              "      <td>Female</td>\n",
              "      <td>Parent</td>\n",
              "      <td>Divorced/Seperated</td>\n",
              "      <td>Secondary education</td>\n",
              "      <td>Self employed</td>\n",
              "    </tr>\n",
              "    <tr>\n",
              "      <th>23523</th>\n",
              "      <td>Uganda</td>\n",
              "      <td>2018</td>\n",
              "      <td>uniqueid_2117</td>\n",
              "      <td>No</td>\n",
              "      <td>Rural</td>\n",
              "      <td>Yes</td>\n",
              "      <td>10.0</td>\n",
              "      <td>20.0</td>\n",
              "      <td>Male</td>\n",
              "      <td>Child</td>\n",
              "      <td>Single/Never Married</td>\n",
              "      <td>Secondary education</td>\n",
              "      <td>No Income</td>\n",
              "    </tr>\n",
              "  </tbody>\n",
              "</table>\n",
              "</div>\n",
              "      <button class=\"colab-df-convert\" onclick=\"convertToInteractive('df-48fcb213-a6f5-473b-a870-bfce50f41ef2')\"\n",
              "              title=\"Convert this dataframe to an interactive table.\"\n",
              "              style=\"display:none;\">\n",
              "        \n",
              "  <svg xmlns=\"http://www.w3.org/2000/svg\" height=\"24px\"viewBox=\"0 0 24 24\"\n",
              "       width=\"24px\">\n",
              "    <path d=\"M0 0h24v24H0V0z\" fill=\"none\"/>\n",
              "    <path d=\"M18.56 5.44l.94 2.06.94-2.06 2.06-.94-2.06-.94-.94-2.06-.94 2.06-2.06.94zm-11 1L8.5 8.5l.94-2.06 2.06-.94-2.06-.94L8.5 2.5l-.94 2.06-2.06.94zm10 10l.94 2.06.94-2.06 2.06-.94-2.06-.94-.94-2.06-.94 2.06-2.06.94z\"/><path d=\"M17.41 7.96l-1.37-1.37c-.4-.4-.92-.59-1.43-.59-.52 0-1.04.2-1.43.59L10.3 9.45l-7.72 7.72c-.78.78-.78 2.05 0 2.83L4 21.41c.39.39.9.59 1.41.59.51 0 1.02-.2 1.41-.59l7.78-7.78 2.81-2.81c.8-.78.8-2.07 0-2.86zM5.41 20L4 18.59l7.72-7.72 1.47 1.35L5.41 20z\"/>\n",
              "  </svg>\n",
              "      </button>\n",
              "      \n",
              "  <style>\n",
              "    .colab-df-container {\n",
              "      display:flex;\n",
              "      flex-wrap:wrap;\n",
              "      gap: 12px;\n",
              "    }\n",
              "\n",
              "    .colab-df-convert {\n",
              "      background-color: #E8F0FE;\n",
              "      border: none;\n",
              "      border-radius: 50%;\n",
              "      cursor: pointer;\n",
              "      display: none;\n",
              "      fill: #1967D2;\n",
              "      height: 32px;\n",
              "      padding: 0 0 0 0;\n",
              "      width: 32px;\n",
              "    }\n",
              "\n",
              "    .colab-df-convert:hover {\n",
              "      background-color: #E2EBFA;\n",
              "      box-shadow: 0px 1px 2px rgba(60, 64, 67, 0.3), 0px 1px 3px 1px rgba(60, 64, 67, 0.15);\n",
              "      fill: #174EA6;\n",
              "    }\n",
              "\n",
              "    [theme=dark] .colab-df-convert {\n",
              "      background-color: #3B4455;\n",
              "      fill: #D2E3FC;\n",
              "    }\n",
              "\n",
              "    [theme=dark] .colab-df-convert:hover {\n",
              "      background-color: #434B5C;\n",
              "      box-shadow: 0px 1px 3px 1px rgba(0, 0, 0, 0.15);\n",
              "      filter: drop-shadow(0px 1px 2px rgba(0, 0, 0, 0.3));\n",
              "      fill: #FFFFFF;\n",
              "    }\n",
              "  </style>\n",
              "\n",
              "      <script>\n",
              "        const buttonEl =\n",
              "          document.querySelector('#df-48fcb213-a6f5-473b-a870-bfce50f41ef2 button.colab-df-convert');\n",
              "        buttonEl.style.display =\n",
              "          google.colab.kernel.accessAllowed ? 'block' : 'none';\n",
              "\n",
              "        async function convertToInteractive(key) {\n",
              "          const element = document.querySelector('#df-48fcb213-a6f5-473b-a870-bfce50f41ef2');\n",
              "          const dataTable =\n",
              "            await google.colab.kernel.invokeFunction('convertToInteractive',\n",
              "                                                     [key], {});\n",
              "          if (!dataTable) return;\n",
              "\n",
              "          const docLinkHtml = 'Like what you see? Visit the ' +\n",
              "            '<a target=\"_blank\" href=https://colab.research.google.com/notebooks/data_table.ipynb>data table notebook</a>'\n",
              "            + ' to learn more about interactive tables.';\n",
              "          element.innerHTML = '';\n",
              "          dataTable['output_type'] = 'display_data';\n",
              "          await google.colab.output.renderOutput(dataTable, element);\n",
              "          const docLink = document.createElement('div');\n",
              "          docLink.innerHTML = docLinkHtml;\n",
              "          element.appendChild(docLink);\n",
              "        }\n",
              "      </script>\n",
              "    </div>\n",
              "  </div>\n",
              "  "
            ]
          },
          "metadata": {},
          "execution_count": 5
        }
      ]
    },
    {
      "cell_type": "code",
      "source": [
        "#Getting the shape of the dataset\n",
        "Financial.shape"
      ],
      "metadata": {
        "colab": {
          "base_uri": "https://localhost:8080/"
        },
        "id": "N6_BtY3R5_ZV",
        "outputId": "9a4a0272-8b91-4320-b146-533a8b00477b"
      },
      "execution_count": null,
      "outputs": [
        {
          "output_type": "execute_result",
          "data": {
            "text/plain": [
              "(23524, 13)"
            ]
          },
          "metadata": {},
          "execution_count": 6
        }
      ]
    },
    {
      "cell_type": "markdown",
      "source": [
        "**Observation**\n",
        "\n",
        "\n",
        "The out put shows that our dataset has 23524 rows and 13 columns.This shows that our dataset is a large one."
      ],
      "metadata": {
        "id": "c-kHnIa76HIk"
      }
    },
    {
      "cell_type": "code",
      "source": [
        "#Checking on the columns \n",
        "Financial.columns"
      ],
      "metadata": {
        "colab": {
          "base_uri": "https://localhost:8080/"
        },
        "id": "Q-bwsgJX7ARt",
        "outputId": "2a27628d-44e8-414f-b8a3-504c2f0f2634"
      },
      "execution_count": null,
      "outputs": [
        {
          "output_type": "execute_result",
          "data": {
            "text/plain": [
              "Index(['country', 'year', 'uniqueid', 'Has a Bank account', 'Type of Location',\n",
              "       'Cell Phone Access', 'household_size', 'Respondent Age',\n",
              "       'gender_of_respondent', 'The relathip with head', 'marital_status',\n",
              "       'Level of Educuation', 'Type of Job'],\n",
              "      dtype='object')"
            ]
          },
          "metadata": {},
          "execution_count": 7
        }
      ]
    },
    {
      "cell_type": "markdown",
      "source": [
        "**Observation**\n",
        "\n",
        "This shows that some of the columns are wrongly labeled hence correcting."
      ],
      "metadata": {
        "id": "jK37Ge2H8Vv7"
      }
    },
    {
      "cell_type": "code",
      "source": [
        "#Checking for duplicates\n",
        "Financial.duplicated().sum()"
      ],
      "metadata": {
        "colab": {
          "base_uri": "https://localhost:8080/"
        },
        "id": "gMjkQLoMmChY",
        "outputId": "c317bc59-4d9c-4fdc-f776-054aa7e527a7"
      },
      "execution_count": null,
      "outputs": [
        {
          "output_type": "execute_result",
          "data": {
            "text/plain": [
              "0"
            ]
          },
          "metadata": {},
          "execution_count": 8
        }
      ]
    },
    {
      "cell_type": "markdown",
      "source": [
        "**Observation**\n",
        "\n",
        "There are no duplicates"
      ],
      "metadata": {
        "id": "3cwsE1gLmK_G"
      }
    },
    {
      "cell_type": "code",
      "source": [
        "#Checking for the number and value of unique values in each column\n",
        "for column in Financial.columns:\n",
        "  print(column)\n",
        "  print(Financial[column].nunique())#getting the number of unique values\n",
        "  print(Financial[column].unique())#getting a view of the unique values\n"
      ],
      "metadata": {
        "colab": {
          "base_uri": "https://localhost:8080/"
        },
        "id": "ihtzeDzcmgLa",
        "outputId": "a5f5b069-c73e-4cf9-8a1f-db34a74dbd1c"
      },
      "execution_count": null,
      "outputs": [
        {
          "output_type": "stream",
          "name": "stdout",
          "text": [
            "country\n",
            "4\n",
            "['Kenya' 'Rwanda' 'Tanzania' nan 'Uganda']\n",
            "year\n",
            "6\n",
            "[2018 2029 2056 2016 2039 2017]\n",
            "uniqueid\n",
            "8735\n",
            "['uniqueid_1' 'uniqueid_2' 'uniqueid_3' ... 'uniqueid_8757'\n",
            " 'uniqueid_8758' 'uniqueid_8759']\n",
            "Has a Bank account\n",
            "2\n",
            "['Yes' 'No' nan]\n",
            "Type of Location\n",
            "2\n",
            "['Rural' 'Urban' nan]\n",
            "Cell Phone Access\n",
            "2\n",
            "['Yes' 'No' nan]\n",
            "household_size\n",
            "21\n",
            "[ 3.  5.  8.  7.  1.  6.  4. 10.  2. 11.  9. 12. 16. 15. 13. 14. 21. nan\n",
            "  0. 18. 17. 20.]\n",
            "Respondent Age\n",
            "85\n",
            "[ 24.  70.  26.  34.  32.  42.  54.  76.  40.  69.  64.  31.  38.  47.\n",
            "  27.  48.  25.  21.  18.  22.  58.  55.  62.  29.  35.  45.  67.  19.\n",
            "  80.  66.  50.  33.  28.  51.  16.  17.  30.  37.  59.  65.  46.  56.\n",
            "  52.  23.  43.  49.  44.  72.  53.  63.  39.  81.  78.  36.  20.  60.\n",
            "  95.  71.  57.  85.  68.  41.  61.  75.  86.  73.  nan  93.  74.  88.\n",
            "  90.  77.  84.  82.  89.  79.  83.  94.  87.  92.  91.  98.  97.  96.\n",
            "  99. 100.]\n",
            "gender_of_respondent\n",
            "2\n",
            "['Female' 'Male' nan]\n",
            "The relathip with head\n",
            "6\n",
            "['Spouse' 'Head of Household' 'Other relative' 'Child' 'Parent'\n",
            " 'Other non-relatives' nan]\n",
            "marital_status\n",
            "5\n",
            "['Married/Living together' 'Widowed' 'Single/Never Married'\n",
            " 'Divorced/Seperated' 'Dont know' nan]\n",
            "Level of Educuation\n",
            "7\n",
            "['Secondary education' 'No formal education'\n",
            " 'Vocational/Specialised training' 'Primary education'\n",
            " 'Tertiary education' 'Other/Dont know/RTA' '6' nan]\n",
            "Type of Job\n",
            "10\n",
            "['Self employed' 'Government Dependent' 'Formally employed Private'\n",
            " 'Informally employed' 'Formally employed Government'\n",
            " 'Farming and Fishing' 'Remittance Dependent' 'Other Income'\n",
            " 'Dont Know/Refuse to answer' nan 'No Income']\n"
          ]
        }
      ]
    },
    {
      "cell_type": "markdown",
      "source": [
        "**Observation**\n",
        "\n",
        "This shows the number of unique values and values.Where we see that the country variable has presence of a null value,for the year variable we have very special year values 2029,2039 and 2056 which might be error inputs."
      ],
      "metadata": {
        "id": "6t99XD55poSx"
      }
    },
    {
      "cell_type": "code",
      "source": [
        "#Checking the information of the dataset\n",
        "Financial.info()"
      ],
      "metadata": {
        "colab": {
          "base_uri": "https://localhost:8080/"
        },
        "id": "XkGn6AKR84B9",
        "outputId": "4ab8afea-eb34-4249-a0ed-945e3eea0aa1"
      },
      "execution_count": null,
      "outputs": [
        {
          "output_type": "stream",
          "name": "stdout",
          "text": [
            "<class 'pandas.core.frame.DataFrame'>\n",
            "RangeIndex: 23524 entries, 0 to 23523\n",
            "Data columns (total 13 columns):\n",
            " #   Column                  Non-Null Count  Dtype  \n",
            "---  ------                  --------------  -----  \n",
            " 0   country                 23510 non-null  object \n",
            " 1   year                    23524 non-null  int64  \n",
            " 2   uniqueid                23524 non-null  object \n",
            " 3   Has a Bank account      23488 non-null  object \n",
            " 4   Type of Location        23509 non-null  object \n",
            " 5   Cell Phone Access       23513 non-null  object \n",
            " 6   household_size          23496 non-null  float64\n",
            " 7   Respondent Age          23490 non-null  float64\n",
            " 8   gender_of_respondent    23490 non-null  object \n",
            " 9   The relathip with head  23520 non-null  object \n",
            " 10  marital_status          23492 non-null  object \n",
            " 11  Level of Educuation     23495 non-null  object \n",
            " 12  Type of Job             23494 non-null  object \n",
            "dtypes: float64(2), int64(1), object(10)\n",
            "memory usage: 2.3+ MB\n"
          ]
        }
      ]
    },
    {
      "cell_type": "markdown",
      "source": [
        "**Observation**\n",
        "\n",
        "We see that some of the columns have missing values.And that the variable datatypes have to be changed.This is because we only have one variable that is an integer and 2 floats the rest are objects.Also we notice that there are some columns that have been misspelled"
      ],
      "metadata": {
        "id": "sfk7_WK8lSHx"
      }
    },
    {
      "cell_type": "code",
      "source": [
        "Financial.nunique()"
      ],
      "metadata": {
        "colab": {
          "base_uri": "https://localhost:8080/"
        },
        "id": "5U-LFUS_UaNp",
        "outputId": "de8d8438-fbb0-4e47-8789-878f6862926a"
      },
      "execution_count": null,
      "outputs": [
        {
          "output_type": "execute_result",
          "data": {
            "text/plain": [
              "country                      4\n",
              "year                         6\n",
              "uniqueid                  8735\n",
              "Has a Bank account           2\n",
              "Type of Location             2\n",
              "Cell Phone Access            2\n",
              "household_size              21\n",
              "Respondent Age              85\n",
              "gender_of_respondent         2\n",
              "The relathip with head       6\n",
              "marital_status               5\n",
              "Level of Educuation          7\n",
              "Type of Job                 10\n",
              "dtype: int64"
            ]
          },
          "metadata": {},
          "execution_count": 11
        }
      ]
    },
    {
      "cell_type": "markdown",
      "source": [
        "**Observation**\n",
        "\n",
        "This shows the number of unique values in each variable"
      ],
      "metadata": {
        "id": "B0sgc96_VhKh"
      }
    },
    {
      "cell_type": "code",
      "source": [
        "#Checking the heatmap for where there are null values\n",
        "sns.heatmap(Financial.isnull(),yticklabels=False)"
      ],
      "metadata": {
        "colab": {
          "base_uri": "https://localhost:8080/",
          "height": 389
        },
        "id": "W_yzQTiKXwYM",
        "outputId": "032a7f92-0a2b-4221-8c51-b03d31e8781d"
      },
      "execution_count": null,
      "outputs": [
        {
          "output_type": "execute_result",
          "data": {
            "text/plain": [
              "<matplotlib.axes._subplots.AxesSubplot at 0x7f4bbfd4d760>"
            ]
          },
          "metadata": {},
          "execution_count": 12
        },
        {
          "output_type": "display_data",
          "data": {
            "text/plain": [
              "<Figure size 432x288 with 2 Axes>"
            ],
            "image/png": "[encoded data removed]"
          },
          "metadata": {
            "needs_background": "light"
          }
        }
      ]
    },
    {
      "cell_type": "code",
      "source": [
        "##Checking the heatmap for where there are null values\n",
        "msno.heatmap(Financial)"
      ],
      "metadata": {
        "colab": {
          "base_uri": "https://localhost:8080/",
          "height": 816
        },
        "id": "d3N26C2GZiiG",
        "outputId": "cf47bdef-657e-4536-d4a9-b3a7e10ea12f"
      },
      "execution_count": null,
      "outputs": [
        {
          "output_type": "execute_result",
          "data": {
            "text/plain": [
              "<matplotlib.axes._subplots.AxesSubplot at 0x7f4bbd3e0700>"
            ]
          },
          "metadata": {},
          "execution_count": 13
        },
        {
          "output_type": "display_data",
          "data": {
            "text/plain": [
              "<Figure size 1440x864 with 2 Axes>"
            ],
            "image/png": "[encoded data removed]"
          },
          "metadata": {
            "needs_background": "light"
          }
        }
      ]
    },
    {
      "cell_type": "code",
      "source": [
        "#Checking for the missing values\n",
        "Financial.isnull().sum()"
      ],
      "metadata": {
        "colab": {
          "base_uri": "https://localhost:8080/"
        },
        "id": "n_-zPXOwVp4R",
        "outputId": "cbf47a69-f05c-458e-8d6b-e47b4c262add"
      },
      "execution_count": null,
      "outputs": [
        {
          "output_type": "execute_result",
          "data": {
            "text/plain": [
              "country                   14\n",
              "year                       0\n",
              "uniqueid                   0\n",
              "Has a Bank account        36\n",
              "Type of Location          15\n",
              "Cell Phone Access         11\n",
              "household_size            28\n",
              "Respondent Age            34\n",
              "gender_of_respondent      34\n",
              "The relathip with head     4\n",
              "marital_status            32\n",
              "Level of Educuation       29\n",
              "Type of Job               30\n",
              "dtype: int64"
            ]
          },
          "metadata": {},
          "execution_count": 14
        }
      ]
    },
    {
      "cell_type": "code",
      "source": [
        "#Checking the description of the whole dataset including the categorical variables\n",
        "Financial.describe(include='all')"
      ],
      "metadata": {
        "colab": {
          "base_uri": "https://localhost:8080/",
          "height": 528
        },
        "id": "JNqCB583WG-z",
        "outputId": "ea39aa54-ffb3-46c5-d423-81a5cd99b1f4"
      },
      "execution_count": null,
      "outputs": [
        {
          "output_type": "execute_result",
          "data": {
            "text/plain": [
              "       country          year    uniqueid Has a Bank account Type of Location  \\\n",
              "count    23510  23524.000000       23524              23488            23509   \n",
              "unique       4           NaN        8735                  2                2   \n",
              "top     Rwanda           NaN  uniqueid_1                 No            Rural   \n",
              "freq      8735           NaN           4              20179            14338   \n",
              "mean       NaN   2016.979000         NaN                NaN              NaN   \n",
              "std        NaN      0.899669         NaN                NaN              NaN   \n",
              "min        NaN   2016.000000         NaN                NaN              NaN   \n",
              "25%        NaN   2016.000000         NaN                NaN              NaN   \n",
              "50%        NaN   2017.000000         NaN                NaN              NaN   \n",
              "75%        NaN   2018.000000         NaN                NaN              NaN   \n",
              "max        NaN   2056.000000         NaN                NaN              NaN   \n",
              "\n",
              "       Cell Phone Access  household_size  Respondent Age gender_of_respondent  \\\n",
              "count              23513    23496.000000    23490.000000                23490   \n",
              "unique                 2             NaN             NaN                    2   \n",
              "top                  Yes             NaN             NaN               Female   \n",
              "freq               17449             NaN             NaN                13859   \n",
              "mean                 NaN        3.681818       38.804300                  NaN   \n",
              "std                  NaN        2.279933       16.519996                  NaN   \n",
              "min                  NaN        0.000000       16.000000                  NaN   \n",
              "25%                  NaN        2.000000       26.000000                  NaN   \n",
              "50%                  NaN        3.000000       35.000000                  NaN   \n",
              "75%                  NaN        5.000000       49.000000                  NaN   \n",
              "max                  NaN       21.000000      100.000000                  NaN   \n",
              "\n",
              "       The relathip with head           marital_status Level of Educuation  \\\n",
              "count                   23520                    23492               23495   \n",
              "unique                      6                        5                   7   \n",
              "top         Head of Household  Married/Living together   Primary education   \n",
              "freq                    12829                    10739               12775   \n",
              "mean                      NaN                      NaN                 NaN   \n",
              "std                       NaN                      NaN                 NaN   \n",
              "min                       NaN                      NaN                 NaN   \n",
              "25%                       NaN                      NaN                 NaN   \n",
              "50%                       NaN                      NaN                 NaN   \n",
              "75%                       NaN                      NaN                 NaN   \n",
              "max                       NaN                      NaN                 NaN   \n",
              "\n",
              "          Type of Job  \n",
              "count           23494  \n",
              "unique             10  \n",
              "top     Self employed  \n",
              "freq             6428  \n",
              "mean              NaN  \n",
              "std               NaN  \n",
              "min               NaN  \n",
              "25%               NaN  \n",
              "50%               NaN  \n",
              "75%               NaN  \n",
              "max               NaN  "
            ],
            "text/html": [
              "\n",
              "  <div id=\"df-71eac446-0bca-4b5c-acec-cf1dc7148375\">\n",
              "    <div class=\"colab-df-container\">\n",
              "      <div>\n",
              "<style scoped>\n",
              "    .dataframe tbody tr th:only-of-type {\n",
              "        vertical-align: middle;\n",
              "    }\n",
              "\n",
              "    .dataframe tbody tr th {\n",
              "        vertical-align: top;\n",
              "    }\n",
              "\n",
              "    .dataframe thead th {\n",
              "        text-align: right;\n",
              "    }\n",
              "</style>\n",
              "<table border=\"1\" class=\"dataframe\">\n",
              "  <thead>\n",
              "    <tr style=\"text-align: right;\">\n",
              "      <th></th>\n",
              "      <th>country</th>\n",
              "      <th>year</th>\n",
              "      <th>uniqueid</th>\n",
              "      <th>Has a Bank account</th>\n",
              "      <th>Type of Location</th>\n",
              "      <th>Cell Phone Access</th>\n",
              "      <th>household_size</th>\n",
              "      <th>Respondent Age</th>\n",
              "      <th>gender_of_respondent</th>\n",
              "      <th>The relathip with head</th>\n",
              "      <th>marital_status</th>\n",
              "      <th>Level of Educuation</th>\n",
              "      <th>Type of Job</th>\n",
              "    </tr>\n",
              "  </thead>\n",
              "  <tbody>\n",
              "    <tr>\n",
              "      <th>count</th>\n",
              "      <td>23510</td>\n",
              "      <td>23524.000000</td>\n",
              "      <td>23524</td>\n",
              "      <td>23488</td>\n",
              "      <td>23509</td>\n",
              "      <td>23513</td>\n",
              "      <td>23496.000000</td>\n",
              "      <td>23490.000000</td>\n",
              "      <td>23490</td>\n",
              "      <td>23520</td>\n",
              "      <td>23492</td>\n",
              "      <td>23495</td>\n",
              "      <td>23494</td>\n",
              "    </tr>\n",
              "    <tr>\n",
              "      <th>unique</th>\n",
              "      <td>4</td>\n",
              "      <td>NaN</td>\n",
              "      <td>8735</td>\n",
              "      <td>2</td>\n",
              "      <td>2</td>\n",
              "      <td>2</td>\n",
              "      <td>NaN</td>\n",
              "      <td>NaN</td>\n",
              "      <td>2</td>\n",
              "      <td>6</td>\n",
              "      <td>5</td>\n",
              "      <td>7</td>\n",
              "      <td>10</td>\n",
              "    </tr>\n",
              "    <tr>\n",
              "      <th>top</th>\n",
              "      <td>Rwanda</td>\n",
              "      <td>NaN</td>\n",
              "      <td>uniqueid_1</td>\n",
              "      <td>No</td>\n",
              "      <td>Rural</td>\n",
              "      <td>Yes</td>\n",
              "      <td>NaN</td>\n",
              "      <td>NaN</td>\n",
              "      <td>Female</td>\n",
              "      <td>Head of Household</td>\n",
              "      <td>Married/Living together</td>\n",
              "      <td>Primary education</td>\n",
              "      <td>Self employed</td>\n",
              "    </tr>\n",
              "    <tr>\n",
              "      <th>freq</th>\n",
              "      <td>8735</td>\n",
              "      <td>NaN</td>\n",
              "      <td>4</td>\n",
              "      <td>20179</td>\n",
              "      <td>14338</td>\n",
              "      <td>17449</td>\n",
              "      <td>NaN</td>\n",
              "      <td>NaN</td>\n",
              "      <td>13859</td>\n",
              "      <td>12829</td>\n",
              "      <td>10739</td>\n",
              "      <td>12775</td>\n",
              "      <td>6428</td>\n",
              "    </tr>\n",
              "    <tr>\n",
              "      <th>mean</th>\n",
              "      <td>NaN</td>\n",
              "      <td>2016.979000</td>\n",
              "      <td>NaN</td>\n",
              "      <td>NaN</td>\n",
              "      <td>NaN</td>\n",
              "      <td>NaN</td>\n",
              "      <td>3.681818</td>\n",
              "      <td>38.804300</td>\n",
              "      <td>NaN</td>\n",
              "      <td>NaN</td>\n",
              "      <td>NaN</td>\n",
              "      <td>NaN</td>\n",
              "      <td>NaN</td>\n",
              "    </tr>\n",
              "    <tr>\n",
              "      <th>std</th>\n",
              "      <td>NaN</td>\n",
              "      <td>0.899669</td>\n",
              "      <td>NaN</td>\n",
              "      <td>NaN</td>\n",
              "      <td>NaN</td>\n",
              "      <td>NaN</td>\n",
              "      <td>2.279933</td>\n",
              "      <td>16.519996</td>\n",
              "      <td>NaN</td>\n",
              "      <td>NaN</td>\n",
              "      <td>NaN</td>\n",
              "      <td>NaN</td>\n",
              "      <td>NaN</td>\n",
              "    </tr>\n",
              "    <tr>\n",
              "      <th>min</th>\n",
              "      <td>NaN</td>\n",
              "      <td>2016.000000</td>\n",
              "      <td>NaN</td>\n",
              "      <td>NaN</td>\n",
              "      <td>NaN</td>\n",
              "      <td>NaN</td>\n",
              "      <td>0.000000</td>\n",
              "      <td>16.000000</td>\n",
              "      <td>NaN</td>\n",
              "      <td>NaN</td>\n",
              "      <td>NaN</td>\n",
              "      <td>NaN</td>\n",
              "      <td>NaN</td>\n",
              "    </tr>\n",
              "    <tr>\n",
              "      <th>25%</th>\n",
              "      <td>NaN</td>\n",
              "      <td>2016.000000</td>\n",
              "      <td>NaN</td>\n",
              "      <td>NaN</td>\n",
              "      <td>NaN</td>\n",
              "      <td>NaN</td>\n",
              "      <td>2.000000</td>\n",
              "      <td>26.000000</td>\n",
              "      <td>NaN</td>\n",
              "      <td>NaN</td>\n",
              "      <td>NaN</td>\n",
              "      <td>NaN</td>\n",
              "      <td>NaN</td>\n",
              "    </tr>\n",
              "    <tr>\n",
              "      <th>50%</th>\n",
              "      <td>NaN</td>\n",
              "      <td>2017.000000</td>\n",
              "      <td>NaN</td>\n",
              "      <td>NaN</td>\n",
              "      <td>NaN</td>\n",
              "      <td>NaN</td>\n",
              "      <td>3.000000</td>\n",
              "      <td>35.000000</td>\n",
              "      <td>NaN</td>\n",
              "      <td>NaN</td>\n",
              "      <td>NaN</td>\n",
              "      <td>NaN</td>\n",
              "      <td>NaN</td>\n",
              "    </tr>\n",
              "    <tr>\n",
              "      <th>75%</th>\n",
              "      <td>NaN</td>\n",
              "      <td>2018.000000</td>\n",
              "      <td>NaN</td>\n",
              "      <td>NaN</td>\n",
              "      <td>NaN</td>\n",
              "      <td>NaN</td>\n",
              "      <td>5.000000</td>\n",
              "      <td>49.000000</td>\n",
              "      <td>NaN</td>\n",
              "      <td>NaN</td>\n",
              "      <td>NaN</td>\n",
              "      <td>NaN</td>\n",
              "      <td>NaN</td>\n",
              "    </tr>\n",
              "    <tr>\n",
              "      <th>max</th>\n",
              "      <td>NaN</td>\n",
              "      <td>2056.000000</td>\n",
              "      <td>NaN</td>\n",
              "      <td>NaN</td>\n",
              "      <td>NaN</td>\n",
              "      <td>NaN</td>\n",
              "      <td>21.000000</td>\n",
              "      <td>100.000000</td>\n",
              "      <td>NaN</td>\n",
              "      <td>NaN</td>\n",
              "      <td>NaN</td>\n",
              "      <td>NaN</td>\n",
              "      <td>NaN</td>\n",
              "    </tr>\n",
              "  </tbody>\n",
              "</table>\n",
              "</div>\n",
              "      <button class=\"colab-df-convert\" onclick=\"convertToInteractive('df-71eac446-0bca-4b5c-acec-cf1dc7148375')\"\n",
              "              title=\"Convert this dataframe to an interactive table.\"\n",
              "              style=\"display:none;\">\n",
              "        \n",
              "  <svg xmlns=\"http://www.w3.org/2000/svg\" height=\"24px\"viewBox=\"0 0 24 24\"\n",
              "       width=\"24px\">\n",
              "    <path d=\"M0 0h24v24H0V0z\" fill=\"none\"/>\n",
              "    <path d=\"M18.56 5.44l.94 2.06.94-2.06 2.06-.94-2.06-.94-.94-2.06-.94 2.06-2.06.94zm-11 1L8.5 8.5l.94-2.06 2.06-.94-2.06-.94L8.5 2.5l-.94 2.06-2.06.94zm10 10l.94 2.06.94-2.06 2.06-.94-2.06-.94-.94-2.06-.94 2.06-2.06.94z\"/><path d=\"M17.41 7.96l-1.37-1.37c-.4-.4-.92-.59-1.43-.59-.52 0-1.04.2-1.43.59L10.3 9.45l-7.72 7.72c-.78.78-.78 2.05 0 2.83L4 21.41c.39.39.9.59 1.41.59.51 0 1.02-.2 1.41-.59l7.78-7.78 2.81-2.81c.8-.78.8-2.07 0-2.86zM5.41 20L4 18.59l7.72-7.72 1.47 1.35L5.41 20z\"/>\n",
              "  </svg>\n",
              "      </button>\n",
              "      \n",
              "  <style>\n",
              "    .colab-df-container {\n",
              "      display:flex;\n",
              "      flex-wrap:wrap;\n",
              "      gap: 12px;\n",
              "    }\n",
              "\n",
              "    .colab-df-convert {\n",
              "      background-color: #E8F0FE;\n",
              "      border: none;\n",
              "      border-radius: 50%;\n",
              "      cursor: pointer;\n",
              "      display: none;\n",
              "      fill: #1967D2;\n",
              "      height: 32px;\n",
              "      padding: 0 0 0 0;\n",
              "      width: 32px;\n",
              "    }\n",
              "\n",
              "    .colab-df-convert:hover {\n",
              "      background-color: #E2EBFA;\n",
              "      box-shadow: 0px 1px 2px rgba(60, 64, 67, 0.3), 0px 1px 3px 1px rgba(60, 64, 67, 0.15);\n",
              "      fill: #174EA6;\n",
              "    }\n",
              "\n",
              "    [theme=dark] .colab-df-convert {\n",
              "      background-color: #3B4455;\n",
              "      fill: #D2E3FC;\n",
              "    }\n",
              "\n",
              "    [theme=dark] .colab-df-convert:hover {\n",
              "      background-color: #434B5C;\n",
              "      box-shadow: 0px 1px 3px 1px rgba(0, 0, 0, 0.15);\n",
              "      filter: drop-shadow(0px 1px 2px rgba(0, 0, 0, 0.3));\n",
              "      fill: #FFFFFF;\n",
              "    }\n",
              "  </style>\n",
              "\n",
              "      <script>\n",
              "        const buttonEl =\n",
              "          document.querySelector('#df-71eac446-0bca-4b5c-acec-cf1dc7148375 button.colab-df-convert');\n",
              "        buttonEl.style.display =\n",
              "          google.colab.kernel.accessAllowed ? 'block' : 'none';\n",
              "\n",
              "        async function convertToInteractive(key) {\n",
              "          const element = document.querySelector('#df-71eac446-0bca-4b5c-acec-cf1dc7148375');\n",
              "          const dataTable =\n",
              "            await google.colab.kernel.invokeFunction('convertToInteractive',\n",
              "                                                     [key], {});\n",
              "          if (!dataTable) return;\n",
              "\n",
              "          const docLinkHtml = 'Like what you see? Visit the ' +\n",
              "            '<a target=\"_blank\" href=https://colab.research.google.com/notebooks/data_table.ipynb>data table notebook</a>'\n",
              "            + ' to learn more about interactive tables.';\n",
              "          element.innerHTML = '';\n",
              "          dataTable['output_type'] = 'display_data';\n",
              "          await google.colab.output.renderOutput(dataTable, element);\n",
              "          const docLink = document.createElement('div');\n",
              "          docLink.innerHTML = docLinkHtml;\n",
              "          element.appendChild(docLink);\n",
              "        }\n",
              "      </script>\n",
              "    </div>\n",
              "  </div>\n",
              "  "
            ]
          },
          "metadata": {},
          "execution_count": 15
        }
      ]
    },
    {
      "cell_type": "markdown",
      "source": [
        "# 4) **Data Cleaning**"
      ],
      "metadata": {
        "id": "HoOEZz_JW0Tp"
      }
    },
    {
      "cell_type": "code",
      "source": [
        "#Renaming columns\n",
        "Financial.rename(columns={'country':'country', 'year':'year', 'uniqueid':'uniqueid','Has a Bank account':'has_a_bank_account','Type of Location':'type_of_Location',\n",
        "'Cell Phone Access':'cell_phone_access','household_size':'household_size','Respondent Age':'respondent_age','gender_of_respondent':'gender_of_respondent',\n",
        "'The relathip with head':'the_relatioship_with_head','marital_status':'marital_status','Level of Educuation':'level_of_education','Type of Job':'type_of_Job'},inplace = True)\n",
        "Financial.head(0)"
      ],
      "metadata": {
        "colab": {
          "base_uri": "https://localhost:8080/",
          "height": 113
        },
        "id": "kfqTFcE0XOsp",
        "outputId": "e8e765a3-59fc-4ae8-e655-535ea873fa1a"
      },
      "execution_count": null,
      "outputs": [
        {
          "output_type": "execute_result",
          "data": {
            "text/plain": [
              "Empty DataFrame\n",
              "Columns: [country, year, uniqueid, has_a_bank_account, type_of_Location, cell_phone_access, household_size, respondent_age, gender_of_respondent, the_relatioship_with_head, marital_status, level_of_education, type_of_Job]\n",
              "Index: []"
            ],
            "text/html": [
              "\n",
              "  <div id=\"df-2a28996d-4cee-4fc7-a5a1-44aa418db86e\">\n",
              "    <div class=\"colab-df-container\">\n",
              "      <div>\n",
              "<style scoped>\n",
              "    .dataframe tbody tr th:only-of-type {\n",
              "        vertical-align: middle;\n",
              "    }\n",
              "\n",
              "    .dataframe tbody tr th {\n",
              "        vertical-align: top;\n",
              "    }\n",
              "\n",
              "    .dataframe thead th {\n",
              "        text-align: right;\n",
              "    }\n",
              "</style>\n",
              "<table border=\"1\" class=\"dataframe\">\n",
              "  <thead>\n",
              "    <tr style=\"text-align: right;\">\n",
              "      <th></th>\n",
              "      <th>country</th>\n",
              "      <th>year</th>\n",
              "      <th>uniqueid</th>\n",
              "      <th>has_a_bank_account</th>\n",
              "      <th>type_of_Location</th>\n",
              "      <th>cell_phone_access</th>\n",
              "      <th>household_size</th>\n",
              "      <th>respondent_age</th>\n",
              "      <th>gender_of_respondent</th>\n",
              "      <th>the_relatioship_with_head</th>\n",
              "      <th>marital_status</th>\n",
              "      <th>level_of_education</th>\n",
              "      <th>type_of_Job</th>\n",
              "    </tr>\n",
              "  </thead>\n",
              "  <tbody>\n",
              "  </tbody>\n",
              "</table>\n",
              "</div>\n",
              "      <button class=\"colab-df-convert\" onclick=\"convertToInteractive('df-2a28996d-4cee-4fc7-a5a1-44aa418db86e')\"\n",
              "              title=\"Convert this dataframe to an interactive table.\"\n",
              "              style=\"display:none;\">\n",
              "        \n",
              "  <svg xmlns=\"http://www.w3.org/2000/svg\" height=\"24px\"viewBox=\"0 0 24 24\"\n",
              "       width=\"24px\">\n",
              "    <path d=\"M0 0h24v24H0V0z\" fill=\"none\"/>\n",
              "    <path d=\"M18.56 5.44l.94 2.06.94-2.06 2.06-.94-2.06-.94-.94-2.06-.94 2.06-2.06.94zm-11 1L8.5 8.5l.94-2.06 2.06-.94-2.06-.94L8.5 2.5l-.94 2.06-2.06.94zm10 10l.94 2.06.94-2.06 2.06-.94-2.06-.94-.94-2.06-.94 2.06-2.06.94z\"/><path d=\"M17.41 7.96l-1.37-1.37c-.4-.4-.92-.59-1.43-.59-.52 0-1.04.2-1.43.59L10.3 9.45l-7.72 7.72c-.78.78-.78 2.05 0 2.83L4 21.41c.39.39.9.59 1.41.59.51 0 1.02-.2 1.41-.59l7.78-7.78 2.81-2.81c.8-.78.8-2.07 0-2.86zM5.41 20L4 18.59l7.72-7.72 1.47 1.35L5.41 20z\"/>\n",
              "  </svg>\n",
              "      </button>\n",
              "      \n",
              "  <style>\n",
              "    .colab-df-container {\n",
              "      display:flex;\n",
              "      flex-wrap:wrap;\n",
              "      gap: 12px;\n",
              "    }\n",
              "\n",
              "    .colab-df-convert {\n",
              "      background-color: #E8F0FE;\n",
              "      border: none;\n",
              "      border-radius: 50%;\n",
              "      cursor: pointer;\n",
              "      display: none;\n",
              "      fill: #1967D2;\n",
              "      height: 32px;\n",
              "      padding: 0 0 0 0;\n",
              "      width: 32px;\n",
              "    }\n",
              "\n",
              "    .colab-df-convert:hover {\n",
              "      background-color: #E2EBFA;\n",
              "      box-shadow: 0px 1px 2px rgba(60, 64, 67, 0.3), 0px 1px 3px 1px rgba(60, 64, 67, 0.15);\n",
              "      fill: #174EA6;\n",
              "    }\n",
              "\n",
              "    [theme=dark] .colab-df-convert {\n",
              "      background-color: #3B4455;\n",
              "      fill: #D2E3FC;\n",
              "    }\n",
              "\n",
              "    [theme=dark] .colab-df-convert:hover {\n",
              "      background-color: #434B5C;\n",
              "      box-shadow: 0px 1px 3px 1px rgba(0, 0, 0, 0.15);\n",
              "      filter: drop-shadow(0px 1px 2px rgba(0, 0, 0, 0.3));\n",
              "      fill: #FFFFFF;\n",
              "    }\n",
              "  </style>\n",
              "\n",
              "      <script>\n",
              "        const buttonEl =\n",
              "          document.querySelector('#df-2a28996d-4cee-4fc7-a5a1-44aa418db86e button.colab-df-convert');\n",
              "        buttonEl.style.display =\n",
              "          google.colab.kernel.accessAllowed ? 'block' : 'none';\n",
              "\n",
              "        async function convertToInteractive(key) {\n",
              "          const element = document.querySelector('#df-2a28996d-4cee-4fc7-a5a1-44aa418db86e');\n",
              "          const dataTable =\n",
              "            await google.colab.kernel.invokeFunction('convertToInteractive',\n",
              "                                                     [key], {});\n",
              "          if (!dataTable) return;\n",
              "\n",
              "          const docLinkHtml = 'Like what you see? Visit the ' +\n",
              "            '<a target=\"_blank\" href=https://colab.research.google.com/notebooks/data_table.ipynb>data table notebook</a>'\n",
              "            + ' to learn more about interactive tables.';\n",
              "          element.innerHTML = '';\n",
              "          dataTable['output_type'] = 'display_data';\n",
              "          await google.colab.output.renderOutput(dataTable, element);\n",
              "          const docLink = document.createElement('div');\n",
              "          docLink.innerHTML = docLinkHtml;\n",
              "          element.appendChild(docLink);\n",
              "        }\n",
              "      </script>\n",
              "    </div>\n",
              "  </div>\n",
              "  "
            ]
          },
          "metadata": {},
          "execution_count": 16
        }
      ]
    },
    {
      "cell_type": "code",
      "source": [
        "# Checking for outliers\n",
        "import plotly.express as px\n",
        "fig = px.box(Financial, x=\"household_size\")\n",
        "fig.update_layout(\n",
        "    title_text=\"Checking for Outliers in household size column\",    \n",
        "    height=800, \n",
        "    width=800)\n",
        "fig.show()"
      ],
      "metadata": {
        "colab": {
          "base_uri": "https://localhost:8080/",
          "height": 817
        },
        "id": "ho8svI3pbadr",
        "outputId": "bd6895fc-d935-488a-b657-9ca2bfa87df3"
      },
      "execution_count": null,
      "outputs": [
        {
          "output_type": "display_data",
          "data": {
            "text/html": [
              "<html>\n",
              "<head><meta charset=\"utf-8\" /></head>\n",
              "<body>\n",
              "    <div>            <script src=\"https://cdnjs.cloudflare.com/ajax/libs/mathjax/2.7.5/MathJax.js?config=TeX-AMS-MML_SVG\"></script><script type=\"text/javascript\">if (window.MathJax) {MathJax.Hub.Config({SVG: {font: \"STIX-Web\"}});}</script>                <script type=\"text/javascript\">window.PlotlyConfig = {MathJaxConfig: 'local'};</script>\n",
              "        <script src=\"https://cdn.plot.ly/plotly-2.8.3.min.js\"></script>                <div id=\"9929c2e5-2b9d-4844-b48f-0b3a4e9f62c9\" class=\"plotly-graph-div\" style=\"height:800px; width:800px;\"></div>            <script type=\"text/javascript\">                                    window.PLOTLYENV=window.PLOTLYENV || {};                                    if (document.getElementById(\"9929c2e5-2b9d-4844-b48f-0b3a4e9f62c9\")) {                    Plotly.newPlot(                        \"9929c2e5-2b9d-4844-b48f-0b3a4e9f62c9\",                        [{\"alignmentgroup\":\"True\",\"hovertemplate\":\"household_size=%{x}<extra></extra>\",\"legendgroup\":\"\",\"marker\":{\"color\":\"#636efa\"},\"name\":\"\",\"notched\":false,\"offsetgroup\":\"\",\"orientation\":\"h\",\"showlegend\":false,\"x\":[3.0,5.0,5.0,5.0,8.0,7.0,7.0,1.0,3.0,3.0,5.0,3.0,6.0,8.0,4.0,7.0,1.0,6.0,1.0,4.0,4.0,1.0,4.0,3.0,7.0,5.0,8.0,1.0,4.0,7.0,5.0,5.0,4.0,3.0,10.0,5.0,4.0,5.0,8.0,3.0,6.0,4.0,3.0,2.0,1.0,1.0,3.0,4.0,4.0,3.0,3.0,2.0,5.0,2.0,1.0,3.0,6.0,4.0,11.0,5.0,8.0,1.0,3.0,1.0,6.0,3.0,1.0,1.0,5.0,1.0,2.0,5.0,4.0,3.0,4.0,4.0,4.0,3.0,5.0,4.0,8.0,4.0,4.0,7.0,3.0,4.0,1.0,4.0,4.0,4.0,3.0,6.0,10.0,9.0,1.0,2.0,8.0,6.0,2.0,5.0,10.0,1.0,2.0,2.0,4.0,4.0,4.0,6.0,9.0,1.0,3.0,7.0,2.0,5.0,8.0,4.0,2.0,9.0,4.0,5.0,6.0,6.0,7.0,2.0,5.0,1.0,7.0,2.0,4.0,3.0,4.0,7.0,2.0,3.0,6.0,4.0,4.0,4.0,1.0,3.0,2.0,4.0,5.0,8.0,6.0,6.0,4.0,6.0,5.0,3.0,8.0,4.0,5.0,7.0,1.0,1.0,1.0,8.0,4.0,7.0,1.0,4.0,7.0,4.0,5.0,6.0,7.0,3.0,2.0,4.0,4.0,9.0,2.0,7.0,5.0,2.0,7.0,5.0,2.0,6.0,3.0,3.0,4.0,1.0,3.0,8.0,4.0,2.0,2.0,7.0,3.0,5.0,2.0,3.0,9.0,5.0,7.0,4.0,2.0,5.0,2.0,6.0,5.0,3.0,2.0,2.0,6.0,1.0,5.0,3.0,4.0,3.0,1.0,6.0,4.0,5.0,4.0,1.0,4.0,3.0,5.0,1.0,4.0,3.0,5.0,1.0,1.0,4.0,3.0,3.0,5.0,7.0,3.0,7.0,8.0,5.0,3.0,4.0,2.0,2.0,3.0,7.0,2.0,4.0,1.0,1.0,3.0,6.0,9.0,4.0,1.0,9.0,6.0,7.0,4.0,5.0,2.0,2.0,2.0,4.0,4.0,1.0,5.0,4.0,6.0,5.0,3.0,5.0,1.0,3.0,7.0,3.0,5.0,3.0,1.0,3.0,2.0,7.0,2.0,5.0,5.0,6.0,5.0,3.0,2.0,6.0,1.0,7.0,4.0,6.0,3.0,1.0,3.0,2.0,5.0,7.0,5.0,2.0,3.0,4.0,4.0,6.0,7.0,6.0,1.0,6.0,7.0,2.0,4.0,5.0,4.0,7.0,6.0,4.0,6.0,1.0,1.0,6.0,4.0,6.0,9.0,2.0,4.0,2.0,2.0,7.0,2.0,3.0,5.0,9.0,6.0,3.0,6.0,5.0,2.0,8.0,6.0,4.0,1.0,4.0,2.0,2.0,3.0,1.0,2.0,3.0,6.0,6.0,12.0,2.0,1.0,4.0,7.0,1.0,4.0,7.0,3.0,1.0,3.0,8.0,6.0,9.0,3.0,2.0,7.0,1.0,1.0,6.0,3.0,4.0,3.0,3.0,16.0,6.0,1.0,1.0,2.0,4.0,3.0,6.0,10.0,1.0,5.0,6.0,1.0,2.0,2.0,2.0,5.0,3.0,7.0,5.0,4.0,1.0,1.0,7.0,4.0,1.0,2.0,1.0,1.0,9.0,3.0,1.0,3.0,2.0,5.0,5.0,7.0,3.0,4.0,3.0,3.0,1.0,2.0,4.0,1.0,2.0,1.0,2.0,2.0,4.0,3.0,3.0,7.0,1.0,5.0,1.0,5.0,3.0,2.0,3.0,6.0,7.0,3.0,2.0,2.0,1.0,2.0,10.0,3.0,5.0,8.0,1.0,3.0,4.0,4.0,5.0,3.0,4.0,4.0,4.0,5.0,4.0,1.0,8.0,5.0,4.0,5.0,3.0,1.0,3.0,3.0,2.0,1.0,3.0,5.0,4.0,3.0,5.0,3.0,6.0,1.0,7.0,4.0,6.0,5.0,8.0,3.0,1.0,4.0,3.0,4.0,1.0,3.0,5.0,8.0,6.0,4.0,4.0,2.0,3.0,1.0,5.0,4.0,5.0,9.0,6.0,2.0,5.0,2.0,2.0,4.0,1.0,1.0,4.0,1.0,11.0,6.0,2.0,3.0,4.0,6.0,7.0,2.0,6.0,6.0,3.0,1.0,9.0,4.0,1.0,3.0,6.0,6.0,4.0,5.0,1.0,2.0,8.0,6.0,5.0,1.0,1.0,3.0,1.0,3.0,4.0,2.0,6.0,1.0,5.0,2.0,5.0,1.0,6.0,8.0,10.0,5.0,1.0,4.0,5.0,8.0,3.0,7.0,4.0,1.0,5.0,6.0,5.0,1.0,4.0,3.0,3.0,4.0,4.0,1.0,5.0,3.0,1.0,4.0,3.0,2.0,8.0,1.0,4.0,2.0,6.0,8.0,1.0,2.0,4.0,5.0,9.0,4.0,2.0,4.0,7.0,1.0,4.0,6.0,5.0,6.0,5.0,6.0,1.0,2.0,6.0,1.0,7.0,3.0,4.0,1.0,9.0,2.0,2.0,6.0,10.0,5.0,6.0,9.0,7.0,2.0,4.0,5.0,7.0,1.0,3.0,2.0,8.0,6.0,5.0,2.0,4.0,4.0,7.0,8.0,5.0,6.0,4.0,6.0,2.0,7.0,2.0,1.0,4.0,1.0,6.0,4.0,2.0,4.0,3.0,6.0,3.0,7.0,1.0,2.0,6.0,3.0,4.0,2.0,1.0,3.0,5.0,5.0,2.0,2.0,3.0,1.0,1.0,9.0,3.0,7.0,1.0,6.0,5.0,4.0,4.0,3.0,4.0,4.0,3.0,1.0,1.0,12.0,5.0,1.0,7.0,2.0,3.0,1.0,4.0,4.0,1.0,4.0,2.0,3.0,4.0,8.0,6.0,1.0,1.0,3.0,6.0,5.0,5.0,1.0,5.0,4.0,8.0,3.0,4.0,2.0,4.0,5.0,1.0,4.0,7.0,4.0,5.0,4.0,6.0,1.0,3.0,7.0,5.0,4.0,5.0,3.0,8.0,5.0,5.0,3.0,6.0,2.0,5.0,1.0,2.0,2.0,4.0,3.0,8.0,3.0,4.0,3.0,2.0,1.0,8.0,3.0,3.0,4.0,5.0,1.0,1.0,1.0,1.0,5.0,3.0,4.0,8.0,2.0,6.0,5.0,6.0,6.0,2.0,3.0,5.0,1.0,6.0,1.0,8.0,2.0,2.0,5.0,2.0,9.0,5.0,3.0,3.0,7.0,3.0,5.0,4.0,6.0,3.0,3.0,5.0,4.0,3.0,6.0,2.0,7.0,5.0,4.0,4.0,3.0,5.0,1.0,3.0,6.0,8.0,7.0,8.0,4.0,6.0,2.0,6.0,2.0,3.0,1.0,1.0,3.0,4.0,4.0,1.0,4.0,1.0,3.0,2.0,4.0,3.0,5.0,1.0,2.0,6.0,4.0,7.0,5.0,1.0,7.0,3.0,7.0,4.0,5.0,7.0,1.0,4.0,1.0,1.0,3.0,4.0,3.0,3.0,1.0,4.0,2.0,1.0,10.0,5.0,1.0,1.0,2.0,6.0,3.0,5.0,6.0,6.0,2.0,1.0,1.0,4.0,2.0,3.0,3.0,6.0,9.0,5.0,2.0,3.0,2.0,1.0,4.0,6.0,1.0,3.0,8.0,1.0,4.0,1.0,2.0,6.0,4.0,2.0,3.0,6.0,6.0,2.0,8.0,11.0,7.0,3.0,5.0,1.0,1.0,2.0,4.0,2.0,5.0,6.0,3.0,4.0,2.0,4.0,1.0,7.0,2.0,8.0,1.0,3.0,2.0,3.0,4.0,4.0,8.0,5.0,6.0,3.0,3.0,2.0,5.0,6.0,3.0,2.0,9.0,4.0,3.0,2.0,5.0,1.0,1.0,2.0,7.0,1.0,2.0,2.0,4.0,1.0,3.0,5.0,2.0,11.0,6.0,8.0,9.0,4.0,2.0,3.0,7.0,1.0,3.0,1.0,1.0,3.0,1.0,2.0,1.0,4.0,3.0,10.0,4.0,3.0,4.0,5.0,5.0,5.0,1.0,5.0,2.0,5.0,3.0,4.0,4.0,7.0,2.0,4.0,1.0,2.0,6.0,3.0,5.0,6.0,5.0,6.0,6.0,1.0,1.0,5.0,3.0,4.0,5.0,7.0,6.0,2.0,3.0,9.0,6.0,3.0,5.0,7.0,4.0,5.0,1.0,1.0,5.0,5.0,4.0,1.0,5.0,2.0,2.0,4.0,5.0,9.0,1.0,2.0,3.0,8.0,6.0,5.0,4.0,1.0,3.0,3.0,3.0,4.0,1.0,4.0,7.0,7.0,4.0,6.0,1.0,5.0,1.0,4.0,6.0,2.0,8.0,7.0,7.0,4.0,1.0,2.0,2.0,3.0,2.0,8.0,9.0,4.0,4.0,1.0,2.0,4.0,1.0,1.0,3.0,1.0,5.0,4.0,1.0,9.0,5.0,7.0,1.0,8.0,10.0,7.0,3.0,6.0,3.0,6.0,4.0,3.0,4.0,6.0,5.0,4.0,5.0,5.0,5.0,4.0,7.0,3.0,2.0,7.0,2.0,2.0,4.0,2.0,1.0,2.0,5.0,2.0,4.0,5.0,4.0,3.0,4.0,8.0,5.0,5.0,3.0,1.0,5.0,2.0,4.0,7.0,1.0,9.0,5.0,3.0,8.0,7.0,2.0,1.0,4.0,4.0,3.0,5.0,5.0,8.0,9.0,5.0,7.0,1.0,4.0,3.0,6.0,6.0,6.0,2.0,1.0,6.0,1.0,3.0,2.0,3.0,5.0,4.0,6.0,6.0,3.0,4.0,5.0,2.0,6.0,2.0,3.0,1.0,4.0,6.0,5.0,8.0,8.0,5.0,3.0,5.0,16.0,3.0,4.0,5.0,1.0,1.0,3.0,4.0,1.0,4.0,2.0,6.0,7.0,1.0,3.0,5.0,5.0,5.0,8.0,5.0,1.0,3.0,6.0,1.0,2.0,7.0,5.0,3.0,1.0,5.0,2.0,1.0,4.0,1.0,1.0,4.0,4.0,2.0,1.0,3.0,3.0,1.0,2.0,3.0,1.0,3.0,2.0,5.0,1.0,9.0,4.0,5.0,1.0,3.0,5.0,4.0,6.0,4.0,1.0,4.0,6.0,2.0,2.0,2.0,6.0,5.0,2.0,4.0,1.0,2.0,6.0,1.0,5.0,6.0,8.0,1.0,2.0,4.0,4.0,5.0,6.0,5.0,2.0,2.0,2.0,3.0,1.0,6.0,5.0,4.0,4.0,3.0,7.0,6.0,4.0,5.0,9.0,1.0,6.0,5.0,3.0,6.0,1.0,4.0,6.0,6.0,6.0,7.0,3.0,5.0,3.0,3.0,4.0,4.0,4.0,5.0,3.0,1.0,3.0,8.0,8.0,4.0,6.0,8.0,9.0,3.0,4.0,6.0,1.0,4.0,2.0,1.0,9.0,1.0,4.0,1.0,5.0,2.0,3.0,4.0,7.0,4.0,3.0,5.0,2.0,2.0,7.0,1.0,4.0,4.0,7.0,5.0,3.0,9.0,5.0,3.0,3.0,9.0,2.0,4.0,2.0,7.0,4.0,7.0,3.0,3.0,7.0,8.0,4.0,1.0,5.0,3.0,3.0,5.0,8.0,5.0,4.0,9.0,1.0,10.0,8.0,2.0,6.0,3.0,6.0,3.0,5.0,7.0,8.0,9.0,3.0,3.0,7.0,4.0,1.0,2.0,1.0,5.0,4.0,3.0,1.0,2.0,3.0,5.0,2.0,3.0,2.0,3.0,5.0,3.0,1.0,5.0,5.0,1.0,1.0,6.0,1.0,6.0,3.0,3.0,1.0,4.0,1.0,8.0,1.0,3.0,5.0,7.0,2.0,3.0,2.0,5.0,5.0,2.0,8.0,3.0,1.0,1.0,4.0,6.0,3.0,1.0,3.0,6.0,9.0,7.0,7.0,4.0,2.0,6.0,2.0,8.0,1.0,3.0,3.0,11.0,5.0,4.0,7.0,5.0,4.0,4.0,5.0,5.0,1.0,3.0,6.0,3.0,9.0,4.0,1.0,4.0,4.0,1.0,3.0,3.0,4.0,3.0,5.0,1.0,3.0,8.0,8.0,2.0,5.0,7.0,2.0,5.0,1.0,3.0,2.0,5.0,7.0,7.0,7.0,2.0,2.0,6.0,7.0,5.0,5.0,4.0,5.0,5.0,6.0,1.0,3.0,7.0,2.0,4.0,8.0,1.0,5.0,4.0,5.0,3.0,1.0,6.0,5.0,4.0,3.0,3.0,4.0,2.0,2.0,2.0,1.0,4.0,2.0,3.0,3.0,6.0,2.0,3.0,1.0,4.0,2.0,3.0,11.0,3.0,6.0,8.0,1.0,2.0,6.0,15.0,8.0,4.0,5.0,4.0,3.0,8.0,4.0,6.0,4.0,8.0,5.0,4.0,8.0,10.0,3.0,1.0,4.0,4.0,4.0,6.0,4.0,4.0,3.0,3.0,5.0,1.0,5.0,3.0,7.0,1.0,3.0,2.0,6.0,2.0,1.0,4.0,3.0,2.0,4.0,3.0,5.0,2.0,6.0,1.0,2.0,3.0,1.0,3.0,4.0,4.0,3.0,4.0,9.0,3.0,5.0,6.0,3.0,6.0,5.0,1.0,4.0,1.0,1.0,6.0,1.0,4.0,2.0,2.0,3.0,5.0,5.0,2.0,2.0,9.0,5.0,1.0,3.0,4.0,2.0,6.0,2.0,5.0,3.0,7.0,2.0,7.0,7.0,5.0,5.0,1.0,5.0,1.0,3.0,4.0,3.0,1.0,1.0,10.0,4.0,5.0,3.0,2.0,2.0,3.0,1.0,13.0,2.0,3.0,9.0,3.0,3.0,7.0,3.0,6.0,8.0,1.0,7.0,2.0,6.0,3.0,5.0,6.0,1.0,7.0,5.0,3.0,2.0,7.0,7.0,5.0,6.0,3.0,6.0,6.0,3.0,2.0,7.0,5.0,6.0,5.0,2.0,3.0,7.0,9.0,4.0,5.0,4.0,1.0,1.0,6.0,6.0,6.0,2.0,1.0,2.0,8.0,1.0,2.0,3.0,5.0,8.0,4.0,5.0,1.0,4.0,4.0,6.0,2.0,4.0,7.0,6.0,1.0,5.0,5.0,5.0,1.0,6.0,1.0,5.0,7.0,6.0,4.0,5.0,2.0,1.0,4.0,4.0,5.0,1.0,1.0,1.0,4.0,4.0,1.0,1.0,4.0,2.0,1.0,5.0,2.0,5.0,1.0,1.0,4.0,2.0,2.0,6.0,5.0,2.0,3.0,3.0,6.0,3.0,7.0,7.0,7.0,3.0,6.0,3.0,7.0,1.0,5.0,1.0,1.0,2.0,1.0,6.0,6.0,6.0,5.0,2.0,1.0,9.0,5.0,3.0,8.0,5.0,3.0,5.0,4.0,4.0,3.0,2.0,2.0,5.0,9.0,3.0,1.0,7.0,2.0,5.0,4.0,1.0,2.0,4.0,1.0,1.0,4.0,3.0,4.0,2.0,4.0,1.0,1.0,5.0,3.0,3.0,1.0,8.0,2.0,1.0,6.0,6.0,4.0,3.0,1.0,5.0,5.0,1.0,1.0,6.0,4.0,4.0,2.0,3.0,2.0,2.0,7.0,6.0,5.0,3.0,8.0,3.0,2.0,2.0,2.0,10.0,2.0,2.0,3.0,3.0,1.0,1.0,2.0,3.0,4.0,3.0,3.0,5.0,3.0,3.0,4.0,2.0,5.0,2.0,3.0,4.0,4.0,6.0,4.0,3.0,7.0,5.0,3.0,2.0,1.0,2.0,4.0,2.0,4.0,1.0,5.0,4.0,6.0,4.0,3.0,4.0,1.0,6.0,4.0,1.0,2.0,7.0,5.0,10.0,4.0,7.0,6.0,3.0,5.0,2.0,3.0,5.0,4.0,2.0,2.0,6.0,2.0,2.0,2.0,4.0,2.0,6.0,5.0,9.0,1.0,4.0,2.0,1.0,7.0,6.0,2.0,1.0,3.0,2.0,1.0,4.0,3.0,4.0,3.0,6.0,5.0,6.0,7.0,3.0,4.0,1.0,3.0,5.0,2.0,2.0,2.0,1.0,1.0,6.0,4.0,5.0,5.0,6.0,11.0,5.0,3.0,2.0,4.0,4.0,2.0,5.0,9.0,8.0,2.0,6.0,1.0,8.0,1.0,3.0,2.0,2.0,7.0,1.0,7.0,8.0,4.0,3.0,4.0,1.0,4.0,4.0,3.0,1.0,6.0,5.0,2.0,3.0,3.0,4.0,7.0,4.0,4.0,6.0,11.0,3.0,8.0,4.0,1.0,3.0,6.0,5.0,3.0,2.0,4.0,1.0,2.0,7.0,7.0,2.0,3.0,1.0,5.0,1.0,2.0,3.0,2.0,2.0,1.0,2.0,7.0,3.0,5.0,4.0,6.0,3.0,4.0,4.0,7.0,3.0,5.0,3.0,1.0,4.0,7.0,3.0,4.0,6.0,4.0,2.0,1.0,5.0,7.0,3.0,1.0,5.0,2.0,1.0,2.0,1.0,1.0,3.0,1.0,5.0,6.0,3.0,4.0,4.0,4.0,4.0,11.0,4.0,5.0,3.0,5.0,4.0,1.0,2.0,5.0,1.0,7.0,4.0,4.0,4.0,5.0,5.0,1.0,2.0,5.0,6.0,6.0,4.0,4.0,5.0,3.0,3.0,1.0,5.0,4.0,4.0,2.0,4.0,1.0,1.0,3.0,4.0,6.0,9.0,3.0,3.0,2.0,5.0,1.0,7.0,4.0,2.0,4.0,5.0,3.0,2.0,4.0,7.0,7.0,4.0,1.0,6.0,5.0,5.0,5.0,1.0,7.0,5.0,5.0,4.0,7.0,4.0,4.0,3.0,6.0,5.0,5.0,4.0,1.0,2.0,3.0,5.0,4.0,5.0,5.0,7.0,6.0,2.0,4.0,5.0,3.0,5.0,10.0,3.0,7.0,5.0,8.0,1.0,2.0,2.0,1.0,1.0,3.0,4.0,4.0,4.0,1.0,6.0,3.0,2.0,4.0,4.0,4.0,3.0,6.0,7.0,10.0,3.0,5.0,2.0,2.0,5.0,4.0,4.0,8.0,4.0,3.0,5.0,13.0,3.0,5.0,2.0,5.0,1.0,1.0,1.0,7.0,3.0,8.0,1.0,2.0,4.0,8.0,4.0,1.0,4.0,6.0,2.0,2.0,4.0,5.0,1.0,3.0,1.0,4.0,3.0,5.0,4.0,5.0,2.0,4.0,2.0,2.0,4.0,1.0,4.0,3.0,2.0,4.0,3.0,3.0,4.0,2.0,5.0,6.0,3.0,10.0,1.0,4.0,4.0,5.0,5.0,1.0,10.0,1.0,3.0,2.0,6.0,1.0,1.0,9.0,5.0,4.0,5.0,3.0,1.0,1.0,5.0,3.0,4.0,1.0,4.0,8.0,6.0,1.0,2.0,1.0,2.0,2.0,3.0,1.0,5.0,3.0,8.0,12.0,5.0,3.0,7.0,3.0,6.0,5.0,2.0,5.0,3.0,4.0,2.0,3.0,3.0,3.0,2.0,1.0,1.0,5.0,9.0,3.0,1.0,2.0,5.0,2.0,3.0,3.0,4.0,4.0,5.0,4.0,4.0,3.0,1.0,3.0,2.0,5.0,4.0,7.0,1.0,4.0,1.0,1.0,4.0,9.0,4.0,5.0,3.0,2.0,1.0,8.0,7.0,1.0,7.0,8.0,1.0,4.0,7.0,4.0,8.0,3.0,5.0,1.0,4.0,4.0,1.0,3.0,8.0,6.0,5.0,5.0,7.0,4.0,6.0,1.0,4.0,2.0,6.0,4.0,6.0,6.0,3.0,1.0,10.0,6.0,7.0,3.0,3.0,6.0,6.0,2.0,4.0,5.0,3.0,4.0,1.0,3.0,2.0,1.0,3.0,2.0,6.0,7.0,4.0,3.0,2.0,4.0,1.0,1.0,8.0,1.0,3.0,4.0,1.0,6.0,8.0,4.0,4.0,1.0,1.0,1.0,1.0,2.0,4.0,1.0,1.0,4.0,9.0,6.0,1.0,2.0,1.0,7.0,5.0,9.0,4.0,3.0,5.0,3.0,1.0,3.0,2.0,4.0,6.0,2.0,4.0,7.0,2.0,7.0,2.0,6.0,6.0,2.0,2.0,3.0,4.0,1.0,6.0,5.0,4.0,2.0,6.0,2.0,1.0,3.0,1.0,12.0,1.0,8.0,8.0,4.0,8.0,5.0,7.0,5.0,2.0,5.0,5.0,5.0,2.0,4.0,4.0,2.0,2.0,3.0,7.0,2.0,2.0,7.0,1.0,5.0,3.0,3.0,1.0,3.0,5.0,4.0,1.0,4.0,8.0,4.0,1.0,4.0,3.0,6.0,8.0,3.0,2.0,4.0,6.0,5.0,7.0,3.0,4.0,7.0,6.0,1.0,6.0,1.0,1.0,5.0,1.0,2.0,2.0,2.0,1.0,3.0,2.0,7.0,12.0,5.0,3.0,2.0,1.0,1.0,1.0,6.0,5.0,6.0,3.0,6.0,3.0,2.0,6.0,3.0,5.0,5.0,9.0,1.0,2.0,1.0,6.0,3.0,1.0,4.0,5.0,1.0,6.0,5.0,1.0,7.0,6.0,5.0,5.0,2.0,3.0,4.0,5.0,5.0,2.0,10.0,3.0,3.0,1.0,1.0,6.0,6.0,8.0,6.0,5.0,3.0,6.0,5.0,7.0,2.0,3.0,4.0,1.0,4.0,1.0,1.0,4.0,3.0,6.0,5.0,5.0,10.0,3.0,7.0,5.0,1.0,4.0,3.0,3.0,2.0,6.0,2.0,1.0,4.0,5.0,1.0,4.0,5.0,6.0,3.0,1.0,3.0,3.0,2.0,4.0,5.0,1.0,5.0,5.0,9.0,4.0,10.0,3.0,4.0,1.0,3.0,6.0,3.0,1.0,7.0,1.0,6.0,9.0,3.0,8.0,7.0,5.0,2.0,3.0,3.0,3.0,7.0,1.0,2.0,3.0,4.0,3.0,5.0,3.0,7.0,5.0,1.0,3.0,4.0,2.0,3.0,2.0,3.0,4.0,5.0,1.0,8.0,3.0,1.0,1.0,9.0,3.0,5.0,7.0,1.0,2.0,3.0,4.0,6.0,3.0,2.0,4.0,6.0,5.0,3.0,8.0,12.0,3.0,4.0,4.0,3.0,2.0,11.0,9.0,6.0,1.0,3.0,1.0,1.0,8.0,6.0,4.0,2.0,3.0,2.0,3.0,3.0,8.0,4.0,5.0,9.0,1.0,5.0,6.0,4.0,5.0,7.0,2.0,9.0,3.0,4.0,3.0,4.0,4.0,1.0,8.0,1.0,5.0,2.0,1.0,2.0,5.0,9.0,2.0,3.0,1.0,6.0,2.0,4.0,1.0,2.0,11.0,1.0,6.0,4.0,1.0,4.0,5.0,6.0,6.0,1.0,6.0,2.0,1.0,7.0,1.0,3.0,9.0,2.0,1.0,6.0,8.0,8.0,4.0,5.0,3.0,5.0,6.0,2.0,4.0,3.0,1.0,5.0,4.0,3.0,5.0,9.0,2.0,6.0,2.0,1.0,2.0,8.0,4.0,5.0,5.0,1.0,3.0,6.0,4.0,4.0,4.0,1.0,1.0,2.0,3.0,5.0,2.0,8.0,1.0,2.0,3.0,1.0,2.0,5.0,4.0,9.0,6.0,10.0,4.0,3.0,5.0,5.0,3.0,9.0,4.0,5.0,4.0,5.0,10.0,1.0,3.0,1.0,7.0,6.0,4.0,7.0,3.0,6.0,2.0,5.0,7.0,4.0,3.0,6.0,3.0,1.0,6.0,2.0,4.0,5.0,7.0,7.0,5.0,7.0,3.0,1.0,5.0,6.0,4.0,3.0,4.0,3.0,2.0,3.0,6.0,1.0,3.0,3.0,1.0,5.0,6.0,4.0,3.0,5.0,9.0,8.0,3.0,6.0,2.0,1.0,5.0,7.0,5.0,4.0,7.0,4.0,4.0,4.0,7.0,4.0,3.0,4.0,6.0,3.0,2.0,1.0,5.0,6.0,1.0,3.0,6.0,4.0,8.0,1.0,8.0,5.0,4.0,10.0,1.0,6.0,3.0,2.0,6.0,1.0,8.0,6.0,4.0,5.0,7.0,2.0,2.0,7.0,1.0,5.0,2.0,5.0,4.0,2.0,2.0,7.0,6.0,5.0,3.0,6.0,6.0,4.0,6.0,4.0,3.0,6.0,2.0,5.0,3.0,1.0,5.0,5.0,3.0,1.0,3.0,10.0,5.0,4.0,6.0,4.0,4.0,1.0,5.0,2.0,5.0,2.0,2.0,5.0,1.0,4.0,5.0,4.0,2.0,5.0,2.0,6.0,5.0,6.0,2.0,4.0,6.0,4.0,3.0,4.0,5.0,2.0,4.0,11.0,5.0,2.0,2.0,6.0,1.0,2.0,13.0,4.0,3.0,5.0,7.0,1.0,3.0,8.0,6.0,5.0,5.0,4.0,5.0,3.0,2.0,4.0,2.0,9.0,3.0,1.0,5.0,2.0,8.0,4.0,2.0,13.0,1.0,2.0,4.0,1.0,6.0,7.0,4.0,2.0,4.0,2.0,4.0,1.0,3.0,4.0,4.0,1.0,6.0,8.0,2.0,5.0,2.0,1.0,1.0,8.0,6.0,4.0,5.0,5.0,1.0,5.0,1.0,3.0,8.0,2.0,3.0,6.0,1.0,4.0,8.0,4.0,5.0,3.0,7.0,4.0,1.0,4.0,6.0,5.0,6.0,3.0,4.0,4.0,3.0,5.0,1.0,1.0,5.0,3.0,5.0,4.0,4.0,2.0,10.0,1.0,3.0,2.0,2.0,12.0,1.0,1.0,1.0,6.0,8.0,3.0,6.0,1.0,12.0,4.0,8.0,3.0,4.0,4.0,2.0,4.0,7.0,6.0,1.0,6.0,2.0,2.0,5.0,7.0,2.0,2.0,3.0,4.0,3.0,3.0,1.0,8.0,6.0,3.0,6.0,5.0,4.0,8.0,2.0,1.0,1.0,4.0,2.0,6.0,2.0,6.0,7.0,7.0,3.0,6.0,12.0,2.0,5.0,7.0,4.0,8.0,4.0,3.0,4.0,3.0,6.0,1.0,1.0,2.0,11.0,2.0,1.0,2.0,2.0,4.0,4.0,2.0,7.0,5.0,4.0,4.0,3.0,6.0,1.0,3.0,2.0,7.0,1.0,2.0,4.0,2.0,4.0,4.0,8.0,3.0,7.0,4.0,6.0,1.0,3.0,9.0,1.0,1.0,1.0,4.0,2.0,12.0,1.0,4.0,1.0,6.0,13.0,7.0,2.0,5.0,6.0,1.0,1.0,6.0,3.0,3.0,4.0,5.0,3.0,2.0,8.0,4.0,2.0,4.0,3.0,2.0,4.0,7.0,1.0,7.0,5.0,1.0,4.0,2.0,2.0,1.0,1.0,4.0,8.0,2.0,4.0,3.0,9.0,2.0,5.0,4.0,1.0,3.0,5.0,6.0,5.0,1.0,2.0,4.0,3.0,7.0,7.0,3.0,5.0,3.0,3.0,1.0,5.0,6.0,5.0,7.0,2.0,9.0,2.0,4.0,1.0,6.0,5.0,2.0,4.0,5.0,6.0,6.0,5.0,4.0,8.0,1.0,5.0,1.0,8.0,1.0,3.0,8.0,1.0,3.0,4.0,10.0,2.0,3.0,4.0,5.0,4.0,4.0,3.0,2.0,7.0,4.0,2.0,4.0,2.0,1.0,1.0,1.0,4.0,2.0,4.0,4.0,2.0,3.0,4.0,8.0,4.0,3.0,2.0,3.0,6.0,1.0,2.0,5.0,1.0,2.0,3.0,2.0,5.0,4.0,3.0,5.0,3.0,6.0,1.0,1.0,9.0,1.0,4.0,7.0,1.0,2.0,3.0,3.0,10.0,2.0,6.0,6.0,1.0,3.0,1.0,1.0,5.0,1.0,6.0,6.0,3.0,2.0,7.0,4.0,6.0,1.0,3.0,1.0,3.0,2.0,1.0,8.0,4.0,7.0,5.0,7.0,6.0,5.0,2.0,6.0,2.0,2.0,1.0,7.0,5.0,1.0,6.0,5.0,2.0,1.0,7.0,6.0,2.0,1.0,8.0,1.0,1.0,6.0,8.0,7.0,4.0,5.0,5.0,6.0,5.0,10.0,7.0,5.0,6.0,1.0,5.0,1.0,1.0,11.0,6.0,2.0,5.0,6.0,1.0,6.0,2.0,7.0,2.0,4.0,6.0,9.0,5.0,6.0,2.0,6.0,2.0,2.0,5.0,1.0,5.0,5.0,2.0,2.0,4.0,1.0,5.0,4.0,4.0,8.0,2.0,8.0,9.0,3.0,5.0,1.0,2.0,1.0,2.0,7.0,1.0,1.0,1.0,2.0,6.0,5.0,5.0,1.0,1.0,3.0,2.0,3.0,3.0,7.0,3.0,6.0,2.0,4.0,2.0,5.0,3.0,1.0,4.0,1.0,4.0,3.0,3.0,1.0,6.0,1.0,5.0,3.0,2.0,1.0,7.0,5.0,9.0,1.0,2.0,2.0,11.0,4.0,1.0,4.0,2.0,7.0,4.0,1.0,5.0,7.0,3.0,2.0,6.0,4.0,3.0,8.0,4.0,1.0,2.0,3.0,4.0,6.0,3.0,7.0,4.0,2.0,3.0,4.0,6.0,7.0,3.0,4.0,3.0,5.0,1.0,1.0,4.0,3.0,1.0,5.0,4.0,2.0,1.0,3.0,1.0,7.0,4.0,6.0,2.0,2.0,10.0,3.0,1.0,8.0,2.0,4.0,2.0,8.0,3.0,1.0,3.0,2.0,8.0,6.0,2.0,5.0,5.0,1.0,4.0,6.0,2.0,7.0,6.0,7.0,2.0,3.0,2.0,5.0,1.0,1.0,3.0,3.0,3.0,1.0,8.0,9.0,4.0,2.0,1.0,5.0,3.0,7.0,10.0,3.0,5.0,1.0,5.0,2.0,10.0,2.0,3.0,2.0,1.0,5.0,1.0,4.0,1.0,7.0,5.0,3.0,2.0,10.0,5.0,8.0,5.0,2.0,10.0,5.0,3.0,5.0,6.0,5.0,4.0,2.0,2.0,1.0,8.0,5.0,3.0,3.0,4.0,6.0,4.0,2.0,3.0,3.0,6.0,1.0,6.0,3.0,4.0,2.0,1.0,3.0,3.0,4.0,2.0,3.0,5.0,3.0,4.0,4.0,7.0,5.0,3.0,3.0,4.0,1.0,1.0,3.0,3.0,9.0,8.0,6.0,1.0,4.0,6.0,6.0,4.0,1.0,3.0,7.0,8.0,1.0,6.0,6.0,3.0,2.0,4.0,3.0,2.0,3.0,5.0,5.0,8.0,5.0,7.0,1.0,2.0,4.0,5.0,5.0,2.0,5.0,3.0,8.0,1.0,1.0,1.0,5.0,5.0,5.0,3.0,4.0,3.0,1.0,3.0,3.0,5.0,2.0,4.0,6.0,2.0,2.0,1.0,5.0,3.0,1.0,2.0,3.0,2.0,7.0,5.0,4.0,3.0,5.0,5.0,10.0,2.0,6.0,6.0,5.0,4.0,4.0,4.0,1.0,6.0,1.0,3.0,5.0,2.0,6.0,3.0,1.0,1.0,8.0,2.0,5.0,6.0,4.0,7.0,1.0,4.0,2.0,3.0,4.0,7.0,1.0,1.0,4.0,2.0,3.0,2.0,5.0,4.0,2.0,5.0,2.0,3.0,5.0,4.0,1.0,2.0,1.0,5.0,2.0,2.0,5.0,1.0,1.0,9.0,6.0,1.0,4.0,2.0,2.0,1.0,4.0,2.0,3.0,9.0,5.0,3.0,3.0,7.0,1.0,6.0,4.0,6.0,2.0,4.0,7.0,5.0,1.0,4.0,5.0,2.0,5.0,8.0,1.0,6.0,3.0,1.0,1.0,1.0,3.0,2.0,5.0,5.0,3.0,3.0,12.0,2.0,2.0,3.0,1.0,6.0,6.0,2.0,3.0,3.0,3.0,2.0,3.0,4.0,7.0,4.0,4.0,2.0,1.0,6.0,3.0,7.0,4.0,3.0,3.0,4.0,4.0,3.0,3.0,3.0,4.0,4.0,8.0,1.0,1.0,3.0,4.0,3.0,1.0,3.0,5.0,4.0,8.0,1.0,1.0,5.0,4.0,1.0,7.0,5.0,7.0,1.0,5.0,2.0,1.0,9.0,2.0,2.0,3.0,3.0,1.0,2.0,5.0,6.0,3.0,6.0,4.0,5.0,7.0,4.0,1.0,4.0,6.0,4.0,3.0,4.0,6.0,5.0,5.0,11.0,3.0,2.0,3.0,4.0,4.0,9.0,7.0,3.0,7.0,2.0,1.0,2.0,1.0,5.0,1.0,4.0,5.0,5.0,7.0,7.0,1.0,5.0,2.0,2.0,2.0,1.0,3.0,6.0,4.0,3.0,4.0,8.0,3.0,1.0,3.0,2.0,2.0,4.0,1.0,3.0,1.0,4.0,3.0,3.0,1.0,4.0,4.0,8.0,4.0,1.0,5.0,7.0,4.0,4.0,3.0,5.0,6.0,6.0,7.0,6.0,1.0,7.0,5.0,7.0,7.0,2.0,7.0,7.0,3.0,2.0,4.0,3.0,2.0,2.0,3.0,5.0,3.0,5.0,12.0,7.0,7.0,1.0,7.0,6.0,3.0,5.0,4.0,5.0,5.0,3.0,3.0,3.0,4.0,7.0,3.0,2.0,4.0,8.0,9.0,3.0,1.0,3.0,5.0,7.0,4.0,7.0,1.0,8.0,3.0,6.0,1.0,1.0,6.0,8.0,4.0,2.0,4.0,3.0,4.0,5.0,2.0,5.0,3.0,7.0,5.0,5.0,3.0,8.0,7.0,2.0,2.0,1.0,7.0,4.0,3.0,6.0,1.0,3.0,5.0,5.0,3.0,13.0,6.0,2.0,4.0,2.0,2.0,6.0,3.0,2.0,5.0,6.0,4.0,4.0,4.0,4.0,1.0,4.0,7.0,4.0,3.0,4.0,2.0,1.0,2.0,5.0,2.0,4.0,2.0,7.0,2.0,1.0,1.0,8.0,6.0,5.0,9.0,5.0,3.0,6.0,1.0,4.0,1.0,2.0,2.0,3.0,8.0,4.0,6.0,6.0,1.0,1.0,1.0,7.0,6.0,3.0,4.0,3.0,2.0,8.0,1.0,2.0,1.0,4.0,3.0,8.0,3.0,4.0,11.0,3.0,9.0,6.0,5.0,2.0,6.0,3.0,3.0,1.0,6.0,4.0,2.0,3.0,5.0,1.0,9.0,7.0,4.0,4.0,3.0,9.0,4.0,6.0,7.0,6.0,3.0,3.0,3.0,4.0,5.0,6.0,2.0,6.0,1.0,7.0,4.0,3.0,6.0,1.0,4.0,5.0,1.0,3.0,3.0,5.0,5.0,4.0,2.0,8.0,9.0,1.0,3.0,2.0,3.0,9.0,1.0,2.0,2.0,6.0,2.0,1.0,5.0,2.0,1.0,3.0,11.0,5.0,6.0,5.0,7.0,2.0,2.0,6.0,2.0,1.0,8.0,2.0,1.0,2.0,8.0,5.0,1.0,4.0,1.0,2.0,1.0,2.0,9.0,9.0,6.0,4.0,3.0,6.0,3.0,9.0,4.0,2.0,5.0,11.0,2.0,1.0,6.0,5.0,1.0,4.0,6.0,5.0,3.0,3.0,3.0,5.0,4.0,4.0,1.0,4.0,4.0,3.0,5.0,5.0,6.0,3.0,5.0,2.0,8.0,3.0,5.0,3.0,2.0,4.0,4.0,2.0,4.0,8.0,6.0,5.0,7.0,4.0,3.0,4.0,4.0,6.0,4.0,5.0,7.0,1.0,1.0,2.0,6.0,4.0,1.0,4.0,1.0,3.0,1.0,6.0,5.0,2.0,5.0,5.0,2.0,2.0,4.0,1.0,2.0,6.0,4.0,8.0,3.0,5.0,7.0,3.0,1.0,4.0,7.0,7.0,4.0,1.0,6.0,11.0,4.0,1.0,7.0,3.0,1.0,1.0,5.0,4.0,7.0,3.0,2.0,3.0,1.0,1.0,2.0,4.0,3.0,3.0,9.0,6.0,2.0,1.0,7.0,8.0,5.0,5.0,5.0,5.0,2.0,1.0,10.0,8.0,1.0,1.0,3.0,5.0,5.0,1.0,4.0,14.0,1.0,4.0,4.0,4.0,6.0,4.0,6.0,3.0,9.0,6.0,1.0,6.0,7.0,3.0,3.0,6.0,5.0,2.0,6.0,3.0,1.0,1.0,5.0,1.0,3.0,21.0,1.0,1.0,3.0,2.0,8.0,7.0,1.0,6.0,2.0,3.0,7.0,6.0,2.0,6.0,5.0,2.0,5.0,4.0,6.0,1.0,6.0,1.0,2.0,8.0,5.0,2.0,3.0,4.0,3.0,4.0,6.0,6.0,3.0,9.0,5.0,3.0,2.0,3.0,9.0,8.0,1.0,5.0,2.0,2.0,4.0,2.0,4.0,2.0,1.0,5.0,1.0,1.0,3.0,4.0,7.0,1.0,1.0,6.0,2.0,5.0,2.0,3.0,4.0,6.0,2.0,1.0,8.0,1.0,5.0,3.0,5.0,5.0,1.0,5.0,3.0,4.0,4.0,1.0,1.0,6.0,4.0,1.0,1.0,3.0,2.0,2.0,3.0,1.0,2.0,5.0,4.0,1.0,7.0,4.0,3.0,4.0,3.0,1.0,3.0,1.0,8.0,6.0,5.0,3.0,5.0,5.0,3.0,2.0,5.0,2.0,5.0,5.0,7.0,1.0,1.0,3.0,7.0,3.0,11.0,4.0,5.0,4.0,3.0,6.0,1.0,6.0,6.0,6.0,2.0,4.0,1.0,2.0,6.0,7.0,3.0,2.0,5.0,6.0,5.0,4.0,2.0,4.0,4.0,1.0,4.0,2.0,4.0,8.0,6.0,8.0,4.0,1.0,3.0,2.0,6.0,1.0,6.0,1.0,7.0,3.0,4.0,5.0,2.0,6.0,4.0,5.0,6.0,14.0,1.0,5.0,10.0,2.0,1.0,5.0,1.0,5.0,7.0,3.0,6.0,6.0,10.0,4.0,4.0,2.0,3.0,3.0,2.0,6.0,6.0,4.0,7.0,7.0,5.0,6.0,1.0,4.0,1.0,5.0,9.0,3.0,5.0,1.0,2.0,3.0,7.0,4.0,4.0,1.0,4.0,3.0,2.0,4.0,3.0,4.0,4.0,6.0,1.0,5.0,8.0,4.0,5.0,5.0,3.0,2.0,4.0,8.0,3.0,1.0,1.0,2.0,3.0,4.0,2.0,4.0,1.0,4.0,3.0,7.0,1.0,7.0,5.0,6.0,6.0,1.0,1.0,6.0,4.0,3.0,8.0,5.0,5.0,6.0,7.0,3.0,12.0,6.0,2.0,1.0,7.0,2.0,1.0,4.0,6.0,2.0,4.0,1.0,5.0,1.0,6.0,6.0,4.0,4.0,3.0,5.0,5.0,9.0,4.0,5.0,3.0,4.0,4.0,7.0,6.0,1.0,1.0,10.0,5.0,1.0,4.0,4.0,1.0,4.0,3.0,1.0,3.0,1.0,4.0,4.0,3.0,6.0,2.0,1.0,3.0,2.0,5.0,5.0,6.0,3.0,4.0,4.0,3.0,2.0,5.0,7.0,6.0,5.0,2.0,2.0,7.0,4.0,2.0,3.0,5.0,1.0,8.0,3.0,2.0,5.0,9.0,6.0,7.0,5.0,2.0,3.0,6.0,4.0,4.0,4.0,1.0,5.0,3.0,7.0,7.0,4.0,5.0,5.0,2.0,4.0,3.0,5.0,2.0,2.0,7.0,3.0,2.0,4.0,2.0,15.0,4.0,1.0,3.0,1.0,2.0,3.0,1.0,1.0,2.0,1.0,2.0,2.0,7.0,1.0,6.0,3.0,8.0,4.0,5.0,4.0,5.0,2.0,2.0,3.0,9.0,7.0,4.0,1.0,3.0,1.0,4.0,3.0,5.0,4.0,1.0,4.0,3.0,4.0,1.0,6.0,3.0,1.0,4.0,1.0,5.0,6.0,5.0,6.0,2.0,3.0,2.0,4.0,3.0,1.0,2.0,4.0,3.0,1.0,8.0,2.0,1.0,2.0,3.0,4.0,6.0,1.0,1.0,7.0,4.0,1.0,6.0,1.0,6.0,6.0,1.0,1.0,2.0,7.0,2.0,1.0,1.0,3.0,1.0,5.0,3.0,4.0,6.0,2.0,5.0,3.0,5.0,5.0,5.0,9.0,3.0,6.0,3.0,6.0,6.0,2.0,1.0,1.0,1.0,7.0,5.0,2.0,4.0,5.0,5.0,6.0,1.0,5.0,1.0,1.0,1.0,6.0,4.0,3.0,6.0,6.0,4.0,3.0,3.0,3.0,4.0,3.0,6.0,1.0,3.0,1.0,2.0,8.0,2.0,5.0,5.0,7.0,2.0,2.0,2.0,3.0,1.0,2.0,1.0,5.0,8.0,7.0,1.0,1.0,1.0,1.0,6.0,5.0,7.0,2.0,3.0,4.0,1.0,6.0,1.0,4.0,5.0,7.0,3.0,9.0,7.0,7.0,4.0,4.0,3.0,3.0,4.0,2.0,4.0,4.0,4.0,3.0,1.0,3.0,2.0,6.0,7.0,5.0,8.0,8.0,3.0,4.0,6.0,4.0,6.0,1.0,9.0,7.0,3.0,4.0,3.0,3.0,4.0,2.0,4.0,5.0,5.0,1.0,4.0,3.0,4.0,3.0,4.0,4.0,1.0,6.0,1.0,2.0,4.0,4.0,3.0,2.0,4.0,4.0,6.0,4.0,2.0,4.0,2.0,3.0,5.0,1.0,6.0,2.0,3.0,2.0,3.0,7.0,4.0,5.0,3.0,2.0,1.0,7.0,1.0,5.0,5.0,4.0,7.0,5.0,6.0,4.0,2.0,1.0,1.0,5.0,6.0,3.0,1.0,2.0,4.0,6.0,4.0,3.0,6.0,10.0,3.0,1.0,3.0,6.0,8.0,2.0,1.0,1.0,4.0,1.0,4.0,1.0,2.0,1.0,9.0,3.0,5.0,6.0,3.0,6.0,5.0,1.0,6.0,9.0,1.0,5.0,7.0,8.0,6.0,1.0,4.0,5.0,5.0,2.0,4.0,2.0,2.0,1.0,1.0,4.0,1.0,5.0,5.0,2.0,3.0,1.0,7.0,3.0,5.0,5.0,3.0,6.0,6.0,2.0,1.0,3.0,6.0,4.0,3.0,1.0,4.0,3.0,3.0,7.0,2.0,1.0,5.0,1.0,6.0,1.0,2.0,7.0,1.0,3.0,4.0,4.0,1.0,6.0,5.0,6.0,7.0,1.0,9.0,4.0,2.0,1.0,4.0,4.0,1.0,7.0,5.0,3.0,2.0,2.0,2.0,4.0,2.0,3.0,8.0,4.0,2.0,6.0,7.0,5.0,2.0,7.0,4.0,8.0,2.0,7.0,1.0,8.0,3.0,7.0,2.0,4.0,1.0,1.0,10.0,2.0,4.0,1.0,1.0,2.0,5.0,3.0,2.0,6.0,3.0,1.0,5.0,4.0,1.0,6.0,2.0,5.0,6.0,4.0,1.0,4.0,1.0,6.0,1.0,3.0,6.0,2.0,6.0,2.0,5.0,6.0,6.0,5.0,7.0,4.0,5.0,8.0,6.0,1.0,1.0,6.0,3.0,4.0,1.0,1.0,1.0,7.0,8.0,7.0,7.0,2.0,2.0,10.0,5.0,2.0,2.0,4.0,6.0,3.0,2.0,4.0,10.0,6.0,3.0,2.0,8.0,5.0,5.0,1.0,2.0,9.0,1.0,4.0,6.0,4.0,6.0,5.0,4.0,7.0,6.0,6.0,3.0,4.0,7.0,2.0,6.0,1.0,7.0,6.0,2.0,1.0,3.0,1.0,5.0,1.0,3.0,3.0,3.0,6.0,2.0,3.0,6.0,5.0,6.0,6.0,3.0,1.0,6.0,1.0,6.0,9.0,5.0,1.0,2.0,1.0,4.0,10.0,1.0,1.0,1.0,4.0,1.0,1.0,3.0,2.0,10.0,2.0,7.0,2.0,1.0,3.0,6.0,5.0,4.0,2.0,7.0,5.0,1.0,5.0,7.0,4.0,8.0,1.0,9.0,5.0,1.0,5.0,1.0,10.0,3.0,5.0,4.0,1.0,3.0,7.0,2.0,7.0,1.0,1.0,3.0,1.0,3.0,1.0,2.0,6.0,5.0,6.0,4.0,1.0,3.0,5.0,3.0,3.0,6.0,3.0,7.0,7.0,1.0,7.0,6.0,4.0,3.0,5.0,4.0,3.0,10.0,6.0,5.0,2.0,1.0,10.0,2.0,4.0,1.0,1.0,4.0,1.0,6.0,5.0,1.0,9.0,3.0,4.0,5.0,3.0,2.0,2.0,2.0,3.0,3.0,2.0,1.0,4.0,7.0,1.0,9.0,8.0,5.0,2.0,1.0,9.0,6.0,1.0,3.0,7.0,6.0,5.0,1.0,1.0,2.0,2.0,5.0,3.0,4.0,4.0,4.0,8.0,2.0,4.0,3.0,2.0,5.0,2.0,1.0,3.0,5.0,2.0,1.0,3.0,5.0,4.0,4.0,4.0,3.0,4.0,9.0,3.0,5.0,6.0,1.0,11.0,1.0,9.0,15.0,4.0,3.0,7.0,3.0,1.0,4.0,5.0,3.0,7.0,4.0,5.0,2.0,1.0,5.0,4.0,5.0,5.0,4.0,10.0,6.0,5.0,4.0,5.0,2.0,6.0,2.0,1.0,2.0,5.0,3.0,7.0,10.0,5.0,5.0,3.0,3.0,5.0,1.0,3.0,8.0,5.0,4.0,6.0,7.0,6.0,5.0,2.0,1.0,5.0,3.0,1.0,9.0,5.0,8.0,1.0,5.0,3.0,8.0,3.0,4.0,5.0,1.0,4.0,5.0,4.0,7.0,3.0,1.0,1.0,8.0,1.0,3.0,8.0,5.0,5.0,1.0,1.0,2.0,4.0,1.0,2.0,15.0,1.0,4.0,4.0,3.0,1.0,5.0,8.0,3.0,1.0,6.0,4.0,6.0,1.0,4.0,5.0,3.0,4.0,3.0,2.0,2.0,2.0,1.0,2.0,1.0,2.0,4.0,1.0,6.0,3.0,1.0,2.0,5.0,2.0,5.0,5.0,4.0,4.0,4.0,3.0,5.0,4.0,7.0,4.0,2.0,6.0,9.0,3.0,2.0,5.0,4.0,1.0,3.0,7.0,4.0,5.0,4.0,3.0,3.0,4.0,2.0,3.0,7.0,1.0,8.0,8.0,8.0,3.0,5.0,6.0,5.0,1.0,1.0,3.0,9.0,8.0,7.0,4.0,3.0,2.0,13.0,4.0,7.0,4.0,3.0,1.0,7.0,2.0,4.0,3.0,3.0,4.0,3.0,1.0,2.0,10.0,1.0,1.0,5.0,2.0,6.0,5.0,1.0,3.0,5.0,7.0,4.0,10.0,1.0,10.0,2.0,6.0,3.0,7.0,1.0,7.0,3.0,2.0,4.0,4.0,2.0,2.0,4.0,5.0,7.0,5.0,3.0,3.0,6.0,2.0,2.0,4.0,2.0,7.0,2.0,4.0,2.0,4.0,4.0,5.0,7.0,4.0,4.0,2.0,2.0,2.0,7.0,2.0,1.0,3.0,6.0,7.0,6.0,6.0,1.0,6.0,4.0,4.0,3.0,3.0,1.0,5.0,7.0,3.0,4.0,7.0,4.0,6.0,1.0,2.0,5.0,1.0,3.0,3.0,2.0,9.0,1.0,7.0,5.0,5.0,3.0,6.0,2.0,7.0,7.0,8.0,2.0,4.0,9.0,1.0,3.0,6.0,5.0,5.0,5.0,4.0,3.0,3.0,2.0,3.0,3.0,1.0,2.0,4.0,4.0,2.0,2.0,5.0,9.0,7.0,2.0,7.0,5.0,5.0,1.0,6.0,7.0,4.0,4.0,2.0,3.0,9.0,7.0,5.0,5.0,3.0,1.0,3.0,1.0,5.0,10.0,4.0,1.0,6.0,7.0,5.0,2.0,1.0,2.0,3.0,1.0,4.0,6.0,4.0,4.0,1.0,9.0,7.0,1.0,1.0,5.0,4.0,3.0,2.0,2.0,8.0,4.0,1.0,2.0,3.0,1.0,3.0,3.0,3.0,1.0,1.0,5.0,7.0,4.0,5.0,3.0,1.0,8.0,1.0,2.0,1.0,6.0,3.0,1.0,7.0,5.0,4.0,2.0,8.0,8.0,2.0,4.0,1.0,1.0,4.0,3.0,5.0,8.0,2.0,8.0,2.0,2.0,3.0,1.0,4.0,1.0,6.0,2.0,1.0,6.0,2.0,2.0,3.0,5.0,6.0,2.0,3.0,3.0,5.0,3.0,5.0,6.0,1.0,2.0,5.0,3.0,3.0,3.0,4.0,5.0,5.0,5.0,4.0,1.0,3.0,4.0,2.0,2.0,11.0,5.0,3.0,4.0,2.0,3.0,7.0,1.0,3.0,4.0,4.0,6.0,2.0,2.0,1.0,4.0,4.0,5.0,6.0,4.0,7.0,6.0,6.0,6.0,8.0,4.0,6.0,3.0,5.0,4.0,3.0,1.0,4.0,3.0,1.0,5.0,11.0,2.0,4.0,3.0,4.0,3.0,6.0,1.0,4.0,4.0,3.0,1.0,5.0,3.0,2.0,5.0,2.0,4.0,6.0,3.0,1.0,6.0,1.0,4.0,4.0,5.0,5.0,2.0,6.0,3.0,1.0,9.0,2.0,4.0,5.0,7.0,2.0,2.0,2.0,3.0,5.0,5.0,2.0,4.0,1.0,3.0,3.0,3.0,3.0,7.0,4.0,7.0,8.0,7.0,4.0,2.0,2.0,8.0,4.0,6.0,5.0,6.0,3.0,4.0,1.0,3.0,4.0,5.0,7.0,4.0,5.0,4.0,1.0,6.0,7.0,6.0,3.0,1.0,3.0,5.0,5.0,7.0,1.0,2.0,1.0,6.0,9.0,3.0,3.0,10.0,4.0,9.0,5.0,2.0,2.0,3.0,7.0,2.0,4.0,1.0,6.0,5.0,3.0,5.0,6.0,7.0,2.0,4.0,13.0,4.0,2.0,5.0,2.0,3.0,6.0,6.0,4.0,6.0,6.0,8.0,7.0,1.0,6.0,8.0,2.0,6.0,5.0,6.0,6.0,5.0,2.0,2.0,3.0,6.0,1.0,6.0,4.0,9.0,4.0,2.0,9.0,6.0,4.0,1.0,1.0,3.0,5.0,1.0,6.0,3.0,4.0,2.0,1.0,5.0,7.0,4.0,3.0,1.0,1.0,5.0,4.0,1.0,2.0,2.0,3.0,4.0,1.0,1.0,6.0,6.0,9.0,8.0,5.0,7.0,3.0,3.0,4.0,2.0,1.0,2.0,5.0,7.0,4.0,2.0,3.0,4.0,6.0,5.0,9.0,4.0,2.0,6.0,4.0,2.0,1.0,1.0,2.0,1.0,4.0,3.0,1.0,5.0,3.0,5.0,5.0,2.0,3.0,2.0,6.0,1.0,1.0,9.0,6.0,6.0,2.0,4.0,3.0,6.0,2.0,2.0,8.0,2.0,6.0,3.0,3.0,7.0,5.0,2.0,6.0,4.0,5.0,2.0,6.0,6.0,3.0,5.0,4.0,1.0,7.0,4.0,4.0,2.0,3.0,3.0,5.0,5.0,3.0,4.0,6.0,6.0,1.0,4.0,4.0,4.0,1.0,8.0,1.0,2.0,6.0,1.0,5.0,2.0,8.0,3.0,5.0,8.0,1.0,6.0,2.0,2.0,7.0,1.0,2.0,7.0,2.0,4.0,5.0,1.0,8.0,1.0,2.0,4.0,4.0,7.0,1.0,8.0,1.0,1.0,1.0,2.0,7.0,7.0,4.0,5.0,3.0,3.0,7.0,4.0,5.0,7.0,1.0,2.0,2.0,7.0,4.0,1.0,5.0,2.0,4.0,5.0,3.0,6.0,5.0,5.0,4.0,4.0,5.0,3.0,5.0,6.0,9.0,1.0,9.0,8.0,7.0,1.0,3.0,1.0,4.0,4.0,6.0,7.0,2.0,3.0,4.0,1.0,8.0,1.0,4.0,7.0,5.0,5.0,4.0,1.0,6.0,4.0,2.0,1.0,3.0,1.0,1.0,6.0,1.0,1.0,3.0,6.0,2.0,1.0,4.0,1.0,5.0,1.0,7.0,6.0,4.0,6.0,5.0,8.0,5.0,1.0,6.0,1.0,5.0,3.0,4.0,12.0,5.0,3.0,4.0,5.0,7.0,5.0,3.0,1.0,1.0,4.0,1.0,4.0,5.0,9.0,3.0,2.0,7.0,4.0,6.0,1.0,4.0,4.0,4.0,4.0,13.0,4.0,3.0,3.0,8.0,3.0,6.0,2.0,3.0,4.0,3.0,9.0,7.0,3.0,3.0,3.0,4.0,4.0,5.0,4.0,8.0,4.0,9.0,5.0,5.0,3.0,5.0,3.0,7.0,3.0,2.0,3.0,6.0,5.0,6.0,3.0,5.0,4.0,1.0,8.0,1.0,6.0,6.0,11.0,3.0,5.0,7.0,3.0,3.0,4.0,5.0,1.0,5.0,1.0,5.0,2.0,5.0,3.0,2.0,7.0,2.0,2.0,4.0,6.0,4.0,3.0,5.0,5.0,6.0,4.0,3.0,7.0,6.0,2.0,4.0,6.0,5.0,5.0,4.0,6.0,3.0,3.0,3.0,5.0,2.0,4.0,2.0,10.0,3.0,5.0,2.0,5.0,4.0,3.0,7.0,6.0,5.0,3.0,5.0,5.0,7.0,2.0,5.0,4.0,4.0,8.0,6.0,3.0,7.0,6.0,4.0,7.0,3.0,4.0,3.0,6.0,5.0,4.0,4.0,2.0,5.0,8.0,2.0,4.0,4.0,4.0,7.0,5.0,3.0,6.0,2.0,5.0,4.0,2.0,1.0,4.0,9.0,5.0,4.0,3.0,6.0,1.0,6.0,5.0,8.0,11.0,5.0,3.0,5.0,4.0,6.0,4.0,7.0,4.0,4.0,4.0,7.0,2.0,5.0,1.0,7.0,5.0,4.0,2.0,5.0,3.0,3.0,5.0,5.0,4.0,7.0,4.0,6.0,3.0,5.0,3.0,7.0,7.0,4.0,6.0,4.0,6.0,3.0,6.0,7.0,6.0,5.0,3.0,6.0,4.0,1.0,4.0,4.0,4.0,5.0,6.0,4.0,5.0,3.0,3.0,2.0,3.0,4.0,4.0,2.0,10.0,8.0,7.0,3.0,4.0,7.0,3.0,5.0,8.0,2.0,3.0,6.0,5.0,6.0,3.0,5.0,6.0,3.0,4.0,2.0,9.0,5.0,8.0,4.0,6.0,4.0,5.0,1.0,2.0,7.0,4.0,5.0,3.0,2.0,6.0,5.0,1.0,5.0,4.0,6.0,6.0,4.0,6.0,6.0,1.0,5.0,4.0,5.0,5.0,7.0,4.0,4.0,4.0,6.0,6.0,5.0,3.0,4.0,5.0,3.0,5.0,1.0,7.0,3.0,5.0,7.0,4.0,7.0,6.0,7.0,3.0,4.0,4.0,5.0,3.0,3.0,7.0,3.0,5.0,5.0,3.0,4.0,5.0,4.0,2.0,1.0,2.0,6.0,3.0,6.0,5.0,7.0,2.0,8.0,6.0,3.0,7.0,6.0,7.0,6.0,4.0,4.0,7.0,7.0,4.0,6.0,2.0,1.0,2.0,5.0,5.0,3.0,2.0,6.0,8.0,6.0,3.0,5.0,4.0,4.0,1.0,4.0,6.0,4.0,4.0,1.0,3.0,4.0,4.0,5.0,1.0,3.0,6.0,4.0,7.0,3.0,10.0,2.0,5.0,3.0,2.0,6.0,3.0,3.0,6.0,3.0,7.0,6.0,6.0,6.0,7.0,5.0,4.0,5.0,8.0,3.0,3.0,2.0,6.0,1.0,1.0,3.0,7.0,3.0,4.0,3.0,3.0,7.0,4.0,7.0,3.0,5.0,5.0,5.0,5.0,6.0,5.0,4.0,2.0,10.0,7.0,4.0,5.0,3.0,5.0,3.0,3.0,5.0,6.0,4.0,4.0,2.0,5.0,1.0,5.0,2.0,3.0,4.0,3.0,5.0,3.0,5.0,6.0,6.0,7.0,8.0,6.0,3.0,4.0,5.0,2.0,3.0,5.0,9.0,2.0,3.0,8.0,5.0,6.0,5.0,3.0,5.0,3.0,1.0,4.0,4.0,4.0,4.0,2.0,1.0,6.0,4.0,1.0,6.0,2.0,3.0,2.0,3.0,7.0,5.0,3.0,6.0,6.0,5.0,5.0,5.0,9.0,6.0,7.0,3.0,6.0,4.0,6.0,7.0,4.0,5.0,1.0,4.0,4.0,4.0,8.0,5.0,4.0,4.0,6.0,4.0,3.0,4.0,3.0,4.0,5.0,6.0,4.0,6.0,2.0,5.0,4.0,3.0,3.0,8.0,2.0,3.0,6.0,7.0,4.0,6.0,4.0,3.0,2.0,7.0,5.0,4.0,5.0,4.0,4.0,6.0,2.0,3.0,2.0,3.0,3.0,4.0,5.0,4.0,4.0,4.0,6.0,5.0,4.0,3.0,4.0,8.0,9.0,6.0,2.0,2.0,5.0,4.0,4.0,2.0,6.0,3.0,2.0,8.0,5.0,3.0,5.0,10.0,1.0,7.0,7.0,2.0,4.0,4.0,9.0,5.0,4.0,1.0,4.0,3.0,2.0,7.0,4.0,5.0,5.0,8.0,5.0,11.0,3.0,4.0,4.0,4.0,4.0,4.0,3.0,2.0,1.0,3.0,6.0,5.0,3.0,5.0,3.0,2.0,5.0,6.0,6.0,3.0,6.0,1.0,10.0,3.0,6.0,4.0,3.0,4.0,4.0,5.0,5.0,3.0,2.0,6.0,4.0,5.0,3.0,5.0,5.0,3.0,5.0,2.0,5.0,4.0,4.0,6.0,5.0,3.0,5.0,6.0,7.0,8.0,5.0,5.0,2.0,5.0,2.0,5.0,1.0,5.0,1.0,6.0,5.0,7.0,3.0,10.0,5.0,3.0,6.0,4.0,2.0,5.0,3.0,6.0,8.0,3.0,4.0,2.0,7.0,5.0,7.0,7.0,4.0,4.0,8.0,7.0,5.0,3.0,5.0,6.0,13.0,7.0,2.0,3.0,4.0,4.0,5.0,4.0,6.0,3.0,9.0,3.0,3.0,3.0,3.0,6.0,3.0,4.0,6.0,4.0,4.0,2.0,2.0,4.0,2.0,3.0,4.0,1.0,3.0,6.0,6.0,7.0,6.0,4.0,5.0,6.0,6.0,2.0,7.0,5.0,7.0,4.0,6.0,5.0,6.0,7.0,3.0,4.0,8.0,8.0,5.0,4.0,5.0,7.0,3.0,5.0,4.0,4.0,5.0,5.0,3.0,9.0,3.0,7.0,7.0,5.0,4.0,4.0,2.0,8.0,4.0,5.0,4.0,4.0,4.0,6.0,3.0,7.0,3.0,3.0,2.0,3.0,4.0,4.0,2.0,7.0,3.0,2.0,6.0,5.0,11.0,9.0,4.0,4.0,3.0,5.0,7.0,3.0,5.0,6.0,3.0,5.0,5.0,6.0,5.0,2.0,3.0,5.0,4.0,5.0,5.0,2.0,6.0,3.0,2.0,6.0,3.0,6.0,4.0,5.0,5.0,7.0,1.0,7.0,5.0,5.0,5.0,6.0,8.0,5.0,7.0,5.0,4.0,5.0,5.0,7.0,6.0,2.0,9.0,5.0,1.0,4.0,2.0,7.0,8.0,7.0,5.0,5.0,5.0,4.0,2.0,6.0,4.0,5.0,3.0,6.0,5.0,5.0,2.0,7.0,3.0,3.0,4.0,2.0,3.0,6.0,3.0,2.0,4.0,3.0,4.0,6.0,3.0,6.0,6.0,4.0,4.0,3.0,4.0,4.0,3.0,3.0,2.0,4.0,7.0,3.0,5.0,4.0,3.0,4.0,5.0,4.0,4.0,3.0,7.0,6.0,3.0,6.0,5.0,6.0,1.0,3.0,7.0,6.0,7.0,2.0,5.0,6.0,5.0,9.0,7.0,2.0,3.0,3.0,5.0,4.0,5.0,5.0,3.0,4.0,1.0,5.0,7.0,4.0,6.0,4.0,3.0,3.0,5.0,4.0,4.0,5.0,3.0,5.0,4.0,4.0,3.0,5.0,4.0,5.0,4.0,8.0,3.0,2.0,6.0,4.0,3.0,11.0,4.0,6.0,7.0,8.0,9.0,5.0,7.0,7.0,3.0,5.0,4.0,4.0,6.0,6.0,10.0,2.0,7.0,1.0,6.0,3.0,6.0,6.0,6.0,7.0,3.0,3.0,10.0,7.0,3.0,2.0,4.0,4.0,6.0,4.0,4.0,4.0,5.0,2.0,5.0,2.0,5.0,3.0,3.0,4.0,7.0,3.0,2.0,3.0,5.0,2.0,4.0,8.0,5.0,3.0,2.0,4.0,6.0,6.0,8.0,4.0,3.0,3.0,3.0,4.0,2.0,7.0,2.0,1.0,6.0,8.0,4.0,4.0,6.0,3.0,5.0,3.0,3.0,5.0,3.0,3.0,3.0,6.0,7.0,5.0,6.0,3.0,5.0,4.0,3.0,2.0,8.0,6.0,4.0,3.0,3.0,5.0,1.0,10.0,4.0,5.0,8.0,5.0,4.0,7.0,3.0,7.0,6.0,2.0,2.0,7.0,5.0,3.0,7.0,5.0,4.0,6.0,5.0,3.0,4.0,2.0,9.0,5.0,1.0,4.0,2.0,3.0,2.0,1.0,4.0,6.0,4.0,2.0,3.0,7.0,4.0,4.0,1.0,4.0,5.0,7.0,4.0,8.0,7.0,1.0,4.0,5.0,3.0,7.0,5.0,5.0,3.0,4.0,4.0,8.0,6.0,3.0,3.0,4.0,1.0,2.0,4.0,4.0,2.0,4.0,5.0,5.0,3.0,7.0,4.0,2.0,1.0,3.0,7.0,5.0,5.0,7.0,4.0,2.0,2.0,7.0,6.0,6.0,1.0,1.0,1.0,3.0,6.0,5.0,4.0,9.0,3.0,5.0,3.0,5.0,3.0,6.0,5.0,2.0,3.0,3.0,5.0,4.0,3.0,3.0,5.0,7.0,7.0,3.0,7.0,3.0,6.0,6.0,3.0,5.0,1.0,4.0,1.0,3.0,5.0,4.0,1.0,6.0,7.0,4.0,4.0,6.0,7.0,5.0,4.0,2.0,5.0,3.0,7.0,4.0,6.0,7.0,4.0,5.0,7.0,7.0,5.0,3.0,4.0,3.0,3.0,4.0,2.0,2.0,9.0,3.0,6.0,2.0,5.0,8.0,4.0,5.0,4.0,2.0,7.0,7.0,3.0,2.0,4.0,5.0,7.0,5.0,1.0,5.0,6.0,3.0,3.0,2.0,9.0,1.0,5.0,1.0,3.0,2.0,4.0,7.0,4.0,3.0,4.0,4.0,8.0,3.0,1.0,6.0,6.0,4.0,3.0,3.0,4.0,4.0,2.0,5.0,3.0,3.0,6.0,2.0,3.0,3.0,2.0,4.0,4.0,5.0,2.0,6.0,4.0,3.0,4.0,5.0,2.0,2.0,4.0,7.0,8.0,3.0,7.0,3.0,2.0,4.0,3.0,5.0,6.0,3.0,2.0,7.0,4.0,5.0,4.0,4.0,4.0,7.0,5.0,2.0,4.0,3.0,8.0,5.0,5.0,5.0,3.0,5.0,8.0,4.0,2.0,8.0,3.0,3.0,7.0,6.0,5.0,1.0,1.0,6.0,4.0,4.0,5.0,1.0,4.0,3.0,5.0,7.0,3.0,3.0,7.0,4.0,3.0,3.0,3.0,5.0,8.0,7.0,4.0,4.0,6.0,5.0,4.0,11.0,6.0,3.0,5.0,3.0,1.0,9.0,4.0,3.0,5.0,6.0,2.0,2.0,3.0,9.0,3.0,1.0,3.0,3.0,5.0,9.0,7.0,8.0,3.0,4.0,6.0,4.0,4.0,3.0,4.0,3.0,3.0,7.0,7.0,6.0,8.0,5.0,5.0,5.0,5.0,2.0,1.0,4.0,4.0,2.0,3.0,2.0,3.0,3.0,5.0,4.0,7.0,1.0,3.0,5.0,1.0,7.0,7.0,2.0,5.0,4.0,7.0,3.0,4.0,3.0,4.0,3.0,2.0,10.0,3.0,8.0,5.0,6.0,6.0,5.0,2.0,9.0,7.0,5.0,4.0,3.0,2.0,2.0,1.0,6.0,4.0,9.0,5.0,5.0,2.0,8.0,4.0,3.0,3.0,5.0,7.0,3.0,1.0,7.0,6.0,7.0,2.0,5.0,3.0,3.0,3.0,3.0,1.0,7.0,5.0,5.0,11.0,5.0,8.0,3.0,2.0,3.0,7.0,3.0,2.0,5.0,7.0,4.0,2.0,6.0,1.0,7.0,6.0,1.0,6.0,8.0,3.0,1.0,4.0,6.0,2.0,3.0,5.0,3.0,7.0,4.0,2.0,4.0,3.0,5.0,5.0,7.0,5.0,2.0,7.0,3.0,10.0,3.0,5.0,1.0,6.0,6.0,3.0,4.0,5.0,2.0,5.0,4.0,2.0,6.0,4.0,4.0,4.0,5.0,6.0,5.0,4.0,6.0,5.0,5.0,5.0,1.0,6.0,6.0,3.0,3.0,11.0,5.0,7.0,2.0,2.0,4.0,6.0,5.0,4.0,4.0,3.0,6.0,2.0,5.0,5.0,3.0,7.0,3.0,8.0,4.0,5.0,8.0,2.0,6.0,2.0,5.0,2.0,5.0,7.0,7.0,3.0,7.0,5.0,6.0,11.0,5.0,5.0,6.0,9.0,4.0,5.0,2.0,3.0,1.0,2.0,6.0,1.0,6.0,3.0,5.0,3.0,2.0,5.0,5.0,7.0,3.0,8.0,7.0,2.0,6.0,3.0,6.0,5.0,3.0,4.0,3.0,3.0,2.0,3.0,4.0,5.0,5.0,7.0,4.0,4.0,1.0,3.0,6.0,6.0,4.0,4.0,3.0,5.0,3.0,4.0,6.0,4.0,5.0,5.0,6.0,5.0,5.0,1.0,8.0,3.0,2.0,1.0,9.0,6.0,2.0,1.0,3.0,4.0,3.0,4.0,6.0,3.0,5.0,5.0,5.0,8.0,5.0,4.0,3.0,7.0,4.0,4.0,2.0,7.0,5.0,3.0,7.0,7.0,2.0,3.0,3.0,4.0,1.0,2.0,6.0,5.0,1.0,1.0,3.0,4.0,6.0,4.0,2.0,8.0,7.0,1.0,7.0,4.0,9.0,3.0,10.0,4.0,2.0,5.0,5.0,4.0,4.0,4.0,3.0,6.0,5.0,3.0,4.0,7.0,9.0,5.0,2.0,5.0,5.0,3.0,3.0,2.0,2.0,5.0,3.0,3.0,3.0,5.0,6.0,6.0,9.0,8.0,3.0,2.0,4.0,5.0,4.0,5.0,5.0,3.0,3.0,3.0,2.0,4.0,6.0,8.0,8.0,3.0,4.0,6.0,10.0,4.0,8.0,3.0,7.0,2.0,4.0,3.0,4.0,3.0,5.0,6.0,5.0,2.0,7.0,7.0,7.0,6.0,7.0,3.0,6.0,7.0,4.0,3.0,4.0,6.0,5.0,2.0,1.0,4.0,5.0,8.0,6.0,3.0,6.0,3.0,4.0,7.0,5.0,5.0,5.0,2.0,6.0,4.0,6.0,3.0,4.0,5.0,3.0,4.0,6.0,2.0,6.0,6.0,7.0,4.0,7.0,9.0,7.0,8.0,7.0,1.0,6.0,5.0,8.0,6.0,3.0,3.0,4.0,2.0,6.0,3.0,4.0,4.0,4.0,3.0,2.0,3.0,6.0,4.0,4.0,3.0,4.0,5.0,3.0,3.0,6.0,6.0,9.0,2.0,3.0,4.0,3.0,5.0,7.0,4.0,2.0,5.0,2.0,6.0,7.0,6.0,6.0,3.0,2.0,4.0,7.0,6.0,4.0,7.0,3.0,9.0,5.0,3.0,4.0,2.0,5.0,7.0,5.0,2.0,6.0,5.0,4.0,6.0,4.0,5.0,3.0,7.0,4.0,5.0,4.0,4.0,5.0,3.0,3.0,6.0,4.0,6.0,2.0,5.0,4.0,3.0,1.0,6.0,5.0,1.0,7.0,3.0,8.0,4.0,5.0,4.0,5.0,4.0,4.0,2.0,5.0,4.0,6.0,6.0,6.0,5.0,3.0,6.0,5.0,5.0,6.0,8.0,4.0,1.0,3.0,3.0,8.0,8.0,6.0,4.0,5.0,5.0,6.0,4.0,6.0,8.0,6.0,8.0,6.0,1.0,5.0,1.0,4.0,1.0,7.0,5.0,4.0,9.0,2.0,1.0,3.0,6.0,7.0,3.0,5.0,6.0,3.0,2.0,7.0,5.0,3.0,1.0,3.0,3.0,5.0,5.0,5.0,5.0,3.0,8.0,4.0,3.0,4.0,3.0,7.0,4.0,4.0,3.0,1.0,3.0,4.0,5.0,5.0,8.0,3.0,7.0,6.0,5.0,6.0,5.0,2.0,5.0,3.0,3.0,7.0,3.0,7.0,5.0,1.0,4.0,3.0,6.0,3.0,4.0,4.0,4.0,5.0,3.0,6.0,6.0,4.0,2.0,2.0,5.0,6.0,3.0,1.0,6.0,6.0,5.0,3.0,3.0,4.0,3.0,2.0,5.0,7.0,8.0,2.0,2.0,3.0,5.0,5.0,4.0,2.0,3.0,7.0,4.0,4.0,3.0,7.0,2.0,2.0,7.0,5.0,6.0,4.0,3.0,4.0,3.0,4.0,5.0,3.0,3.0,8.0,6.0,7.0,4.0,4.0,2.0,2.0,5.0,5.0,5.0,8.0,3.0,8.0,9.0,4.0,6.0,3.0,3.0,4.0,4.0,3.0,2.0,4.0,5.0,5.0,4.0,4.0,4.0,3.0,5.0,7.0,2.0,5.0,7.0,3.0,5.0,7.0,3.0,5.0,4.0,5.0,3.0,5.0,5.0,2.0,7.0,5.0,7.0,5.0,5.0,4.0,3.0,3.0,8.0,8.0,2.0,3.0,1.0,3.0,7.0,7.0,5.0,4.0,4.0,7.0,3.0,4.0,1.0,2.0,4.0,3.0,2.0,4.0,6.0,10.0,3.0,3.0,1.0,5.0,8.0,3.0,2.0,5.0,2.0,5.0,6.0,6.0,8.0,8.0,5.0,6.0,3.0,7.0,6.0,5.0,3.0,3.0,4.0,6.0,3.0,5.0,4.0,5.0,3.0,2.0,4.0,5.0,2.0,4.0,5.0,7.0,5.0,4.0,5.0,4.0,7.0,5.0,7.0,1.0,5.0,4.0,2.0,3.0,9.0,3.0,5.0,4.0,1.0,3.0,5.0,6.0,5.0,9.0,8.0,4.0,2.0,5.0,5.0,4.0,4.0,4.0,6.0,6.0,3.0,3.0,8.0,7.0,4.0,6.0,5.0,1.0,5.0,8.0,7.0,2.0,5.0,4.0,3.0,6.0,3.0,5.0,5.0,8.0,6.0,5.0,5.0,1.0,5.0,2.0,4.0,4.0,3.0,3.0,6.0,7.0,5.0,6.0,3.0,2.0,4.0,5.0,2.0,5.0,6.0,5.0,3.0,6.0,6.0,5.0,4.0,6.0,7.0,3.0,2.0,7.0,4.0,6.0,7.0,6.0,4.0,3.0,5.0,8.0,6.0,2.0,4.0,2.0,4.0,7.0,4.0,6.0,5.0,5.0,6.0,6.0,5.0,2.0,3.0,7.0,6.0,6.0,7.0,5.0,8.0,3.0,8.0,4.0,5.0,7.0,2.0,3.0,7.0,5.0,2.0,4.0,3.0,4.0,3.0,3.0,7.0,5.0,1.0,3.0,2.0,3.0,2.0,4.0,7.0,5.0,4.0,5.0,3.0,3.0,7.0,5.0,1.0,5.0,5.0,4.0,4.0,4.0,4.0,2.0,2.0,1.0,5.0,6.0,2.0,7.0,4.0,6.0,5.0,4.0,4.0,7.0,6.0,4.0,6.0,4.0,5.0,2.0,7.0,2.0,7.0,3.0,2.0,6.0,5.0,8.0,3.0,5.0,8.0,4.0,3.0,3.0,3.0,3.0,9.0,3.0,3.0,4.0,6.0,4.0,2.0,4.0,6.0,1.0,5.0,4.0,5.0,2.0,5.0,4.0,4.0,2.0,5.0,6.0,5.0,2.0,10.0,6.0,4.0,9.0,1.0,4.0,7.0,3.0,3.0,4.0,2.0,10.0,4.0,6.0,6.0,3.0,3.0,3.0,5.0,4.0,5.0,3.0,6.0,4.0,2.0,5.0,10.0,4.0,7.0,7.0,7.0,1.0,3.0,7.0,5.0,5.0,4.0,3.0,4.0,6.0,1.0,4.0,6.0,5.0,1.0,4.0,4.0,4.0,7.0,6.0,3.0,4.0,2.0,6.0,5.0,2.0,8.0,6.0,8.0,5.0,5.0,4.0,6.0,3.0,5.0,3.0,3.0,3.0,4.0,5.0,2.0,1.0,4.0,4.0,4.0,8.0,7.0,7.0,1.0,7.0,7.0,8.0,4.0,8.0,3.0,8.0,3.0,2.0,5.0,4.0,4.0,5.0,2.0,5.0,1.0,3.0,8.0,5.0,4.0,4.0,2.0,7.0,7.0,7.0,6.0,6.0,2.0,5.0,2.0,7.0,4.0,5.0,3.0,7.0,5.0,4.0,2.0,7.0,5.0,7.0,4.0,4.0,10.0,4.0,5.0,5.0,5.0,4.0,7.0,6.0,3.0,7.0,9.0,5.0,5.0,3.0,4.0,3.0,5.0,6.0,4.0,7.0,4.0,1.0,9.0,1.0,2.0,2.0,2.0,6.0,4.0,6.0,5.0,7.0,3.0,6.0,7.0,6.0,7.0,2.0,5.0,5.0,5.0,3.0,5.0,4.0,8.0,3.0,8.0,2.0,2.0,6.0,3.0,5.0,4.0,8.0,6.0,5.0,5.0,5.0,2.0,3.0,7.0,4.0,8.0,5.0,5.0,4.0,4.0,4.0,6.0,5.0,2.0,3.0,4.0,3.0,5.0,2.0,6.0,5.0,2.0,4.0,4.0,6.0,2.0,1.0,4.0,4.0,3.0,1.0,5.0,3.0,4.0,6.0,2.0,2.0,5.0,7.0,5.0,2.0,4.0,4.0,7.0,7.0,3.0,4.0,5.0,7.0,4.0,3.0,2.0,5.0,3.0,4.0,2.0,3.0,2.0,4.0,3.0,4.0,2.0,7.0,2.0,7.0,7.0,3.0,4.0,1.0,1.0,5.0,5.0,3.0,6.0,4.0,3.0,7.0,3.0,5.0,4.0,2.0,7.0,1.0,3.0,8.0,6.0,12.0,8.0,5.0,3.0,4.0,1.0,5.0,3.0,7.0,6.0,4.0,1.0,7.0,4.0,5.0,1.0,5.0,5.0,4.0,3.0,3.0,8.0,5.0,2.0,3.0,3.0,4.0,7.0,8.0,5.0,3.0,7.0,5.0,5.0,6.0,4.0,3.0,2.0,8.0,4.0,6.0,4.0,5.0,5.0,3.0,6.0,6.0,6.0,4.0,4.0,3.0,5.0,3.0,5.0,5.0,4.0,1.0,5.0,7.0,4.0,5.0,7.0,3.0,8.0,1.0,4.0,5.0,4.0,4.0,5.0,5.0,3.0,5.0,4.0,5.0,3.0,3.0,5.0,5.0,8.0,9.0,3.0,3.0,1.0,5.0,6.0,7.0,6.0,3.0,3.0,3.0,6.0,6.0,5.0,5.0,5.0,2.0,5.0,4.0,2.0,6.0,8.0,4.0,3.0,5.0,1.0,7.0,7.0,4.0,2.0,7.0,4.0,4.0,9.0,4.0,7.0,8.0,5.0,4.0,8.0,8.0,6.0,7.0,4.0,6.0,3.0,2.0,4.0,5.0,1.0,3.0,3.0,6.0,5.0,6.0,5.0,2.0,2.0,6.0,5.0,4.0,5.0,7.0,5.0,7.0,1.0,1.0,6.0,5.0,2.0,2.0,5.0,3.0,2.0,7.0,4.0,7.0,5.0,3.0,2.0,11.0,6.0,1.0,7.0,3.0,7.0,4.0,3.0,4.0,4.0,3.0,5.0,4.0,4.0,3.0,6.0,5.0,5.0,7.0,1.0,6.0,4.0,1.0,7.0,3.0,5.0,1.0,4.0,4.0,6.0,4.0,6.0,4.0,7.0,3.0,3.0,4.0,5.0,6.0,2.0,3.0,1.0,8.0,2.0,1.0,5.0,6.0,4.0,5.0,1.0,6.0,5.0,5.0,2.0,4.0,1.0,5.0,6.0,6.0,2.0,6.0,8.0,1.0,5.0,4.0,3.0,2.0,5.0,1.0,3.0,3.0,1.0,7.0,9.0,4.0,8.0,4.0,2.0,2.0,2.0,6.0,5.0,5.0,4.0,6.0,7.0,5.0,4.0,3.0,3.0,3.0,2.0,7.0,7.0,3.0,9.0,3.0,3.0,9.0,3.0,7.0,3.0,1.0,6.0,4.0,3.0,3.0,6.0,3.0,6.0,8.0,3.0,2.0,4.0,4.0,2.0,4.0,7.0,8.0,2.0,2.0,4.0,5.0,2.0,1.0,5.0,8.0,5.0,6.0,6.0,6.0,6.0,3.0,5.0,4.0,3.0,3.0,9.0,5.0,5.0,3.0,3.0,4.0,1.0,3.0,6.0,6.0,6.0,3.0,4.0,3.0,6.0,5.0,5.0,3.0,5.0,5.0,3.0,3.0,2.0,5.0,1.0,1.0,3.0,6.0,5.0,6.0,7.0,5.0,5.0,6.0,3.0,5.0,5.0,2.0,6.0,7.0,7.0,3.0,5.0,2.0,3.0,7.0,4.0,6.0,5.0,6.0,5.0,6.0,3.0,3.0,8.0,4.0,5.0,2.0,3.0,4.0,3.0,2.0,4.0,4.0,3.0,6.0,3.0,5.0,7.0,2.0,7.0,1.0,6.0,6.0,7.0,3.0,7.0,2.0,5.0,3.0,2.0,2.0,4.0,4.0,6.0,3.0,1.0,5.0,4.0,2.0,3.0,1.0,7.0,5.0,6.0,4.0,5.0,2.0,6.0,4.0,7.0,6.0,6.0,4.0,5.0,4.0,4.0,3.0,4.0,6.0,5.0,2.0,5.0,3.0,3.0,7.0,5.0,2.0,1.0,6.0,3.0,3.0,5.0,4.0,6.0,6.0,7.0,2.0,7.0,4.0,3.0,3.0,4.0,5.0,6.0,5.0,2.0,4.0,5.0,3.0,2.0,5.0,5.0,5.0,4.0,6.0,3.0,3.0,4.0,5.0,3.0,6.0,4.0,4.0,2.0,4.0,6.0,1.0,9.0,3.0,6.0,6.0,4.0,2.0,3.0,1.0,3.0,3.0,3.0,4.0,4.0,4.0,5.0,2.0,6.0,5.0,3.0,6.0,4.0,5.0,2.0,5.0,1.0,4.0,7.0,6.0,2.0,6.0,5.0,5.0,7.0,3.0,3.0,6.0,4.0,1.0,3.0,8.0,4.0,5.0,2.0,3.0,3.0,4.0,3.0,1.0,5.0,2.0,5.0,3.0,3.0,6.0,4.0,7.0,5.0,6.0,5.0,7.0,2.0,7.0,2.0,2.0,7.0,2.0,4.0,10.0,6.0,8.0,8.0,6.0,2.0,6.0,7.0,6.0,2.0,6.0,2.0,4.0,4.0,4.0,3.0,5.0,5.0,1.0,6.0,7.0,4.0,4.0,5.0,3.0,2.0,5.0,3.0,3.0,4.0,6.0,5.0,7.0,4.0,2.0,6.0,4.0,3.0,2.0,7.0,6.0,4.0,5.0,5.0,2.0,1.0,3.0,4.0,5.0,6.0,9.0,3.0,5.0,11.0,2.0,4.0,8.0,4.0,7.0,7.0,9.0,1.0,6.0,4.0,5.0,4.0,4.0,4.0,4.0,5.0,3.0,3.0,6.0,5.0,2.0,7.0,4.0,4.0,4.0,3.0,5.0,10.0,5.0,4.0,4.0,5.0,5.0,5.0,3.0,3.0,9.0,2.0,4.0,5.0,2.0,4.0,2.0,4.0,3.0,2.0,3.0,9.0,2.0,6.0,2.0,7.0,5.0,6.0,4.0,5.0,5.0,1.0,3.0,4.0,7.0,6.0,4.0,4.0,7.0,9.0,5.0,4.0,3.0,4.0,4.0,6.0,4.0,4.0,5.0,5.0,3.0,4.0,3.0,7.0,3.0,4.0,3.0,5.0,5.0,4.0,11.0,2.0,5.0,6.0,5.0,7.0,7.0,5.0,5.0,5.0,4.0,4.0,4.0,2.0,4.0,5.0,4.0,2.0,3.0,3.0,6.0,4.0,5.0,3.0,7.0,7.0,8.0,6.0,4.0,5.0,4.0,6.0,5.0,4.0,7.0,5.0,4.0,1.0,6.0,9.0,6.0,1.0,6.0,6.0,4.0,7.0,5.0,6.0,5.0,7.0,4.0,4.0,3.0,1.0,3.0,3.0,4.0,4.0,6.0,4.0,4.0,2.0,5.0,8.0,2.0,4.0,3.0,3.0,7.0,1.0,6.0,4.0,5.0,4.0,2.0,5.0,6.0,4.0,3.0,6.0,2.0,8.0,5.0,4.0,5.0,5.0,4.0,4.0,2.0,3.0,2.0,4.0,2.0,8.0,10.0,3.0,7.0,3.0,5.0,2.0,4.0,6.0,8.0,6.0,2.0,7.0,2.0,2.0,6.0,3.0,4.0,5.0,2.0,3.0,2.0,6.0,2.0,2.0,6.0,4.0,7.0,6.0,3.0,4.0,4.0,7.0,6.0,7.0,5.0,4.0,6.0,1.0,5.0,6.0,12.0,8.0,8.0,4.0,1.0,2.0,3.0,4.0,3.0,2.0,6.0,5.0,2.0,7.0,4.0,5.0,5.0,4.0,11.0,9.0,1.0,5.0,6.0,3.0,2.0,2.0,1.0,5.0,4.0,5.0,4.0,5.0,4.0,9.0,7.0,6.0,2.0,6.0,3.0,3.0,6.0,8.0,1.0,2.0,5.0,5.0,4.0,6.0,4.0,3.0,10.0,7.0,3.0,2.0,6.0,2.0,1.0,7.0,4.0,6.0,3.0,3.0,7.0,5.0,6.0,4.0,5.0,5.0,1.0,6.0,4.0,1.0,4.0,3.0,6.0,6.0,1.0,5.0,4.0,2.0,3.0,4.0,4.0,4.0,3.0,3.0,5.0,4.0,4.0,1.0,2.0,3.0,5.0,5.0,3.0,2.0,7.0,5.0,1.0,4.0,6.0,3.0,1.0,6.0,7.0,4.0,8.0,5.0,2.0,2.0,12.0,10.0,5.0,3.0,8.0,5.0,2.0,6.0,3.0,7.0,1.0,3.0,3.0,5.0,3.0,6.0,3.0,5.0,4.0,5.0,4.0,5.0,4.0,6.0,6.0,4.0,1.0,4.0,5.0,6.0,8.0,2.0,1.0,6.0,5.0,3.0,7.0,3.0,4.0,7.0,2.0,8.0,5.0,4.0,2.0,4.0,5.0,5.0,8.0,6.0,7.0,6.0,7.0,8.0,5.0,6.0,2.0,2.0,5.0,3.0,3.0,3.0,9.0,7.0,3.0,7.0,6.0,5.0,5.0,6.0,1.0,1.0,6.0,6.0,2.0,7.0,2.0,5.0,6.0,5.0,3.0,1.0,5.0,4.0,3.0,6.0,5.0,3.0,5.0,8.0,5.0,4.0,3.0,4.0,2.0,1.0,4.0,4.0,3.0,5.0,5.0,4.0,2.0,3.0,5.0,4.0,2.0,1.0,2.0,4.0,3.0,6.0,7.0,5.0,3.0,1.0,3.0,3.0,7.0,3.0,4.0,4.0,5.0,3.0,5.0,4.0,3.0,4.0,3.0,2.0,9.0,5.0,5.0,5.0,1.0,4.0,4.0,6.0,4.0,5.0,1.0,2.0,3.0,3.0,2.0,6.0,7.0,7.0,3.0,3.0,1.0,6.0,2.0,5.0,5.0,1.0,4.0,4.0,8.0,3.0,3.0,6.0,10.0,5.0,4.0,7.0,4.0,1.0,4.0,6.0,2.0,5.0,3.0,5.0,7.0,4.0,4.0,2.0,3.0,10.0,1.0,4.0,4.0,4.0,6.0,3.0,4.0,1.0,5.0,5.0,10.0,5.0,5.0,8.0,9.0,1.0,4.0,2.0,5.0,1.0,6.0,4.0,5.0,6.0,7.0,2.0,5.0,2.0,5.0,6.0,5.0,6.0,3.0,3.0,3.0,5.0,3.0,5.0,6.0,7.0,8.0,4.0,5.0,4.0,6.0,4.0,5.0,3.0,3.0,2.0,6.0,3.0,2.0,4.0,4.0,7.0,2.0,5.0,5.0,4.0,6.0,3.0,3.0,2.0,5.0,4.0,5.0,5.0,3.0,5.0,4.0,2.0,6.0,6.0,4.0,5.0,6.0,7.0,2.0,7.0,9.0,3.0,3.0,6.0,8.0,3.0,4.0,6.0,8.0,6.0,4.0,6.0,4.0,2.0,2.0,4.0,4.0,2.0,4.0,3.0,6.0,2.0,4.0,2.0,5.0,5.0,4.0,3.0,5.0,4.0,5.0,2.0,2.0,4.0,5.0,5.0,2.0,4.0,7.0,8.0,4.0,5.0,2.0,1.0,5.0,6.0,4.0,6.0,8.0,4.0,7.0,4.0,6.0,5.0,6.0,6.0,5.0,6.0,5.0,4.0,4.0,3.0,5.0,3.0,9.0,4.0,4.0,4.0,3.0,7.0,8.0,4.0,3.0,4.0,6.0,5.0,1.0,2.0,6.0,6.0,3.0,5.0,5.0,2.0,6.0,4.0,5.0,12.0,2.0,8.0,4.0,4.0,4.0,5.0,6.0,3.0,3.0,4.0,5.0,7.0,3.0,7.0,6.0,4.0,2.0,2.0,2.0,5.0,6.0,6.0,5.0,3.0,5.0,4.0,3.0,5.0,5.0,6.0,3.0,6.0,6.0,6.0,3.0,6.0,4.0,3.0,4.0,6.0,6.0,5.0,3.0,4.0,6.0,6.0,7.0,3.0,1.0,3.0,2.0,7.0,5.0,4.0,5.0,5.0,3.0,5.0,7.0,6.0,6.0,7.0,5.0,3.0,4.0,5.0,9.0,1.0,6.0,5.0,7.0,3.0,7.0,5.0,4.0,2.0,3.0,2.0,8.0,3.0,8.0,4.0,2.0,8.0,3.0,6.0,4.0,3.0,2.0,4.0,3.0,3.0,5.0,6.0,3.0,2.0,7.0,4.0,3.0,4.0,5.0,6.0,2.0,6.0,6.0,3.0,4.0,4.0,3.0,7.0,1.0,7.0,6.0,6.0,5.0,2.0,6.0,4.0,2.0,3.0,4.0,3.0,4.0,4.0,3.0,4.0,4.0,8.0,4.0,5.0,9.0,1.0,6.0,5.0,6.0,3.0,8.0,6.0,4.0,3.0,3.0,8.0,3.0,8.0,2.0,7.0,6.0,7.0,3.0,5.0,3.0,5.0,8.0,7.0,8.0,1.0,6.0,2.0,5.0,4.0,3.0,2.0,3.0,6.0,9.0,7.0,7.0,4.0,4.0,5.0,7.0,2.0,8.0,8.0,5.0,4.0,8.0,4.0,3.0,6.0,4.0,4.0,5.0,6.0,3.0,1.0,6.0,6.0,3.0,6.0,7.0,4.0,3.0,6.0,5.0,6.0,3.0,2.0,6.0,4.0,5.0,6.0,5.0,6.0,2.0,6.0,7.0,3.0,3.0,3.0,4.0,4.0,3.0,3.0,2.0,5.0,3.0,5.0,5.0,7.0,9.0,6.0,4.0,4.0,6.0,3.0,5.0,6.0,4.0,5.0,7.0,3.0,6.0,7.0,5.0,2.0,3.0,3.0,5.0,4.0,4.0,4.0,5.0,6.0,3.0,2.0,7.0,5.0,5.0,5.0,5.0,7.0,7.0,4.0,6.0,3.0,5.0,3.0,6.0,2.0,4.0,5.0,6.0,2.0,2.0,3.0,6.0,6.0,8.0,5.0,5.0,6.0,7.0,3.0,5.0,4.0,4.0,6.0,5.0,5.0,5.0,4.0,3.0,2.0,2.0,5.0,7.0,4.0,3.0,2.0,4.0,6.0,2.0,2.0,1.0,6.0,2.0,8.0,5.0,5.0,3.0,4.0,6.0,3.0,3.0,4.0,3.0,6.0,5.0,7.0,8.0,4.0,6.0,3.0,8.0,5.0,5.0,1.0,8.0,7.0,4.0,1.0,1.0,6.0,6.0,7.0,1.0,4.0,4.0,3.0,3.0,5.0,7.0,6.0,5.0,8.0,4.0,1.0,7.0,2.0,4.0,4.0,5.0,2.0,4.0,4.0,6.0,6.0,4.0,6.0,7.0,5.0,1.0,8.0,1.0,5.0,5.0,8.0,8.0,7.0,6.0,6.0,3.0,3.0,2.0,3.0,4.0,3.0,4.0,2.0,6.0,6.0,7.0,6.0,6.0,6.0,2.0,3.0,3.0,4.0,8.0,3.0,2.0,4.0,4.0,3.0,7.0,5.0,2.0,9.0,6.0,3.0,5.0,6.0,2.0,3.0,4.0,3.0,1.0,6.0,7.0,5.0,5.0,3.0,4.0,2.0,8.0,7.0,7.0,4.0,3.0,2.0,7.0,3.0,4.0,3.0,4.0,5.0,1.0,4.0,1.0,4.0,5.0,4.0,4.0,7.0,8.0,1.0,5.0,5.0,7.0,3.0,4.0,5.0,5.0,5.0,5.0,3.0,3.0,5.0,3.0,3.0,7.0,3.0,5.0,4.0,8.0,3.0,1.0,5.0,6.0,4.0,4.0,5.0,7.0,7.0,1.0,4.0,9.0,6.0,3.0,4.0,2.0,4.0,3.0,5.0,3.0,2.0,5.0,4.0,4.0,3.0,4.0,7.0,5.0,3.0,2.0,5.0,3.0,5.0,7.0,1.0,6.0,3.0,4.0,3.0,3.0,4.0,7.0,3.0,4.0,1.0,3.0,5.0,4.0,8.0,6.0,6.0,7.0,4.0,8.0,5.0,1.0,3.0,5.0,8.0,5.0,6.0,1.0,3.0,3.0,1.0,1.0,4.0,3.0,2.0,1.0,5.0,8.0,4.0,6.0,5.0,3.0,3.0,6.0,2.0,7.0,4.0,3.0,6.0,7.0,4.0,1.0,5.0,6.0,2.0,3.0,6.0,3.0,7.0,4.0,3.0,4.0,6.0,4.0,1.0,6.0,5.0,4.0,4.0,7.0,6.0,4.0,7.0,4.0,3.0,7.0,2.0,4.0,2.0,9.0,2.0,4.0,3.0,4.0,4.0,3.0,4.0,2.0,7.0,1.0,6.0,2.0,5.0,1.0,5.0,7.0,4.0,3.0,3.0,4.0,4.0,2.0,7.0,1.0,4.0,7.0,3.0,5.0,5.0,4.0,5.0,5.0,6.0,3.0,5.0,7.0,5.0,6.0,2.0,3.0,6.0,6.0,8.0,4.0,7.0,6.0,5.0,8.0,2.0,12.0,6.0,5.0,3.0,3.0,7.0,3.0,1.0,1.0,4.0,10.0,5.0,5.0,6.0,6.0,5.0,5.0,6.0,6.0,8.0,3.0,2.0,1.0,4.0,4.0,6.0,6.0,4.0,7.0,7.0,4.0,4.0,6.0,5.0,3.0,4.0,7.0,6.0,5.0,1.0,5.0,6.0,1.0,6.0,3.0,4.0,4.0,3.0,6.0,3.0,5.0,8.0,2.0,5.0,2.0,4.0,4.0,1.0,5.0,4.0,2.0,1.0,1.0,4.0,5.0,4.0,4.0,5.0,6.0,6.0,5.0,2.0,3.0,7.0,2.0,5.0,6.0,5.0,1.0,4.0,1.0,5.0,5.0,8.0,6.0,3.0,5.0,3.0,5.0,3.0,6.0,4.0,4.0,6.0,5.0,4.0,2.0,2.0,5.0,7.0,5.0,5.0,5.0,3.0,3.0,3.0,5.0,5.0,5.0,6.0,6.0,4.0,6.0,3.0,5.0,3.0,1.0,2.0,4.0,13.0,7.0,7.0,4.0,7.0,6.0,4.0,2.0,6.0,4.0,5.0,3.0,4.0,6.0,3.0,6.0,3.0,4.0,1.0,3.0,6.0,4.0,5.0,7.0,8.0,3.0,5.0,3.0,5.0,4.0,2.0,6.0,5.0,8.0,9.0,3.0,6.0,4.0,2.0,2.0,3.0,4.0,3.0,6.0,7.0,3.0,1.0,6.0,5.0,9.0,6.0,6.0,3.0,4.0,3.0,9.0,7.0,5.0,6.0,6.0,6.0,4.0,4.0,6.0,2.0,2.0,6.0,9.0,4.0,3.0,4.0,4.0,3.0,6.0,4.0,5.0,5.0,7.0,7.0,5.0,10.0,3.0,3.0,2.0,3.0,2.0,5.0,4.0,3.0,3.0,7.0,6.0,3.0,3.0,4.0,6.0,4.0,3.0,5.0,4.0,5.0,8.0,4.0,6.0,4.0,1.0,2.0,4.0,7.0,4.0,4.0,4.0,8.0,4.0,3.0,3.0,5.0,3.0,3.0,4.0,7.0,3.0,5.0,3.0,4.0,4.0,5.0,6.0,7.0,9.0,3.0,7.0,7.0,2.0,7.0,5.0,2.0,4.0,4.0,7.0,3.0,3.0,5.0,6.0,9.0,7.0,3.0,5.0,3.0,5.0,5.0,5.0,5.0,2.0,9.0,8.0,4.0,6.0,4.0,5.0,4.0,5.0,8.0,5.0,4.0,6.0,3.0,4.0,5.0,7.0,7.0,4.0,5.0,3.0,4.0,4.0,6.0,3.0,2.0,2.0,2.0,7.0,5.0,6.0,5.0,7.0,7.0,2.0,6.0,6.0,1.0,5.0,4.0,6.0,5.0,2.0,5.0,6.0,5.0,5.0,6.0,3.0,2.0,4.0,4.0,2.0,5.0,5.0,5.0,6.0,6.0,7.0,2.0,4.0,2.0,6.0,5.0,5.0,4.0,5.0,7.0,7.0,4.0,1.0,3.0,8.0,6.0,7.0,3.0,4.0,7.0,4.0,4.0,3.0,5.0,5.0,2.0,5.0,4.0,6.0,5.0,1.0,5.0,6.0,8.0,6.0,5.0,6.0,6.0,5.0,3.0,5.0,5.0,7.0,5.0,2.0,5.0,2.0,7.0,3.0,6.0,7.0,5.0,2.0,4.0,6.0,2.0,4.0,6.0,4.0,5.0,4.0,3.0,2.0,2.0,9.0,3.0,5.0,8.0,6.0,4.0,3.0,6.0,3.0,3.0,4.0,4.0,5.0,6.0,4.0,4.0,5.0,5.0,5.0,5.0,5.0,5.0,6.0,3.0,1.0,7.0,1.0,7.0,4.0,3.0,6.0,4.0,6.0,1.0,5.0,5.0,3.0,1.0,1.0,6.0,6.0,1.0,5.0,2.0,6.0,3.0,7.0,5.0,6.0,1.0,5.0,4.0,9.0,4.0,2.0,2.0,3.0,4.0,6.0,5.0,5.0,6.0,3.0,8.0,5.0,4.0,3.0,4.0,2.0,7.0,6.0,4.0,2.0,4.0,3.0,6.0,2.0,7.0,7.0,5.0,2.0,1.0,5.0,4.0,3.0,6.0,5.0,9.0,2.0,6.0,9.0,7.0,4.0,4.0,2.0,4.0,6.0,2.0,1.0,4.0,6.0,3.0,4.0,3.0,5.0,3.0,2.0,2.0,7.0,5.0,2.0,2.0,3.0,6.0,8.0,7.0,9.0,4.0,8.0,4.0,6.0,2.0,4.0,5.0,5.0,5.0,4.0,2.0,3.0,6.0,1.0,3.0,8.0,8.0,5.0,3.0,5.0,6.0,3.0,4.0,3.0,4.0,8.0,4.0,7.0,4.0,3.0,3.0,6.0,3.0,5.0,4.0,6.0,4.0,6.0,4.0,5.0,3.0,8.0,5.0,5.0,3.0,5.0,2.0,3.0,8.0,6.0,3.0,5.0,4.0,3.0,2.0,5.0,5.0,8.0,4.0,5.0,1.0,5.0,2.0,3.0,8.0,4.0,4.0,4.0,4.0,6.0,5.0,3.0,6.0,2.0,4.0,2.0,3.0,4.0,3.0,5.0,4.0,8.0,7.0,5.0,5.0,4.0,4.0,7.0,3.0,3.0,4.0,5.0,2.0,1.0,4.0,4.0,5.0,6.0,7.0,2.0,3.0,2.0,7.0,7.0,4.0,8.0,3.0,5.0,3.0,4.0,3.0,2.0,1.0,9.0,5.0,3.0,4.0,6.0,2.0,9.0,4.0,4.0,4.0,3.0,6.0,5.0,2.0,4.0,8.0,7.0,4.0,2.0,4.0,7.0,4.0,8.0,9.0,6.0,5.0,3.0,6.0,2.0,2.0,3.0,7.0,5.0,5.0,2.0,2.0,6.0,4.0,7.0,1.0,8.0,2.0,6.0,4.0,3.0,7.0,4.0,1.0,1.0,5.0,3.0,3.0,6.0,3.0,2.0,4.0,4.0,7.0,4.0,4.0,6.0,7.0,2.0,6.0,2.0,3.0,6.0,3.0,2.0,5.0,7.0,1.0,6.0,8.0,1.0,1.0,3.0,4.0,5.0,3.0,4.0,10.0,3.0,3.0,3.0,7.0,2.0,2.0,6.0,6.0,3.0,3.0,3.0,3.0,4.0,5.0,6.0,3.0,4.0,3.0,6.0,6.0,5.0,1.0,4.0,10.0,7.0,4.0,4.0,6.0,3.0,5.0,1.0,4.0,2.0,5.0,3.0,4.0,3.0,9.0,7.0,6.0,3.0,7.0,6.0,3.0,5.0,3.0,4.0,8.0,1.0,6.0,2.0,2.0,2.0,5.0,3.0,2.0,6.0,8.0,5.0,3.0,5.0,8.0,5.0,10.0,5.0,4.0,4.0,5.0,3.0,4.0,4.0,2.0,1.0,4.0,4.0,5.0,8.0,5.0,5.0,5.0,6.0,7.0,7.0,6.0,6.0,6.0,3.0,3.0,7.0,7.0,7.0,3.0,4.0,3.0,2.0,8.0,2.0,7.0,4.0,6.0,4.0,3.0,8.0,3.0,5.0,3.0,1.0,3.0,9.0,3.0,2.0,7.0,3.0,9.0,3.0,9.0,4.0,5.0,1.0,5.0,7.0,1.0,2.0,3.0,8.0,5.0,5.0,4.0,5.0,3.0,6.0,5.0,6.0,7.0,4.0,3.0,3.0,6.0,7.0,7.0,5.0,7.0,5.0,2.0,6.0,1.0,3.0,4.0,1.0,4.0,6.0,4.0,4.0,5.0,5.0,1.0,6.0,3.0,5.0,1.0,6.0,4.0,2.0,4.0,6.0,3.0,3.0,10.0,2.0,2.0,2.0,9.0,4.0,3.0,7.0,2.0,6.0,2.0,7.0,4.0,3.0,4.0,5.0,6.0,4.0,5.0,7.0,3.0,6.0,8.0,5.0,1.0,6.0,3.0,4.0,6.0,2.0,4.0,8.0,1.0,6.0,6.0,8.0,7.0,3.0,5.0,3.0,7.0,7.0,5.0,3.0,3.0,7.0,4.0,6.0,5.0,5.0,7.0,5.0,7.0,6.0,2.0,4.0,4.0,8.0,9.0,5.0,1.0,5.0,1.0,8.0,4.0,8.0,5.0,2.0,4.0,3.0,3.0,2.0,4.0,3.0,3.0,1.0,7.0,3.0,2.0,4.0,1.0,5.0,9.0,5.0,2.0,3.0,5.0,6.0,2.0,3.0,7.0,4.0,5.0,2.0,5.0,6.0,5.0,7.0,3.0,5.0,6.0,6.0,7.0,3.0,6.0,6.0,6.0,4.0,2.0,3.0,4.0,3.0,7.0,9.0,8.0,3.0,6.0,3.0,4.0,5.0,3.0,7.0,3.0,6.0,5.0,3.0,8.0,7.0,6.0,7.0,5.0,2.0,6.0,6.0,9.0,2.0,2.0,3.0,4.0,7.0,5.0,4.0,6.0,4.0,2.0,9.0,5.0,3.0,2.0,1.0,5.0,4.0,3.0,5.0,6.0,5.0,4.0,5.0,1.0,3.0,4.0,3.0,4.0,5.0,5.0,1.0,4.0,2.0,4.0,4.0,5.0,3.0,5.0,5.0,6.0,3.0,3.0,3.0,8.0,4.0,3.0,3.0,1.0,10.0,6.0,3.0,7.0,11.0,3.0,4.0,4.0,3.0,8.0,5.0,4.0,4.0,5.0,10.0,3.0,3.0,4.0,6.0,4.0,7.0,6.0,4.0,2.0,2.0,3.0,7.0,3.0,4.0,2.0,3.0,2.0,7.0,5.0,4.0,10.0,7.0,2.0,4.0,7.0,3.0,2.0,5.0,5.0,6.0,8.0,6.0,4.0,2.0,4.0,2.0,4.0,7.0,3.0,4.0,7.0,4.0,5.0,5.0,4.0,5.0,2.0,3.0,2.0,3.0,3.0,6.0,5.0,2.0,1.0,2.0,10.0,4.0,4.0,7.0,3.0,9.0,5.0,5.0,3.0,5.0,3.0,6.0,5.0,10.0,7.0,2.0,8.0,7.0,4.0,4.0,1.0,4.0,3.0,2.0,5.0,3.0,3.0,3.0,4.0,7.0,5.0,2.0,4.0,6.0,4.0,8.0,5.0,6.0,5.0,6.0,5.0,5.0,2.0,2.0,4.0,1.0,7.0,2.0,7.0,3.0,5.0,2.0,3.0,5.0,4.0,10.0,6.0,3.0,3.0,1.0,7.0,9.0,4.0,4.0,8.0,2.0,4.0,3.0,7.0,7.0,5.0,5.0,7.0,3.0,6.0,5.0,3.0,3.0,4.0,6.0,3.0,4.0,6.0,10.0,3.0,4.0,5.0,5.0,1.0,4.0,8.0,6.0,5.0,8.0,6.0,7.0,6.0,8.0,3.0,8.0,4.0,4.0,4.0,2.0,5.0,8.0,2.0,4.0,7.0,5.0,2.0,3.0,4.0,2.0,3.0,2.0,6.0,4.0,2.0,6.0,7.0,3.0,1.0,5.0,2.0,4.0,2.0,5.0,4.0,5.0,6.0,5.0,4.0,6.0,6.0,4.0,5.0,3.0,5.0,6.0,6.0,4.0,6.0,10.0,5.0,6.0,6.0,3.0,6.0,3.0,2.0,9.0,4.0,7.0,2.0,3.0,3.0,2.0,5.0,5.0,2.0,2.0,4.0,3.0,5.0,6.0,5.0,8.0,3.0,5.0,5.0,7.0,6.0,4.0,3.0,3.0,2.0,3.0,5.0,5.0,7.0,7.0,4.0,3.0,3.0,1.0,8.0,5.0,5.0,6.0,6.0,6.0,1.0,3.0,4.0,4.0,4.0,6.0,4.0,5.0,2.0,4.0,7.0,5.0,5.0,3.0,4.0,3.0,4.0,5.0,5.0,3.0,5.0,4.0,3.0,2.0,3.0,7.0,6.0,4.0,6.0,3.0,6.0,4.0,4.0,4.0,11.0,4.0,2.0,5.0,1.0,4.0,6.0,10.0,3.0,9.0,4.0,3.0,1.0,2.0,3.0,3.0,6.0,3.0,5.0,7.0,8.0,7.0,5.0,7.0,7.0,8.0,6.0,4.0,5.0,5.0,6.0,4.0,5.0,3.0,4.0,4.0,8.0,4.0,4.0,6.0,2.0,4.0,8.0,2.0,5.0,3.0,2.0,4.0,7.0,6.0,3.0,5.0,2.0,2.0,1.0,2.0,5.0,6.0,6.0,8.0,8.0,4.0,6.0,12.0,5.0,3.0,1.0,5.0,3.0,4.0,2.0,3.0,2.0,3.0,6.0,4.0,2.0,2.0,3.0,7.0,3.0,2.0,8.0,7.0,1.0,5.0,6.0,2.0,3.0,5.0,3.0,3.0,8.0,5.0,1.0,4.0,7.0,4.0,8.0,5.0,5.0,6.0,2.0,5.0,5.0,3.0,5.0,3.0,5.0,3.0,2.0,7.0,3.0,1.0,3.0,8.0,6.0,6.0,5.0,5.0,5.0,5.0,2.0,9.0,3.0,4.0,4.0,7.0,5.0,8.0,3.0,3.0,5.0,3.0,4.0,5.0,5.0,5.0,2.0,5.0,7.0,4.0,7.0,7.0,1.0,1.0,2.0,3.0,8.0,7.0,6.0,3.0,6.0,3.0,5.0,6.0,6.0,1.0,3.0,6.0,2.0,2.0,4.0,5.0,3.0,3.0,2.0,6.0,4.0,2.0,3.0,5.0,5.0,8.0,3.0,8.0,7.0,6.0,7.0,4.0,4.0,5.0,6.0,3.0,3.0,3.0,6.0,1.0,7.0,3.0,4.0,6.0,4.0,2.0,4.0,4.0,6.0,6.0,6.0,3.0,2.0,4.0,6.0,3.0,5.0,4.0,3.0,6.0,3.0,5.0,7.0,6.0,3.0,6.0,6.0,5.0,5.0,6.0,3.0,6.0,3.0,4.0,5.0,4.0,4.0,3.0,6.0,7.0,4.0,2.0,5.0,7.0,5.0,3.0,4.0,3.0,8.0,4.0,6.0,6.0,8.0,5.0,4.0,6.0,3.0,6.0,1.0,6.0,6.0,7.0,3.0,2.0,3.0,6.0,6.0,3.0,7.0,4.0,2.0,3.0,8.0,3.0,3.0,5.0,4.0,7.0,3.0,5.0,11.0,1.0,3.0,3.0,6.0,3.0,6.0,5.0,6.0,8.0,8.0,5.0,4.0,5.0,7.0,1.0,3.0,6.0,2.0,2.0,4.0,4.0,7.0,6.0,1.0,8.0,5.0,1.0,7.0,1.0,5.0,3.0,6.0,5.0,5.0,1.0,6.0,2.0,9.0,3.0,2.0,4.0,2.0,6.0,7.0,6.0,1.0,3.0,4.0,5.0,7.0,1.0,3.0,7.0,5.0,2.0,3.0,6.0,4.0,5.0,5.0,5.0,4.0,4.0,4.0,4.0,3.0,4.0,4.0,5.0,6.0,4.0,5.0,5.0,3.0,3.0,4.0,4.0,5.0,6.0,10.0,4.0,5.0,6.0,4.0,7.0,8.0,7.0,7.0,3.0,4.0,4.0,3.0,4.0,5.0,3.0,3.0,3.0,3.0,4.0,3.0,3.0,3.0,8.0,2.0,3.0,2.0,7.0,1.0,3.0,4.0,4.0,5.0,8.0,4.0,4.0,4.0,2.0,3.0,5.0,6.0,4.0,3.0,8.0,4.0,6.0,5.0,3.0,2.0,4.0,2.0,6.0,4.0,8.0,2.0,8.0,3.0,7.0,2.0,3.0,5.0,7.0,3.0,6.0,4.0,4.0,2.0,3.0,8.0,5.0,6.0,4.0,7.0,7.0,7.0,4.0,3.0,3.0,2.0,8.0,6.0,2.0,6.0,6.0,5.0,4.0,7.0,3.0,9.0,6.0,7.0,1.0,4.0,7.0,5.0,5.0,6.0,6.0,6.0,3.0,3.0,3.0,2.0,6.0,4.0,6.0,8.0,8.0,2.0,6.0,3.0,3.0,4.0,7.0,5.0,6.0,1.0,2.0,1.0,4.0,1.0,3.0,5.0,7.0,3.0,2.0,4.0,4.0,5.0,6.0,5.0,4.0,1.0,4.0,2.0,2.0,2.0,2.0,3.0,2.0,2.0,3.0,6.0,6.0,6.0,8.0,7.0,1.0,6.0,4.0,8.0,7.0,6.0,5.0,4.0,2.0,10.0,4.0,3.0,6.0,6.0,4.0,4.0,4.0,7.0,6.0,4.0,5.0,4.0,6.0,4.0,3.0,8.0,6.0,5.0,7.0,3.0,5.0,3.0,4.0,3.0,5.0,3.0,1.0,5.0,1.0,3.0,5.0,1.0,1.0,4.0,1.0,4.0,3.0,4.0,3.0,4.0,7.0,2.0,5.0,2.0,7.0,5.0,3.0,4.0,3.0,5.0,4.0,1.0,2.0,4.0,6.0,4.0,9.0,8.0,6.0,5.0,7.0,3.0,2.0,3.0,4.0,4.0,3.0,1.0,5.0,8.0,3.0,7.0,5.0,5.0,4.0,3.0,2.0,3.0,4.0,6.0,6.0,2.0,6.0,6.0,2.0,8.0,2.0,6.0,2.0,3.0,8.0,4.0,3.0,2.0,7.0,5.0,2.0,4.0,8.0,5.0,4.0,8.0,4.0,8.0,3.0,1.0,1.0,7.0,3.0,4.0,7.0,3.0,10.0,6.0,3.0,6.0,2.0,3.0,5.0,7.0,3.0,3.0,7.0,4.0,4.0,3.0,4.0,5.0,4.0,2.0,1.0,3.0,3.0,4.0,6.0,7.0,3.0,1.0,3.0,4.0,4.0,5.0,12.0,4.0,2.0,4.0,6.0,7.0,4.0,4.0,3.0,3.0,6.0,4.0,6.0,5.0,1.0,2.0,3.0,4.0,4.0,3.0,7.0,4.0,4.0,6.0,4.0,5.0,8.0,6.0,5.0,6.0,5.0,5.0,6.0,3.0,4.0,1.0,2.0,5.0,3.0,1.0,5.0,4.0,4.0,5.0,6.0,7.0,7.0,1.0,1.0,3.0,4.0,1.0,3.0,3.0,4.0,9.0,7.0,1.0,4.0,3.0,4.0,9.0,9.0,9.0,5.0,3.0,4.0,5.0,8.0,3.0,6.0,8.0,8.0,7.0,5.0,2.0,4.0,4.0,3.0,8.0,5.0,3.0,7.0,2.0,3.0,4.0,3.0,7.0,9.0,2.0,6.0,3.0,6.0,8.0,4.0,5.0,2.0,2.0,5.0,6.0,9.0,7.0,6.0,2.0,5.0,2.0,8.0,3.0,5.0,3.0,6.0,5.0,2.0,4.0,4.0,2.0,5.0,8.0,5.0,6.0,3.0,4.0,4.0,1.0,4.0,4.0,5.0,4.0,6.0,8.0,4.0,4.0,4.0,4.0,9.0,4.0,6.0,5.0,2.0,4.0,3.0,6.0,2.0,3.0,4.0,2.0,5.0,2.0,8.0,3.0,7.0,5.0,6.0,7.0,7.0,6.0,6.0,4.0,3.0,7.0,5.0,6.0,4.0,5.0,6.0,5.0,3.0,6.0,6.0,3.0,6.0,6.0,7.0,2.0,9.0,4.0,9.0,4.0,4.0,3.0,1.0,2.0,6.0,7.0,8.0,1.0,6.0,3.0,8.0,2.0,6.0,2.0,2.0,4.0,3.0,7.0,4.0,3.0,5.0,5.0,4.0,3.0,4.0,6.0,3.0,5.0,4.0,4.0,3.0,3.0,2.0,3.0,3.0,8.0,8.0,2.0,4.0,4.0,7.0,3.0,4.0,2.0,3.0,1.0,1.0,3.0,2.0,4.0,4.0,8.0,3.0,3.0,3.0,2.0,3.0,3.0,4.0,6.0,3.0,11.0,5.0,1.0,7.0,4.0,4.0,7.0,2.0,2.0,2.0,3.0,6.0,7.0,9.0,4.0,7.0,3.0,6.0,3.0,3.0,8.0,1.0,7.0,1.0,1.0,7.0,8.0,4.0,6.0,4.0,5.0,1.0,6.0,6.0,4.0,2.0,10.0,3.0,6.0,4.0,4.0,3.0,4.0,3.0,4.0,4.0,5.0,1.0,4.0,6.0,3.0,2.0,4.0,1.0,4.0,3.0,7.0,8.0,5.0,7.0,7.0,5.0,3.0,4.0,6.0,4.0,10.0,3.0,3.0,3.0,3.0,7.0,3.0,4.0,8.0,1.0,6.0,7.0,7.0,1.0,4.0,4.0,4.0,5.0,5.0,2.0,5.0,7.0,3.0,4.0,4.0,3.0,5.0,6.0,2.0,7.0,6.0,4.0,4.0,3.0,2.0,6.0,2.0,8.0,1.0,4.0,6.0,2.0,1.0,1.0,4.0,2.0,2.0,6.0,7.0,9.0,2.0,4.0,5.0,4.0,6.0,4.0,4.0,6.0,5.0,6.0,10.0,4.0,1.0,8.0,2.0,3.0,3.0,4.0,6.0,1.0,3.0,8.0,1.0,6.0,6.0,2.0,7.0,4.0,3.0,6.0,7.0,3.0,8.0,7.0,6.0,5.0,2.0,5.0,10.0,5.0,5.0,1.0,3.0,4.0,4.0,7.0,4.0,3.0,4.0,5.0,5.0,6.0,2.0,6.0,5.0,3.0,4.0,4.0,7.0,5.0,3.0,6.0,6.0,1.0,4.0,4.0,2.0,6.0,5.0,3.0,3.0,4.0,4.0,5.0,2.0,5.0,7.0,2.0,8.0,3.0,3.0,7.0,4.0,4.0,8.0,3.0,9.0,5.0,2.0,5.0,5.0,9.0,1.0,3.0,5.0,5.0,5.0,5.0,4.0,4.0,4.0,3.0,4.0,5.0,7.0,7.0,5.0,6.0,2.0,5.0,1.0,3.0,7.0,2.0,2.0,9.0,4.0,4.0,11.0,2.0,5.0,7.0,2.0,6.0,8.0,4.0,3.0,5.0,6.0,4.0,4.0,4.0,6.0,7.0,3.0,3.0,4.0,4.0,5.0,5.0,4.0,4.0,2.0,3.0,6.0,4.0,2.0,4.0,7.0,3.0,7.0,4.0,2.0,8.0,3.0,3.0,7.0,6.0,5.0,8.0,6.0,4.0,4.0,4.0,9.0,5.0,2.0,4.0,8.0,3.0,4.0,8.0,1.0,5.0,5.0,5.0,5.0,3.0,9.0,2.0,4.0,4.0,7.0,5.0,9.0,10.0,7.0,6.0,7.0,4.0,4.0,5.0,4.0,5.0,6.0,3.0,6.0,4.0,2.0,7.0,7.0,6.0,3.0,4.0,4.0,5.0,4.0,6.0,2.0,7.0,1.0,5.0,4.0,3.0,2.0,5.0,8.0,5.0,3.0,2.0,1.0,5.0,7.0,6.0,9.0,2.0,6.0,5.0,6.0,2.0,6.0,3.0,3.0,6.0,6.0,3.0,6.0,5.0,3.0,6.0,5.0,6.0,4.0,7.0,6.0,8.0,5.0,5.0,3.0,2.0,1.0,4.0,1.0,3.0,4.0,4.0,5.0,7.0,5.0,9.0,7.0,4.0,2.0,7.0,7.0,5.0,3.0,2.0,4.0,9.0,3.0,2.0,5.0,3.0,9.0,6.0,4.0,4.0,7.0,6.0,8.0,3.0,6.0,5.0,2.0,5.0,2.0,5.0,3.0,3.0,8.0,7.0,4.0,5.0,4.0,2.0,3.0,2.0,7.0,3.0,7.0,4.0,4.0,5.0,2.0,4.0,5.0,5.0,5.0,4.0,6.0,5.0,8.0,7.0,1.0,3.0,3.0,3.0,6.0,7.0,1.0,5.0,6.0,4.0,5.0,4.0,6.0,7.0,3.0,5.0,5.0,7.0,4.0,4.0,3.0,5.0,1.0,5.0,4.0,6.0,5.0,5.0,7.0,8.0,7.0,8.0,4.0,6.0,2.0,3.0,6.0,2.0,4.0,4.0,4.0,5.0,5.0,6.0,4.0,5.0,5.0,7.0,7.0,3.0,1.0,9.0,5.0,4.0,3.0,4.0,6.0,2.0,1.0,2.0,6.0,4.0,7.0,3.0,9.0,8.0,7.0,4.0,7.0,7.0,7.0,2.0,7.0,8.0,6.0,10.0,8.0,5.0,8.0,3.0,3.0,2.0,2.0,4.0,9.0,2.0,8.0,8.0,3.0,6.0,3.0,2.0,4.0,9.0,7.0,5.0,6.0,5.0,4.0,3.0,5.0,2.0,2.0,1.0,1.0,5.0,3.0,6.0,6.0,3.0,6.0,4.0,4.0,4.0,3.0,5.0,3.0,4.0,5.0,7.0,4.0,7.0,5.0,7.0,5.0,3.0,4.0,2.0,7.0,6.0,3.0,3.0,5.0,9.0,4.0,2.0,3.0,4.0,7.0,3.0,null,null,null,null,5.0,6.0,4.0,2.0,5.0,3.0,1.0,4.0,4.0,9.0,3.0,6.0,3.0,3.0,4.0,2.0,1.0,8.0,5.0,6.0,5.0,3.0,3.0,1.0,4.0,3.0,6.0,4.0,3.0,3.0,3.0,1.0,6.0,2.0,6.0,4.0,3.0,7.0,6.0,6.0,7.0,5.0,3.0,4.0,2.0,5.0,6.0,3.0,4.0,2.0,4.0,3.0,6.0,4.0,4.0,4.0,4.0,5.0,4.0,7.0,7.0,2.0,4.0,7.0,4.0,2.0,5.0,7.0,4.0,3.0,3.0,4.0,4.0,1.0,8.0,4.0,5.0,3.0,4.0,3.0,6.0,2.0,3.0,1.0,4.0,1.0,6.0,4.0,null,null,null,null,7.0,3.0,5.0,2.0,4.0,7.0,6.0,9.0,4.0,2.0,2.0,3.0,6.0,6.0,8.0,2.0,4.0,7.0,4.0,3.0,4.0,6.0,5.0,3.0,2.0,3.0,4.0,4.0,1.0,1.0,4.0,3.0,4.0,6.0,2.0,1.0,3.0,2.0,4.0,3.0,7.0,4.0,2.0,6.0,5.0,7.0,3.0,7.0,1.0,9.0,5.0,6.0,6.0,3.0,3.0,4.0,6.0,7.0,1.0,4.0,7.0,5.0,1.0,1.0,1.0,6.0,4.0,5.0,4.0,5.0,3.0,6.0,5.0,3.0,4.0,10.0,6.0,4.0,6.0,5.0,3.0,7.0,5.0,1.0,4.0,2.0,1.0,4.0,3.0,5.0,3.0,9.0,3.0,3.0,2.0,3.0,2.0,6.0,1.0,4.0,5.0,4.0,3.0,5.0,5.0,6.0,4.0,5.0,2.0,6.0,5.0,2.0,4.0,5.0,3.0,3.0,3.0,4.0,12.0,3.0,5.0,3.0,3.0,3.0,6.0,4.0,8.0,7.0,5.0,5.0,2.0,4.0,2.0,6.0,2.0,3.0,6.0,6.0,3.0,4.0,6.0,7.0,4.0,3.0,4.0,4.0,5.0,5.0,6.0,6.0,5.0,9.0,6.0,7.0,4.0,6.0,10.0,5.0,3.0,4.0,1.0,7.0,6.0,4.0,3.0,4.0,6.0,3.0,8.0,5.0,3.0,3.0,7.0,3.0,3.0,3.0,6.0,3.0,3.0,1.0,8.0,9.0,1.0,1.0,3.0,4.0,5.0,5.0,2.0,4.0,4.0,7.0,3.0,4.0,4.0,7.0,4.0,5.0,5.0,4.0,3.0,4.0,6.0,3.0,2.0,5.0,4.0,3.0,5.0,2.0,3.0,7.0,2.0,5.0,3.0,6.0,6.0,5.0,3.0,5.0,4.0,1.0,3.0,4.0,8.0,1.0,5.0,3.0,3.0,5.0,3.0,5.0,3.0,6.0,4.0,5.0,7.0,3.0,6.0,5.0,1.0,2.0,1.0,4.0,7.0,5.0,6.0,2.0,5.0,6.0,3.0,4.0,3.0,1.0,7.0,4.0,7.0,3.0,1.0,4.0,5.0,5.0,3.0,4.0,4.0,3.0,3.0,2.0,4.0,2.0,5.0,3.0,5.0,3.0,7.0,4.0,1.0,5.0,8.0,3.0,4.0,5.0,6.0,3.0,7.0,4.0,7.0,4.0,3.0,4.0,6.0,5.0,6.0,8.0,5.0,4.0,4.0,5.0,8.0,3.0,4.0,5.0,6.0,3.0,1.0,6.0,4.0,5.0,3.0,4.0,5.0,6.0,2.0,6.0,6.0,3.0,3.0,5.0,3.0,8.0,5.0,6.0,2.0,3.0,2.0,3.0,4.0,4.0,7.0,8.0,2.0,4.0,7.0,3.0,3.0,4.0,1.0,4.0,5.0,8.0,6.0,1.0,1.0,4.0,4.0,3.0,3.0,1.0,4.0,3.0,3.0,4.0,7.0,4.0,3.0,3.0,4.0,4.0,2.0,2.0,8.0,4.0,5.0,2.0,1.0,2.0,4.0,5.0,3.0,3.0,7.0,6.0,7.0,6.0,6.0,3.0,3.0,2.0,7.0,8.0,7.0,3.0,3.0,3.0,5.0,2.0,3.0,5.0,3.0,3.0,4.0,6.0,4.0,8.0,3.0,4.0,4.0,4.0,5.0,1.0,3.0,6.0,3.0,7.0,2.0,4.0,3.0,6.0,6.0,7.0,9.0,7.0,7.0,4.0,9.0,5.0,8.0,3.0,6.0,5.0,6.0,2.0,7.0,4.0,4.0,5.0,2.0,3.0,3.0,5.0,3.0,5.0,4.0,2.0,3.0,5.0,6.0,5.0,2.0,3.0,7.0,4.0,5.0,3.0,2.0,8.0,5.0,4.0,2.0,2.0,3.0,5.0,8.0,5.0,4.0,1.0,7.0,8.0,4.0,4.0,6.0,3.0,1.0,6.0,6.0,7.0,5.0,5.0,5.0,5.0,4.0,6.0,6.0,1.0,2.0,4.0,1.0,2.0,3.0,4.0,1.0,4.0,2.0,3.0,2.0,4.0,5.0,4.0,2.0,4.0,2.0,7.0,9.0,8.0,3.0,5.0,8.0,5.0,8.0,4.0,5.0,5.0,2.0,2.0,5.0,7.0,2.0,2.0,1.0,1.0,6.0,4.0,6.0,7.0,3.0,6.0,7.0,7.0,2.0,4.0,9.0,2.0,3.0,2.0,3.0,5.0,6.0,3.0,5.0,4.0,7.0,2.0,7.0,9.0,5.0,4.0,3.0,1.0,4.0,7.0,4.0,4.0,1.0,4.0,4.0,3.0,4.0,1.0,5.0,2.0,2.0,4.0,4.0,5.0,5.0,8.0,8.0,4.0,5.0,3.0,3.0,6.0,4.0,4.0,7.0,3.0,4.0,3.0,7.0,3.0,3.0,3.0,4.0,5.0,4.0,5.0,5.0,6.0,4.0,3.0,8.0,4.0,8.0,3.0,2.0,6.0,5.0,10.0,3.0,3.0,3.0,6.0,5.0,9.0,5.0,3.0,4.0,5.0,4.0,3.0,7.0,3.0,2.0,1.0,5.0,1.0,2.0,5.0,6.0,5.0,3.0,9.0,3.0,2.0,6.0,5.0,6.0,8.0,4.0,3.0,6.0,5.0,3.0,3.0,11.0,4.0,1.0,7.0,6.0,3.0,4.0,1.0,5.0,3.0,4.0,6.0,2.0,5.0,3.0,4.0,6.0,6.0,5.0,2.0,5.0,6.0,6.0,3.0,1.0,2.0,3.0,1.0,4.0,1.0,2.0,5.0,3.0,4.0,5.0,5.0,2.0,5.0,4.0,3.0,4.0,3.0,5.0,6.0,1.0,5.0,7.0,1.0,5.0,6.0,2.0,6.0,6.0,5.0,6.0,3.0,5.0,6.0,2.0,2.0,4.0,2.0,4.0,1.0,1.0,2.0,3.0,1.0,1.0,8.0,7.0,1.0,9.0,1.0,3.0,8.0,2.0,3.0,2.0,5.0,3.0,6.0,5.0,4.0,5.0,6.0,3.0,3.0,2.0,6.0,2.0,7.0,8.0,5.0,3.0,3.0,6.0,1.0,3.0,5.0,9.0,4.0,3.0,6.0,4.0,9.0,3.0,6.0,1.0,6.0,3.0,7.0,5.0,10.0,6.0,7.0,5.0,3.0,3.0,5.0,6.0,2.0,6.0,4.0,10.0,6.0,8.0,2.0,5.0,1.0,3.0,4.0,8.0,4.0,3.0,3.0,2.0,5.0,6.0,5.0,2.0,5.0,5.0,9.0,1.0,4.0,5.0,3.0,3.0,5.0,2.0,1.0,4.0,3.0,4.0,5.0,3.0,3.0,9.0,3.0,3.0,4.0,1.0,2.0,6.0,4.0,5.0,4.0,4.0,5.0,3.0,7.0,2.0,6.0,4.0,4.0,3.0,6.0,4.0,8.0,3.0,3.0,8.0,4.0,6.0,5.0,5.0,2.0,3.0,6.0,6.0,5.0,6.0,3.0,9.0,4.0,1.0,4.0,4.0,5.0,2.0,5.0,2.0,4.0,5.0,7.0,2.0,6.0,5.0,3.0,4.0,4.0,3.0,5.0,5.0,3.0,5.0,4.0,3.0,5.0,5.0,5.0,5.0,3.0,5.0,10.0,4.0,5.0,5.0,3.0,1.0,5.0,3.0,7.0,3.0,4.0,6.0,2.0,3.0,2.0,7.0,5.0,6.0,6.0,6.0,7.0,8.0,6.0,7.0,4.0,7.0,8.0,5.0,8.0,2.0,2.0,5.0,1.0,4.0,1.0,4.0,4.0,4.0,3.0,4.0,5.0,3.0,5.0,8.0,3.0,6.0,1.0,4.0,6.0,2.0,6.0,2.0,1.0,6.0,4.0,2.0,3.0,5.0,3.0,3.0,3.0,7.0,4.0,4.0,6.0,7.0,3.0,7.0,3.0,6.0,4.0,1.0,3.0,4.0,5.0,3.0,1.0,4.0,3.0,4.0,2.0,2.0,4.0,4.0,3.0,5.0,3.0,4.0,1.0,4.0,2.0,1.0,5.0,3.0,3.0,3.0,2.0,2.0,2.0,7.0,4.0,8.0,6.0,4.0,5.0,2.0,4.0,6.0,7.0,4.0,4.0,3.0,3.0,3.0,6.0,2.0,6.0,6.0,3.0,5.0,4.0,1.0,5.0,5.0,3.0,6.0,6.0,4.0,10.0,2.0,4.0,4.0,5.0,4.0,8.0,8.0,5.0,4.0,3.0,4.0,3.0,4.0,7.0,6.0,10.0,5.0,2.0,5.0,3.0,9.0,9.0,4.0,6.0,4.0,10.0,5.0,9.0,5.0,5.0,4.0,7.0,7.0,4.0,5.0,7.0,3.0,5.0,6.0,5.0,3.0,6.0,5.0,5.0,8.0,5.0,6.0,3.0,3.0,5.0,7.0,4.0,8.0,6.0,6.0,4.0,4.0,3.0,4.0,2.0,5.0,3.0,4.0,9.0,3.0,10.0,2.0,3.0,5.0,5.0,6.0,8.0,8.0,6.0,3.0,1.0,9.0,4.0,4.0,5.0,1.0,4.0,4.0,3.0,4.0,6.0,3.0,5.0,6.0,7.0,7.0,3.0,7.0,4.0,2.0,7.0,4.0,3.0,3.0,1.0,6.0,6.0,1.0,5.0,4.0,6.0,3.0,1.0,3.0,6.0,2.0,4.0,2.0,6.0,1.0,3.0,6.0,5.0,4.0,5.0,5.0,1.0,7.0,5.0,7.0,3.0,5.0,6.0,2.0,4.0,7.0,3.0,5.0,6.0,5.0,3.0,3.0,4.0,4.0,7.0,3.0,1.0,8.0,3.0,7.0,4.0,7.0,6.0,3.0,5.0,3.0,3.0,7.0,4.0,2.0,1.0,6.0,3.0,3.0,7.0,6.0,5.0,7.0,5.0,5.0,5.0,7.0,1.0,6.0,5.0,1.0,3.0,3.0,4.0,2.0,6.0,5.0,5.0,6.0,2.0,4.0,5.0,5.0,4.0,4.0,5.0,3.0,4.0,3.0,6.0,3.0,6.0,2.0,4.0,3.0,4.0,5.0,2.0,4.0,3.0,4.0,2.0,5.0,7.0,6.0,5.0,4.0,1.0,5.0,5.0,2.0,4.0,5.0,3.0,4.0,3.0,4.0,5.0,4.0,7.0,5.0,2.0,4.0,8.0,5.0,3.0,4.0,7.0,1.0,1.0,4.0,4.0,4.0,4.0,5.0,5.0,4.0,6.0,3.0,6.0,3.0,5.0,4.0,5.0,8.0,3.0,5.0,4.0,7.0,4.0,5.0,4.0,2.0,3.0,7.0,3.0,4.0,4.0,5.0,8.0,3.0,6.0,1.0,7.0,5.0,6.0,3.0,7.0,9.0,5.0,3.0,7.0,2.0,4.0,2.0,5.0,4.0,4.0,3.0,5.0,5.0,3.0,2.0,1.0,5.0,5.0,6.0,4.0,4.0,5.0,3.0,5.0,3.0,5.0,1.0,7.0,3.0,6.0,5.0,3.0,2.0,4.0,4.0,5.0,7.0,2.0,6.0,5.0,6.0,5.0,3.0,4.0,3.0,7.0,3.0,5.0,9.0,3.0,3.0,4.0,6.0,1.0,6.0,5.0,4.0,4.0,3.0,5.0,4.0,8.0,4.0,3.0,5.0,5.0,6.0,5.0,5.0,4.0,3.0,6.0,3.0,4.0,10.0,5.0,6.0,3.0,2.0,9.0,4.0,2.0,2.0,1.0,3.0,3.0,6.0,5.0,5.0,5.0,3.0,6.0,5.0,6.0,5.0,2.0,3.0,5.0,3.0,1.0,2.0,7.0,8.0,7.0,2.0,4.0,4.0,4.0,4.0,8.0,2.0,4.0,5.0,3.0,5.0,3.0,2.0,8.0,5.0,5.0,3.0,4.0,2.0,10.0,2.0,4.0,6.0,2.0,4.0,5.0,7.0,5.0,5.0,1.0,4.0,4.0,7.0,3.0,3.0,4.0,1.0,5.0,6.0,1.0,7.0,4.0,5.0,5.0,3.0,2.0,5.0,1.0,3.0,6.0,8.0,4.0,2.0,4.0,4.0,7.0,6.0,7.0,3.0,4.0,1.0,6.0,2.0,4.0,2.0,2.0,5.0,5.0,3.0,5.0,6.0,8.0,3.0,5.0,6.0,6.0,6.0,6.0,1.0,2.0,3.0,4.0,3.0,2.0,2.0,1.0,1.0,2.0,2.0,1.0,1.0,2.0,4.0,2.0,1.0,2.0,2.0,3.0,1.0,3.0,1.0,3.0,3.0,2.0,1.0,3.0,3.0,2.0,2.0,4.0,1.0,2.0,1.0,2.0,2.0,3.0,1.0,3.0,1.0,1.0,3.0,2.0,1.0,1.0,2.0,1.0,1.0,1.0,1.0,3.0,2.0,1.0,2.0,1.0,2.0,2.0,2.0,1.0,1.0,2.0,1.0,2.0,1.0,1.0,2.0,1.0,2.0,4.0,2.0,2.0,1.0,2.0,2.0,1.0,2.0,1.0,2.0,1.0,2.0,2.0,2.0,2.0,1.0,2.0,2.0,2.0,6.0,1.0,3.0,2.0,3.0,2.0,3.0,3.0,2.0,2.0,2.0,2.0,2.0,1.0,1.0,1.0,3.0,2.0,3.0,1.0,1.0,1.0,2.0,1.0,2.0,1.0,1.0,2.0,5.0,1.0,2.0,3.0,2.0,2.0,2.0,2.0,2.0,2.0,6.0,1.0,2.0,2.0,2.0,2.0,1.0,4.0,2.0,1.0,2.0,1.0,3.0,1.0,1.0,2.0,2.0,2.0,2.0,2.0,4.0,1.0,1.0,4.0,2.0,1.0,2.0,2.0,2.0,2.0,1.0,5.0,2.0,3.0,1.0,2.0,1.0,2.0,3.0,1.0,3.0,2.0,1.0,1.0,2.0,2.0,1.0,3.0,3.0,2.0,2.0,3.0,1.0,1.0,2.0,2.0,2.0,1.0,3.0,1.0,2.0,2.0,1.0,2.0,2.0,2.0,1.0,1.0,2.0,2.0,2.0,2.0,2.0,1.0,2.0,2.0,1.0,1.0,4.0,2.0,2.0,2.0,2.0,5.0,2.0,2.0,1.0,1.0,1.0,2.0,2.0,2.0,1.0,4.0,1.0,2.0,1.0,2.0,3.0,3.0,1.0,2.0,3.0,1.0,1.0,3.0,1.0,1.0,2.0,4.0,6.0,2.0,2.0,1.0,3.0,2.0,1.0,1.0,3.0,2.0,1.0,2.0,3.0,2.0,2.0,2.0,2.0,2.0,1.0,4.0,3.0,1.0,2.0,3.0,2.0,1.0,2.0,2.0,2.0,2.0,2.0,2.0,1.0,1.0,2.0,2.0,1.0,2.0,1.0,3.0,1.0,2.0,2.0,4.0,2.0,2.0,2.0,1.0,2.0,2.0,2.0,1.0,3.0,2.0,2.0,2.0,1.0,4.0,2.0,2.0,2.0,1.0,1.0,2.0,4.0,1.0,2.0,2.0,2.0,2.0,2.0,2.0,1.0,1.0,2.0,1.0,4.0,2.0,2.0,2.0,3.0,3.0,1.0,2.0,1.0,1.0,4.0,2.0,2.0,2.0,1.0,4.0,2.0,1.0,3.0,1.0,2.0,3.0,3.0,1.0,2.0,2.0,2.0,1.0,2.0,2.0,2.0,2.0,1.0,2.0,1.0,2.0,2.0,2.0,7.0,2.0,2.0,1.0,2.0,1.0,1.0,1.0,2.0,2.0,1.0,2.0,4.0,1.0,1.0,1.0,2.0,2.0,0.0,5.0,2.0,1.0,3.0,1.0,3.0,2.0,2.0,2.0,4.0,1.0,2.0,2.0,2.0,1.0,1.0,2.0,2.0,2.0,2.0,1.0,1.0,1.0,1.0,1.0,1.0,2.0,2.0,1.0,2.0,3.0,2.0,3.0,3.0,2.0,2.0,1.0,2.0,2.0,2.0,2.0,2.0,6.0,2.0,2.0,1.0,1.0,1.0,1.0,1.0,2.0,2.0,2.0,2.0,1.0,1.0,2.0,1.0,2.0,3.0,1.0,2.0,3.0,2.0,3.0,2.0,2.0,1.0,1.0,2.0,2.0,8.0,3.0,2.0,1.0,3.0,2.0,1.0,1.0,2.0,2.0,1.0,1.0,1.0,1.0,1.0,1.0,2.0,3.0,3.0,2.0,2.0,3.0,2.0,2.0,2.0,2.0,2.0,2.0,1.0,2.0,2.0,3.0,1.0,1.0,2.0,1.0,3.0,2.0,2.0,3.0,2.0,2.0,2.0,2.0,2.0,1.0,2.0,2.0,1.0,1.0,7.0,1.0,1.0,1.0,2.0,3.0,2.0,3.0,2.0,1.0,2.0,10.0,2.0,4.0,1.0,2.0,1.0,2.0,2.0,2.0,2.0,1.0,2.0,1.0,1.0,1.0,3.0,1.0,4.0,1.0,1.0,2.0,3.0,2.0,1.0,1.0,2.0,2.0,2.0,2.0,1.0,2.0,1.0,1.0,11.0,2.0,2.0,2.0,10.0,1.0,2.0,2.0,1.0,2.0,2.0,2.0,2.0,1.0,2.0,2.0,2.0,1.0,5.0,2.0,1.0,3.0,2.0,1.0,2.0,1.0,4.0,1.0,2.0,2.0,3.0,2.0,4.0,1.0,1.0,2.0,2.0,2.0,2.0,2.0,1.0,2.0,1.0,2.0,1.0,2.0,4.0,1.0,3.0,2.0,3.0,2.0,2.0,2.0,1.0,4.0,2.0,1.0,2.0,2.0,1.0,5.0,1.0,1.0,1.0,2.0,2.0,1.0,2.0,2.0,1.0,1.0,2.0,2.0,1.0,2.0,2.0,1.0,1.0,3.0,2.0,3.0,1.0,1.0,2.0,3.0,4.0,1.0,3.0,2.0,1.0,2.0,2.0,2.0,2.0,1.0,2.0,3.0,4.0,1.0,2.0,1.0,7.0,5.0,1.0,1.0,1.0,1.0,1.0,2.0,1.0,7.0,2.0,2.0,3.0,3.0,2.0,1.0,2.0,2.0,2.0,4.0,2.0,2.0,2.0,1.0,3.0,1.0,1.0,2.0,1.0,2.0,1.0,2.0,2.0,2.0,1.0,5.0,3.0,1.0,2.0,2.0,1.0,2.0,2.0,2.0,3.0,2.0,2.0,2.0,2.0,1.0,2.0,6.0,1.0,2.0,3.0,1.0,1.0,3.0,1.0,2.0,1.0,1.0,1.0,2.0,2.0,3.0,2.0,1.0,6.0,1.0,2.0,1.0,2.0,2.0,2.0,2.0,1.0,2.0,2.0,2.0,4.0,1.0,4.0,1.0,2.0,1.0,2.0,2.0,2.0,1.0,1.0,1.0,3.0,2.0,2.0,1.0,3.0,2.0,2.0,5.0,1.0,3.0,1.0,1.0,4.0,2.0,2.0,3.0,1.0,2.0,2.0,2.0,1.0,1.0,1.0,3.0,2.0,1.0,1.0,2.0,1.0,2.0,2.0,2.0,3.0,2.0,1.0,1.0,5.0,2.0,2.0,1.0,3.0,2.0,1.0,2.0,3.0,2.0,1.0,3.0,2.0,1.0,2.0,2.0,1.0,2.0,5.0,2.0,3.0,2.0,2.0,2.0,2.0,1.0,6.0,4.0,1.0,4.0,1.0,1.0,2.0,2.0,1.0,2.0,2.0,3.0,2.0,2.0,1.0,1.0,2.0,3.0,2.0,3.0,2.0,1.0,1.0,2.0,1.0,5.0,3.0,3.0,1.0,1.0,3.0,1.0,2.0,1.0,1.0,2.0,1.0,2.0,2.0,1.0,2.0,4.0,2.0,1.0,4.0,1.0,3.0,1.0,1.0,1.0,2.0,2.0,1.0,4.0,2.0,2.0,2.0,3.0,3.0,1.0,1.0,2.0,2.0,2.0,2.0,3.0,1.0,2.0,1.0,1.0,1.0,3.0,1.0,1.0,1.0,1.0,3.0,1.0,1.0,2.0,2.0,1.0,2.0,2.0,2.0,1.0,1.0,3.0,2.0,1.0,1.0,2.0,2.0,1.0,1.0,2.0,2.0,1.0,2.0,2.0,3.0,2.0,1.0,2.0,2.0,2.0,2.0,2.0,2.0,2.0,2.0,2.0,3.0,1.0,6.0,1.0,2.0,2.0,1.0,3.0,2.0,1.0,2.0,5.0,1.0,2.0,2.0,2.0,3.0,2.0,3.0,2.0,2.0,5.0,2.0,4.0,2.0,3.0,1.0,2.0,1.0,2.0,1.0,5.0,2.0,2.0,5.0,1.0,2.0,2.0,2.0,2.0,2.0,2.0,2.0,4.0,1.0,1.0,2.0,2.0,1.0,2.0,8.0,4.0,2.0,2.0,2.0,1.0,1.0,2.0,2.0,2.0,1.0,2.0,3.0,1.0,1.0,2.0,2.0,1.0,2.0,2.0,1.0,2.0,2.0,1.0,1.0,1.0,2.0,2.0,1.0,1.0,2.0,2.0,2.0,2.0,2.0,1.0,1.0,1.0,2.0,2.0,2.0,1.0,4.0,2.0,2.0,3.0,2.0,2.0,2.0,2.0,1.0,1.0,1.0,2.0,3.0,5.0,2.0,2.0,2.0,2.0,1.0,3.0,1.0,1.0,2.0,2.0,1.0,2.0,1.0,2.0,1.0,2.0,1.0,1.0,2.0,1.0,1.0,2.0,2.0,1.0,1.0,2.0,3.0,2.0,1.0,2.0,1.0,2.0,2.0,1.0,1.0,2.0,2.0,2.0,1.0,2.0,2.0,2.0,1.0,1.0,1.0,1.0,1.0,1.0,2.0,1.0,1.0,2.0,3.0,1.0,2.0,4.0,2.0,1.0,3.0,2.0,1.0,4.0,1.0,1.0,4.0,2.0,2.0,1.0,2.0,4.0,2.0,2.0,1.0,2.0,1.0,2.0,1.0,2.0,2.0,2.0,1.0,1.0,4.0,6.0,1.0,2.0,0.0,2.0,2.0,3.0,2.0,2.0,3.0,1.0,2.0,2.0,1.0,3.0,1.0,2.0,2.0,1.0,3.0,3.0,4.0,1.0,3.0,0.0,3.0,1.0,2.0,1.0,2.0,2.0,1.0,2.0,2.0,2.0,2.0,1.0,1.0,5.0,2.0,1.0,1.0,1.0,5.0,2.0,3.0,2.0,1.0,1.0,1.0,1.0,4.0,2.0,2.0,2.0,1.0,2.0,1.0,2.0,2.0,1.0,3.0,1.0,3.0,4.0,2.0,1.0,4.0,1.0,2.0,2.0,1.0,2.0,2.0,2.0,2.0,1.0,2.0,2.0,2.0,1.0,2.0,1.0,2.0,2.0,2.0,2.0,2.0,2.0,1.0,2.0,2.0,2.0,2.0,1.0,2.0,1.0,3.0,1.0,2.0,2.0,2.0,1.0,2.0,2.0,3.0,4.0,1.0,2.0,1.0,4.0,1.0,0.0,1.0,1.0,2.0,2.0,1.0,3.0,1.0,3.0,1.0,3.0,2.0,4.0,2.0,2.0,2.0,2.0,1.0,2.0,1.0,2.0,1.0,1.0,2.0,2.0,2.0,1.0,6.0,1.0,4.0,7.0,2.0,1.0,3.0,2.0,2.0,1.0,3.0,2.0,2.0,2.0,3.0,2.0,1.0,2.0,1.0,1.0,1.0,2.0,2.0,2.0,3.0,2.0,3.0,2.0,1.0,3.0,2.0,3.0,2.0,2.0,1.0,3.0,2.0,1.0,1.0,1.0,2.0,4.0,2.0,1.0,1.0,2.0,3.0,2.0,2.0,1.0,2.0,5.0,1.0,2.0,1.0,2.0,1.0,5.0,2.0,2.0,2.0,2.0,2.0,3.0,2.0,2.0,3.0,10.0,2.0,2.0,2.0,2.0,1.0,1.0,2.0,3.0,3.0,1.0,1.0,1.0,1.0,1.0,3.0,6.0,1.0,3.0,2.0,1.0,2.0,2.0,1.0,1.0,2.0,1.0,1.0,2.0,2.0,3.0,1.0,0.0,1.0,2.0,2.0,4.0,0.0,3.0,3.0,2.0,1.0,1.0,4.0,1.0,1.0,2.0,1.0,3.0,1.0,3.0,1.0,2.0,2.0,2.0,1.0,2.0,2.0,2.0,2.0,3.0,4.0,2.0,2.0,2.0,2.0,2.0,2.0,3.0,1.0,2.0,2.0,2.0,2.0,3.0,3.0,5.0,1.0,1.0,1.0,2.0,2.0,2.0,1.0,2.0,2.0,2.0,3.0,4.0,4.0,2.0,3.0,1.0,2.0,2.0,2.0,2.0,2.0,3.0,2.0,2.0,6.0,2.0,2.0,1.0,5.0,1.0,2.0,2.0,1.0,2.0,1.0,1.0,2.0,1.0,2.0,4.0,1.0,2.0,2.0,6.0,1.0,2.0,4.0,2.0,1.0,2.0,1.0,2.0,3.0,2.0,2.0,6.0,1.0,1.0,1.0,2.0,1.0,2.0,1.0,2.0,1.0,2.0,2.0,3.0,2.0,2.0,2.0,1.0,1.0,1.0,3.0,2.0,1.0,1.0,1.0,2.0,10.0,2.0,2.0,2.0,2.0,2.0,2.0,1.0,2.0,2.0,4.0,2.0,1.0,2.0,1.0,2.0,1.0,2.0,1.0,2.0,2.0,2.0,2.0,2.0,2.0,2.0,1.0,2.0,3.0,1.0,2.0,4.0,2.0,2.0,2.0,2.0,3.0,2.0,2.0,3.0,2.0,1.0,4.0,2.0,1.0,3.0,2.0,2.0,2.0,2.0,2.0,3.0,1.0,2.0,1.0,2.0,3.0,2.0,1.0,1.0,3.0,2.0,4.0,2.0,1.0,1.0,4.0,2.0,2.0,2.0,1.0,1.0,1.0,5.0,3.0,2.0,2.0,2.0,2.0,2.0,1.0,2.0,2.0,2.0,4.0,1.0,2.0,2.0,2.0,1.0,1.0,2.0,1.0,1.0,2.0,2.0,5.0,2.0,1.0,2.0,7.0,1.0,1.0,1.0,2.0,1.0,2.0,2.0,3.0,1.0,1.0,2.0,1.0,2.0,2.0,3.0,1.0,4.0,2.0,2.0,2.0,2.0,1.0,1.0,1.0,1.0,2.0,1.0,2.0,2.0,1.0,1.0,2.0,1.0,2.0,3.0,1.0,2.0,2.0,2.0,2.0,2.0,1.0,5.0,1.0,1.0,1.0,1.0,2.0,1.0,2.0,2.0,4.0,1.0,4.0,2.0,1.0,2.0,2.0,1.0,2.0,2.0,2.0,2.0,1.0,1.0,1.0,1.0,2.0,2.0,2.0,4.0,1.0,4.0,1.0,3.0,2.0,2.0,2.0,1.0,2.0,5.0,2.0,2.0,1.0,1.0,3.0,2.0,2.0,2.0,2.0,1.0,2.0,2.0,2.0,2.0,1.0,2.0,2.0,2.0,4.0,2.0,1.0,2.0,2.0,2.0,2.0,2.0,1.0,3.0,1.0,2.0,2.0,1.0,1.0,2.0,2.0,1.0,1.0,2.0,1.0,1.0,2.0,5.0,1.0,1.0,2.0,1.0,2.0,2.0,1.0,1.0,1.0,6.0,2.0,2.0,4.0,2.0,3.0,2.0,2.0,1.0,2.0,1.0,3.0,2.0,2.0,2.0,1.0,2.0,1.0,1.0,0.0,1.0,2.0,4.0,1.0,2.0,null,1.0,1.0,1.0,1.0,1.0,3.0,2.0,2.0,2.0,1.0,1.0,2.0,2.0,2.0,2.0,2.0,2.0,2.0,2.0,2.0,5.0,1.0,2.0,1.0,1.0,2.0,5.0,2.0,2.0,1.0,2.0,4.0,1.0,1.0,3.0,1.0,2.0,2.0,2.0,1.0,2.0,1.0,2.0,2.0,3.0,0.0,3.0,5.0,2.0,1.0,3.0,2.0,2.0,5.0,2.0,2.0,1.0,1.0,2.0,2.0,3.0,2.0,3.0,1.0,2.0,2.0,1.0,1.0,2.0,1.0,1.0,2.0,1.0,2.0,1.0,1.0,1.0,2.0,2.0,2.0,2.0,2.0,3.0,1.0,1.0,3.0,1.0,2.0,2.0,1.0,2.0,1.0,2.0,2.0,2.0,1.0,2.0,2.0,2.0,1.0,2.0,3.0,1.0,2.0,2.0,2.0,2.0,2.0,2.0,1.0,2.0,2.0,3.0,2.0,4.0,1.0,2.0,3.0,2.0,1.0,1.0,1.0,2.0,1.0,2.0,2.0,2.0,2.0,1.0,1.0,7.0,1.0,4.0,1.0,3.0,3.0,2.0,3.0,1.0,1.0,3.0,3.0,2.0,1.0,2.0,3.0,3.0,1.0,2.0,2.0,1.0,2.0,1.0,1.0,2.0,1.0,2.0,1.0,1.0,4.0,2.0,1.0,1.0,1.0,3.0,1.0,2.0,5.0,1.0,3.0,2.0,2.0,1.0,1.0,1.0,2.0,1.0,2.0,2.0,1.0,6.0,2.0,3.0,2.0,1.0,2.0,0.0,2.0,3.0,1.0,2.0,2.0,1.0,2.0,3.0,2.0,1.0,1.0,2.0,3.0,2.0,1.0,2.0,1.0,3.0,3.0,2.0,2.0,1.0,2.0,1.0,2.0,2.0,2.0,1.0,2.0,6.0,1.0,2.0,2.0,8.0,1.0,1.0,1.0,1.0,2.0,2.0,2.0,1.0,1.0,2.0,2.0,2.0,1.0,2.0,1.0,1.0,2.0,2.0,2.0,1.0,2.0,1.0,3.0,2.0,3.0,2.0,2.0,3.0,1.0,4.0,2.0,2.0,2.0,2.0,1.0,3.0,2.0,2.0,1.0,5.0,1.0,1.0,1.0,2.0,2.0,1.0,3.0,1.0,5.0,2.0,3.0,2.0,2.0,2.0,2.0,2.0,1.0,3.0,1.0,4.0,3.0,1.0,2.0,2.0,2.0,2.0,2.0,2.0,2.0,1.0,3.0,2.0,4.0,2.0,2.0,2.0,3.0,2.0,3.0,2.0,1.0,2.0,1.0,1.0,2.0,1.0,2.0,2.0,1.0,2.0,2.0,2.0,2.0,2.0,7.0,2.0,2.0,2.0,2.0,2.0,2.0,2.0,2.0,3.0,2.0,3.0,1.0,1.0,1.0,2.0,1.0,2.0,1.0,1.0,5.0,1.0,1.0,1.0,null,null,null,null,3.0,2.0,2.0,1.0,1.0,1.0,2.0,2.0,2.0,3.0,2.0,2.0,1.0,3.0,1.0,3.0,2.0,1.0,3.0,2.0,1.0,2.0,2.0,2.0,2.0,1.0,1.0,1.0,2.0,2.0,1.0,2.0,4.0,2.0,2.0,3.0,2.0,2.0,3.0,2.0,3.0,1.0,2.0,3.0,1.0,3.0,3.0,1.0,1.0,2.0,1.0,1.0,2.0,1.0,1.0,1.0,2.0,1.0,2.0,1.0,1.0,1.0,2.0,2.0,3.0,2.0,5.0,1.0,1.0,2.0,1.0,1.0,6.0,3.0,1.0,1.0,2.0,1.0,2.0,1.0,1.0,2.0,5.0,4.0,2.0,1.0,2.0,1.0,2.0,1.0,2.0,1.0,2.0,1.0,1.0,2.0,1.0,1.0,1.0,2.0,1.0,1.0,2.0,2.0,2.0,2.0,2.0,2.0,2.0,3.0,2.0,2.0,2.0,1.0,1.0,2.0,2.0,2.0,1.0,1.0,1.0,2.0,3.0,5.0,3.0,2.0,3.0,2.0,0.0,2.0,1.0,1.0,2.0,1.0,1.0,3.0,2.0,2.0,2.0,2.0,2.0,1.0,2.0,1.0,1.0,2.0,2.0,3.0,3.0,4.0,1.0,1.0,2.0,1.0,3.0,1.0,1.0,1.0,3.0,1.0,3.0,1.0,1.0,2.0,1.0,2.0,1.0,3.0,1.0,1.0,1.0,3.0,2.0,3.0,1.0,1.0,6.0,3.0,3.0,1.0,1.0,2.0,1.0,1.0,2.0,4.0,2.0,1.0,2.0,2.0,2.0,3.0,2.0,2.0,2.0,2.0,2.0,1.0,2.0,2.0,2.0,2.0,1.0,2.0,1.0,2.0,1.0,1.0,1.0,2.0,2.0,5.0,2.0,2.0,3.0,2.0,2.0,2.0,3.0,2.0,2.0,3.0,2.0,2.0,1.0,2.0,2.0,1.0,2.0,1.0,2.0,2.0,2.0,3.0,2.0,2.0,1.0,1.0,1.0,1.0,1.0,3.0,2.0,2.0,2.0,2.0,2.0,2.0,2.0,2.0,4.0,1.0,2.0,2.0,2.0,3.0,2.0,1.0,3.0,3.0,2.0,1.0,2.0,3.0,2.0,2.0,2.0,2.0,2.0,1.0,1.0,2.0,1.0,2.0,1.0,3.0,1.0,2.0,2.0,1.0,1.0,2.0,5.0,4.0,2.0,2.0,1.0,1.0,2.0,2.0,4.0,1.0,3.0,1.0,2.0,2.0,3.0,1.0,1.0,1.0,2.0,2.0,2.0,2.0,2.0,2.0,1.0,1.0,1.0,1.0,1.0,2.0,2.0,2.0,1.0,2.0,1.0,2.0,1.0,3.0,5.0,4.0,1.0,1.0,1.0,2.0,2.0,1.0,1.0,2.0,2.0,2.0,4.0,2.0,1.0,4.0,4.0,2.0,2.0,2.0,1.0,2.0,2.0,1.0,2.0,2.0,2.0,2.0,2.0,2.0,1.0,2.0,2.0,4.0,1.0,3.0,3.0,3.0,2.0,3.0,2.0,5.0,2.0,2.0,2.0,2.0,3.0,2.0,2.0,2.0,3.0,2.0,3.0,2.0,1.0,1.0,2.0,2.0,1.0,1.0,1.0,3.0,2.0,1.0,3.0,3.0,2.0,1.0,2.0,3.0,1.0,2.0,2.0,1.0,4.0,6.0,2.0,2.0,2.0,1.0,1.0,2.0,2.0,3.0,2.0,1.0,1.0,1.0,1.0,2.0,2.0,1.0,2.0,2.0,2.0,1.0,2.0,4.0,1.0,2.0,2.0,2.0,2.0,4.0,2.0,2.0,1.0,2.0,3.0,1.0,2.0,2.0,2.0,1.0,1.0,1.0,2.0,2.0,1.0,1.0,1.0,2.0,1.0,2.0,1.0,1.0,1.0,2.0,4.0,2.0,3.0,1.0,2.0,2.0,3.0,2.0,2.0,1.0,3.0,7.0,2.0,2.0,2.0,3.0,1.0,1.0,1.0,2.0,2.0,1.0,1.0,1.0,1.0,2.0,1.0,1.0,3.0,1.0,2.0,2.0,3.0,2.0,2.0,2.0,1.0,2.0,4.0,2.0,2.0,1.0,2.0,null,null,3.0,2.0,2.0,2.0,1.0,3.0,1.0,1.0,1.0,4.0,4.0,1.0,2.0,1.0,1.0,4.0,1.0,1.0,2.0,2.0,2.0,1.0,4.0,1.0,3.0,3.0,2.0,2.0,3.0,1.0,1.0,2.0,3.0,3.0,2.0,2.0,2.0,2.0,1.0,2.0,2.0,2.0,1.0,4.0,2.0,3.0,3.0,1.0,1.0,3.0,2.0,2.0,2.0,1.0,2.0,2.0,4.0,2.0,5.0,1.0,2.0,2.0,1.0,3.0,2.0,2.0,2.0,1.0,2.0,2.0,2.0,2.0,4.0,1.0,3.0,1.0,2.0,3.0,0.0,2.0,2.0,1.0,5.0,3.0,1.0,2.0,1.0,1.0,2.0,2.0,1.0,2.0,2.0,2.0,2.0,1.0,2.0,5.0,2.0,1.0,3.0,2.0,1.0,2.0,2.0,1.0,1.0,2.0,1.0,2.0,1.0,1.0,3.0,1.0,4.0,1.0,1.0,1.0,2.0,1.0,2.0,2.0,3.0,1.0,1.0,3.0,1.0,2.0,1.0,1.0,1.0,2.0,3.0,1.0,1.0,2.0,3.0,1.0,2.0,3.0,1.0,1.0,2.0,6.0,2.0,1.0,3.0,2.0,1.0,1.0,1.0,1.0,3.0,1.0,1.0,1.0,3.0,2.0,1.0,1.0,2.0,1.0,2.0,1.0,2.0,1.0,2.0,2.0,2.0,1.0,2.0,2.0,1.0,1.0,2.0,1.0,2.0,1.0,1.0,1.0,2.0,2.0,5.0,1.0,2.0,4.0,2.0,7.0,2.0,2.0,1.0,2.0,3.0,1.0,4.0,1.0,2.0,2.0,1.0,1.0,2.0,1.0,2.0,2.0,1.0,2.0,1.0,3.0,1.0,2.0,1.0,1.0,1.0,1.0,2.0,3.0,1.0,2.0,2.0,2.0,2.0,1.0,2.0,1.0,2.0,1.0,2.0,3.0,1.0,2.0,1.0,2.0,1.0,3.0,2.0,2.0,1.0,4.0,2.0,1.0,2.0,2.0,2.0,1.0,1.0,2.0,1.0,2.0,1.0,3.0,2.0,1.0,2.0,1.0,4.0,2.0,2.0,1.0,1.0,1.0,2.0,2.0,1.0,4.0,2.0,2.0,3.0,1.0,1.0,2.0,2.0,2.0,2.0,2.0,2.0,4.0,2.0,3.0,2.0,3.0,1.0,2.0,1.0,5.0,2.0,2.0,1.0,2.0,1.0,2.0,2.0,2.0,3.0,3.0,3.0,1.0,3.0,1.0,1.0,1.0,1.0,2.0,1.0,1.0,2.0,1.0,1.0,1.0,2.0,2.0,6.0,1.0,1.0,2.0,2.0,2.0,2.0,2.0,1.0,1.0,1.0,2.0,2.0,2.0,2.0,2.0,1.0,2.0,3.0,2.0,4.0,2.0,1.0,1.0,2.0,1.0,2.0,5.0,1.0,1.0,1.0,1.0,1.0,1.0,2.0,1.0,9.0,2.0,1.0,2.0,2.0,1.0,2.0,3.0,2.0,1.0,1.0,1.0,2.0,1.0,2.0,2.0,1.0,1.0,2.0,2.0,2.0,2.0,2.0,1.0,3.0,2.0,8.0,3.0,2.0,3.0,1.0,2.0,1.0,2.0,3.0,2.0,2.0,2.0,1.0,2.0,2.0,2.0,1.0,1.0,2.0,1.0,1.0,1.0,1.0,1.0,2.0,3.0,3.0,2.0,1.0,1.0,2.0,2.0,2.0,1.0,2.0,0.0,1.0,2.0,2.0,2.0,2.0,3.0,2.0,2.0,2.0,2.0,2.0,1.0,1.0,2.0,1.0,1.0,2.0,2.0,1.0,2.0,1.0,3.0,1.0,2.0,2.0,1.0,1.0,2.0,2.0,2.0,2.0,1.0,1.0,1.0,2.0,1.0,2.0,1.0,1.0,2.0,2.0,2.0,2.0,3.0,1.0,2.0,2.0,1.0,2.0,2.0,2.0,2.0,7.0,2.0,2.0,1.0,1.0,2.0,2.0,1.0,2.0,4.0,3.0,1.0,2.0,2.0,2.0,2.0,2.0,2.0,1.0,3.0,1.0,4.0,1.0,2.0,2.0,2.0,2.0,1.0,2.0,2.0,2.0,3.0,1.0,2.0,2.0,2.0,2.0,2.0,5.0,3.0,1.0,2.0,2.0,2.0,2.0,2.0,2.0,1.0,1.0,1.0,4.0,3.0,2.0,1.0,2.0,2.0,1.0,1.0,2.0,2.0,1.0,1.0,1.0,2.0,2.0,2.0,2.0,2.0,1.0,1.0,2.0,1.0,2.0,1.0,2.0,3.0,2.0,2.0,2.0,2.0,1.0,2.0,1.0,2.0,2.0,2.0,3.0,2.0,1.0,2.0,1.0,2.0,3.0,4.0,1.0,1.0,1.0,1.0,2.0,1.0,3.0,2.0,2.0,2.0,2.0,3.0,2.0,2.0,2.0,2.0,2.0,4.0,1.0,2.0,2.0,1.0,2.0,2.0,1.0,3.0,1.0,2.0,7.0,1.0,1.0,2.0,1.0,2.0,3.0,1.0,1.0,1.0,1.0,1.0,1.0,3.0,2.0,3.0,2.0,4.0,1.0,1.0,2.0,1.0,2.0,2.0,1.0,2.0,2.0,1.0,2.0,2.0,2.0,3.0,1.0,1.0,6.0,2.0,1.0,1.0,1.0,2.0,2.0,2.0,1.0,2.0,3.0,2.0,1.0,2.0,2.0,2.0,1.0,4.0,2.0,1.0,1.0,1.0,3.0,3.0,1.0,1.0,2.0,2.0,1.0,1.0,1.0,4.0,2.0,2.0,1.0,1.0,1.0,2.0,2.0,1.0,2.0,1.0,2.0,2.0,1.0,1.0,2.0,3.0,2.0,2.0,2.0,1.0,2.0,2.0,2.0,1.0,1.0,3.0,1.0,3.0,3.0,2.0,2.0,2.0,1.0,1.0,1.0,2.0,6.0,2.0,1.0,1.0,4.0,1.0,2.0,2.0,2.0,2.0,2.0,2.0,2.0,4.0,2.0,2.0,1.0,2.0,2.0,2.0,1.0,2.0,2.0,1.0,2.0,3.0,1.0,1.0,2.0,2.0,2.0,2.0,2.0,1.0,1.0,1.0,1.0,2.0,3.0,1.0,1.0,2.0,2.0,5.0,1.0,2.0,2.0,1.0,2.0,2.0,1.0,3.0,1.0,1.0,7.0,2.0,2.0,1.0,1.0,1.0,3.0,2.0,2.0,1.0,1.0,1.0,1.0,1.0,0.0,1.0,3.0,2.0,2.0,1.0,2.0,1.0,1.0,1.0,2.0,1.0,3.0,2.0,2.0,1.0,2.0,1.0,2.0,1.0,1.0,1.0,3.0,3.0,2.0,2.0,3.0,2.0,3.0,1.0,2.0,1.0,2.0,1.0,2.0,3.0,1.0,2.0,1.0,2.0,1.0,2.0,2.0,1.0,2.0,2.0,3.0,2.0,2.0,1.0,2.0,2.0,3.0,5.0,2.0,3.0,2.0,3.0,1.0,1.0,1.0,1.0,2.0,2.0,4.0,2.0,1.0,3.0,2.0,1.0,1.0,1.0,2.0,1.0,2.0,2.0,2.0,2.0,1.0,2.0,2.0,3.0,2.0,2.0,3.0,2.0,1.0,1.0,2.0,0.0,0.0,3.0,2.0,2.0,2.0,2.0,1.0,1.0,1.0,1.0,2.0,3.0,2.0,1.0,3.0,2.0,1.0,1.0,3.0,1.0,1.0,2.0,2.0,2.0,2.0,1.0,2.0,2.0,1.0,1.0,3.0,2.0,1.0,1.0,2.0,2.0,3.0,2.0,2.0,3.0,1.0,1.0,3.0,1.0,2.0,1.0,1.0,2.0,2.0,4.0,2.0,1.0,5.0,1.0,2.0,2.0,2.0,2.0,2.0,3.0,2.0,2.0,2.0,1.0,1.0,4.0,1.0,3.0,4.0,2.0,1.0,1.0,1.0,2.0,1.0,2.0,1.0,1.0,1.0,1.0,2.0,3.0,1.0,2.0,4.0,2.0,1.0,6.0,1.0,4.0,1.0,1.0,2.0,2.0,2.0,2.0,2.0,2.0,1.0,2.0,1.0,1.0,2.0,3.0,2.0,4.0,2.0,2.0,1.0,1.0,1.0,1.0,2.0,8.0,1.0,1.0,2.0,4.0,2.0,2.0,3.0,3.0,2.0,2.0,1.0,3.0,1.0,2.0,1.0,0.0,1.0,2.0,1.0,1.0,1.0,4.0,2.0,2.0,2.0,2.0,2.0,2.0,1.0,2.0,2.0,2.0,2.0,1.0,2.0,2.0,2.0,2.0,2.0,2.0,1.0,5.0,3.0,2.0,1.0,2.0,1.0,1.0,1.0,2.0,2.0,1.0,1.0,2.0,3.0,1.0,3.0,2.0,1.0,1.0,2.0,3.0,1.0,2.0,1.0,4.0,1.0,1.0,2.0,2.0,1.0,1.0,2.0,1.0,2.0,3.0,3.0,4.0,1.0,2.0,1.0,3.0,1.0,2.0,1.0,1.0,1.0,2.0,2.0,2.0,5.0,2.0,2.0,2.0,1.0,2.0,1.0,2.0,4.0,2.0,1.0,4.0,3.0,1.0,1.0,1.0,1.0,2.0,2.0,6.0,2.0,2.0,0.0,2.0,1.0,1.0,1.0,4.0,1.0,1.0,2.0,2.0,4.0,2.0,2.0,1.0,1.0,2.0,2.0,3.0,2.0,2.0,2.0,1.0,1.0,1.0,2.0,1.0,2.0,1.0,2.0,1.0,3.0,1.0,3.0,2.0,1.0,2.0,2.0,2.0,2.0,1.0,1.0,3.0,2.0,4.0,2.0,1.0,2.0,1.0,1.0,2.0,2.0,1.0,1.0,2.0,3.0,1.0,2.0,1.0,2.0,2.0,2.0,5.0,1.0,2.0,3.0,2.0,2.0,4.0,1.0,2.0,2.0,2.0,2.0,1.0,3.0,2.0,2.0,2.0,2.0,2.0,1.0,2.0,2.0,1.0,1.0,1.0,1.0,2.0,1.0,1.0,5.0,2.0,2.0,2.0,2.0,1.0,2.0,3.0,1.0,2.0,3.0,1.0,1.0,2.0,1.0,1.0,3.0,1.0,2.0,2.0,2.0,2.0,1.0,1.0,1.0,2.0,5.0,2.0,2.0,2.0,2.0,2.0,3.0,2.0,4.0,1.0,1.0,1.0,1.0,5.0,1.0,1.0,1.0,1.0,2.0,2.0,4.0,2.0,2.0,1.0,2.0,2.0,2.0,2.0,1.0,1.0,2.0,2.0,2.0,1.0,1.0,2.0,1.0,2.0,2.0,1.0,2.0,1.0,2.0,1.0,1.0,6.0,1.0,2.0,1.0,2.0,1.0,1.0,2.0,1.0,1.0,3.0,2.0,1.0,3.0,3.0,3.0,1.0,4.0,1.0,1.0,2.0,2.0,2.0,1.0,2.0,1.0,3.0,1.0,2.0,1.0,2.0,2.0,1.0,4.0,1.0,2.0,2.0,2.0,2.0,1.0,2.0,2.0,3.0,3.0,1.0,1.0,2.0,2.0,1.0,2.0,1.0,2.0,1.0,2.0,2.0,4.0,2.0,2.0,2.0,1.0,2.0,2.0,1.0,3.0,2.0,2.0,2.0,2.0,3.0,2.0,1.0,1.0,1.0,2.0,2.0,2.0,1.0,2.0,1.0,2.0,2.0,1.0,1.0,1.0,1.0,2.0,4.0,1.0,2.0,5.0,2.0,1.0,6.0,2.0,2.0,5.0,2.0,1.0,1.0,2.0,4.0,2.0,1.0,2.0,2.0,1.0,2.0,2.0,2.0,8.0,9.0,2.0,2.0,1.0,2.0,6.0,2.0,5.0,2.0,2.0,2.0,2.0,2.0,1.0,1.0,2.0,2.0,1.0,1.0,5.0,2.0,2.0,1.0,2.0,2.0,1.0,2.0,2.0,2.0,5.0,3.0,2.0,2.0,2.0,2.0,1.0,2.0,4.0,2.0,1.0,1.0,1.0,2.0,1.0,1.0,1.0,2.0,1.0,2.0,2.0,2.0,2.0,2.0,2.0,2.0,3.0,2.0,1.0,1.0,3.0,1.0,2.0,1.0,2.0,4.0,3.0,3.0,1.0,2.0,1.0,2.0,2.0,1.0,1.0,1.0,1.0,3.0,1.0,3.0,2.0,2.0,1.0,3.0,1.0,2.0,2.0,2.0,1.0,1.0,2.0,1.0,1.0,1.0,1.0,5.0,2.0,2.0,2.0,2.0,2.0,2.0,2.0,2.0,2.0,2.0,2.0,2.0,1.0,4.0,2.0,1.0,2.0,2.0,2.0,1.0,2.0,1.0,1.0,2.0,1.0,2.0,2.0,2.0,3.0,2.0,4.0,2.0,2.0,2.0,3.0,1.0,1.0,5.0,1.0,2.0,3.0,3.0,2.0,5.0,1.0,3.0,1.0,2.0,2.0,2.0,1.0,2.0,4.0,3.0,2.0,3.0,2.0,1.0,1.0,1.0,2.0,2.0,1.0,1.0,2.0,2.0,2.0,4.0,2.0,2.0,8.0,1.0,2.0,2.0,1.0,3.0,4.0,2.0,3.0,2.0,1.0,1.0,1.0,2.0,2.0,2.0,1.0,1.0,1.0,1.0,2.0,1.0,2.0,6.0,1.0,3.0,2.0,2.0,1.0,1.0,2.0,2.0,1.0,1.0,2.0,2.0,2.0,2.0,3.0,1.0,2.0,2.0,1.0,1.0,2.0,4.0,1.0,2.0,2.0,3.0,3.0,2.0,1.0,2.0,2.0,1.0,2.0,1.0,2.0,2.0,null,null,null,null,null,null,null,1.0,4.0,1.0,2.0,2.0,1.0,2.0,1.0,1.0,2.0,2.0,1.0,2.0,2.0,1.0,1.0,3.0,2.0,5.0,1.0,1.0,1.0,1.0,3.0,2.0,1.0,2.0,2.0,2.0,2.0,1.0,4.0,0.0,2.0,2.0,1.0,2.0,2.0,1.0,2.0,2.0,1.0,2.0,2.0,2.0,2.0,1.0,2.0,1.0,3.0,1.0,2.0,2.0,3.0,2.0,2.0,2.0,2.0,2.0,2.0,2.0,4.0,2.0,1.0,1.0,2.0,1.0,1.0,5.0,1.0,2.0,4.0,1.0,4.0,1.0,2.0,4.0,2.0,2.0,3.0,2.0,2.0,2.0,2.0,1.0,1.0,2.0,1.0,2.0,2.0,2.0,2.0,1.0,1.0,2.0,1.0,2.0,2.0,1.0,1.0,4.0,2.0,3.0,4.0,3.0,2.0,2.0,2.0,2.0,2.0,2.0,1.0,2.0,2.0,1.0,2.0,1.0,1.0,1.0,1.0,2.0,3.0,2.0,2.0,1.0,7.0,1.0,1.0,2.0,1.0,1.0,2.0,5.0,1.0,1.0,5.0,4.0,5.0,1.0,2.0,1.0,1.0,2.0,1.0,2.0,1.0,1.0,2.0,2.0,5.0,3.0,1.0,3.0,2.0,2.0,2.0,2.0,1.0,2.0,1.0,5.0,2.0,2.0,2.0,1.0,2.0,2.0,1.0,2.0,1.0,2.0,1.0,2.0,1.0,1.0,2.0,1.0,1.0,2.0,2.0,2.0,2.0,1.0,2.0,6.0,2.0,1.0,1.0,1.0,1.0,1.0,1.0,2.0,2.0,2.0,2.0,1.0,2.0,1.0,1.0,2.0,2.0,2.0,1.0,1.0,1.0,2.0,1.0,1.0,3.0,4.0,2.0,2.0,4.0,2.0,1.0,2.0,1.0,2.0,3.0,2.0,2.0,3.0,1.0,2.0,4.0,1.0,2.0,2.0,2.0,3.0,3.0,4.0,3.0,2.0,2.0,1.0,2.0,1.0,1.0,2.0,2.0,2.0,2.0,2.0,4.0,3.0,3.0,2.0,3.0,2.0,3.0,2.0,6.0,1.0,4.0,2.0,2.0,1.0,4.0,2.0,2.0,1.0,2.0,3.0,1.0,1.0,1.0,2.0,2.0,1.0,2.0,2.0,4.0,2.0,3.0,2.0,2.0,1.0,4.0,1.0,2.0,2.0,2.0,4.0,1.0,1.0,2.0,1.0,3.0,1.0,1.0,2.0,1.0,1.0,1.0,2.0,1.0,2.0,3.0,2.0,3.0,2.0,2.0,0.0,2.0,2.0,2.0,1.0,2.0,2.0,2.0,2.0,2.0,3.0,1.0,1.0,1.0,2.0,1.0,2.0,2.0,3.0,2.0,1.0,2.0,3.0,2.0,2.0,2.0,1.0,2.0,1.0,2.0,1.0,2.0,2.0,1.0,2.0,2.0,2.0,2.0,2.0,2.0,2.0,1.0,1.0,2.0,2.0,3.0,1.0,2.0,2.0,2.0,3.0,2.0,1.0,1.0,1.0,2.0,3.0,2.0,2.0,2.0,3.0,2.0,1.0,1.0,2.0,2.0,1.0,2.0,2.0,1.0,1.0,3.0,3.0,3.0,2.0,2.0,2.0,1.0,2.0,1.0,1.0,1.0,1.0,2.0,3.0,2.0,2.0,2.0,3.0,2.0,1.0,2.0,1.0,1.0,2.0,1.0,3.0,1.0,3.0,2.0,1.0,5.0,2.0,7.0,3.0,2.0,1.0,1.0,2.0,2.0,2.0,1.0,3.0,3.0,4.0,1.0,2.0,1.0,2.0,1.0,2.0,2.0,5.0,1.0,1.0,6.0,2.0,2.0,1.0,4.0,3.0,6.0,1.0,1.0,7.0,2.0,2.0,2.0,2.0,2.0,1.0,2.0,4.0,4.0,1.0,2.0,1.0,2.0,2.0,2.0,1.0,1.0,2.0,2.0,1.0,4.0,1.0,1.0,2.0,1.0,1.0,7.0,3.0,2.0,1.0,3.0,3.0,2.0,2.0,2.0,2.0,2.0,3.0,1.0,1.0,2.0,2.0,2.0,1.0,1.0,1.0,4.0,3.0,2.0,2.0,1.0,2.0,3.0,2.0,2.0,3.0,1.0,2.0,2.0,2.0,2.0,2.0,2.0,1.0,1.0,2.0,2.0,1.0,3.0,2.0,2.0,2.0,1.0,1.0,2.0,4.0,2.0,1.0,1.0,2.0,2.0,2.0,1.0,2.0,2.0,1.0,1.0,1.0,2.0,2.0,1.0,5.0,2.0,2.0,2.0,2.0,3.0,3.0,2.0,1.0,3.0,2.0,5.0,1.0,3.0,2.0,1.0,3.0,2.0,1.0,2.0,2.0,1.0,1.0,2.0,1.0,2.0,4.0,2.0,0.0,2.0,1.0,1.0,1.0,1.0,2.0,5.0,1.0,2.0,1.0,1.0,2.0,1.0,2.0,3.0,3.0,2.0,1.0,1.0,2.0,2.0,2.0,2.0,2.0,1.0,2.0,2.0,2.0,2.0,1.0,2.0,2.0,3.0,1.0,2.0,2.0,2.0,2.0,1.0,2.0,1.0,1.0,2.0,2.0,2.0,5.0,1.0,1.0,1.0,3.0,1.0,2.0,1.0,2.0,2.0,1.0,1.0,4.0,1.0,2.0,2.0,1.0,1.0,2.0,2.0,3.0,3.0,1.0,2.0,2.0,2.0,2.0,3.0,1.0,2.0,2.0,4.0,4.0,3.0,1.0,1.0,3.0,2.0,5.0,1.0,2.0,1.0,2.0,2.0,1.0,2.0,2.0,1.0,2.0,2.0,2.0,1.0,1.0,1.0,1.0,1.0,1.0,1.0,1.0,2.0,4.0,1.0,2.0,1.0,10.0,2.0,1.0,3.0,1.0,3.0,1.0,2.0,1.0,2.0,2.0,5.0,1.0,1.0,2.0,2.0,1.0,2.0,3.0,2.0,1.0,2.0,1.0,1.0,2.0,2.0,1.0,3.0,3.0,1.0,2.0,2.0,3.0,2.0,4.0,2.0,1.0,3.0,2.0,1.0,2.0,2.0,1.0,2.0,1.0,2.0,2.0,1.0,2.0,3.0,1.0,2.0,2.0,2.0,2.0,2.0,1.0,2.0,2.0,3.0,1.0,1.0,2.0,3.0,2.0,1.0,3.0,1.0,2.0,2.0,2.0,2.0,1.0,1.0,1.0,2.0,2.0,3.0,2.0,2.0,2.0,1.0,1.0,1.0,2.0,2.0,2.0,2.0,2.0,1.0,2.0,2.0,1.0,2.0,1.0,2.0,1.0,5.0,1.0,1.0,2.0,3.0,4.0,2.0,1.0,1.0,1.0,2.0,2.0,2.0,1.0,1.0,2.0,1.0,2.0,1.0,4.0,2.0,5.0,0.0,1.0,2.0,2.0,2.0,1.0,2.0,1.0,2.0,2.0,3.0,3.0,3.0,2.0,2.0,2.0,1.0,1.0,2.0,2.0,2.0,1.0,2.0,2.0,3.0,2.0,1.0,1.0,3.0,1.0,1.0,1.0,4.0,1.0,3.0,3.0,4.0,3.0,1.0,1.0,1.0,2.0,1.0,2.0,1.0,2.0,2.0,2.0,2.0,2.0,2.0,1.0,1.0,1.0,1.0,1.0,2.0,1.0,2.0,2.0,2.0,2.0,2.0,2.0,2.0,1.0,3.0,3.0,2.0,1.0,0.0,2.0,2.0,1.0,1.0,5.0,1.0,1.0,2.0,2.0,2.0,2.0,2.0,2.0,2.0,6.0,1.0,1.0,1.0,5.0,2.0,1.0,2.0,2.0,1.0,5.0,2.0,2.0,2.0,1.0,2.0,2.0,2.0,2.0,1.0,1.0,2.0,1.0,3.0,1.0,3.0,1.0,1.0,2.0,1.0,4.0,1.0,4.0,3.0,1.0,2.0,2.0,3.0,4.0,1.0,2.0,1.0,2.0,1.0,4.0,2.0,2.0,1.0,2.0,3.0,2.0,2.0,1.0,2.0,2.0,2.0,1.0,1.0,3.0,2.0,7.0,2.0,2.0,1.0,4.0,2.0,3.0,2.0,2.0,2.0,2.0,1.0,2.0,2.0,3.0,1.0,1.0,2.0,2.0,2.0,2.0,1.0,2.0,1.0,3.0,2.0,2.0,2.0,1.0,1.0,1.0,4.0,2.0,2.0,2.0,2.0,1.0,1.0,1.0,2.0,1.0,2.0,2.0,3.0,1.0,2.0,1.0,5.0,1.0,1.0,2.0,3.0,5.0,3.0,1.0,1.0,1.0,2.0,1.0,3.0,3.0,1.0,2.0,1.0,2.0,1.0,1.0,2.0,3.0,2.0,1.0,3.0,1.0,1.0,1.0,2.0,2.0,2.0,1.0,2.0,1.0,2.0,1.0,2.0,3.0,2.0,2.0,3.0,1.0,1.0,1.0,1.0,0.0,1.0,2.0,1.0,2.0,2.0,1.0,2.0,1.0,1.0,2.0,2.0,2.0,2.0,3.0,1.0,1.0,1.0,2.0,4.0,1.0,2.0,2.0,2.0,2.0,1.0,2.0,2.0,2.0,2.0,0.0,1.0,2.0,1.0,2.0,1.0,1.0,2.0,2.0,1.0,1.0,4.0,1.0,3.0,2.0,1.0,2.0,3.0,2.0,2.0,1.0,1.0,2.0,1.0,6.0,2.0,2.0,1.0,1.0,2.0,2.0,2.0,3.0,3.0,2.0,1.0,1.0,1.0,2.0,1.0,4.0,2.0,2.0,1.0,1.0,2.0,1.0,2.0,5.0,1.0,1.0,1.0,1.0,2.0,2.0,2.0,2.0,6.0,1.0,1.0,4.0,2.0,2.0,2.0,1.0,2.0,4.0,2.0,1.0,4.0,3.0,3.0,10.0,1.0,2.0,2.0,1.0,2.0,1.0,2.0,1.0,0.0,2.0,2.0,1.0,1.0,1.0,1.0,1.0,2.0,1.0,2.0,2.0,2.0,2.0,1.0,2.0,3.0,2.0,2.0,2.0,3.0,0.0,2.0,3.0,2.0,2.0,2.0,3.0,1.0,2.0,2.0,2.0,3.0,2.0,2.0,3.0,2.0,1.0,2.0,2.0,6.0,1.0,2.0,2.0,3.0,1.0,2.0,2.0,2.0,3.0,5.0,4.0,2.0,1.0,1.0,2.0,1.0,3.0,1.0,2.0,2.0,5.0,2.0,2.0,2.0,2.0,3.0,1.0,2.0,2.0,2.0,4.0,1.0,2.0,0.0,2.0,1.0,1.0,1.0,2.0,2.0,4.0,4.0,2.0,1.0,1.0,1.0,1.0,1.0,1.0,2.0,3.0,1.0,1.0,6.0,2.0,1.0,1.0,1.0,2.0,1.0,2.0,4.0,2.0,2.0,2.0,2.0,1.0,2.0,1.0,2.0,1.0,1.0,3.0,2.0,1.0,1.0,2.0,2.0,1.0,1.0,2.0,2.0,1.0,2.0,3.0,1.0,2.0,1.0,2.0,1.0,2.0,2.0,2.0,1.0,2.0,3.0,1.0,2.0,2.0,1.0,3.0,1.0,3.0,2.0,2.0,2.0,2.0,2.0,2.0,2.0,1.0,2.0,1.0,2.0,2.0,2.0,2.0,1.0,2.0,1.0,2.0,1.0,2.0,2.0,2.0,1.0,2.0,2.0,2.0,6.0,1.0,2.0,2.0,1.0,1.0,2.0,2.0,2.0,1.0,1.0,2.0,2.0,4.0,1.0,2.0,1.0,2.0,3.0,2.0,3.0,3.0,1.0,1.0,1.0,3.0,2.0,1.0,1.0,1.0,2.0,2.0,1.0,2.0,1.0,1.0,2.0,2.0,1.0,2.0,1.0,2.0,3.0,2.0,2.0,2.0,2.0,2.0,2.0,2.0,1.0,4.0,1.0,2.0,2.0,2.0,1.0,1.0,2.0,1.0,2.0,3.0,4.0,2.0,2.0,1.0,2.0,6.0,1.0,2.0,2.0,1.0,1.0,2.0,3.0,2.0,3.0,3.0,2.0,2.0,2.0,2.0,1.0,2.0,1.0,6.0,2.0,2.0,3.0,2.0,1.0,2.0,1.0,2.0,5.0,1.0,1.0,1.0,2.0,1.0,3.0,2.0,2.0,2.0,7.0,1.0,2.0,2.0,1.0,2.0,2.0,1.0,2.0,2.0,2.0,2.0,2.0,2.0,4.0,2.0,2.0,3.0,1.0,3.0,2.0,2.0,1.0,3.0,2.0,2.0,2.0,2.0,2.0,2.0,1.0,2.0,2.0,2.0,1.0,2.0,2.0,2.0,2.0,2.0,2.0,1.0,2.0,2.0,3.0,2.0,2.0,1.0,2.0,2.0,2.0,2.0,1.0,1.0,3.0,3.0,1.0,2.0,1.0,4.0,2.0,2.0,1.0,2.0,2.0,2.0,2.0,2.0,7.0,2.0,2.0,5.0,5.0,1.0,1.0,2.0,2.0,3.0,2.0,2.0,3.0,1.0,1.0,2.0,4.0,6.0,1.0,3.0,1.0,2.0,2.0,1.0,3.0,1.0,3.0,2.0,1.0,1.0,2.0,1.0,2.0,3.0,2.0,1.0,2.0,1.0,1.0,2.0,1.0,2.0,1.0,2.0,8.0,1.0,2.0,1.0,4.0,1.0,2.0,2.0,2.0,2.0,4.0,2.0,2.0,2.0,1.0,1.0,2.0,2.0,2.0,2.0,2.0,2.0,2.0,2.0,3.0,1.0,2.0,2.0,2.0,1.0,2.0,4.0,1.0,2.0,2.0,2.0,1.0,1.0,1.0,3.0,1.0,2.0,2.0,1.0,2.0,1.0,3.0,2.0,1.0,2.0,3.0,2.0,1.0,2.0,1.0,4.0,2.0,2.0,1.0,3.0,4.0,1.0,1.0,2.0,2.0,5.0,2.0,2.0,1.0,0.0,3.0,1.0,2.0,1.0,2.0,1.0,2.0,1.0,1.0,2.0,3.0,0.0,1.0,1.0,2.0,2.0,2.0,1.0,1.0,2.0,2.0,3.0,1.0,2.0,2.0,1.0,1.0,1.0,1.0,2.0,1.0,2.0,1.0,2.0,4.0,1.0,1.0,2.0,2.0,2.0,1.0,2.0,1.0,1.0,2.0,1.0,2.0,2.0,2.0,2.0,4.0,1.0,2.0,2.0,1.0,1.0,2.0,1.0,1.0,1.0,2.0,2.0,1.0,2.0,1.0,1.0,1.0,2.0,2.0,2.0,2.0,1.0,2.0,1.0,2.0,1.0,5.0,1.0,2.0,2.0,1.0,3.0,2.0,2.0,1.0,2.0,2.0,2.0,1.0,2.0,2.0,2.0,1.0,2.0,2.0,1.0,1.0,2.0,2.0,3.0,2.0,2.0,1.0,3.0,2.0,2.0,2.0,2.0,2.0,1.0,1.0,1.0,2.0,3.0,2.0,2.0,1.0,2.0,1.0,3.0,3.0,2.0,1.0,5.0,1.0,1.0,3.0,3.0,1.0,5.0,2.0,2.0,2.0,3.0,1.0,1.0,3.0,2.0,1.0,3.0,1.0,2.0,3.0,2.0,2.0,2.0,4.0,4.0,1.0,2.0,1.0,2.0,2.0,1.0,1.0,5.0,2.0,2.0,1.0,1.0,2.0,1.0,3.0,2.0,1.0,2.0,1.0,2.0,1.0,1.0,2.0,1.0,1.0,5.0,1.0,1.0,1.0,1.0,2.0,1.0,2.0,1.0,1.0,4.0,4.0,1.0,2.0,1.0,3.0,3.0,1.0,1.0,1.0,6.0,2.0,3.0,1.0,2.0,2.0,2.0,1.0,2.0,1.0,2.0,2.0,1.0,1.0,2.0,2.0,2.0,2.0,1.0,1.0,2.0,1.0,1.0,4.0,1.0,1.0,1.0,1.0,1.0,2.0,2.0,1.0,4.0,2.0,2.0,2.0,2.0,2.0,1.0,2.0,0.0,2.0,2.0,1.0,2.0,2.0,2.0,1.0,1.0,2.0,1.0,2.0,1.0,1.0,2.0,3.0,1.0,2.0,1.0,1.0,2.0,1.0,1.0,2.0,2.0,2.0,4.0,2.0,1.0,2.0,2.0,2.0,1.0,2.0,2.0,2.0,1.0,2.0,1.0,2.0,1.0,2.0,1.0,1.0,2.0,1.0,3.0,1.0,2.0,2.0,1.0,2.0,1.0,1.0,1.0,1.0,3.0,1.0,2.0,2.0,2.0,1.0,2.0,2.0,1.0,1.0,1.0,2.0,2.0,2.0,2.0,1.0,1.0,1.0,2.0,2.0,3.0,2.0,4.0,2.0,2.0,1.0,3.0,1.0,2.0,1.0,2.0,1.0,2.0,0.0,2.0,2.0,1.0,2.0,2.0,2.0,2.0,3.0,1.0,2.0,2.0,2.0,2.0,3.0,2.0,1.0,2.0,1.0,1.0,2.0,2.0,2.0,1.0,2.0,2.0,2.0,4.0,2.0,1.0,4.0,1.0,2.0,1.0,2.0,1.0,3.0,5.0,2.0,1.0,1.0,1.0,1.0,3.0,1.0,3.0,1.0,1.0,3.0,1.0,2.0,1.0,1.0,1.0,1.0,2.0,2.0,1.0,4.0,2.0,3.0,2.0,3.0,1.0,1.0,1.0,4.0,3.0,1.0,1.0,3.0,3.0,2.0,1.0,2.0,1.0,2.0,2.0,1.0,2.0,2.0,1.0,4.0,2.0,2.0,2.0,3.0,1.0,3.0,2.0,2.0,0.0,3.0,2.0,2.0,2.0,2.0,2.0,1.0,1.0,3.0,2.0,2.0,1.0,1.0,4.0,2.0,4.0,2.0,0.0,2.0,2.0,1.0,1.0,2.0,1.0,2.0,1.0,1.0,4.0,1.0,2.0,2.0,2.0,3.0,3.0,2.0,2.0,1.0,1.0,1.0,2.0,1.0,2.0,1.0,3.0,2.0,2.0,2.0,2.0,2.0,1.0,1.0,2.0,2.0,1.0,1.0,2.0,6.0,2.0,4.0,1.0,3.0,1.0,1.0,1.0,2.0,1.0,3.0,1.0,2.0,3.0,1.0,1.0,1.0,3.0,2.0,2.0,2.0,2.0,2.0,1.0,2.0,4.0,1.0,2.0,3.0,3.0,5.0,3.0,2.0,2.0,2.0,2.0,1.0,2.0,1.0,2.0,2.0,2.0,5.0,1.0,2.0,3.0,3.0,1.0,1.0,1.0,2.0,1.0,2.0,1.0,1.0,2.0,3.0,2.0,1.0,3.0,1.0,1.0,2.0,4.0,2.0,3.0,2.0,1.0,1.0,1.0,2.0,2.0,1.0,1.0,4.0,2.0,1.0,1.0,1.0,1.0,8.0,1.0,1.0,3.0,1.0,2.0,4.0,2.0,1.0,2.0,1.0,1.0,2.0,3.0,1.0,2.0,2.0,3.0,4.0,2.0,2.0,2.0,4.0,2.0,1.0,2.0,2.0,2.0,1.0,1.0,2.0,2.0,3.0,4.0,1.0,1.0,2.0,2.0,1.0,2.0,3.0,2.0,2.0,2.0,2.0,1.0,1.0,2.0,2.0,1.0,3.0,2.0,2.0,2.0,2.0,3.0,4.0,3.0,2.0,2.0,2.0,1.0,2.0,2.0,3.0,1.0,2.0,4.0,1.0,1.0,1.0,2.0,1.0,3.0,2.0,1.0,5.0,4.0,3.0,2.0,2.0,2.0,2.0,1.0,4.0,1.0,1.0,2.0,1.0,2.0,2.0,2.0,1.0,3.0,2.0,2.0,2.0,1.0,1.0,2.0,2.0,2.0,3.0,1.0,0.0,2.0,7.0,2.0,2.0,2.0,2.0,2.0,2.0,4.0,2.0,4.0,2.0,3.0,3.0,2.0,1.0,2.0,2.0,1.0,2.0,1.0,3.0,1.0,2.0,1.0,2.0,2.0,2.0,1.0,2.0,2.0,1.0,2.0,1.0,1.0,2.0,2.0,3.0,4.0,2.0,1.0,1.0,1.0,2.0,10.0,2.0,2.0,1.0,2.0,4.0,1.0,1.0,2.0,1.0,4.0,1.0,1.0,1.0,2.0,2.0,2.0,1.0,2.0,1.0,2.0,2.0,1.0,2.0,2.0,1.0,0.0,1.0,1.0,1.0,7.0,1.0,1.0,1.0,3.0,2.0,2.0,1.0,1.0,2.0,5.0,1.0,2.0,1.0,2.0,2.0,1.0,1.0,1.0,2.0,2.0,1.0,2.0,1.0,1.0,2.0,1.0,2.0,1.0,2.0,2.0,2.0,1.0,1.0,1.0,1.0,2.0,1.0,3.0,1.0,2.0,2.0,1.0,2.0,3.0,1.0,2.0,1.0,2.0,1.0,2.0,2.0,1.0,1.0,3.0,2.0,1.0,3.0,1.0,3.0,2.0,2.0,2.0,1.0,1.0,1.0,2.0,1.0,1.0,2.0,2.0,2.0,1.0,1.0,2.0,1.0,2.0,1.0,2.0,4.0,2.0,2.0,2.0,2.0,2.0,1.0,3.0,1.0,2.0,1.0,4.0,2.0,2.0,2.0,2.0,2.0,2.0,2.0,2.0,2.0,2.0,1.0,2.0,3.0,1.0,4.0,2.0,2.0,2.0,2.0,1.0,2.0,2.0,1.0,1.0,2.0,2.0,4.0,2.0,2.0,1.0,1.0,3.0,1.0,1.0,2.0,2.0,1.0,1.0,1.0,2.0,1.0,2.0,5.0,2.0,3.0,2.0,1.0,2.0,1.0,2.0,1.0,1.0,2.0,2.0,1.0,1.0,1.0,2.0,2.0,2.0,3.0,2.0,2.0,1.0,1.0,2.0,2.0,0.0,1.0,2.0,1.0,1.0,2.0,2.0,2.0,1.0,2.0,2.0,1.0,2.0,2.0,2.0,1.0,2.0,2.0,2.0,5.0,2.0,1.0,5.0,8.0,7.0,3.0,9.0,7.0,2.0,2.0,4.0,8.0,7.0,4.0,3.0,3.0,2.0,5.0,4.0,3.0,4.0,5.0,4.0,5.0,3.0,4.0,6.0,2.0,4.0,4.0,4.0,6.0,5.0,2.0,1.0,1.0,4.0,1.0,2.0,3.0,4.0,8.0,11.0,2.0,2.0,7.0,3.0,9.0,4.0,4.0,6.0,7.0,1.0,4.0,5.0,4.0,7.0,5.0,12.0,5.0,2.0,6.0,2.0,3.0,3.0,7.0,2.0,7.0,1.0,3.0,2.0,5.0,3.0,3.0,2.0,6.0,10.0,4.0,2.0,3.0,6.0,6.0,5.0,4.0,5.0,3.0,1.0,9.0,4.0,1.0,2.0,2.0,4.0,4.0,5.0,5.0,1.0,7.0,6.0,2.0,4.0,2.0,1.0,7.0,7.0,7.0,4.0,6.0,3.0,7.0,5.0,1.0,6.0,6.0,3.0,13.0,6.0,10.0,2.0,10.0,2.0,5.0,3.0,5.0,4.0,2.0,7.0,6.0,10.0,7.0,3.0,4.0,1.0,1.0,8.0,1.0,1.0,7.0,14.0,3.0,9.0,6.0,3.0,2.0,2.0,1.0,3.0,1.0,1.0,6.0,12.0,2.0,2.0,5.0,9.0,3.0,9.0,5.0,8.0,2.0,4.0,5.0,5.0,2.0,7.0,7.0,4.0,5.0,6.0,6.0,12.0,4.0,4.0,8.0,13.0,10.0,2.0,3.0,4.0,4.0,4.0,13.0,4.0,7.0,7.0,3.0,1.0,2.0,5.0,12.0,8.0,4.0,12.0,2.0,6.0,5.0,4.0,5.0,6.0,13.0,6.0,7.0,8.0,1.0,3.0,3.0,1.0,3.0,9.0,2.0,9.0,3.0,6.0,10.0,8.0,1.0,8.0,5.0,4.0,1.0,2.0,10.0,2.0,4.0,10.0,1.0,1.0,1.0,4.0,3.0,6.0,1.0,12.0,2.0,4.0,3.0,11.0,15.0,1.0,7.0,3.0,1.0,5.0,2.0,9.0,8.0,4.0,5.0,3.0,4.0,6.0,4.0,4.0,12.0,3.0,1.0,5.0,2.0,4.0,3.0,8.0,7.0,3.0,6.0,3.0,3.0,5.0,5.0,7.0,5.0,2.0,2.0,2.0,5.0,10.0,4.0,3.0,1.0,1.0,8.0,2.0,3.0,2.0,5.0,8.0,4.0,4.0,2.0,3.0,5.0,3.0,9.0,7.0,2.0,6.0,6.0,6.0,3.0,3.0,5.0,8.0,3.0,4.0,4.0,10.0,10.0,3.0,5.0,9.0,7.0,2.0,11.0,3.0,8.0,3.0,8.0,3.0,5.0,2.0,2.0,6.0,7.0,4.0,1.0,11.0,4.0,6.0,3.0,2.0,3.0,5.0,4.0,5.0,2.0,3.0,1.0,7.0,7.0,6.0,4.0,12.0,4.0,5.0,7.0,2.0,8.0,3.0,8.0,1.0,2.0,11.0,5.0,6.0,1.0,4.0,1.0,3.0,3.0,8.0,4.0,8.0,8.0,2.0,1.0,2.0,7.0,8.0,5.0,6.0,13.0,5.0,1.0,5.0,3.0,2.0,3.0,2.0,5.0,5.0,10.0,4.0,6.0,6.0,1.0,6.0,3.0,5.0,8.0,4.0,3.0,3.0,3.0,4.0,5.0,7.0,1.0,3.0,3.0,1.0,8.0,6.0,1.0,8.0,2.0,2.0,4.0,11.0,4.0,4.0,1.0,2.0,5.0,9.0,7.0,2.0,4.0,2.0,4.0,4.0,1.0,3.0,2.0,3.0,5.0,7.0,8.0,3.0,11.0,3.0,3.0,5.0,2.0,2.0,8.0,1.0,4.0,5.0,6.0,5.0,3.0,7.0,5.0,6.0,3.0,2.0,1.0,1.0,4.0,6.0,8.0,10.0,2.0,7.0,5.0,8.0,8.0,6.0,3.0,1.0,7.0,3.0,7.0,5.0,6.0,4.0,7.0,6.0,6.0,10.0,4.0,7.0,1.0,6.0,4.0,7.0,2.0,2.0,12.0,12.0,5.0,2.0,9.0,7.0,4.0,4.0,8.0,6.0,7.0,2.0,10.0,4.0,18.0,3.0,6.0,2.0,6.0,5.0,9.0,1.0,6.0,4.0,2.0,6.0,1.0,9.0,1.0,6.0,5.0,10.0,4.0,6.0,5.0,9.0,4.0,3.0,9.0,2.0,6.0,3.0,6.0,9.0,5.0,8.0,2.0,7.0,6.0,2.0,10.0,3.0,8.0,2.0,6.0,9.0,10.0,2.0,3.0,9.0,10.0,3.0,2.0,5.0,1.0,3.0,2.0,5.0,8.0,6.0,9.0,5.0,8.0,7.0,3.0,3.0,3.0,5.0,1.0,4.0,1.0,10.0,6.0,7.0,2.0,1.0,2.0,3.0,7.0,6.0,1.0,4.0,1.0,8.0,9.0,6.0,4.0,8.0,3.0,12.0,10.0,9.0,4.0,3.0,9.0,8.0,4.0,6.0,5.0,1.0,7.0,2.0,5.0,8.0,2.0,1.0,2.0,2.0,5.0,3.0,12.0,3.0,5.0,1.0,9.0,6.0,4.0,8.0,2.0,6.0,6.0,12.0,3.0,4.0,9.0,2.0,7.0,8.0,14.0,6.0,3.0,7.0,7.0,3.0,9.0,6.0,2.0,6.0,2.0,4.0,3.0,5.0,3.0,6.0,4.0,4.0,3.0,3.0,2.0,7.0,4.0,1.0,6.0,1.0,6.0,12.0,17.0,1.0,3.0,3.0,4.0,7.0,3.0,3.0,3.0,7.0,1.0,6.0,6.0,6.0,2.0,8.0,3.0,7.0,1.0,7.0,5.0,2.0,2.0,6.0,4.0,6.0,6.0,3.0,4.0,5.0,3.0,11.0,3.0,5.0,12.0,6.0,6.0,6.0,9.0,5.0,3.0,12.0,6.0,4.0,2.0,5.0,7.0,6.0,9.0,6.0,3.0,4.0,10.0,3.0,3.0,2.0,3.0,2.0,2.0,5.0,4.0,9.0,3.0,1.0,1.0,3.0,3.0,5.0,6.0,1.0,8.0,2.0,8.0,4.0,10.0,4.0,13.0,5.0,8.0,6.0,7.0,1.0,13.0,10.0,3.0,6.0,3.0,2.0,4.0,7.0,2.0,5.0,5.0,3.0,1.0,8.0,4.0,3.0,2.0,8.0,10.0,5.0,12.0,5.0,8.0,7.0,3.0,3.0,6.0,7.0,3.0,3.0,5.0,6.0,5.0,3.0,4.0,2.0,8.0,3.0,7.0,8.0,5.0,3.0,3.0,4.0,12.0,2.0,3.0,4.0,10.0,4.0,8.0,7.0,8.0,5.0,6.0,3.0,6.0,2.0,7.0,2.0,1.0,2.0,4.0,3.0,2.0,2.0,8.0,2.0,5.0,1.0,5.0,2.0,6.0,2.0,8.0,1.0,8.0,1.0,2.0,1.0,4.0,3.0,3.0,9.0,7.0,1.0,1.0,6.0,2.0,3.0,3.0,4.0,3.0,1.0,2.0,7.0,2.0,4.0,10.0,9.0,5.0,6.0,3.0,4.0,7.0,6.0,5.0,3.0,4.0,1.0,2.0,3.0,6.0,5.0,4.0,1.0,4.0,7.0,2.0,4.0,13.0,4.0,9.0,8.0,1.0,2.0,3.0,7.0,2.0,4.0,3.0,3.0,2.0,5.0,3.0,3.0,6.0,6.0,8.0,6.0,4.0,4.0,5.0,12.0,5.0,5.0,11.0,4.0,12.0,4.0,3.0,2.0,6.0,3.0,5.0,5.0,6.0,2.0,5.0,4.0,6.0,2.0,3.0,7.0,3.0,2.0,3.0,1.0,6.0,3.0,7.0,10.0,3.0,4.0,9.0,4.0,10.0,6.0,3.0,3.0,8.0,3.0,3.0,8.0,1.0,11.0,5.0,4.0,5.0,3.0,9.0,3.0,4.0,10.0,3.0,5.0,9.0,6.0,6.0,9.0,3.0,6.0,5.0,9.0,6.0,3.0,4.0,7.0,7.0,3.0,1.0,11.0,4.0,6.0,3.0,3.0,6.0,5.0,4.0,7.0,4.0,3.0,7.0,6.0,4.0,3.0,8.0,3.0,7.0,3.0,3.0,4.0,7.0,3.0,3.0,4.0,6.0,8.0,5.0,7.0,3.0,6.0,6.0,10.0,1.0,3.0,20.0,8.0,2.0,3.0,4.0,1.0,4.0,7.0,7.0,12.0,5.0,2.0,6.0,4.0,8.0,2.0,8.0,8.0,5.0,5.0,3.0,7.0,2.0,5.0,2.0,4.0,7.0,4.0,10.0,8.0,5.0,10.0,4.0,14.0,3.0,6.0,5.0,5.0,3.0,8.0,3.0,6.0,2.0,3.0,2.0,15.0,2.0,4.0,1.0,8.0,2.0,4.0,4.0,6.0,2.0,9.0,2.0,5.0,4.0,4.0,8.0,6.0,4.0,2.0,8.0,8.0,3.0,4.0,3.0,8.0,8.0,2.0,3.0,5.0,6.0,2.0,2.0,10.0,9.0,3.0,6.0,1.0,7.0,8.0,2.0,1.0,1.0,12.0,7.0,4.0,2.0,6.0,10.0,7.0,4.0,5.0,6.0,9.0,6.0,7.0,2.0,2.0,1.0,3.0,8.0,5.0,10.0,12.0,8.0,3.0,1.0,7.0,3.0,3.0,5.0,3.0,5.0,3.0,3.0,3.0,6.0,1.0,6.0,5.0,9.0,3.0,3.0,2.0,1.0,5.0,1.0,4.0,9.0,1.0,1.0,8.0,3.0,7.0,7.0,6.0,5.0,4.0,1.0,15.0,4.0,1.0,4.0,6.0,4.0,8.0,6.0,7.0,6.0,1.0,8.0,6.0,6.0,5.0,9.0,5.0,4.0,4.0,4.0,8.0,4.0,4.0,9.0,2.0,3.0,8.0,8.0,3.0,10.0,3.0,4.0,5.0,6.0,5.0,8.0,2.0,10.0,3.0,4.0,8.0,3.0,8.0,7.0,10.0,8.0,6.0,5.0,4.0,9.0,7.0,11.0,1.0,3.0,6.0,3.0,6.0,4.0,8.0,4.0,6.0,7.0,7.0,3.0,3.0,7.0,7.0,7.0,7.0,4.0,8.0,1.0,4.0,6.0,3.0,3.0,1.0,2.0,6.0,5.0,6.0,5.0,3.0,4.0,5.0,4.0,6.0,5.0,3.0,6.0,5.0,9.0,5.0,6.0,4.0,8.0,5.0,11.0,2.0,12.0,4.0,8.0,3.0,3.0,6.0,2.0,2.0,7.0,12.0,7.0,5.0,6.0,5.0,6.0,8.0,5.0,9.0,6.0,5.0,3.0,3.0,4.0,1.0,2.0,7.0,1.0,5.0,3.0,4.0,5.0,6.0,5.0,3.0,3.0,8.0,2.0,12.0,3.0,5.0,3.0,6.0,5.0,2.0,2.0,7.0,9.0,8.0,2.0,3.0,12.0,9.0,2.0,7.0,3.0,8.0,10.0,6.0,4.0,10.0,2.0,5.0,4.0,13.0,9.0,6.0,4.0,2.0,3.0,1.0,1.0,5.0,3.0,2.0,6.0,4.0,4.0,11.0,1.0,4.0,2.0,6.0,6.0,6.0,3.0,4.0,8.0,6.0,8.0,6.0,3.0,3.0,1.0,3.0,2.0,2.0,11.0,3.0,10.0,1.0,2.0,3.0,4.0,5.0,5.0,6.0,4.0,9.0,7.0,1.0,1.0,7.0,3.0,5.0,5.0,3.0,3.0,5.0,7.0,1.0,4.0,2.0,2.0,5.0,1.0,5.0,4.0,6.0,1.0,6.0,3.0,5.0,2.0,3.0,1.0,6.0,3.0,4.0,4.0,5.0,6.0,6.0,2.0,16.0,16.0,7.0,1.0,2.0,10.0,5.0,4.0,5.0,2.0,7.0,7.0,5.0,7.0,6.0,7.0,5.0,14.0,1.0,7.0,2.0,5.0,12.0,5.0,11.0,10.0,1.0,6.0,4.0,4.0,5.0,1.0,2.0,8.0,4.0,10.0,2.0,5.0,10.0,6.0,4.0,6.0,7.0,5.0,1.0,5.0,6.0,6.0,7.0,3.0,3.0,8.0,6.0,5.0,8.0,6.0,2.0,7.0,7.0,6.0,7.0,4.0,5.0,2.0,5.0,4.0,12.0,7.0,9.0,3.0,11.0,8.0,6.0,2.0,4.0,3.0,14.0,3.0,5.0,6.0,8.0,10.0,12.0,7.0,7.0,5.0,5.0,7.0,3.0,6.0,9.0,1.0,4.0,2.0,2.0,15.0,7.0,4.0,4.0,2.0,5.0,3.0,12.0,6.0,6.0,8.0,4.0,4.0,2.0,3.0,2.0,6.0,1.0,7.0,8.0,12.0,4.0,4.0,5.0,4.0,4.0,7.0,5.0,6.0,4.0,6.0,5.0,1.0,2.0,4.0,4.0,3.0,3.0,6.0,2.0,4.0,3.0,3.0,4.0,8.0,3.0,1.0,10.0,5.0,5.0,4.0,5.0,7.0,6.0,6.0,8.0,6.0,4.0,7.0,8.0,6.0,3.0,7.0,2.0,5.0,4.0,5.0,3.0,9.0,14.0,6.0,3.0,5.0,5.0,1.0,1.0,4.0,3.0,10.0,5.0,7.0,3.0,2.0,2.0,2.0,10.0,4.0,3.0,4.0,12.0,1.0,4.0,4.0,7.0,4.0,5.0,8.0,4.0,2.0,3.0,12.0,2.0,6.0,2.0,7.0,3.0,4.0,14.0,4.0,5.0,1.0,3.0,1.0,4.0,6.0,8.0,4.0,5.0,4.0,5.0,1.0,5.0,5.0,4.0,1.0,5.0,7.0,12.0,9.0,7.0,5.0,7.0,7.0,2.0,7.0,6.0,4.0,2.0,5.0,2.0,9.0,9.0,5.0,7.0,1.0,5.0,7.0,6.0,7.0,5.0,4.0,6.0,4.0,1.0,5.0,7.0,4.0,5.0,7.0,7.0,3.0,6.0,3.0,4.0,7.0,2.0,7.0,3.0,5.0,1.0,8.0,6.0,2.0,7.0,5.0,6.0,5.0,2.0,7.0,5.0,3.0,2.0,5.0,10.0,1.0,9.0,3.0,2.0,6.0,15.0,8.0,7.0,2.0,3.0,2.0,1.0,6.0,1.0,8.0,3.0,1.0,12.0,3.0,7.0,1.0,2.0,5.0,4.0,6.0,3.0,2.0,2.0,8.0,3.0,8.0,3.0,3.0,7.0,11.0,2.0,8.0,4.0,10.0,5.0,7.0,3.0,3.0,2.0,7.0,6.0,7.0,5.0,4.0,7.0,5.0,3.0,10.0,4.0,2.0,3.0,5.0,3.0,4.0,5.0,5.0,3.0,2.0,4.0,4.0,3.0,3.0,3.0,5.0,3.0,4.0,3.0,10.0,6.0,8.0,10.0,2.0,5.0,2.0,7.0,2.0,5.0,1.0,13.0,4.0,1.0,4.0,5.0,7.0,7.0,1.0,5.0,1.0,2.0,5.0,7.0,3.0,4.0,2.0,1.0,4.0,1.0,11.0,4.0,5.0,5.0,6.0,2.0,3.0,6.0,1.0,5.0,1.0,2.0,5.0,5.0,8.0,4.0,9.0,6.0,6.0,5.0,3.0,4.0,6.0,8.0,4.0,4.0,2.0,3.0,8.0,5.0,7.0,5.0,5.0,7.0,2.0,1.0,4.0,9.0,6.0,3.0,9.0,3.0,10.0,4.0,9.0,2.0,2.0,3.0,7.0,3.0,2.0,1.0,9.0,1.0,5.0,11.0,2.0,5.0,5.0,6.0,8.0,2.0,4.0,1.0,1.0,3.0,3.0,2.0,6.0,4.0,8.0,4.0,12.0,4.0,5.0,9.0,2.0,3.0,4.0,8.0,10.0,1.0,9.0,2.0,2.0,3.0,2.0,10.0,4.0,3.0,3.0,12.0,4.0,3.0,5.0,5.0,3.0,7.0,2.0,3.0,7.0,3.0,5.0,1.0,9.0,3.0,5.0,7.0,5.0,10.0,3.0,5.0,3.0,1.0,5.0,7.0,1.0,6.0,7.0,1.0,4.0,8.0,5.0,2.0,7.0,5.0,3.0,1.0,12.0,3.0,1.0,4.0,6.0,9.0,7.0,4.0,6.0,3.0,2.0,5.0,3.0,12.0,4.0,12.0,5.0,4.0,1.0,6.0,5.0,4.0,9.0,10.0,11.0,12.0,3.0,4.0,3.0,3.0,3.0,4.0,6.0,5.0,6.0,12.0,13.0,7.0,3.0,4.0,7.0,1.0,9.0,3.0,1.0,3.0,4.0,3.0,5.0,5.0,10.0,7.0,5.0,2.0,5.0,8.0,6.0,2.0,6.0,2.0,3.0,8.0,2.0,2.0,6.0,5.0,3.0,2.0,7.0,6.0,7.0,4.0,10.0,8.0,4.0,4.0,7.0,1.0,4.0,7.0,7.0,6.0,3.0,6.0,4.0,15.0,5.0,8.0,2.0,6.0,2.0,11.0,2.0,5.0,2.0,3.0,1.0,7.0,4.0,8.0,3.0,3.0,8.0,5.0,4.0,8.0,1.0,5.0,3.0,2.0,3.0,7.0,5.0,2.0,2.0,3.0,1.0,3.0,2.0,4.0,3.0,6.0,4.0,3.0,3.0,4.0,3.0,5.0,4.0,4.0,4.0,3.0,7.0,4.0,7.0,1.0,4.0,1.0,4.0,4.0,13.0,4.0,7.0,5.0,4.0,4.0,7.0,6.0,3.0,3.0,9.0,5.0,3.0,3.0,2.0,10.0,8.0,2.0,4.0,6.0,1.0,5.0,5.0,5.0,1.0,5.0,13.0,5.0,3.0,2.0,4.0,5.0,2.0,5.0,4.0,13.0,7.0,5.0,6.0,3.0,5.0,3.0,12.0,6.0,2.0,15.0,7.0,5.0,4.0,5.0,6.0,2.0,9.0,8.0,7.0,6.0,10.0,7.0,2.0,3.0,5.0,8.0,2.0,4.0,3.0,3.0,2.0,3.0,2.0,9.0,1.0,1.0,6.0,6.0,6.0,3.0,3.0,3.0,3.0,7.0,7.0,8.0,6.0,4.0,4.0,6.0,2.0,null,null,null,null,null,null,4.0,2.0,5.0,7.0,10.0],\"x0\":\" \",\"xaxis\":\"x\",\"y0\":\" \",\"yaxis\":\"y\",\"type\":\"box\"}],                        {\"template\":{\"data\":{\"bar\":[{\"error_x\":{\"color\":\"#2a3f5f\"},\"error_y\":{\"color\":\"#2a3f5f\"},\"marker\":{\"line\":{\"color\":\"#E5ECF6\",\"width\":0.5},\"pattern\":{\"fillmode\":\"overlay\",\"size\":10,\"solidity\":0.2}},\"type\":\"bar\"}],\"barpolar\":[{\"marker\":{\"line\":{\"color\":\"#E5ECF6\",\"width\":0.5},\"pattern\":{\"fillmode\":\"overlay\",\"size\":10,\"solidity\":0.2}},\"type\":\"barpolar\"}],\"carpet\":[{\"aaxis\":{\"endlinecolor\":\"#2a3f5f\",\"gridcolor\":\"white\",\"linecolor\":\"white\",\"minorgridcolor\":\"white\",\"startlinecolor\":\"#2a3f5f\"},\"baxis\":{\"endlinecolor\":\"#2a3f5f\",\"gridcolor\":\"white\",\"linecolor\":\"white\",\"minorgridcolor\":\"white\",\"startlinecolor\":\"#2a3f5f\"},\"type\":\"carpet\"}],\"choropleth\":[{\"colorbar\":{\"outlinewidth\":0,\"ticks\":\"\"},\"type\":\"choropleth\"}],\"contour\":[{\"colorbar\":{\"outlinewidth\":0,\"ticks\":\"\"},\"colorscale\":[[0.0,\"#0d0887\"],[0.1111111111111111,\"#46039f\"],[0.2222222222222222,\"#7201a8\"],[0.3333333333333333,\"#9c179e\"],[0.4444444444444444,\"#bd3786\"],[0.5555555555555556,\"#d8576b\"],[0.6666666666666666,\"#ed7953\"],[0.7777777777777778,\"#fb9f3a\"],[0.8888888888888888,\"#fdca26\"],[1.0,\"#f0f921\"]],\"type\":\"contour\"}],\"contourcarpet\":[{\"colorbar\":{\"outlinewidth\":0,\"ticks\":\"\"},\"type\":\"contourcarpet\"}],\"heatmap\":[{\"colorbar\":{\"outlinewidth\":0,\"ticks\":\"\"},\"colorscale\":[[0.0,\"#0d0887\"],[0.1111111111111111,\"#46039f\"],[0.2222222222222222,\"#7201a8\"],[0.3333333333333333,\"#9c179e\"],[0.4444444444444444,\"#bd3786\"],[0.5555555555555556,\"#d8576b\"],[0.6666666666666666,\"#ed7953\"],[0.7777777777777778,\"#fb9f3a\"],[0.8888888888888888,\"#fdca26\"],[1.0,\"#f0f921\"]],\"type\":\"heatmap\"}],\"heatmapgl\":[{\"colorbar\":{\"outlinewidth\":0,\"ticks\":\"\"},\"colorscale\":[[0.0,\"#0d0887\"],[0.1111111111111111,\"#46039f\"],[0.2222222222222222,\"#7201a8\"],[0.3333333333333333,\"#9c179e\"],[0.4444444444444444,\"#bd3786\"],[0.5555555555555556,\"#d8576b\"],[0.6666666666666666,\"#ed7953\"],[0.7777777777777778,\"#fb9f3a\"],[0.8888888888888888,\"#fdca26\"],[1.0,\"#f0f921\"]],\"type\":\"heatmapgl\"}],\"histogram\":[{\"marker\":{\"pattern\":{\"fillmode\":\"overlay\",\"size\":10,\"solidity\":0.2}},\"type\":\"histogram\"}],\"histogram2d\":[{\"colorbar\":{\"outlinewidth\":0,\"ticks\":\"\"},\"colorscale\":[[0.0,\"#0d0887\"],[0.1111111111111111,\"#46039f\"],[0.2222222222222222,\"#7201a8\"],[0.3333333333333333,\"#9c179e\"],[0.4444444444444444,\"#bd3786\"],[0.5555555555555556,\"#d8576b\"],[0.6666666666666666,\"#ed7953\"],[0.7777777777777778,\"#fb9f3a\"],[0.8888888888888888,\"#fdca26\"],[1.0,\"#f0f921\"]],\"type\":\"histogram2d\"}],\"histogram2dcontour\":[{\"colorbar\":{\"outlinewidth\":0,\"ticks\":\"\"},\"colorscale\":[[0.0,\"#0d0887\"],[0.1111111111111111,\"#46039f\"],[0.2222222222222222,\"#7201a8\"],[0.3333333333333333,\"#9c179e\"],[0.4444444444444444,\"#bd3786\"],[0.5555555555555556,\"#d8576b\"],[0.6666666666666666,\"#ed7953\"],[0.7777777777777778,\"#fb9f3a\"],[0.8888888888888888,\"#fdca26\"],[1.0,\"#f0f921\"]],\"type\":\"histogram2dcontour\"}],\"mesh3d\":[{\"colorbar\":{\"outlinewidth\":0,\"ticks\":\"\"},\"type\":\"mesh3d\"}],\"parcoords\":[{\"line\":{\"colorbar\":{\"outlinewidth\":0,\"ticks\":\"\"}},\"type\":\"parcoords\"}],\"pie\":[{\"automargin\":true,\"type\":\"pie\"}],\"scatter\":[{\"marker\":{\"colorbar\":{\"outlinewidth\":0,\"ticks\":\"\"}},\"type\":\"scatter\"}],\"scatter3d\":[{\"line\":{\"colorbar\":{\"outlinewidth\":0,\"ticks\":\"\"}},\"marker\":{\"colorbar\":{\"outlinewidth\":0,\"ticks\":\"\"}},\"type\":\"scatter3d\"}],\"scattercarpet\":[{\"marker\":{\"colorbar\":{\"outlinewidth\":0,\"ticks\":\"\"}},\"type\":\"scattercarpet\"}],\"scattergeo\":[{\"marker\":{\"colorbar\":{\"outlinewidth\":0,\"ticks\":\"\"}},\"type\":\"scattergeo\"}],\"scattergl\":[{\"marker\":{\"colorbar\":{\"outlinewidth\":0,\"ticks\":\"\"}},\"type\":\"scattergl\"}],\"scattermapbox\":[{\"marker\":{\"colorbar\":{\"outlinewidth\":0,\"ticks\":\"\"}},\"type\":\"scattermapbox\"}],\"scatterpolar\":[{\"marker\":{\"colorbar\":{\"outlinewidth\":0,\"ticks\":\"\"}},\"type\":\"scatterpolar\"}],\"scatterpolargl\":[{\"marker\":{\"colorbar\":{\"outlinewidth\":0,\"ticks\":\"\"}},\"type\":\"scatterpolargl\"}],\"scatterternary\":[{\"marker\":{\"colorbar\":{\"outlinewidth\":0,\"ticks\":\"\"}},\"type\":\"scatterternary\"}],\"surface\":[{\"colorbar\":{\"outlinewidth\":0,\"ticks\":\"\"},\"colorscale\":[[0.0,\"#0d0887\"],[0.1111111111111111,\"#46039f\"],[0.2222222222222222,\"#7201a8\"],[0.3333333333333333,\"#9c179e\"],[0.4444444444444444,\"#bd3786\"],[0.5555555555555556,\"#d8576b\"],[0.6666666666666666,\"#ed7953\"],[0.7777777777777778,\"#fb9f3a\"],[0.8888888888888888,\"#fdca26\"],[1.0,\"#f0f921\"]],\"type\":\"surface\"}],\"table\":[{\"cells\":{\"fill\":{\"color\":\"#EBF0F8\"},\"line\":{\"color\":\"white\"}},\"header\":{\"fill\":{\"color\":\"#C8D4E3\"},\"line\":{\"color\":\"white\"}},\"type\":\"table\"}]},\"layout\":{\"annotationdefaults\":{\"arrowcolor\":\"#2a3f5f\",\"arrowhead\":0,\"arrowwidth\":1},\"autotypenumbers\":\"strict\",\"coloraxis\":{\"colorbar\":{\"outlinewidth\":0,\"ticks\":\"\"}},\"colorscale\":{\"diverging\":[[0,\"#8e0152\"],[0.1,\"#c51b7d\"],[0.2,\"#de77ae\"],[0.3,\"#f1b6da\"],[0.4,\"#fde0ef\"],[0.5,\"#f7f7f7\"],[0.6,\"#e6f5d0\"],[0.7,\"#b8e186\"],[0.8,\"#7fbc41\"],[0.9,\"#4d9221\"],[1,\"#276419\"]],\"sequential\":[[0.0,\"#0d0887\"],[0.1111111111111111,\"#46039f\"],[0.2222222222222222,\"#7201a8\"],[0.3333333333333333,\"#9c179e\"],[0.4444444444444444,\"#bd3786\"],[0.5555555555555556,\"#d8576b\"],[0.6666666666666666,\"#ed7953\"],[0.7777777777777778,\"#fb9f3a\"],[0.8888888888888888,\"#fdca26\"],[1.0,\"#f0f921\"]],\"sequentialminus\":[[0.0,\"#0d0887\"],[0.1111111111111111,\"#46039f\"],[0.2222222222222222,\"#7201a8\"],[0.3333333333333333,\"#9c179e\"],[0.4444444444444444,\"#bd3786\"],[0.5555555555555556,\"#d8576b\"],[0.6666666666666666,\"#ed7953\"],[0.7777777777777778,\"#fb9f3a\"],[0.8888888888888888,\"#fdca26\"],[1.0,\"#f0f921\"]]},\"colorway\":[\"#636efa\",\"#EF553B\",\"#00cc96\",\"#ab63fa\",\"#FFA15A\",\"#19d3f3\",\"#FF6692\",\"#B6E880\",\"#FF97FF\",\"#FECB52\"],\"font\":{\"color\":\"#2a3f5f\"},\"geo\":{\"bgcolor\":\"white\",\"lakecolor\":\"white\",\"landcolor\":\"#E5ECF6\",\"showlakes\":true,\"showland\":true,\"subunitcolor\":\"white\"},\"hoverlabel\":{\"align\":\"left\"},\"hovermode\":\"closest\",\"mapbox\":{\"style\":\"light\"},\"paper_bgcolor\":\"white\",\"plot_bgcolor\":\"#E5ECF6\",\"polar\":{\"angularaxis\":{\"gridcolor\":\"white\",\"linecolor\":\"white\",\"ticks\":\"\"},\"bgcolor\":\"#E5ECF6\",\"radialaxis\":{\"gridcolor\":\"white\",\"linecolor\":\"white\",\"ticks\":\"\"}},\"scene\":{\"xaxis\":{\"backgroundcolor\":\"#E5ECF6\",\"gridcolor\":\"white\",\"gridwidth\":2,\"linecolor\":\"white\",\"showbackground\":true,\"ticks\":\"\",\"zerolinecolor\":\"white\"},\"yaxis\":{\"backgroundcolor\":\"#E5ECF6\",\"gridcolor\":\"white\",\"gridwidth\":2,\"linecolor\":\"white\",\"showbackground\":true,\"ticks\":\"\",\"zerolinecolor\":\"white\"},\"zaxis\":{\"backgroundcolor\":\"#E5ECF6\",\"gridcolor\":\"white\",\"gridwidth\":2,\"linecolor\":\"white\",\"showbackground\":true,\"ticks\":\"\",\"zerolinecolor\":\"white\"}},\"shapedefaults\":{\"line\":{\"color\":\"#2a3f5f\"}},\"ternary\":{\"aaxis\":{\"gridcolor\":\"white\",\"linecolor\":\"white\",\"ticks\":\"\"},\"baxis\":{\"gridcolor\":\"white\",\"linecolor\":\"white\",\"ticks\":\"\"},\"bgcolor\":\"#E5ECF6\",\"caxis\":{\"gridcolor\":\"white\",\"linecolor\":\"white\",\"ticks\":\"\"}},\"title\":{\"x\":0.05},\"xaxis\":{\"automargin\":true,\"gridcolor\":\"white\",\"linecolor\":\"white\",\"ticks\":\"\",\"title\":{\"standoff\":15},\"zerolinecolor\":\"white\",\"zerolinewidth\":2},\"yaxis\":{\"automargin\":true,\"gridcolor\":\"white\",\"linecolor\":\"white\",\"ticks\":\"\",\"title\":{\"standoff\":15},\"zerolinecolor\":\"white\",\"zerolinewidth\":2}}},\"xaxis\":{\"anchor\":\"y\",\"domain\":[0.0,1.0],\"title\":{\"text\":\"household_size\"}},\"yaxis\":{\"anchor\":\"x\",\"domain\":[0.0,1.0]},\"legend\":{\"tracegroupgap\":0},\"margin\":{\"t\":60},\"boxmode\":\"group\",\"title\":{\"text\":\"Checking for Outliers in household size column\"},\"height\":800,\"width\":800},                        {\"responsive\": true}                    ).then(function(){\n",
              "                            \n",
              "var gd = document.getElementById('9929c2e5-2b9d-4844-b48f-0b3a4e9f62c9');\n",
              "var x = new MutationObserver(function (mutations, observer) {{\n",
              "        var display = window.getComputedStyle(gd).display;\n",
              "        if (!display || display === 'none') {{\n",
              "            console.log([gd, 'removed!']);\n",
              "            Plotly.purge(gd);\n",
              "            observer.disconnect();\n",
              "        }}\n",
              "}});\n",
              "\n",
              "// Listen for the removal of the full notebook cells\n",
              "var notebookContainer = gd.closest('#notebook-container');\n",
              "if (notebookContainer) {{\n",
              "    x.observe(notebookContainer, {childList: true});\n",
              "}}\n",
              "\n",
              "// Listen for the clearing of the current output cell\n",
              "var outputEl = gd.closest('.output');\n",
              "if (outputEl) {{\n",
              "    x.observe(outputEl, {childList: true});\n",
              "}}\n",
              "\n",
              "                        })                };                            </script>        </div>\n",
              "</body>\n",
              "</html>"
            ]
          },
          "metadata": {}
        }
      ]
    },
    {
      "cell_type": "code",
      "source": [
        "# Checking for outliers\n",
        "import plotly.express as px\n",
        "fig = px.box(Financial, x=\"respondent_age\")\n",
        "fig.update_layout(\n",
        "    title_text=\"Checking for Outliers in respondent age column\",    \n",
        "    height=800, \n",
        "    width=900\n",
        ")\n",
        "fig.show()"
      ],
      "metadata": {
        "colab": {
          "base_uri": "https://localhost:8080/",
          "height": 817
        },
        "id": "12lLH6T8fMQo",
        "outputId": "40bebc3f-661e-4933-da77-d1989c901d29"
      },
      "execution_count": null,
      "outputs": [
        {
          "output_type": "display_data",
          "data": {
            "text/html": [
              "<html>\n",
              "<head><meta charset=\"utf-8\" /></head>\n",
              "<body>\n",
              "    <div>            <script src=\"https://cdnjs.cloudflare.com/ajax/libs/mathjax/2.7.5/MathJax.js?config=TeX-AMS-MML_SVG\"></script><script type=\"text/javascript\">if (window.MathJax) {MathJax.Hub.Config({SVG: {font: \"STIX-Web\"}});}</script>                <script type=\"text/javascript\">window.PlotlyConfig = {MathJaxConfig: 'local'};</script>\n",
              "        <script src=\"https://cdn.plot.ly/plotly-2.8.3.min.js\"></script>                <div id=\"3d2c66ca-9b65-4ecd-8447-20171e8033ee\" class=\"plotly-graph-div\" style=\"height:800px; width:900px;\"></div>            <script type=\"text/javascript\">                                    window.PLOTLYENV=window.PLOTLYENV || {};                                    if (document.getElementById(\"3d2c66ca-9b65-4ecd-8447-20171e8033ee\")) {                    Plotly.newPlot(                        \"3d2c66ca-9b65-4ecd-8447-20171e8033ee\",                        [{\"alignmentgroup\":\"True\",\"hovertemplate\":\"respondent_age=%{x}<extra></extra>\",\"legendgroup\":\"\",\"marker\":{\"color\":\"#636efa\"},\"name\":\"\",\"notched\":false,\"offsetgroup\":\"\",\"orientation\":\"h\",\"showlegend\":false,\"x\":[24.0,70.0,26.0,34.0,26.0,26.0,32.0,42.0,54.0,76.0,40.0,69.0,64.0,31.0,26.0,38.0,47.0,27.0,48.0,25.0,26.0,32.0,34.0,21.0,18.0,22.0,26.0,31.0,26.0,58.0,55.0,38.0,62.0,29.0,42.0,48.0,35.0,45.0,45.0,70.0,67.0,19.0,80.0,66.0,31.0,50.0,29.0,33.0,28.0,28.0,26.0,51.0,16.0,17.0,22.0,66.0,50.0,33.0,21.0,30.0,30.0,67.0,50.0,25.0,25.0,30.0,37.0,30.0,28.0,30.0,59.0,29.0,31.0,27.0,55.0,34.0,17.0,21.0,37.0,42.0,40.0,17.0,65.0,18.0,34.0,46.0,54.0,27.0,21.0,64.0,56.0,40.0,21.0,18.0,42.0,22.0,52.0,35.0,64.0,42.0,23.0,42.0,27.0,43.0,16.0,26.0,19.0,49.0,44.0,30.0,16.0,50.0,30.0,49.0,72.0,18.0,21.0,52.0,55.0,35.0,38.0,19.0,53.0,17.0,29.0,24.0,63.0,47.0,42.0,17.0,28.0,62.0,52.0,44.0,28.0,30.0,39.0,81.0,62.0,78.0,28.0,28.0,39.0,42.0,17.0,50.0,25.0,34.0,33.0,26.0,36.0,78.0,36.0,17.0,20.0,30.0,38.0,28.0,50.0,40.0,62.0,40.0,44.0,25.0,59.0,36.0,60.0,42.0,56.0,37.0,28.0,50.0,55.0,65.0,48.0,65.0,55.0,31.0,55.0,44.0,72.0,18.0,26.0,53.0,28.0,34.0,55.0,48.0,50.0,65.0,53.0,45.0,29.0,36.0,18.0,18.0,33.0,25.0,30.0,48.0,80.0,42.0,69.0,23.0,67.0,58.0,27.0,42.0,80.0,95.0,26.0,38.0,64.0,16.0,49.0,33.0,35.0,28.0,38.0,29.0,26.0,17.0,36.0,28.0,22.0,65.0,54.0,66.0,54.0,70.0,44.0,22.0,53.0,28.0,42.0,24.0,40.0,33.0,60.0,40.0,17.0,30.0,16.0,19.0,54.0,33.0,29.0,71.0,26.0,23.0,27.0,23.0,47.0,40.0,17.0,42.0,54.0,33.0,52.0,57.0,42.0,24.0,32.0,55.0,66.0,49.0,25.0,34.0,85.0,31.0,32.0,65.0,30.0,46.0,29.0,33.0,29.0,28.0,30.0,43.0,21.0,16.0,56.0,44.0,57.0,38.0,30.0,46.0,29.0,24.0,32.0,57.0,69.0,80.0,31.0,35.0,52.0,26.0,35.0,42.0,68.0,55.0,35.0,27.0,25.0,56.0,30.0,23.0,40.0,32.0,45.0,16.0,47.0,63.0,47.0,24.0,45.0,41.0,22.0,49.0,42.0,28.0,19.0,57.0,68.0,70.0,63.0,24.0,48.0,43.0,31.0,48.0,58.0,44.0,25.0,61.0,50.0,52.0,72.0,31.0,95.0,75.0,31.0,23.0,72.0,46.0,34.0,27.0,23.0,31.0,27.0,24.0,45.0,29.0,18.0,67.0,71.0,44.0,23.0,55.0,20.0,37.0,26.0,17.0,18.0,72.0,86.0,22.0,28.0,71.0,95.0,68.0,33.0,23.0,72.0,23.0,43.0,50.0,23.0,31.0,17.0,42.0,24.0,37.0,57.0,17.0,52.0,20.0,25.0,52.0,18.0,23.0,26.0,48.0,75.0,37.0,25.0,21.0,16.0,25.0,29.0,18.0,40.0,21.0,19.0,35.0,30.0,73.0,71.0,41.0,29.0,22.0,40.0,20.0,75.0,60.0,20.0,38.0,26.0,29.0,25.0,29.0,66.0,29.0,21.0,65.0,45.0,70.0,37.0,58.0,32.0,63.0,70.0,54.0,30.0,50.0,null,null,null,null,25.0,19.0,16.0,50.0,18.0,46.0,25.0,16.0,47.0,70.0,70.0,35.0,40.0,42.0,45.0,17.0,30.0,25.0,44.0,30.0,30.0,20.0,33.0,50.0,20.0,63.0,72.0,28.0,72.0,61.0,22.0,40.0,85.0,49.0,80.0,23.0,31.0,28.0,25.0,38.0,28.0,50.0,34.0,93.0,78.0,30.0,78.0,24.0,70.0,60.0,45.0,70.0,22.0,29.0,39.0,19.0,34.0,34.0,30.0,18.0,63.0,30.0,39.0,53.0,73.0,24.0,30.0,41.0,48.0,21.0,60.0,66.0,16.0,52.0,43.0,28.0,31.0,85.0,65.0,54.0,33.0,40.0,20.0,23.0,35.0,65.0,25.0,50.0,29.0,16.0,56.0,74.0,60.0,34.0,28.0,78.0,59.0,38.0,25.0,30.0,33.0,59.0,29.0,42.0,27.0,35.0,40.0,38.0,37.0,75.0,16.0,23.0,40.0,57.0,20.0,50.0,55.0,36.0,41.0,28.0,36.0,32.0,70.0,60.0,32.0,25.0,35.0,38.0,23.0,41.0,26.0,42.0,18.0,39.0,20.0,32.0,24.0,18.0,30.0,32.0,29.0,20.0,39.0,56.0,30.0,55.0,55.0,39.0,23.0,30.0,35.0,35.0,23.0,58.0,28.0,19.0,63.0,68.0,21.0,16.0,31.0,42.0,75.0,70.0,62.0,70.0,40.0,55.0,47.0,42.0,30.0,43.0,46.0,39.0,35.0,56.0,39.0,57.0,34.0,30.0,38.0,28.0,40.0,40.0,32.0,52.0,18.0,38.0,21.0,55.0,17.0,70.0,32.0,40.0,53.0,32.0,39.0,38.0,88.0,72.0,36.0,28.0,18.0,70.0,18.0,26.0,70.0,51.0,20.0,26.0,49.0,65.0,30.0,74.0,36.0,28.0,22.0,17.0,58.0,34.0,18.0,20.0,85.0,26.0,25.0,26.0,30.0,38.0,17.0,47.0,50.0,16.0,24.0,35.0,34.0,42.0,40.0,37.0,18.0,19.0,27.0,90.0,20.0,24.0,67.0,47.0,64.0,64.0,40.0,50.0,29.0,35.0,45.0,88.0,37.0,22.0,21.0,52.0,60.0,47.0,45.0,27.0,30.0,17.0,56.0,20.0,36.0,38.0,35.0,17.0,35.0,32.0,25.0,60.0,45.0,42.0,17.0,28.0,18.0,42.0,47.0,42.0,56.0,58.0,21.0,22.0,37.0,55.0,40.0,42.0,20.0,44.0,40.0,30.0,70.0,60.0,65.0,30.0,68.0,75.0,55.0,48.0,77.0,35.0,23.0,61.0,35.0,18.0,21.0,38.0,26.0,23.0,53.0,38.0,44.0,26.0,23.0,28.0,84.0,85.0,72.0,18.0,29.0,82.0,40.0,48.0,30.0,35.0,25.0,47.0,26.0,84.0,38.0,19.0,40.0,26.0,26.0,64.0,64.0,74.0,53.0,36.0,43.0,28.0,40.0,44.0,18.0,60.0,70.0,28.0,30.0,56.0,30.0,30.0,35.0,38.0,22.0,38.0,49.0,71.0,56.0,60.0,27.0,52.0,54.0,64.0,28.0,50.0,43.0,27.0,69.0,29.0,30.0,25.0,89.0,20.0,25.0,17.0,40.0,43.0,19.0,20.0,55.0,95.0,30.0,56.0,46.0,20.0,42.0,35.0,24.0,40.0,32.0,24.0,21.0,19.0,70.0,58.0,32.0,45.0,33.0,69.0,19.0,54.0,21.0,29.0,27.0,16.0,21.0,47.0,21.0,20.0,26.0,23.0,35.0,28.0,46.0,28.0,25.0,35.0,42.0,31.0,35.0,27.0,25.0,35.0,35.0,54.0,72.0,35.0,68.0,30.0,28.0,25.0,48.0,76.0,45.0,28.0,71.0,19.0,22.0,59.0,22.0,34.0,41.0,46.0,25.0,20.0,20.0,50.0,34.0,71.0,33.0,33.0,34.0,37.0,35.0,18.0,45.0,26.0,80.0,39.0,45.0,25.0,16.0,45.0,52.0,16.0,56.0,34.0,50.0,35.0,17.0,58.0,16.0,22.0,20.0,67.0,39.0,85.0,17.0,47.0,24.0,29.0,47.0,32.0,18.0,29.0,34.0,24.0,40.0,17.0,75.0,35.0,26.0,42.0,76.0,52.0,23.0,24.0,30.0,40.0,26.0,20.0,53.0,71.0,35.0,55.0,22.0,45.0,49.0,16.0,50.0,40.0,38.0,29.0,29.0,36.0,29.0,26.0,56.0,63.0,25.0,42.0,39.0,33.0,21.0,25.0,88.0,28.0,32.0,45.0,21.0,39.0,32.0,24.0,22.0,51.0,18.0,37.0,40.0,55.0,28.0,47.0,43.0,28.0,18.0,40.0,35.0,23.0,35.0,25.0,26.0,70.0,67.0,53.0,49.0,35.0,35.0,20.0,20.0,26.0,27.0,34.0,32.0,22.0,27.0,20.0,55.0,22.0,29.0,34.0,25.0,52.0,19.0,40.0,23.0,45.0,33.0,50.0,30.0,42.0,40.0,43.0,70.0,28.0,30.0,32.0,42.0,23.0,34.0,20.0,56.0,36.0,82.0,74.0,32.0,45.0,20.0,19.0,38.0,61.0,58.0,57.0,19.0,60.0,22.0,25.0,40.0,19.0,79.0,51.0,30.0,34.0,28.0,28.0,60.0,35.0,39.0,17.0,75.0,45.0,44.0,16.0,22.0,82.0,23.0,30.0,60.0,60.0,34.0,35.0,43.0,28.0,37.0,43.0,26.0,36.0,32.0,25.0,50.0,57.0,78.0,31.0,60.0,62.0,31.0,30.0,24.0,18.0,42.0,21.0,24.0,40.0,44.0,57.0,50.0,24.0,35.0,64.0,20.0,24.0,65.0,73.0,23.0,65.0,29.0,37.0,26.0,65.0,32.0,20.0,40.0,19.0,19.0,42.0,44.0,62.0,17.0,36.0,48.0,26.0,29.0,54.0,48.0,31.0,26.0,49.0,32.0,21.0,30.0,32.0,40.0,21.0,40.0,16.0,42.0,80.0,22.0,63.0,29.0,54.0,25.0,27.0,51.0,35.0,49.0,40.0,33.0,24.0,31.0,28.0,70.0,28.0,22.0,45.0,50.0,20.0,28.0,26.0,40.0,36.0,33.0,31.0,40.0,45.0,22.0,35.0,85.0,34.0,50.0,46.0,30.0,25.0,30.0,29.0,37.0,26.0,64.0,44.0,35.0,24.0,26.0,22.0,40.0,62.0,48.0,40.0,49.0,59.0,27.0,69.0,24.0,28.0,45.0,29.0,32.0,22.0,25.0,40.0,41.0,30.0,45.0,61.0,19.0,26.0,73.0,17.0,43.0,18.0,42.0,54.0,27.0,80.0,20.0,35.0,31.0,73.0,25.0,45.0,65.0,72.0,42.0,24.0,30.0,52.0,26.0,30.0,36.0,42.0,30.0,22.0,22.0,51.0,28.0,40.0,24.0,50.0,35.0,32.0,18.0,32.0,32.0,29.0,83.0,40.0,46.0,21.0,24.0,38.0,21.0,85.0,51.0,39.0,19.0,38.0,25.0,71.0,49.0,28.0,36.0,70.0,45.0,27.0,19.0,57.0,22.0,18.0,31.0,78.0,35.0,25.0,40.0,38.0,59.0,41.0,40.0,18.0,21.0,50.0,34.0,33.0,29.0,62.0,20.0,25.0,25.0,75.0,29.0,50.0,60.0,45.0,68.0,32.0,16.0,24.0,51.0,32.0,34.0,18.0,61.0,40.0,16.0,59.0,82.0,53.0,21.0,30.0,35.0,36.0,59.0,40.0,49.0,40.0,35.0,37.0,30.0,30.0,46.0,36.0,22.0,22.0,45.0,17.0,26.0,23.0,37.0,17.0,50.0,65.0,28.0,24.0,38.0,59.0,21.0,34.0,27.0,28.0,19.0,66.0,42.0,36.0,50.0,49.0,72.0,23.0,40.0,70.0,70.0,19.0,20.0,16.0,72.0,56.0,59.0,42.0,28.0,28.0,29.0,40.0,32.0,70.0,35.0,30.0,60.0,80.0,42.0,42.0,68.0,54.0,48.0,62.0,44.0,50.0,40.0,17.0,28.0,30.0,30.0,30.0,22.0,54.0,26.0,28.0,73.0,70.0,16.0,26.0,56.0,94.0,26.0,30.0,58.0,38.0,37.0,22.0,28.0,30.0,28.0,34.0,39.0,48.0,42.0,39.0,22.0,39.0,40.0,45.0,22.0,32.0,26.0,40.0,29.0,51.0,41.0,20.0,19.0,60.0,58.0,70.0,29.0,58.0,30.0,61.0,18.0,21.0,50.0,25.0,28.0,39.0,35.0,45.0,35.0,26.0,95.0,78.0,45.0,38.0,77.0,43.0,37.0,17.0,25.0,26.0,43.0,45.0,20.0,36.0,40.0,45.0,16.0,23.0,32.0,27.0,30.0,47.0,47.0,46.0,40.0,28.0,31.0,44.0,42.0,28.0,18.0,18.0,27.0,20.0,79.0,26.0,17.0,49.0,33.0,58.0,55.0,60.0,39.0,87.0,26.0,45.0,53.0,21.0,93.0,43.0,25.0,16.0,21.0,26.0,30.0,45.0,41.0,53.0,18.0,57.0,59.0,26.0,40.0,28.0,40.0,38.0,42.0,28.0,30.0,40.0,32.0,35.0,35.0,47.0,21.0,37.0,58.0,23.0,32.0,17.0,20.0,30.0,50.0,64.0,45.0,36.0,37.0,19.0,30.0,87.0,25.0,31.0,70.0,25.0,85.0,26.0,16.0,58.0,35.0,55.0,28.0,30.0,36.0,38.0,55.0,60.0,56.0,85.0,42.0,32.0,32.0,20.0,18.0,24.0,28.0,23.0,21.0,63.0,16.0,48.0,20.0,90.0,23.0,30.0,76.0,33.0,46.0,52.0,28.0,36.0,24.0,56.0,19.0,39.0,43.0,74.0,34.0,58.0,54.0,31.0,20.0,33.0,51.0,50.0,36.0,30.0,44.0,34.0,38.0,58.0,47.0,65.0,39.0,41.0,18.0,68.0,44.0,17.0,55.0,35.0,60.0,33.0,28.0,20.0,58.0,26.0,25.0,53.0,55.0,36.0,24.0,16.0,44.0,48.0,20.0,80.0,45.0,24.0,45.0,29.0,34.0,32.0,24.0,77.0,19.0,76.0,34.0,34.0,54.0,37.0,38.0,28.0,32.0,38.0,23.0,78.0,28.0,32.0,17.0,37.0,62.0,44.0,38.0,48.0,50.0,16.0,19.0,45.0,60.0,32.0,39.0,30.0,84.0,45.0,61.0,35.0,21.0,30.0,53.0,36.0,30.0,40.0,42.0,49.0,57.0,28.0,62.0,70.0,48.0,23.0,18.0,76.0,40.0,33.0,69.0,86.0,43.0,21.0,36.0,32.0,30.0,18.0,33.0,44.0,73.0,18.0,50.0,30.0,21.0,50.0,31.0,30.0,47.0,30.0,26.0,28.0,35.0,60.0,34.0,59.0,19.0,19.0,59.0,38.0,52.0,25.0,35.0,49.0,35.0,18.0,25.0,18.0,26.0,40.0,40.0,39.0,21.0,39.0,28.0,20.0,70.0,21.0,82.0,25.0,40.0,25.0,28.0,18.0,18.0,32.0,30.0,25.0,18.0,56.0,25.0,25.0,45.0,44.0,24.0,50.0,16.0,23.0,20.0,18.0,45.0,40.0,17.0,60.0,29.0,30.0,32.0,32.0,48.0,54.0,50.0,74.0,42.0,56.0,38.0,22.0,37.0,31.0,34.0,60.0,47.0,55.0,45.0,46.0,38.0,50.0,46.0,38.0,28.0,60.0,25.0,21.0,48.0,42.0,25.0,79.0,60.0,28.0,25.0,68.0,23.0,33.0,57.0,68.0,21.0,24.0,20.0,43.0,45.0,28.0,39.0,55.0,38.0,24.0,19.0,17.0,41.0,86.0,19.0,18.0,23.0,33.0,59.0,35.0,36.0,34.0,53.0,25.0,70.0,36.0,70.0,45.0,48.0,30.0,16.0,35.0,34.0,45.0,20.0,40.0,50.0,24.0,48.0,43.0,30.0,20.0,82.0,53.0,66.0,35.0,40.0,40.0,28.0,38.0,49.0,92.0,22.0,53.0,32.0,16.0,17.0,45.0,30.0,16.0,38.0,50.0,39.0,27.0,28.0,25.0,38.0,46.0,16.0,92.0,25.0,66.0,44.0,80.0,40.0,30.0,22.0,23.0,34.0,52.0,61.0,36.0,20.0,22.0,47.0,35.0,40.0,52.0,55.0,45.0,38.0,20.0,39.0,18.0,60.0,69.0,39.0,80.0,28.0,80.0,47.0,43.0,63.0,52.0,64.0,23.0,22.0,48.0,32.0,20.0,18.0,26.0,40.0,21.0,54.0,18.0,25.0,38.0,34.0,50.0,35.0,35.0,38.0,28.0,24.0,51.0,28.0,43.0,24.0,20.0,35.0,30.0,53.0,36.0,47.0,25.0,57.0,49.0,29.0,31.0,23.0,56.0,31.0,35.0,40.0,30.0,24.0,34.0,30.0,50.0,59.0,53.0,41.0,36.0,30.0,55.0,30.0,30.0,40.0,29.0,18.0,42.0,65.0,86.0,26.0,25.0,35.0,73.0,34.0,20.0,64.0,22.0,21.0,70.0,50.0,39.0,64.0,33.0,30.0,53.0,36.0,18.0,60.0,49.0,37.0,17.0,16.0,20.0,23.0,59.0,71.0,29.0,55.0,35.0,17.0,22.0,55.0,60.0,39.0,45.0,24.0,62.0,57.0,61.0,29.0,40.0,90.0,65.0,22.0,58.0,28.0,55.0,70.0,52.0,17.0,33.0,80.0,43.0,62.0,38.0,30.0,18.0,40.0,22.0,45.0,17.0,23.0,17.0,30.0,30.0,42.0,48.0,25.0,46.0,37.0,75.0,45.0,50.0,30.0,43.0,38.0,68.0,36.0,70.0,50.0,35.0,17.0,68.0,31.0,69.0,65.0,30.0,38.0,55.0,36.0,48.0,26.0,20.0,25.0,66.0,25.0,70.0,55.0,34.0,30.0,26.0,71.0,20.0,20.0,28.0,50.0,85.0,50.0,38.0,18.0,35.0,22.0,51.0,20.0,17.0,22.0,42.0,24.0,68.0,38.0,54.0,33.0,80.0,30.0,82.0,49.0,46.0,19.0,33.0,41.0,40.0,30.0,20.0,25.0,57.0,40.0,27.0,44.0,30.0,58.0,18.0,20.0,17.0,36.0,23.0,31.0,86.0,42.0,16.0,45.0,39.0,59.0,73.0,38.0,56.0,36.0,24.0,42.0,34.0,39.0,31.0,37.0,20.0,43.0,43.0,25.0,28.0,29.0,66.0,28.0,19.0,62.0,31.0,42.0,59.0,52.0,88.0,72.0,22.0,31.0,55.0,80.0,32.0,20.0,35.0,79.0,23.0,26.0,37.0,34.0,54.0,32.0,16.0,48.0,72.0,25.0,43.0,30.0,23.0,45.0,16.0,50.0,43.0,21.0,62.0,36.0,26.0,22.0,64.0,32.0,29.0,32.0,83.0,28.0,60.0,70.0,45.0,23.0,61.0,64.0,41.0,43.0,48.0,70.0,21.0,45.0,28.0,30.0,45.0,38.0,58.0,22.0,26.0,20.0,60.0,31.0,26.0,28.0,22.0,18.0,52.0,22.0,88.0,19.0,40.0,70.0,84.0,50.0,55.0,34.0,36.0,19.0,76.0,28.0,69.0,34.0,84.0,18.0,28.0,50.0,35.0,58.0,26.0,50.0,52.0,72.0,50.0,29.0,18.0,25.0,32.0,66.0,37.0,30.0,37.0,17.0,33.0,33.0,33.0,47.0,21.0,87.0,50.0,39.0,22.0,75.0,36.0,56.0,55.0,16.0,46.0,32.0,16.0,62.0,30.0,40.0,42.0,33.0,50.0,79.0,62.0,27.0,28.0,35.0,46.0,29.0,32.0,16.0,25.0,37.0,55.0,37.0,23.0,24.0,18.0,77.0,28.0,37.0,20.0,53.0,29.0,49.0,39.0,34.0,30.0,24.0,30.0,48.0,30.0,55.0,30.0,17.0,34.0,32.0,48.0,56.0,17.0,28.0,90.0,34.0,50.0,35.0,26.0,64.0,35.0,16.0,24.0,20.0,58.0,31.0,34.0,56.0,65.0,26.0,34.0,35.0,30.0,32.0,24.0,30.0,40.0,34.0,40.0,28.0,25.0,75.0,39.0,55.0,28.0,40.0,25.0,28.0,35.0,25.0,48.0,17.0,18.0,22.0,42.0,37.0,34.0,59.0,30.0,46.0,21.0,65.0,34.0,61.0,17.0,30.0,22.0,18.0,54.0,75.0,18.0,50.0,21.0,46.0,32.0,28.0,43.0,19.0,20.0,43.0,57.0,61.0,26.0,65.0,18.0,39.0,37.0,54.0,19.0,17.0,78.0,46.0,78.0,72.0,26.0,65.0,40.0,21.0,38.0,73.0,22.0,29.0,50.0,38.0,19.0,16.0,70.0,35.0,17.0,49.0,38.0,17.0,59.0,40.0,17.0,17.0,53.0,61.0,56.0,64.0,33.0,32.0,30.0,26.0,43.0,32.0,58.0,40.0,25.0,32.0,65.0,29.0,16.0,19.0,58.0,27.0,33.0,50.0,75.0,38.0,33.0,38.0,32.0,61.0,45.0,16.0,20.0,40.0,30.0,25.0,40.0,28.0,32.0,42.0,70.0,66.0,50.0,30.0,37.0,31.0,69.0,88.0,71.0,41.0,21.0,48.0,22.0,71.0,42.0,53.0,75.0,80.0,20.0,39.0,52.0,22.0,26.0,47.0,65.0,60.0,28.0,32.0,55.0,17.0,76.0,40.0,56.0,36.0,48.0,40.0,35.0,50.0,30.0,22.0,35.0,31.0,28.0,46.0,32.0,70.0,34.0,30.0,30.0,35.0,31.0,79.0,38.0,24.0,80.0,33.0,67.0,37.0,44.0,44.0,22.0,17.0,25.0,19.0,35.0,35.0,50.0,55.0,24.0,67.0,28.0,66.0,57.0,48.0,60.0,22.0,48.0,35.0,46.0,40.0,28.0,35.0,44.0,38.0,60.0,44.0,66.0,23.0,61.0,56.0,16.0,69.0,70.0,30.0,20.0,46.0,23.0,25.0,30.0,82.0,21.0,52.0,36.0,31.0,70.0,84.0,21.0,30.0,35.0,48.0,16.0,25.0,23.0,40.0,35.0,25.0,38.0,40.0,32.0,40.0,32.0,40.0,25.0,45.0,65.0,53.0,46.0,64.0,49.0,46.0,38.0,34.0,34.0,25.0,40.0,17.0,30.0,32.0,61.0,23.0,48.0,64.0,26.0,75.0,21.0,16.0,47.0,32.0,70.0,32.0,25.0,73.0,19.0,25.0,54.0,30.0,75.0,44.0,21.0,24.0,42.0,24.0,24.0,36.0,50.0,26.0,75.0,16.0,23.0,36.0,30.0,33.0,55.0,34.0,16.0,30.0,30.0,24.0,30.0,30.0,49.0,17.0,36.0,60.0,34.0,18.0,23.0,65.0,52.0,40.0,22.0,48.0,18.0,38.0,46.0,57.0,55.0,54.0,33.0,30.0,48.0,24.0,80.0,25.0,27.0,58.0,33.0,40.0,38.0,40.0,16.0,23.0,52.0,23.0,50.0,71.0,26.0,32.0,40.0,30.0,17.0,27.0,70.0,30.0,26.0,45.0,31.0,40.0,21.0,26.0,58.0,17.0,23.0,38.0,32.0,19.0,40.0,26.0,26.0,45.0,90.0,26.0,32.0,29.0,16.0,35.0,50.0,78.0,39.0,37.0,70.0,33.0,55.0,55.0,18.0,57.0,18.0,28.0,20.0,70.0,58.0,30.0,83.0,67.0,36.0,25.0,25.0,35.0,26.0,60.0,58.0,66.0,32.0,58.0,24.0,22.0,51.0,43.0,60.0,55.0,58.0,62.0,65.0,41.0,45.0,70.0,62.0,36.0,16.0,33.0,41.0,34.0,43.0,30.0,39.0,26.0,24.0,41.0,39.0,20.0,36.0,40.0,25.0,52.0,30.0,16.0,33.0,31.0,76.0,25.0,25.0,66.0,24.0,31.0,35.0,59.0,80.0,40.0,23.0,16.0,21.0,63.0,20.0,35.0,28.0,30.0,60.0,23.0,39.0,30.0,35.0,58.0,25.0,50.0,16.0,29.0,30.0,19.0,67.0,30.0,75.0,91.0,30.0,44.0,46.0,26.0,25.0,54.0,18.0,47.0,32.0,86.0,36.0,53.0,33.0,35.0,35.0,54.0,60.0,68.0,68.0,53.0,47.0,41.0,40.0,39.0,55.0,68.0,20.0,25.0,63.0,30.0,24.0,16.0,54.0,53.0,40.0,56.0,16.0,32.0,38.0,55.0,40.0,78.0,56.0,37.0,25.0,38.0,23.0,42.0,25.0,36.0,21.0,71.0,58.0,76.0,43.0,28.0,24.0,40.0,22.0,22.0,52.0,30.0,30.0,53.0,30.0,33.0,36.0,26.0,48.0,52.0,18.0,76.0,40.0,28.0,38.0,20.0,16.0,26.0,21.0,40.0,18.0,28.0,25.0,29.0,43.0,28.0,69.0,17.0,18.0,23.0,46.0,30.0,50.0,37.0,42.0,22.0,80.0,35.0,22.0,31.0,24.0,19.0,55.0,53.0,25.0,16.0,45.0,50.0,16.0,36.0,18.0,28.0,17.0,32.0,64.0,16.0,76.0,26.0,34.0,37.0,58.0,35.0,56.0,35.0,20.0,51.0,40.0,36.0,21.0,50.0,66.0,36.0,39.0,57.0,73.0,28.0,45.0,18.0,19.0,41.0,36.0,59.0,27.0,28.0,54.0,43.0,29.0,68.0,21.0,16.0,73.0,30.0,29.0,51.0,62.0,31.0,57.0,47.0,26.0,36.0,23.0,28.0,70.0,18.0,60.0,56.0,22.0,48.0,42.0,26.0,32.0,50.0,36.0,24.0,30.0,29.0,28.0,23.0,16.0,24.0,35.0,21.0,45.0,21.0,18.0,17.0,30.0,16.0,50.0,20.0,20.0,25.0,46.0,17.0,45.0,58.0,24.0,45.0,17.0,60.0,31.0,16.0,70.0,39.0,34.0,24.0,58.0,51.0,78.0,29.0,93.0,25.0,41.0,65.0,58.0,40.0,24.0,63.0,18.0,23.0,95.0,19.0,25.0,52.0,58.0,56.0,41.0,61.0,74.0,26.0,65.0,63.0,32.0,50.0,28.0,50.0,16.0,32.0,76.0,18.0,21.0,28.0,50.0,32.0,55.0,39.0,63.0,26.0,40.0,32.0,23.0,23.0,30.0,23.0,20.0,22.0,20.0,30.0,43.0,20.0,18.0,37.0,50.0,44.0,83.0,32.0,59.0,31.0,34.0,35.0,23.0,40.0,75.0,44.0,46.0,26.0,50.0,35.0,24.0,50.0,72.0,58.0,27.0,52.0,23.0,17.0,66.0,22.0,40.0,30.0,20.0,48.0,69.0,61.0,42.0,29.0,23.0,31.0,30.0,26.0,73.0,18.0,38.0,38.0,36.0,20.0,65.0,37.0,32.0,30.0,30.0,66.0,35.0,35.0,48.0,21.0,17.0,22.0,20.0,30.0,45.0,75.0,20.0,52.0,52.0,28.0,33.0,35.0,70.0,46.0,29.0,42.0,42.0,40.0,26.0,56.0,16.0,46.0,26.0,36.0,20.0,22.0,33.0,19.0,70.0,36.0,42.0,90.0,56.0,41.0,45.0,37.0,23.0,22.0,55.0,30.0,18.0,20.0,40.0,24.0,34.0,57.0,26.0,26.0,63.0,21.0,26.0,30.0,35.0,42.0,22.0,35.0,40.0,26.0,65.0,38.0,60.0,51.0,21.0,22.0,18.0,38.0,23.0,23.0,32.0,31.0,22.0,20.0,36.0,17.0,61.0,25.0,54.0,42.0,22.0,16.0,21.0,40.0,56.0,16.0,70.0,32.0,31.0,27.0,17.0,26.0,38.0,17.0,16.0,65.0,24.0,65.0,70.0,47.0,32.0,32.0,20.0,69.0,46.0,27.0,22.0,18.0,21.0,77.0,22.0,24.0,31.0,44.0,17.0,55.0,25.0,26.0,22.0,22.0,77.0,46.0,45.0,33.0,60.0,52.0,78.0,62.0,25.0,19.0,23.0,36.0,33.0,50.0,23.0,30.0,20.0,35.0,16.0,38.0,23.0,47.0,27.0,54.0,42.0,33.0,39.0,57.0,25.0,20.0,52.0,26.0,38.0,39.0,18.0,19.0,32.0,30.0,35.0,65.0,21.0,41.0,51.0,18.0,30.0,48.0,26.0,68.0,42.0,34.0,41.0,30.0,24.0,21.0,40.0,56.0,55.0,68.0,36.0,36.0,35.0,48.0,42.0,42.0,77.0,33.0,35.0,55.0,75.0,46.0,50.0,27.0,65.0,55.0,40.0,33.0,66.0,30.0,39.0,28.0,49.0,29.0,60.0,40.0,38.0,60.0,71.0,41.0,18.0,44.0,29.0,22.0,29.0,57.0,70.0,40.0,16.0,60.0,30.0,45.0,20.0,42.0,22.0,88.0,36.0,23.0,24.0,28.0,26.0,26.0,35.0,24.0,60.0,40.0,20.0,20.0,30.0,20.0,30.0,30.0,23.0,35.0,23.0,28.0,52.0,24.0,68.0,36.0,44.0,25.0,24.0,45.0,20.0,45.0,20.0,31.0,44.0,22.0,25.0,68.0,39.0,30.0,28.0,30.0,43.0,89.0,30.0,36.0,28.0,60.0,57.0,56.0,23.0,45.0,31.0,52.0,70.0,46.0,22.0,33.0,38.0,23.0,32.0,32.0,48.0,40.0,73.0,44.0,23.0,50.0,27.0,70.0,50.0,60.0,17.0,35.0,21.0,20.0,38.0,62.0,58.0,38.0,24.0,33.0,34.0,16.0,18.0,52.0,56.0,55.0,31.0,32.0,50.0,32.0,70.0,53.0,54.0,59.0,39.0,25.0,26.0,46.0,31.0,71.0,88.0,80.0,27.0,79.0,30.0,35.0,18.0,47.0,45.0,54.0,68.0,48.0,27.0,47.0,64.0,18.0,26.0,40.0,48.0,16.0,33.0,30.0,36.0,23.0,23.0,23.0,23.0,38.0,60.0,28.0,18.0,30.0,67.0,50.0,45.0,69.0,32.0,55.0,30.0,62.0,30.0,28.0,27.0,28.0,83.0,56.0,30.0,17.0,26.0,40.0,38.0,27.0,23.0,27.0,19.0,26.0,19.0,60.0,26.0,18.0,65.0,43.0,89.0,17.0,40.0,23.0,32.0,40.0,52.0,72.0,54.0,67.0,25.0,42.0,56.0,59.0,45.0,79.0,71.0,16.0,71.0,51.0,40.0,85.0,28.0,18.0,35.0,37.0,69.0,59.0,80.0,54.0,27.0,26.0,24.0,60.0,29.0,32.0,34.0,27.0,32.0,45.0,45.0,76.0,43.0,16.0,23.0,23.0,25.0,17.0,66.0,21.0,52.0,32.0,22.0,29.0,18.0,31.0,48.0,25.0,32.0,35.0,61.0,78.0,46.0,59.0,42.0,45.0,38.0,21.0,28.0,36.0,42.0,50.0,55.0,18.0,32.0,44.0,25.0,26.0,36.0,16.0,68.0,38.0,23.0,70.0,32.0,78.0,48.0,28.0,26.0,26.0,37.0,36.0,44.0,39.0,40.0,31.0,32.0,49.0,29.0,65.0,83.0,24.0,43.0,25.0,26.0,25.0,36.0,24.0,23.0,24.0,49.0,17.0,38.0,39.0,30.0,28.0,35.0,64.0,26.0,80.0,27.0,78.0,37.0,20.0,43.0,45.0,44.0,40.0,31.0,42.0,33.0,26.0,42.0,17.0,34.0,25.0,59.0,32.0,44.0,20.0,27.0,42.0,40.0,50.0,42.0,85.0,30.0,47.0,30.0,35.0,19.0,28.0,23.0,43.0,65.0,38.0,28.0,39.0,32.0,38.0,60.0,32.0,42.0,42.0,68.0,64.0,33.0,41.0,24.0,34.0,40.0,37.0,69.0,25.0,45.0,30.0,54.0,24.0,38.0,30.0,70.0,25.0,30.0,30.0,45.0,56.0,20.0,43.0,50.0,66.0,48.0,23.0,21.0,25.0,25.0,56.0,21.0,44.0,42.0,21.0,40.0,35.0,24.0,43.0,26.0,26.0,25.0,30.0,26.0,34.0,75.0,18.0,70.0,36.0,35.0,88.0,55.0,38.0,69.0,75.0,17.0,30.0,23.0,49.0,30.0,20.0,19.0,32.0,76.0,39.0,28.0,40.0,66.0,48.0,33.0,50.0,62.0,26.0,18.0,33.0,32.0,25.0,24.0,58.0,51.0,41.0,60.0,16.0,28.0,66.0,16.0,41.0,23.0,43.0,21.0,42.0,30.0,64.0,21.0,66.0,22.0,35.0,24.0,49.0,47.0,39.0,40.0,75.0,28.0,55.0,32.0,70.0,54.0,42.0,30.0,36.0,68.0,40.0,53.0,38.0,72.0,21.0,59.0,85.0,23.0,30.0,30.0,45.0,59.0,29.0,76.0,70.0,36.0,55.0,95.0,66.0,56.0,55.0,31.0,70.0,66.0,41.0,27.0,38.0,30.0,34.0,22.0,45.0,30.0,32.0,43.0,18.0,30.0,85.0,24.0,45.0,29.0,25.0,30.0,60.0,52.0,30.0,22.0,28.0,29.0,45.0,67.0,30.0,54.0,43.0,39.0,40.0,25.0,32.0,26.0,62.0,22.0,57.0,30.0,80.0,19.0,37.0,29.0,56.0,21.0,54.0,27.0,35.0,46.0,18.0,23.0,20.0,37.0,69.0,33.0,16.0,22.0,57.0,42.0,27.0,39.0,36.0,52.0,42.0,30.0,30.0,29.0,21.0,49.0,16.0,30.0,52.0,24.0,49.0,19.0,25.0,41.0,71.0,27.0,54.0,22.0,25.0,29.0,35.0,44.0,24.0,56.0,26.0,36.0,41.0,37.0,37.0,30.0,36.0,27.0,40.0,33.0,35.0,18.0,25.0,31.0,35.0,17.0,35.0,53.0,21.0,26.0,47.0,20.0,37.0,23.0,34.0,24.0,66.0,67.0,60.0,45.0,28.0,28.0,56.0,18.0,57.0,22.0,53.0,61.0,35.0,68.0,25.0,37.0,18.0,28.0,58.0,25.0,40.0,19.0,33.0,55.0,42.0,51.0,43.0,33.0,24.0,20.0,16.0,18.0,19.0,43.0,22.0,37.0,60.0,60.0,38.0,68.0,55.0,36.0,58.0,19.0,43.0,48.0,23.0,81.0,60.0,16.0,63.0,66.0,28.0,49.0,30.0,74.0,19.0,77.0,65.0,28.0,31.0,20.0,60.0,56.0,44.0,17.0,21.0,20.0,19.0,63.0,31.0,71.0,30.0,32.0,29.0,72.0,28.0,46.0,36.0,54.0,18.0,42.0,23.0,30.0,16.0,28.0,44.0,66.0,60.0,58.0,45.0,86.0,26.0,54.0,50.0,32.0,78.0,20.0,72.0,45.0,66.0,51.0,39.0,17.0,52.0,41.0,50.0,18.0,30.0,33.0,30.0,57.0,18.0,37.0,70.0,30.0,27.0,59.0,22.0,25.0,50.0,57.0,20.0,30.0,32.0,34.0,52.0,73.0,28.0,34.0,34.0,74.0,50.0,41.0,70.0,35.0,22.0,16.0,22.0,60.0,24.0,28.0,37.0,17.0,30.0,21.0,38.0,49.0,52.0,71.0,70.0,63.0,34.0,46.0,28.0,35.0,42.0,38.0,36.0,21.0,23.0,32.0,77.0,39.0,33.0,35.0,30.0,35.0,35.0,48.0,74.0,32.0,32.0,78.0,60.0,17.0,38.0,35.0,35.0,42.0,38.0,70.0,70.0,35.0,75.0,74.0,26.0,42.0,56.0,24.0,18.0,69.0,64.0,25.0,35.0,34.0,56.0,61.0,52.0,59.0,28.0,31.0,56.0,75.0,38.0,39.0,42.0,17.0,21.0,44.0,17.0,38.0,60.0,23.0,39.0,46.0,56.0,23.0,55.0,65.0,65.0,31.0,27.0,40.0,85.0,60.0,17.0,74.0,30.0,26.0,23.0,35.0,32.0,40.0,46.0,40.0,32.0,23.0,50.0,38.0,24.0,28.0,40.0,36.0,59.0,35.0,48.0,23.0,18.0,50.0,29.0,40.0,26.0,50.0,26.0,38.0,55.0,39.0,35.0,38.0,30.0,40.0,58.0,22.0,40.0,29.0,25.0,45.0,48.0,47.0,59.0,39.0,38.0,43.0,32.0,22.0,35.0,32.0,35.0,27.0,53.0,33.0,64.0,22.0,27.0,26.0,71.0,30.0,23.0,30.0,31.0,39.0,39.0,78.0,34.0,19.0,29.0,29.0,46.0,16.0,32.0,38.0,22.0,62.0,23.0,45.0,40.0,60.0,16.0,33.0,32.0,35.0,28.0,48.0,32.0,35.0,24.0,26.0,26.0,40.0,59.0,30.0,27.0,28.0,47.0,35.0,58.0,18.0,34.0,45.0,23.0,17.0,28.0,20.0,20.0,40.0,32.0,34.0,48.0,21.0,68.0,60.0,22.0,26.0,59.0,43.0,58.0,51.0,33.0,38.0,27.0,40.0,42.0,54.0,26.0,40.0,45.0,48.0,60.0,30.0,59.0,16.0,30.0,35.0,71.0,70.0,24.0,32.0,30.0,33.0,35.0,26.0,50.0,24.0,22.0,25.0,55.0,62.0,47.0,19.0,69.0,45.0,35.0,50.0,38.0,41.0,32.0,33.0,25.0,61.0,75.0,71.0,48.0,81.0,40.0,75.0,68.0,42.0,83.0,27.0,63.0,22.0,25.0,32.0,46.0,65.0,46.0,41.0,50.0,45.0,33.0,48.0,37.0,47.0,22.0,30.0,26.0,70.0,17.0,70.0,54.0,30.0,65.0,41.0,82.0,25.0,40.0,33.0,23.0,16.0,80.0,26.0,80.0,24.0,56.0,43.0,45.0,23.0,59.0,63.0,43.0,70.0,35.0,51.0,73.0,17.0,45.0,45.0,30.0,19.0,42.0,27.0,27.0,26.0,29.0,28.0,27.0,35.0,41.0,51.0,24.0,50.0,30.0,48.0,50.0,40.0,24.0,28.0,52.0,46.0,31.0,32.0,43.0,30.0,35.0,79.0,64.0,50.0,16.0,38.0,19.0,40.0,38.0,30.0,17.0,21.0,18.0,30.0,75.0,17.0,30.0,36.0,38.0,35.0,16.0,28.0,49.0,31.0,74.0,28.0,73.0,32.0,30.0,46.0,19.0,56.0,18.0,34.0,44.0,17.0,22.0,32.0,23.0,49.0,18.0,31.0,56.0,66.0,57.0,26.0,75.0,17.0,41.0,74.0,56.0,20.0,30.0,51.0,72.0,28.0,43.0,16.0,17.0,27.0,20.0,24.0,35.0,30.0,34.0,22.0,54.0,25.0,45.0,38.0,25.0,22.0,55.0,19.0,27.0,20.0,31.0,50.0,72.0,38.0,51.0,65.0,35.0,18.0,42.0,28.0,27.0,68.0,59.0,60.0,53.0,20.0,39.0,29.0,47.0,56.0,47.0,53.0,28.0,20.0,28.0,25.0,22.0,27.0,70.0,38.0,60.0,65.0,29.0,50.0,42.0,34.0,42.0,26.0,29.0,76.0,38.0,67.0,24.0,38.0,26.0,40.0,26.0,83.0,49.0,46.0,29.0,29.0,77.0,69.0,70.0,35.0,25.0,45.0,59.0,18.0,29.0,25.0,55.0,30.0,22.0,28.0,38.0,30.0,37.0,30.0,40.0,37.0,27.0,83.0,27.0,32.0,17.0,33.0,39.0,59.0,76.0,30.0,72.0,30.0,28.0,40.0,24.0,70.0,65.0,29.0,50.0,37.0,53.0,30.0,36.0,30.0,28.0,23.0,17.0,34.0,58.0,40.0,52.0,56.0,18.0,30.0,69.0,73.0,70.0,74.0,26.0,60.0,24.0,16.0,60.0,52.0,27.0,78.0,25.0,25.0,28.0,22.0,55.0,70.0,45.0,48.0,28.0,88.0,70.0,60.0,61.0,40.0,28.0,24.0,16.0,54.0,30.0,41.0,32.0,38.0,65.0,38.0,65.0,28.0,35.0,25.0,20.0,38.0,24.0,28.0,25.0,22.0,50.0,46.0,73.0,46.0,45.0,36.0,24.0,25.0,27.0,18.0,38.0,31.0,22.0,72.0,45.0,23.0,40.0,38.0,36.0,35.0,28.0,26.0,31.0,23.0,18.0,18.0,40.0,30.0,48.0,25.0,30.0,54.0,16.0,35.0,42.0,58.0,53.0,42.0,41.0,56.0,36.0,33.0,45.0,35.0,22.0,54.0,53.0,32.0,30.0,32.0,39.0,36.0,24.0,16.0,48.0,71.0,39.0,40.0,65.0,44.0,54.0,54.0,63.0,21.0,26.0,47.0,59.0,25.0,50.0,30.0,42.0,43.0,27.0,16.0,60.0,35.0,24.0,20.0,45.0,22.0,69.0,45.0,17.0,80.0,40.0,64.0,31.0,57.0,40.0,50.0,22.0,27.0,25.0,31.0,46.0,31.0,41.0,43.0,52.0,75.0,21.0,70.0,40.0,29.0,26.0,45.0,39.0,35.0,40.0,28.0,44.0,48.0,44.0,41.0,25.0,86.0,39.0,30.0,34.0,18.0,50.0,40.0,45.0,33.0,23.0,29.0,42.0,60.0,47.0,58.0,50.0,32.0,41.0,31.0,18.0,28.0,31.0,60.0,70.0,20.0,17.0,50.0,26.0,28.0,36.0,50.0,59.0,70.0,55.0,23.0,54.0,46.0,19.0,17.0,65.0,30.0,32.0,21.0,70.0,28.0,48.0,23.0,22.0,28.0,60.0,30.0,68.0,17.0,26.0,80.0,26.0,17.0,28.0,54.0,35.0,60.0,34.0,42.0,17.0,24.0,32.0,24.0,46.0,34.0,40.0,62.0,18.0,30.0,17.0,33.0,27.0,56.0,32.0,40.0,34.0,50.0,25.0,33.0,67.0,34.0,26.0,67.0,38.0,34.0,75.0,32.0,54.0,56.0,30.0,70.0,18.0,68.0,29.0,22.0,23.0,21.0,46.0,58.0,66.0,34.0,32.0,20.0,20.0,53.0,62.0,25.0,35.0,24.0,38.0,53.0,32.0,84.0,43.0,64.0,49.0,39.0,18.0,43.0,18.0,24.0,35.0,64.0,62.0,62.0,59.0,19.0,38.0,35.0,24.0,31.0,42.0,60.0,26.0,35.0,70.0,22.0,60.0,17.0,90.0,38.0,36.0,32.0,20.0,42.0,43.0,18.0,20.0,70.0,28.0,55.0,40.0,33.0,74.0,52.0,34.0,20.0,17.0,20.0,31.0,37.0,57.0,55.0,30.0,44.0,17.0,49.0,33.0,21.0,35.0,17.0,35.0,35.0,31.0,39.0,55.0,48.0,16.0,21.0,25.0,25.0,42.0,62.0,18.0,70.0,55.0,26.0,25.0,27.0,28.0,49.0,40.0,65.0,30.0,18.0,89.0,21.0,44.0,22.0,18.0,25.0,44.0,32.0,28.0,79.0,60.0,31.0,40.0,54.0,49.0,17.0,52.0,35.0,54.0,50.0,23.0,34.0,17.0,57.0,45.0,38.0,43.0,52.0,54.0,18.0,27.0,83.0,89.0,17.0,55.0,39.0,36.0,45.0,65.0,32.0,54.0,38.0,22.0,48.0,17.0,28.0,72.0,28.0,69.0,25.0,38.0,34.0,18.0,52.0,20.0,80.0,80.0,32.0,35.0,28.0,32.0,42.0,36.0,23.0,45.0,17.0,70.0,78.0,52.0,31.0,57.0,30.0,26.0,57.0,16.0,60.0,24.0,20.0,20.0,21.0,17.0,73.0,47.0,18.0,69.0,45.0,29.0,26.0,30.0,58.0,50.0,40.0,28.0,46.0,82.0,17.0,40.0,81.0,30.0,24.0,30.0,45.0,18.0,30.0,33.0,71.0,38.0,45.0,51.0,26.0,37.0,26.0,22.0,17.0,30.0,20.0,75.0,21.0,50.0,30.0,38.0,53.0,50.0,53.0,60.0,30.0,45.0,17.0,23.0,30.0,27.0,34.0,21.0,55.0,26.0,18.0,22.0,33.0,35.0,75.0,26.0,18.0,40.0,34.0,25.0,46.0,52.0,18.0,33.0,29.0,44.0,43.0,49.0,41.0,27.0,16.0,28.0,32.0,70.0,17.0,52.0,80.0,33.0,31.0,28.0,57.0,25.0,17.0,20.0,30.0,45.0,52.0,70.0,35.0,17.0,25.0,50.0,17.0,52.0,34.0,73.0,56.0,16.0,24.0,46.0,64.0,24.0,80.0,26.0,35.0,32.0,17.0,17.0,51.0,30.0,42.0,34.0,19.0,17.0,25.0,74.0,38.0,21.0,68.0,37.0,60.0,49.0,51.0,89.0,42.0,23.0,45.0,34.0,45.0,19.0,20.0,77.0,17.0,90.0,28.0,34.0,68.0,27.0,73.0,34.0,23.0,76.0,33.0,35.0,54.0,47.0,28.0,20.0,30.0,64.0,30.0,44.0,35.0,59.0,27.0,25.0,52.0,16.0,49.0,41.0,31.0,23.0,30.0,46.0,45.0,40.0,46.0,27.0,66.0,72.0,74.0,60.0,35.0,36.0,46.0,27.0,50.0,70.0,28.0,41.0,37.0,40.0,50.0,40.0,33.0,52.0,38.0,25.0,67.0,27.0,70.0,61.0,25.0,26.0,35.0,60.0,19.0,49.0,40.0,32.0,21.0,17.0,54.0,30.0,56.0,34.0,34.0,31.0,47.0,29.0,22.0,23.0,38.0,24.0,16.0,45.0,19.0,18.0,95.0,34.0,29.0,60.0,29.0,72.0,25.0,46.0,26.0,48.0,41.0,29.0,21.0,55.0,26.0,30.0,42.0,26.0,70.0,20.0,33.0,29.0,51.0,18.0,19.0,38.0,70.0,47.0,63.0,35.0,34.0,19.0,38.0,19.0,19.0,32.0,37.0,28.0,62.0,74.0,36.0,51.0,30.0,51.0,56.0,20.0,32.0,37.0,32.0,43.0,32.0,80.0,52.0,54.0,54.0,25.0,42.0,38.0,50.0,43.0,30.0,50.0,22.0,45.0,31.0,28.0,26.0,22.0,22.0,26.0,32.0,37.0,50.0,21.0,55.0,26.0,58.0,50.0,35.0,60.0,45.0,43.0,34.0,29.0,16.0,32.0,56.0,93.0,51.0,70.0,23.0,28.0,42.0,17.0,26.0,32.0,36.0,25.0,53.0,44.0,38.0,26.0,49.0,32.0,48.0,26.0,92.0,64.0,25.0,37.0,95.0,17.0,50.0,27.0,30.0,21.0,69.0,80.0,31.0,40.0,43.0,26.0,38.0,36.0,44.0,27.0,24.0,26.0,34.0,56.0,56.0,70.0,61.0,86.0,26.0,47.0,26.0,29.0,66.0,70.0,28.0,78.0,34.0,52.0,26.0,40.0,20.0,70.0,34.0,53.0,65.0,28.0,19.0,25.0,35.0,40.0,54.0,62.0,49.0,72.0,65.0,22.0,60.0,18.0,30.0,57.0,30.0,35.0,26.0,16.0,19.0,50.0,35.0,18.0,16.0,68.0,32.0,25.0,43.0,25.0,53.0,16.0,29.0,45.0,32.0,41.0,65.0,70.0,19.0,58.0,52.0,35.0,29.0,75.0,51.0,76.0,35.0,56.0,28.0,23.0,66.0,26.0,27.0,45.0,48.0,66.0,38.0,32.0,35.0,30.0,56.0,49.0,18.0,16.0,39.0,33.0,25.0,45.0,38.0,18.0,53.0,78.0,23.0,57.0,28.0,50.0,41.0,25.0,64.0,18.0,40.0,32.0,16.0,34.0,80.0,24.0,58.0,27.0,38.0,31.0,17.0,42.0,74.0,21.0,35.0,41.0,36.0,29.0,32.0,28.0,39.0,63.0,28.0,50.0,52.0,40.0,22.0,58.0,17.0,17.0,53.0,40.0,94.0,40.0,33.0,65.0,36.0,24.0,36.0,30.0,17.0,21.0,26.0,46.0,32.0,49.0,46.0,43.0,36.0,43.0,29.0,45.0,72.0,35.0,22.0,30.0,55.0,18.0,65.0,28.0,50.0,50.0,40.0,31.0,35.0,56.0,60.0,86.0,47.0,58.0,36.0,20.0,45.0,32.0,60.0,20.0,65.0,54.0,51.0,26.0,25.0,30.0,51.0,60.0,24.0,16.0,16.0,32.0,21.0,35.0,49.0,19.0,38.0,50.0,30.0,30.0,20.0,20.0,70.0,80.0,49.0,33.0,50.0,23.0,78.0,27.0,59.0,19.0,60.0,80.0,24.0,40.0,31.0,45.0,28.0,28.0,39.0,45.0,42.0,19.0,18.0,67.0,35.0,69.0,55.0,38.0,25.0,65.0,29.0,18.0,25.0,24.0,45.0,20.0,43.0,27.0,56.0,32.0,49.0,66.0,62.0,31.0,29.0,35.0,24.0,16.0,60.0,24.0,25.0,28.0,43.0,50.0,30.0,35.0,56.0,28.0,45.0,35.0,25.0,18.0,42.0,25.0,43.0,53.0,36.0,20.0,29.0,30.0,16.0,23.0,45.0,39.0,34.0,21.0,68.0,63.0,38.0,25.0,62.0,18.0,26.0,57.0,28.0,28.0,61.0,34.0,28.0,48.0,66.0,33.0,44.0,19.0,36.0,22.0,25.0,84.0,80.0,45.0,42.0,40.0,48.0,21.0,28.0,40.0,28.0,35.0,30.0,35.0,44.0,25.0,28.0,18.0,22.0,32.0,40.0,31.0,55.0,37.0,58.0,24.0,37.0,40.0,30.0,49.0,29.0,20.0,42.0,25.0,27.0,41.0,55.0,32.0,19.0,23.0,40.0,34.0,16.0,17.0,44.0,37.0,22.0,56.0,17.0,19.0,45.0,70.0,45.0,60.0,18.0,65.0,50.0,17.0,49.0,21.0,72.0,64.0,52.0,55.0,40.0,35.0,52.0,54.0,48.0,70.0,63.0,30.0,52.0,56.0,34.0,81.0,26.0,56.0,27.0,52.0,57.0,17.0,47.0,29.0,16.0,35.0,60.0,28.0,56.0,16.0,75.0,70.0,22.0,34.0,28.0,17.0,19.0,20.0,25.0,19.0,22.0,76.0,65.0,64.0,16.0,40.0,31.0,26.0,64.0,20.0,46.0,22.0,38.0,36.0,42.0,47.0,30.0,30.0,26.0,43.0,29.0,17.0,17.0,36.0,28.0,78.0,42.0,17.0,49.0,62.0,48.0,79.0,65.0,24.0,40.0,70.0,56.0,40.0,76.0,16.0,27.0,43.0,34.0,28.0,30.0,30.0,34.0,65.0,80.0,46.0,31.0,37.0,19.0,72.0,72.0,63.0,16.0,54.0,40.0,42.0,39.0,17.0,28.0,35.0,34.0,66.0,31.0,26.0,23.0,23.0,31.0,30.0,17.0,26.0,40.0,32.0,45.0,56.0,55.0,25.0,35.0,39.0,29.0,50.0,29.0,41.0,52.0,60.0,47.0,26.0,20.0,26.0,58.0,50.0,32.0,26.0,50.0,22.0,30.0,30.0,38.0,34.0,50.0,30.0,69.0,27.0,20.0,45.0,66.0,57.0,52.0,26.0,19.0,25.0,75.0,55.0,46.0,47.0,26.0,25.0,23.0,36.0,48.0,27.0,28.0,42.0,34.0,60.0,38.0,40.0,22.0,23.0,53.0,38.0,42.0,26.0,29.0,27.0,22.0,38.0,40.0,22.0,28.0,61.0,18.0,50.0,16.0,49.0,35.0,26.0,20.0,32.0,21.0,53.0,19.0,20.0,42.0,35.0,33.0,32.0,24.0,71.0,80.0,43.0,92.0,22.0,66.0,20.0,28.0,62.0,17.0,27.0,24.0,43.0,57.0,40.0,57.0,44.0,26.0,54.0,52.0,44.0,22.0,34.0,42.0,41.0,30.0,23.0,76.0,40.0,32.0,35.0,28.0,16.0,17.0,29.0,22.0,29.0,48.0,32.0,45.0,16.0,31.0,29.0,53.0,48.0,70.0,28.0,39.0,56.0,22.0,17.0,55.0,35.0,46.0,70.0,25.0,30.0,16.0,27.0,40.0,56.0,57.0,39.0,38.0,61.0,35.0,23.0,39.0,25.0,44.0,68.0,27.0,72.0,54.0,28.0,17.0,40.0,17.0,22.0,81.0,21.0,68.0,37.0,26.0,31.0,38.0,19.0,77.0,25.0,28.0,40.0,41.0,36.0,18.0,18.0,49.0,67.0,38.0,38.0,27.0,29.0,26.0,24.0,28.0,25.0,57.0,36.0,37.0,42.0,31.0,64.0,29.0,56.0,40.0,63.0,21.0,51.0,22.0,23.0,58.0,41.0,24.0,46.0,20.0,60.0,46.0,71.0,42.0,32.0,20.0,30.0,34.0,30.0,38.0,57.0,53.0,50.0,42.0,38.0,78.0,87.0,95.0,44.0,28.0,18.0,32.0,52.0,60.0,49.0,58.0,30.0,35.0,42.0,38.0,30.0,51.0,32.0,41.0,28.0,18.0,74.0,21.0,44.0,38.0,18.0,28.0,42.0,22.0,27.0,22.0,20.0,57.0,30.0,60.0,73.0,70.0,55.0,40.0,17.0,26.0,17.0,30.0,52.0,75.0,18.0,26.0,42.0,41.0,17.0,64.0,58.0,25.0,18.0,28.0,17.0,31.0,27.0,25.0,40.0,55.0,24.0,33.0,30.0,19.0,37.0,20.0,33.0,30.0,69.0,39.0,17.0,39.0,22.0,65.0,48.0,25.0,16.0,47.0,35.0,61.0,21.0,68.0,51.0,39.0,32.0,30.0,40.0,35.0,34.0,33.0,70.0,36.0,67.0,29.0,18.0,53.0,28.0,35.0,26.0,30.0,23.0,26.0,61.0,90.0,35.0,77.0,32.0,46.0,37.0,19.0,51.0,37.0,56.0,64.0,37.0,38.0,29.0,42.0,22.0,34.0,45.0,29.0,40.0,44.0,45.0,66.0,30.0,35.0,36.0,38.0,27.0,53.0,46.0,35.0,46.0,43.0,21.0,27.0,69.0,41.0,25.0,25.0,47.0,31.0,44.0,53.0,43.0,44.0,44.0,35.0,42.0,43.0,35.0,70.0,19.0,43.0,28.0,57.0,37.0,25.0,39.0,37.0,71.0,17.0,48.0,26.0,39.0,38.0,26.0,21.0,24.0,25.0,19.0,40.0,60.0,28.0,24.0,43.0,25.0,27.0,23.0,35.0,66.0,45.0,32.0,44.0,53.0,53.0,54.0,34.0,26.0,55.0,33.0,53.0,16.0,33.0,47.0,19.0,42.0,51.0,67.0,28.0,39.0,25.0,52.0,41.0,32.0,49.0,54.0,25.0,43.0,30.0,32.0,35.0,40.0,68.0,30.0,48.0,20.0,35.0,18.0,30.0,41.0,26.0,54.0,65.0,45.0,25.0,34.0,17.0,30.0,40.0,56.0,27.0,28.0,42.0,34.0,31.0,44.0,60.0,35.0,24.0,59.0,29.0,37.0,25.0,70.0,55.0,48.0,27.0,30.0,28.0,58.0,80.0,21.0,46.0,82.0,16.0,18.0,19.0,28.0,61.0,16.0,63.0,16.0,16.0,21.0,28.0,36.0,22.0,41.0,46.0,49.0,37.0,22.0,50.0,18.0,51.0,26.0,18.0,48.0,36.0,22.0,30.0,72.0,39.0,39.0,29.0,36.0,32.0,34.0,72.0,17.0,49.0,32.0,26.0,25.0,45.0,39.0,45.0,51.0,81.0,69.0,28.0,46.0,24.0,35.0,37.0,20.0,28.0,50.0,17.0,34.0,67.0,55.0,49.0,23.0,21.0,69.0,34.0,53.0,28.0,43.0,29.0,37.0,31.0,47.0,24.0,20.0,28.0,40.0,23.0,52.0,46.0,54.0,37.0,36.0,65.0,31.0,16.0,71.0,28.0,75.0,27.0,53.0,30.0,32.0,42.0,37.0,34.0,39.0,38.0,88.0,44.0,50.0,22.0,35.0,35.0,26.0,36.0,35.0,36.0,35.0,26.0,25.0,18.0,19.0,65.0,49.0,38.0,37.0,35.0,52.0,30.0,36.0,18.0,24.0,25.0,24.0,67.0,26.0,37.0,73.0,59.0,19.0,27.0,29.0,37.0,32.0,51.0,46.0,37.0,28.0,24.0,57.0,18.0,25.0,52.0,58.0,30.0,66.0,35.0,66.0,49.0,45.0,40.0,33.0,56.0,34.0,75.0,21.0,23.0,27.0,31.0,78.0,37.0,51.0,73.0,50.0,43.0,70.0,33.0,45.0,27.0,41.0,25.0,48.0,22.0,20.0,32.0,48.0,23.0,35.0,33.0,54.0,16.0,49.0,37.0,37.0,29.0,80.0,40.0,53.0,17.0,62.0,42.0,26.0,45.0,55.0,33.0,65.0,35.0,70.0,30.0,30.0,20.0,29.0,30.0,27.0,48.0,17.0,43.0,32.0,56.0,78.0,75.0,31.0,29.0,30.0,33.0,25.0,73.0,25.0,35.0,30.0,46.0,86.0,71.0,33.0,95.0,26.0,33.0,30.0,31.0,32.0,30.0,34.0,32.0,31.0,50.0,32.0,30.0,30.0,27.0,37.0,37.0,32.0,74.0,18.0,41.0,34.0,18.0,55.0,60.0,56.0,34.0,65.0,48.0,43.0,28.0,39.0,35.0,33.0,55.0,28.0,49.0,27.0,57.0,31.0,38.0,21.0,58.0,22.0,48.0,62.0,26.0,28.0,31.0,20.0,34.0,45.0,40.0,44.0,27.0,30.0,24.0,55.0,19.0,43.0,68.0,47.0,36.0,67.0,49.0,87.0,73.0,36.0,30.0,19.0,38.0,31.0,35.0,37.0,45.0,21.0,32.0,20.0,27.0,18.0,32.0,16.0,28.0,31.0,19.0,31.0,30.0,23.0,27.0,21.0,19.0,43.0,20.0,32.0,42.0,27.0,37.0,69.0,34.0,27.0,65.0,20.0,31.0,56.0,32.0,28.0,36.0,18.0,35.0,35.0,29.0,18.0,19.0,55.0,48.0,29.0,56.0,25.0,56.0,22.0,67.0,31.0,21.0,18.0,37.0,21.0,36.0,37.0,21.0,28.0,28.0,30.0,37.0,58.0,63.0,68.0,38.0,50.0,23.0,29.0,20.0,71.0,38.0,52.0,33.0,30.0,34.0,79.0,46.0,32.0,38.0,20.0,54.0,32.0,79.0,20.0,33.0,21.0,73.0,16.0,22.0,20.0,30.0,54.0,24.0,26.0,16.0,33.0,95.0,20.0,51.0,30.0,32.0,20.0,31.0,30.0,17.0,35.0,33.0,17.0,30.0,47.0,24.0,63.0,71.0,35.0,24.0,23.0,36.0,40.0,60.0,27.0,35.0,25.0,19.0,67.0,23.0,53.0,47.0,34.0,16.0,35.0,54.0,39.0,60.0,32.0,18.0,16.0,29.0,30.0,43.0,38.0,37.0,60.0,42.0,50.0,19.0,33.0,66.0,34.0,32.0,30.0,34.0,39.0,22.0,19.0,45.0,20.0,30.0,34.0,25.0,31.0,40.0,40.0,33.0,25.0,30.0,72.0,26.0,25.0,69.0,41.0,30.0,22.0,63.0,29.0,35.0,30.0,58.0,39.0,40.0,42.0,18.0,19.0,36.0,16.0,22.0,62.0,17.0,21.0,37.0,16.0,22.0,23.0,16.0,38.0,17.0,47.0,18.0,35.0,36.0,31.0,24.0,30.0,25.0,26.0,20.0,17.0,35.0,21.0,20.0,18.0,20.0,32.0,83.0,42.0,24.0,25.0,17.0,34.0,49.0,17.0,40.0,51.0,28.0,28.0,23.0,69.0,30.0,40.0,52.0,42.0,19.0,61.0,40.0,32.0,17.0,34.0,18.0,19.0,23.0,22.0,72.0,38.0,50.0,38.0,26.0,30.0,61.0,42.0,32.0,31.0,30.0,41.0,20.0,65.0,27.0,73.0,46.0,26.0,66.0,17.0,26.0,31.0,32.0,51.0,45.0,38.0,63.0,18.0,43.0,16.0,38.0,43.0,40.0,41.0,16.0,37.0,65.0,50.0,37.0,63.0,40.0,78.0,41.0,32.0,37.0,50.0,38.0,46.0,41.0,32.0,47.0,71.0,34.0,36.0,30.0,19.0,25.0,27.0,47.0,16.0,37.0,39.0,60.0,18.0,32.0,39.0,26.0,40.0,34.0,35.0,30.0,24.0,26.0,25.0,54.0,44.0,29.0,34.0,23.0,24.0,41.0,63.0,33.0,26.0,16.0,66.0,54.0,29.0,51.0,33.0,40.0,55.0,84.0,54.0,17.0,23.0,19.0,48.0,56.0,35.0,20.0,44.0,20.0,30.0,24.0,25.0,32.0,17.0,52.0,22.0,19.0,33.0,42.0,38.0,45.0,27.0,82.0,47.0,63.0,41.0,47.0,71.0,32.0,41.0,44.0,30.0,32.0,40.0,20.0,25.0,16.0,49.0,35.0,46.0,20.0,36.0,61.0,68.0,62.0,42.0,21.0,61.0,38.0,33.0,52.0,18.0,24.0,16.0,32.0,31.0,27.0,18.0,35.0,17.0,45.0,39.0,40.0,27.0,21.0,36.0,20.0,48.0,23.0,31.0,59.0,37.0,17.0,42.0,37.0,89.0,49.0,42.0,48.0,58.0,25.0,16.0,75.0,30.0,17.0,54.0,24.0,65.0,62.0,34.0,59.0,21.0,19.0,34.0,16.0,59.0,41.0,64.0,44.0,20.0,24.0,34.0,38.0,46.0,24.0,24.0,23.0,42.0,45.0,16.0,28.0,41.0,38.0,51.0,37.0,30.0,33.0,27.0,30.0,22.0,23.0,19.0,95.0,28.0,25.0,35.0,37.0,16.0,28.0,31.0,24.0,19.0,16.0,21.0,71.0,35.0,19.0,32.0,60.0,37.0,44.0,30.0,36.0,55.0,58.0,25.0,48.0,45.0,37.0,16.0,71.0,24.0,24.0,48.0,53.0,32.0,31.0,56.0,35.0,20.0,53.0,49.0,23.0,20.0,37.0,28.0,26.0,35.0,29.0,25.0,76.0,49.0,33.0,57.0,35.0,24.0,36.0,25.0,33.0,33.0,67.0,27.0,48.0,35.0,79.0,32.0,29.0,48.0,26.0,45.0,39.0,37.0,24.0,38.0,50.0,47.0,38.0,55.0,27.0,57.0,43.0,71.0,47.0,75.0,42.0,28.0,79.0,62.0,40.0,54.0,30.0,18.0,31.0,24.0,59.0,41.0,70.0,25.0,48.0,60.0,65.0,60.0,31.0,32.0,39.0,63.0,50.0,77.0,38.0,26.0,46.0,40.0,32.0,37.0,18.0,75.0,27.0,51.0,31.0,41.0,52.0,68.0,29.0,70.0,23.0,33.0,26.0,43.0,29.0,35.0,18.0,16.0,49.0,21.0,31.0,61.0,73.0,45.0,49.0,18.0,32.0,43.0,68.0,32.0,37.0,51.0,19.0,25.0,45.0,30.0,22.0,52.0,62.0,78.0,63.0,28.0,36.0,37.0,53.0,42.0,57.0,30.0,22.0,32.0,41.0,18.0,28.0,60.0,37.0,32.0,37.0,25.0,27.0,16.0,34.0,60.0,39.0,49.0,53.0,41.0,31.0,48.0,54.0,35.0,19.0,26.0,42.0,62.0,40.0,47.0,25.0,39.0,31.0,31.0,47.0,28.0,30.0,42.0,25.0,44.0,29.0,27.0,42.0,48.0,47.0,43.0,40.0,19.0,22.0,23.0,42.0,77.0,32.0,22.0,25.0,36.0,55.0,38.0,27.0,62.0,43.0,65.0,41.0,28.0,78.0,29.0,46.0,32.0,30.0,59.0,30.0,42.0,30.0,28.0,20.0,27.0,56.0,66.0,65.0,17.0,25.0,32.0,34.0,40.0,21.0,41.0,30.0,29.0,30.0,36.0,65.0,53.0,null,null,null,54.0,52.0,31.0,53.0,33.0,28.0,35.0,42.0,23.0,45.0,46.0,64.0,40.0,17.0,27.0,41.0,67.0,56.0,83.0,28.0,19.0,38.0,20.0,27.0,60.0,23.0,32.0,33.0,38.0,30.0,34.0,25.0,58.0,19.0,41.0,35.0,28.0,74.0,42.0,37.0,30.0,28.0,39.0,36.0,36.0,17.0,55.0,20.0,24.0,43.0,32.0,30.0,30.0,50.0,22.0,34.0,44.0,28.0,42.0,40.0,16.0,33.0,23.0,35.0,67.0,38.0,23.0,32.0,45.0,18.0,25.0,29.0,44.0,63.0,26.0,31.0,36.0,25.0,37.0,51.0,22.0,37.0,39.0,38.0,41.0,31.0,27.0,44.0,65.0,34.0,32.0,33.0,20.0,31.0,34.0,17.0,54.0,75.0,31.0,34.0,39.0,39.0,20.0,25.0,34.0,35.0,38.0,23.0,52.0,78.0,32.0,33.0,23.0,33.0,34.0,35.0,34.0,52.0,19.0,42.0,61.0,35.0,26.0,36.0,23.0,54.0,48.0,29.0,20.0,35.0,43.0,70.0,40.0,67.0,34.0,33.0,39.0,66.0,43.0,58.0,30.0,25.0,44.0,46.0,28.0,36.0,19.0,28.0,44.0,46.0,31.0,21.0,43.0,77.0,22.0,19.0,20.0,39.0,55.0,30.0,41.0,21.0,20.0,18.0,49.0,35.0,67.0,28.0,25.0,53.0,33.0,56.0,27.0,42.0,17.0,41.0,33.0,35.0,41.0,40.0,40.0,33.0,20.0,18.0,40.0,17.0,33.0,78.0,63.0,30.0,37.0,40.0,54.0,71.0,30.0,18.0,20.0,53.0,33.0,30.0,58.0,42.0,30.0,29.0,28.0,18.0,30.0,35.0,16.0,20.0,19.0,38.0,73.0,21.0,22.0,63.0,27.0,36.0,19.0,55.0,32.0,52.0,25.0,36.0,37.0,73.0,50.0,36.0,31.0,41.0,33.0,39.0,44.0,25.0,56.0,20.0,29.0,32.0,57.0,70.0,19.0,42.0,30.0,50.0,24.0,20.0,34.0,56.0,44.0,36.0,31.0,17.0,33.0,25.0,50.0,45.0,42.0,47.0,21.0,49.0,62.0,23.0,46.0,35.0,40.0,37.0,38.0,17.0,47.0,80.0,31.0,70.0,20.0,21.0,21.0,32.0,40.0,45.0,31.0,38.0,16.0,23.0,25.0,35.0,35.0,85.0,29.0,76.0,33.0,72.0,46.0,25.0,44.0,75.0,78.0,21.0,32.0,47.0,58.0,23.0,65.0,29.0,30.0,23.0,36.0,26.0,35.0,41.0,21.0,47.0,70.0,23.0,21.0,30.0,55.0,17.0,29.0,45.0,56.0,28.0,41.0,45.0,52.0,42.0,63.0,29.0,23.0,33.0,34.0,26.0,43.0,66.0,48.0,30.0,38.0,60.0,19.0,39.0,65.0,75.0,52.0,45.0,21.0,65.0,24.0,23.0,62.0,40.0,38.0,33.0,31.0,54.0,19.0,23.0,57.0,56.0,24.0,44.0,53.0,54.0,35.0,54.0,61.0,23.0,21.0,51.0,22.0,48.0,61.0,74.0,23.0,61.0,49.0,29.0,66.0,71.0,18.0,45.0,41.0,26.0,52.0,48.0,55.0,51.0,43.0,28.0,65.0,31.0,16.0,27.0,18.0,25.0,21.0,25.0,42.0,35.0,26.0,49.0,51.0,29.0,57.0,32.0,46.0,49.0,25.0,36.0,35.0,55.0,20.0,65.0,46.0,25.0,16.0,76.0,27.0,32.0,39.0,53.0,21.0,73.0,31.0,64.0,59.0,33.0,17.0,36.0,34.0,77.0,26.0,60.0,65.0,38.0,16.0,16.0,41.0,47.0,54.0,45.0,17.0,65.0,36.0,35.0,39.0,63.0,32.0,19.0,35.0,70.0,57.0,58.0,17.0,45.0,24.0,22.0,53.0,32.0,42.0,59.0,19.0,56.0,31.0,33.0,42.0,25.0,21.0,58.0,98.0,31.0,31.0,43.0,45.0,22.0,41.0,35.0,30.0,43.0,30.0,35.0,51.0,45.0,34.0,53.0,43.0,28.0,80.0,50.0,69.0,29.0,61.0,57.0,43.0,27.0,41.0,32.0,48.0,38.0,38.0,66.0,17.0,25.0,79.0,24.0,40.0,28.0,80.0,74.0,65.0,16.0,16.0,62.0,43.0,38.0,32.0,82.0,51.0,24.0,20.0,47.0,23.0,50.0,29.0,23.0,43.0,26.0,30.0,17.0,42.0,37.0,25.0,59.0,61.0,69.0,45.0,40.0,42.0,28.0,60.0,79.0,44.0,47.0,42.0,22.0,21.0,29.0,44.0,32.0,28.0,40.0,37.0,54.0,31.0,30.0,24.0,64.0,36.0,36.0,38.0,45.0,16.0,48.0,26.0,43.0,25.0,18.0,24.0,62.0,40.0,43.0,28.0,18.0,61.0,29.0,20.0,17.0,28.0,45.0,63.0,31.0,33.0,21.0,77.0,19.0,42.0,60.0,46.0,72.0,19.0,34.0,43.0,26.0,20.0,27.0,73.0,71.0,29.0,43.0,49.0,51.0,41.0,41.0,69.0,55.0,67.0,41.0,60.0,41.0,29.0,33.0,45.0,30.0,18.0,37.0,32.0,27.0,29.0,38.0,26.0,33.0,47.0,20.0,45.0,37.0,19.0,72.0,24.0,62.0,25.0,53.0,25.0,29.0,40.0,45.0,51.0,27.0,23.0,41.0,35.0,35.0,31.0,46.0,25.0,17.0,19.0,37.0,66.0,57.0,27.0,68.0,60.0,33.0,40.0,28.0,16.0,31.0,47.0,29.0,32.0,25.0,48.0,43.0,56.0,55.0,82.0,28.0,42.0,37.0,33.0,21.0,30.0,43.0,41.0,27.0,50.0,46.0,43.0,82.0,26.0,16.0,19.0,87.0,20.0,35.0,35.0,23.0,32.0,28.0,27.0,33.0,64.0,62.0,33.0,27.0,43.0,38.0,75.0,55.0,59.0,43.0,29.0,72.0,33.0,40.0,31.0,20.0,95.0,32.0,29.0,20.0,36.0,31.0,19.0,18.0,31.0,43.0,27.0,33.0,40.0,28.0,33.0,33.0,42.0,64.0,24.0,19.0,50.0,19.0,35.0,34.0,52.0,35.0,32.0,71.0,29.0,22.0,16.0,40.0,26.0,66.0,27.0,48.0,73.0,31.0,25.0,23.0,30.0,20.0,47.0,26.0,51.0,30.0,24.0,46.0,33.0,38.0,35.0,20.0,29.0,27.0,70.0,24.0,33.0,28.0,30.0,34.0,33.0,29.0,40.0,30.0,27.0,22.0,33.0,37.0,23.0,30.0,18.0,30.0,32.0,64.0,50.0,23.0,31.0,20.0,73.0,39.0,27.0,33.0,30.0,21.0,27.0,47.0,27.0,34.0,18.0,70.0,67.0,54.0,70.0,28.0,20.0,51.0,35.0,21.0,37.0,32.0,58.0,97.0,49.0,71.0,31.0,60.0,26.0,36.0,38.0,24.0,27.0,65.0,21.0,51.0,61.0,17.0,25.0,53.0,35.0,17.0,38.0,36.0,32.0,35.0,53.0,50.0,54.0,17.0,47.0,52.0,32.0,60.0,30.0,52.0,50.0,20.0,42.0,21.0,60.0,53.0,82.0,55.0,35.0,36.0,16.0,32.0,28.0,61.0,27.0,60.0,37.0,36.0,25.0,35.0,42.0,76.0,71.0,26.0,33.0,30.0,33.0,56.0,32.0,31.0,42.0,43.0,43.0,39.0,26.0,20.0,33.0,53.0,56.0,33.0,28.0,18.0,47.0,71.0,30.0,32.0,49.0,59.0,18.0,16.0,45.0,33.0,42.0,52.0,61.0,34.0,30.0,22.0,22.0,25.0,25.0,33.0,33.0,29.0,19.0,19.0,46.0,37.0,38.0,18.0,52.0,43.0,66.0,38.0,30.0,24.0,38.0,58.0,40.0,43.0,31.0,18.0,50.0,37.0,38.0,57.0,38.0,60.0,42.0,31.0,33.0,16.0,56.0,37.0,37.0,70.0,19.0,41.0,32.0,70.0,29.0,59.0,50.0,35.0,80.0,50.0,92.0,18.0,26.0,60.0,33.0,37.0,30.0,36.0,16.0,48.0,54.0,73.0,60.0,35.0,30.0,32.0,47.0,52.0,80.0,37.0,32.0,20.0,42.0,63.0,22.0,36.0,19.0,56.0,72.0,24.0,33.0,55.0,67.0,38.0,17.0,74.0,80.0,55.0,64.0,60.0,18.0,16.0,38.0,21.0,27.0,31.0,89.0,16.0,28.0,47.0,75.0,35.0,63.0,23.0,30.0,28.0,29.0,32.0,55.0,22.0,46.0,38.0,55.0,29.0,37.0,68.0,26.0,28.0,48.0,19.0,31.0,22.0,26.0,27.0,70.0,34.0,64.0,58.0,57.0,67.0,34.0,30.0,45.0,25.0,48.0,28.0,45.0,24.0,32.0,18.0,25.0,41.0,27.0,34.0,32.0,37.0,23.0,23.0,31.0,24.0,65.0,67.0,72.0,30.0,53.0,47.0,51.0,34.0,45.0,22.0,30.0,28.0,57.0,16.0,35.0,45.0,45.0,71.0,43.0,18.0,30.0,54.0,31.0,57.0,60.0,30.0,40.0,35.0,54.0,26.0,51.0,29.0,35.0,49.0,29.0,34.0,24.0,55.0,30.0,16.0,22.0,35.0,49.0,56.0,50.0,70.0,71.0,40.0,53.0,36.0,67.0,34.0,22.0,33.0,27.0,37.0,45.0,70.0,39.0,58.0,47.0,20.0,18.0,38.0,50.0,23.0,35.0,32.0,23.0,55.0,60.0,24.0,29.0,25.0,34.0,40.0,25.0,22.0,60.0,26.0,64.0,32.0,33.0,25.0,76.0,28.0,39.0,22.0,41.0,16.0,45.0,73.0,39.0,59.0,46.0,20.0,39.0,26.0,37.0,57.0,61.0,60.0,16.0,30.0,69.0,53.0,38.0,65.0,28.0,50.0,36.0,35.0,32.0,92.0,56.0,20.0,87.0,34.0,50.0,68.0,29.0,30.0,40.0,25.0,33.0,36.0,46.0,25.0,31.0,39.0,42.0,36.0,43.0,70.0,34.0,42.0,17.0,55.0,24.0,38.0,32.0,50.0,48.0,60.0,28.0,73.0,34.0,37.0,40.0,27.0,31.0,30.0,38.0,27.0,54.0,36.0,81.0,23.0,24.0,17.0,61.0,63.0,25.0,24.0,34.0,16.0,40.0,17.0,44.0,70.0,41.0,34.0,35.0,47.0,33.0,30.0,28.0,71.0,55.0,27.0,27.0,35.0,55.0,26.0,33.0,49.0,33.0,44.0,57.0,21.0,38.0,29.0,20.0,45.0,41.0,40.0,30.0,20.0,34.0,54.0,51.0,48.0,31.0,40.0,34.0,28.0,23.0,44.0,62.0,59.0,36.0,62.0,53.0,45.0,45.0,20.0,32.0,65.0,64.0,32.0,19.0,21.0,24.0,28.0,59.0,50.0,28.0,61.0,50.0,16.0,50.0,31.0,45.0,44.0,49.0,45.0,30.0,28.0,54.0,67.0,32.0,22.0,51.0,16.0,32.0,38.0,64.0,24.0,26.0,61.0,35.0,33.0,26.0,20.0,16.0,66.0,45.0,47.0,62.0,38.0,54.0,62.0,19.0,42.0,27.0,18.0,27.0,30.0,38.0,30.0,50.0,28.0,36.0,44.0,78.0,62.0,51.0,18.0,23.0,18.0,34.0,74.0,62.0,38.0,40.0,67.0,16.0,58.0,18.0,57.0,53.0,22.0,37.0,37.0,33.0,40.0,39.0,31.0,25.0,55.0,47.0,17.0,33.0,48.0,53.0,46.0,68.0,19.0,70.0,30.0,28.0,31.0,34.0,19.0,25.0,70.0,16.0,26.0,39.0,33.0,45.0,60.0,42.0,19.0,19.0,48.0,22.0,34.0,27.0,34.0,68.0,33.0,65.0,30.0,25.0,32.0,34.0,53.0,35.0,52.0,22.0,36.0,59.0,34.0,39.0,28.0,17.0,51.0,38.0,55.0,61.0,19.0,34.0,37.0,31.0,38.0,16.0,38.0,36.0,17.0,48.0,29.0,25.0,22.0,38.0,46.0,27.0,30.0,71.0,43.0,58.0,30.0,36.0,73.0,28.0,26.0,51.0,69.0,19.0,19.0,35.0,27.0,32.0,29.0,16.0,39.0,70.0,48.0,19.0,58.0,30.0,16.0,38.0,51.0,25.0,72.0,69.0,42.0,33.0,34.0,49.0,32.0,44.0,43.0,21.0,40.0,30.0,55.0,37.0,16.0,18.0,21.0,39.0,36.0,26.0,23.0,36.0,26.0,36.0,25.0,36.0,55.0,43.0,28.0,46.0,42.0,39.0,32.0,75.0,42.0,26.0,34.0,45.0,18.0,45.0,45.0,28.0,76.0,25.0,58.0,58.0,52.0,38.0,30.0,62.0,65.0,20.0,25.0,25.0,44.0,44.0,31.0,23.0,33.0,35.0,17.0,18.0,26.0,30.0,17.0,55.0,48.0,44.0,58.0,22.0,74.0,47.0,54.0,31.0,39.0,22.0,55.0,68.0,38.0,33.0,49.0,37.0,24.0,57.0,29.0,58.0,84.0,27.0,17.0,33.0,64.0,57.0,25.0,34.0,32.0,34.0,27.0,71.0,34.0,25.0,45.0,19.0,45.0,19.0,42.0,53.0,30.0,56.0,25.0,56.0,74.0,65.0,25.0,29.0,27.0,35.0,42.0,42.0,18.0,25.0,41.0,51.0,76.0,20.0,36.0,20.0,39.0,35.0,37.0,26.0,52.0,60.0,38.0,28.0,80.0,45.0,37.0,47.0,38.0,75.0,26.0,45.0,30.0,56.0,31.0,46.0,55.0,49.0,27.0,62.0,38.0,60.0,40.0,36.0,28.0,58.0,38.0,60.0,54.0,26.0,49.0,20.0,36.0,64.0,47.0,60.0,48.0,67.0,40.0,43.0,60.0,17.0,27.0,33.0,40.0,63.0,39.0,28.0,35.0,37.0,17.0,33.0,27.0,16.0,61.0,22.0,31.0,58.0,35.0,22.0,40.0,59.0,33.0,42.0,36.0,32.0,19.0,52.0,33.0,39.0,26.0,31.0,22.0,40.0,83.0,50.0,26.0,19.0,46.0,41.0,48.0,34.0,25.0,57.0,27.0,35.0,80.0,50.0,38.0,39.0,16.0,31.0,28.0,64.0,36.0,24.0,30.0,42.0,30.0,42.0,18.0,23.0,54.0,29.0,45.0,61.0,27.0,25.0,23.0,28.0,22.0,42.0,49.0,86.0,27.0,21.0,18.0,35.0,21.0,55.0,45.0,65.0,39.0,32.0,31.0,43.0,17.0,68.0,34.0,25.0,76.0,30.0,33.0,28.0,42.0,31.0,31.0,30.0,33.0,67.0,59.0,38.0,38.0,26.0,35.0,59.0,32.0,23.0,49.0,37.0,65.0,39.0,29.0,34.0,27.0,33.0,46.0,30.0,27.0,28.0,42.0,61.0,33.0,54.0,35.0,20.0,28.0,69.0,32.0,36.0,60.0,25.0,60.0,21.0,18.0,40.0,41.0,55.0,35.0,35.0,32.0,24.0,18.0,30.0,63.0,30.0,33.0,27.0,31.0,18.0,59.0,51.0,79.0,60.0,36.0,17.0,48.0,55.0,24.0,52.0,77.0,31.0,25.0,50.0,70.0,31.0,29.0,33.0,25.0,25.0,26.0,36.0,37.0,25.0,32.0,65.0,24.0,16.0,40.0,48.0,17.0,61.0,36.0,68.0,29.0,16.0,32.0,37.0,45.0,38.0,28.0,17.0,68.0,28.0,40.0,50.0,18.0,22.0,17.0,26.0,17.0,40.0,60.0,26.0,34.0,84.0,29.0,16.0,23.0,30.0,25.0,33.0,25.0,28.0,46.0,50.0,34.0,88.0,57.0,29.0,63.0,27.0,58.0,35.0,40.0,35.0,34.0,38.0,27.0,29.0,23.0,70.0,17.0,20.0,61.0,41.0,41.0,22.0,38.0,45.0,64.0,35.0,35.0,32.0,47.0,34.0,45.0,20.0,31.0,35.0,49.0,54.0,56.0,28.0,31.0,35.0,41.0,43.0,40.0,25.0,48.0,34.0,42.0,27.0,29.0,43.0,23.0,31.0,29.0,17.0,36.0,31.0,28.0,30.0,58.0,85.0,48.0,35.0,39.0,57.0,25.0,31.0,42.0,25.0,59.0,22.0,38.0,47.0,38.0,63.0,20.0,65.0,39.0,42.0,40.0,40.0,76.0,30.0,41.0,33.0,26.0,69.0,27.0,26.0,18.0,62.0,16.0,32.0,53.0,55.0,38.0,29.0,45.0,25.0,53.0,48.0,34.0,38.0,29.0,19.0,50.0,25.0,33.0,54.0,26.0,32.0,34.0,35.0,45.0,69.0,35.0,58.0,27.0,31.0,52.0,27.0,19.0,27.0,39.0,86.0,41.0,23.0,55.0,29.0,48.0,20.0,79.0,59.0,23.0,33.0,62.0,28.0,70.0,53.0,16.0,68.0,52.0,63.0,41.0,30.0,37.0,39.0,86.0,28.0,45.0,61.0,48.0,44.0,17.0,62.0,27.0,29.0,40.0,32.0,40.0,19.0,70.0,59.0,42.0,35.0,16.0,19.0,16.0,22.0,33.0,47.0,17.0,62.0,83.0,31.0,80.0,33.0,51.0,63.0,36.0,55.0,85.0,33.0,70.0,31.0,32.0,39.0,51.0,32.0,23.0,32.0,30.0,37.0,33.0,35.0,40.0,57.0,43.0,39.0,27.0,19.0,78.0,62.0,64.0,60.0,50.0,47.0,41.0,19.0,48.0,24.0,32.0,27.0,50.0,55.0,25.0,35.0,25.0,36.0,66.0,30.0,21.0,16.0,40.0,22.0,37.0,27.0,26.0,18.0,23.0,62.0,37.0,21.0,30.0,25.0,35.0,17.0,55.0,48.0,61.0,75.0,42.0,49.0,32.0,25.0,33.0,33.0,25.0,23.0,45.0,89.0,19.0,23.0,79.0,18.0,43.0,43.0,66.0,18.0,35.0,29.0,25.0,45.0,31.0,27.0,33.0,47.0,35.0,37.0,30.0,41.0,35.0,20.0,70.0,75.0,45.0,80.0,26.0,47.0,21.0,54.0,60.0,75.0,30.0,31.0,45.0,16.0,41.0,38.0,26.0,18.0,80.0,39.0,33.0,17.0,37.0,43.0,56.0,70.0,46.0,22.0,44.0,40.0,60.0,52.0,36.0,73.0,18.0,45.0,36.0,63.0,35.0,18.0,19.0,74.0,18.0,39.0,25.0,37.0,60.0,46.0,37.0,52.0,40.0,43.0,77.0,30.0,50.0,36.0,31.0,67.0,51.0,24.0,28.0,30.0,21.0,96.0,25.0,37.0,40.0,71.0,37.0,66.0,63.0,18.0,33.0,17.0,58.0,38.0,48.0,64.0,43.0,25.0,47.0,27.0,24.0,23.0,43.0,37.0,32.0,40.0,69.0,76.0,16.0,76.0,64.0,45.0,56.0,58.0,42.0,33.0,28.0,33.0,63.0,39.0,31.0,29.0,34.0,31.0,53.0,19.0,34.0,57.0,75.0,59.0,46.0,25.0,40.0,37.0,40.0,61.0,56.0,32.0,26.0,33.0,73.0,63.0,37.0,16.0,16.0,34.0,31.0,23.0,63.0,65.0,22.0,17.0,29.0,18.0,22.0,20.0,41.0,30.0,35.0,80.0,27.0,52.0,38.0,21.0,25.0,30.0,25.0,38.0,35.0,21.0,28.0,26.0,41.0,26.0,22.0,47.0,55.0,50.0,40.0,23.0,42.0,62.0,46.0,60.0,69.0,27.0,54.0,55.0,42.0,82.0,51.0,46.0,31.0,47.0,28.0,49.0,23.0,31.0,36.0,16.0,38.0,36.0,45.0,20.0,33.0,77.0,23.0,73.0,24.0,36.0,68.0,50.0,56.0,34.0,47.0,35.0,62.0,52.0,21.0,68.0,62.0,17.0,19.0,53.0,44.0,27.0,31.0,18.0,33.0,23.0,38.0,37.0,33.0,28.0,20.0,19.0,29.0,36.0,39.0,22.0,18.0,23.0,54.0,60.0,69.0,25.0,30.0,76.0,29.0,57.0,35.0,67.0,59.0,59.0,31.0,30.0,54.0,22.0,25.0,54.0,61.0,46.0,32.0,33.0,74.0,28.0,53.0,35.0,50.0,23.0,26.0,26.0,57.0,20.0,24.0,33.0,23.0,33.0,62.0,34.0,51.0,32.0,40.0,50.0,26.0,32.0,43.0,37.0,37.0,28.0,40.0,27.0,58.0,60.0,30.0,40.0,46.0,52.0,72.0,86.0,32.0,30.0,29.0,40.0,24.0,60.0,53.0,35.0,48.0,87.0,27.0,25.0,53.0,36.0,37.0,25.0,55.0,17.0,41.0,21.0,19.0,32.0,30.0,17.0,38.0,39.0,30.0,65.0,18.0,78.0,32.0,38.0,16.0,19.0,25.0,38.0,72.0,32.0,51.0,56.0,29.0,16.0,39.0,40.0,39.0,37.0,64.0,32.0,54.0,21.0,28.0,39.0,39.0,60.0,80.0,34.0,69.0,31.0,74.0,38.0,40.0,19.0,51.0,32.0,27.0,24.0,29.0,22.0,50.0,23.0,23.0,26.0,27.0,18.0,18.0,34.0,24.0,32.0,51.0,63.0,61.0,26.0,49.0,58.0,52.0,76.0,35.0,27.0,65.0,35.0,26.0,89.0,99.0,46.0,29.0,33.0,65.0,61.0,45.0,17.0,32.0,42.0,59.0,53.0,17.0,44.0,26.0,26.0,54.0,47.0,77.0,63.0,38.0,38.0,73.0,21.0,32.0,45.0,53.0,22.0,20.0,59.0,55.0,50.0,29.0,72.0,29.0,29.0,40.0,44.0,43.0,36.0,63.0,43.0,19.0,35.0,26.0,30.0,34.0,30.0,26.0,55.0,45.0,41.0,33.0,68.0,20.0,58.0,36.0,42.0,26.0,62.0,61.0,35.0,33.0,17.0,37.0,42.0,35.0,35.0,73.0,35.0,33.0,32.0,25.0,27.0,63.0,34.0,30.0,30.0,62.0,40.0,26.0,49.0,59.0,25.0,28.0,32.0,71.0,36.0,67.0,27.0,32.0,20.0,36.0,58.0,20.0,55.0,22.0,30.0,34.0,18.0,80.0,30.0,39.0,24.0,20.0,71.0,75.0,30.0,26.0,38.0,20.0,56.0,33.0,42.0,42.0,44.0,20.0,48.0,27.0,39.0,30.0,18.0,28.0,48.0,40.0,46.0,18.0,38.0,30.0,39.0,33.0,30.0,21.0,25.0,36.0,21.0,18.0,17.0,46.0,23.0,57.0,30.0,27.0,25.0,61.0,59.0,20.0,33.0,23.0,41.0,23.0,41.0,25.0,77.0,28.0,33.0,24.0,52.0,38.0,30.0,24.0,20.0,53.0,17.0,29.0,31.0,47.0,23.0,25.0,57.0,32.0,33.0,58.0,42.0,30.0,16.0,23.0,44.0,31.0,18.0,72.0,58.0,18.0,18.0,46.0,39.0,80.0,23.0,32.0,38.0,47.0,26.0,57.0,64.0,26.0,29.0,17.0,47.0,18.0,46.0,37.0,20.0,56.0,29.0,34.0,32.0,68.0,79.0,16.0,35.0,22.0,18.0,32.0,25.0,39.0,80.0,17.0,57.0,50.0,30.0,44.0,41.0,37.0,24.0,20.0,28.0,60.0,37.0,26.0,24.0,40.0,30.0,37.0,39.0,43.0,17.0,28.0,28.0,34.0,18.0,33.0,27.0,46.0,55.0,65.0,53.0,38.0,46.0,51.0,67.0,46.0,63.0,45.0,71.0,33.0,40.0,32.0,20.0,34.0,36.0,60.0,18.0,25.0,32.0,32.0,18.0,27.0,44.0,24.0,16.0,41.0,35.0,36.0,30.0,35.0,18.0,65.0,19.0,34.0,56.0,29.0,56.0,32.0,33.0,33.0,29.0,22.0,39.0,31.0,19.0,72.0,70.0,22.0,80.0,44.0,47.0,34.0,16.0,53.0,68.0,38.0,24.0,60.0,43.0,25.0,43.0,40.0,71.0,45.0,65.0,45.0,19.0,19.0,24.0,35.0,32.0,25.0,39.0,34.0,77.0,41.0,65.0,38.0,68.0,52.0,53.0,64.0,30.0,27.0,40.0,26.0,47.0,21.0,40.0,41.0,45.0,27.0,38.0,39.0,39.0,75.0,26.0,44.0,32.0,30.0,25.0,59.0,35.0,32.0,64.0,22.0,18.0,17.0,25.0,29.0,35.0,46.0,47.0,30.0,39.0,67.0,73.0,58.0,36.0,83.0,61.0,16.0,36.0,65.0,45.0,28.0,22.0,52.0,16.0,44.0,48.0,34.0,25.0,26.0,28.0,21.0,49.0,38.0,34.0,18.0,40.0,50.0,19.0,66.0,21.0,29.0,17.0,35.0,25.0,30.0,45.0,17.0,66.0,43.0,77.0,65.0,35.0,37.0,33.0,40.0,35.0,36.0,42.0,39.0,32.0,32.0,25.0,33.0,70.0,56.0,35.0,40.0,39.0,49.0,33.0,30.0,32.0,77.0,35.0,41.0,27.0,37.0,45.0,54.0,25.0,35.0,23.0,16.0,42.0,31.0,24.0,33.0,16.0,56.0,35.0,20.0,22.0,49.0,35.0,30.0,31.0,21.0,61.0,55.0,26.0,48.0,41.0,37.0,33.0,16.0,44.0,56.0,30.0,41.0,80.0,27.0,33.0,39.0,45.0,49.0,38.0,16.0,27.0,22.0,33.0,56.0,17.0,60.0,28.0,59.0,49.0,34.0,35.0,33.0,18.0,65.0,24.0,35.0,31.0,33.0,43.0,65.0,63.0,62.0,36.0,27.0,35.0,41.0,17.0,49.0,33.0,21.0,60.0,35.0,58.0,60.0,27.0,42.0,28.0,37.0,46.0,18.0,19.0,25.0,53.0,32.0,45.0,48.0,50.0,48.0,23.0,67.0,42.0,63.0,36.0,80.0,32.0,33.0,73.0,22.0,79.0,24.0,37.0,56.0,32.0,17.0,43.0,35.0,42.0,44.0,50.0,50.0,76.0,24.0,19.0,31.0,21.0,59.0,30.0,52.0,57.0,51.0,16.0,25.0,30.0,50.0,37.0,23.0,63.0,19.0,30.0,31.0,35.0,42.0,45.0,27.0,58.0,30.0,16.0,25.0,19.0,34.0,40.0,29.0,66.0,19.0,25.0,21.0,43.0,38.0,27.0,42.0,34.0,33.0,34.0,16.0,76.0,37.0,25.0,88.0,50.0,35.0,34.0,29.0,59.0,29.0,21.0,48.0,40.0,19.0,37.0,53.0,43.0,31.0,22.0,37.0,23.0,20.0,62.0,45.0,17.0,35.0,25.0,26.0,34.0,41.0,34.0,50.0,32.0,55.0,30.0,53.0,33.0,83.0,50.0,43.0,42.0,28.0,49.0,16.0,35.0,32.0,34.0,21.0,33.0,56.0,35.0,72.0,24.0,34.0,41.0,27.0,56.0,42.0,32.0,27.0,24.0,33.0,45.0,30.0,33.0,27.0,24.0,21.0,25.0,55.0,40.0,47.0,16.0,37.0,75.0,22.0,56.0,17.0,37.0,78.0,16.0,47.0,25.0,23.0,38.0,17.0,75.0,24.0,44.0,49.0,67.0,52.0,16.0,20.0,67.0,34.0,24.0,41.0,30.0,34.0,38.0,72.0,74.0,33.0,24.0,33.0,21.0,47.0,70.0,21.0,44.0,85.0,23.0,57.0,34.0,50.0,59.0,30.0,55.0,35.0,40.0,47.0,33.0,53.0,76.0,30.0,34.0,37.0,25.0,23.0,39.0,20.0,37.0,24.0,20.0,43.0,42.0,34.0,51.0,45.0,39.0,63.0,72.0,53.0,33.0,54.0,21.0,34.0,32.0,35.0,37.0,34.0,38.0,19.0,24.0,55.0,51.0,21.0,32.0,16.0,34.0,29.0,36.0,19.0,60.0,26.0,35.0,16.0,25.0,23.0,40.0,61.0,16.0,58.0,76.0,42.0,41.0,32.0,34.0,26.0,65.0,19.0,42.0,25.0,45.0,34.0,41.0,20.0,64.0,62.0,31.0,80.0,18.0,29.0,73.0,52.0,30.0,36.0,30.0,33.0,16.0,63.0,35.0,16.0,34.0,45.0,29.0,35.0,72.0,69.0,44.0,49.0,30.0,30.0,79.0,55.0,42.0,45.0,21.0,63.0,18.0,50.0,41.0,31.0,48.0,59.0,39.0,33.0,53.0,27.0,69.0,57.0,18.0,56.0,17.0,55.0,48.0,26.0,79.0,54.0,28.0,31.0,34.0,32.0,38.0,38.0,40.0,31.0,45.0,58.0,25.0,48.0,60.0,41.0,36.0,31.0,85.0,37.0,17.0,41.0,17.0,20.0,24.0,44.0,74.0,38.0,53.0,60.0,41.0,54.0,30.0,75.0,21.0,58.0,38.0,52.0,33.0,18.0,21.0,63.0,46.0,57.0,65.0,22.0,43.0,59.0,45.0,45.0,45.0,36.0,20.0,18.0,59.0,27.0,49.0,64.0,51.0,48.0,26.0,60.0,32.0,27.0,58.0,56.0,43.0,73.0,49.0,31.0,37.0,28.0,56.0,24.0,80.0,35.0,31.0,25.0,27.0,51.0,66.0,23.0,30.0,26.0,75.0,45.0,32.0,52.0,67.0,34.0,31.0,34.0,41.0,16.0,55.0,44.0,23.0,47.0,25.0,18.0,26.0,72.0,27.0,16.0,53.0,32.0,30.0,17.0,26.0,31.0,33.0,40.0,70.0,18.0,42.0,31.0,43.0,28.0,16.0,37.0,63.0,28.0,30.0,43.0,36.0,28.0,35.0,36.0,19.0,35.0,63.0,32.0,33.0,35.0,45.0,43.0,51.0,22.0,20.0,20.0,59.0,53.0,36.0,46.0,35.0,20.0,38.0,44.0,16.0,49.0,38.0,60.0,28.0,63.0,40.0,18.0,37.0,35.0,24.0,20.0,47.0,29.0,59.0,18.0,51.0,30.0,32.0,38.0,22.0,20.0,36.0,46.0,50.0,55.0,41.0,53.0,30.0,39.0,35.0,35.0,30.0,60.0,29.0,42.0,46.0,55.0,33.0,24.0,23.0,42.0,25.0,35.0,21.0,63.0,27.0,26.0,40.0,43.0,31.0,54.0,19.0,48.0,89.0,31.0,54.0,65.0,29.0,30.0,31.0,44.0,25.0,37.0,33.0,30.0,36.0,30.0,58.0,94.0,25.0,25.0,68.0,47.0,52.0,67.0,45.0,28.0,21.0,23.0,85.0,60.0,51.0,56.0,33.0,52.0,29.0,43.0,37.0,39.0,57.0,37.0,39.0,35.0,25.0,59.0,30.0,33.0,21.0,26.0,70.0,29.0,30.0,58.0,32.0,28.0,33.0,36.0,62.0,46.0,21.0,45.0,16.0,31.0,63.0,16.0,35.0,70.0,65.0,16.0,51.0,56.0,67.0,28.0,51.0,45.0,25.0,38.0,46.0,48.0,20.0,36.0,21.0,47.0,21.0,18.0,48.0,46.0,26.0,79.0,60.0,40.0,58.0,25.0,47.0,43.0,18.0,23.0,85.0,30.0,27.0,25.0,25.0,35.0,22.0,55.0,60.0,68.0,21.0,62.0,35.0,30.0,71.0,34.0,49.0,63.0,58.0,50.0,63.0,16.0,30.0,30.0,25.0,25.0,32.0,52.0,37.0,60.0,45.0,23.0,42.0,20.0,48.0,32.0,34.0,77.0,29.0,69.0,35.0,35.0,49.0,53.0,88.0,30.0,55.0,58.0,75.0,70.0,20.0,39.0,20.0,31.0,49.0,45.0,26.0,18.0,41.0,44.0,25.0,36.0,71.0,16.0,19.0,28.0,47.0,57.0,23.0,18.0,27.0,17.0,19.0,85.0,85.0,68.0,35.0,53.0,79.0,38.0,51.0,40.0,57.0,33.0,50.0,39.0,58.0,74.0,76.0,65.0,32.0,22.0,25.0,62.0,35.0,32.0,35.0,52.0,30.0,82.0,26.0,63.0,22.0,32.0,78.0,31.0,31.0,32.0,19.0,45.0,53.0,65.0,67.0,60.0,35.0,68.0,36.0,24.0,42.0,18.0,36.0,23.0,34.0,39.0,46.0,33.0,44.0,53.0,28.0,20.0,30.0,18.0,46.0,32.0,71.0,76.0,33.0,35.0,42.0,30.0,60.0,29.0,44.0,69.0,45.0,67.0,16.0,36.0,30.0,31.0,44.0,80.0,33.0,50.0,25.0,16.0,74.0,45.0,35.0,45.0,34.0,21.0,35.0,29.0,39.0,54.0,29.0,85.0,50.0,23.0,29.0,42.0,32.0,67.0,52.0,40.0,34.0,79.0,28.0,38.0,35.0,19.0,29.0,38.0,64.0,24.0,67.0,37.0,29.0,52.0,30.0,26.0,43.0,16.0,30.0,31.0,42.0,42.0,38.0,21.0,27.0,31.0,39.0,45.0,50.0,29.0,28.0,50.0,31.0,22.0,51.0,27.0,64.0,41.0,39.0,20.0,55.0,22.0,38.0,24.0,25.0,29.0,19.0,84.0,42.0,47.0,41.0,16.0,19.0,32.0,39.0,18.0,25.0,44.0,79.0,43.0,30.0,47.0,37.0,36.0,16.0,24.0,59.0,28.0,17.0,35.0,33.0,54.0,37.0,39.0,63.0,56.0,80.0,63.0,33.0,30.0,43.0,35.0,75.0,75.0,51.0,28.0,38.0,65.0,38.0,34.0,45.0,30.0,17.0,33.0,34.0,32.0,53.0,35.0,21.0,55.0,42.0,32.0,30.0,63.0,37.0,20.0,65.0,42.0,31.0,20.0,36.0,35.0,51.0,32.0,16.0,31.0,22.0,38.0,19.0,60.0,29.0,38.0,61.0,38.0,37.0,48.0,35.0,20.0,70.0,21.0,23.0,43.0,48.0,41.0,83.0,45.0,38.0,43.0,18.0,44.0,48.0,19.0,65.0,39.0,36.0,67.0,73.0,33.0,38.0,41.0,33.0,45.0,28.0,56.0,65.0,24.0,26.0,38.0,25.0,34.0,70.0,35.0,35.0,26.0,84.0,21.0,33.0,35.0,18.0,31.0,60.0,37.0,38.0,76.0,34.0,24.0,27.0,17.0,43.0,31.0,62.0,75.0,65.0,35.0,65.0,57.0,34.0,20.0,30.0,76.0,32.0,17.0,28.0,22.0,16.0,34.0,27.0,18.0,32.0,67.0,26.0,24.0,68.0,29.0,20.0,52.0,49.0,48.0,36.0,43.0,34.0,33.0,43.0,41.0,33.0,40.0,23.0,52.0,19.0,17.0,55.0,24.0,58.0,45.0,29.0,25.0,80.0,43.0,24.0,35.0,23.0,65.0,19.0,30.0,42.0,53.0,45.0,30.0,23.0,35.0,54.0,34.0,27.0,28.0,20.0,39.0,32.0,43.0,35.0,40.0,41.0,82.0,62.0,21.0,42.0,18.0,17.0,31.0,32.0,52.0,57.0,37.0,49.0,16.0,43.0,18.0,63.0,38.0,35.0,16.0,18.0,73.0,24.0,70.0,31.0,18.0,21.0,35.0,30.0,23.0,50.0,31.0,70.0,26.0,31.0,22.0,60.0,28.0,48.0,40.0,20.0,29.0,20.0,21.0,20.0,21.0,80.0,49.0,83.0,37.0,30.0,24.0,38.0,22.0,19.0,57.0,56.0,45.0,50.0,21.0,34.0,85.0,35.0,18.0,35.0,39.0,56.0,27.0,33.0,37.0,24.0,82.0,66.0,17.0,35.0,33.0,44.0,28.0,36.0,82.0,45.0,44.0,23.0,30.0,26.0,54.0,17.0,39.0,36.0,30.0,18.0,35.0,27.0,25.0,35.0,53.0,19.0,23.0,29.0,30.0,34.0,23.0,64.0,41.0,34.0,39.0,75.0,70.0,26.0,45.0,65.0,63.0,38.0,23.0,16.0,50.0,40.0,38.0,52.0,66.0,61.0,41.0,23.0,38.0,25.0,55.0,49.0,44.0,20.0,48.0,28.0,50.0,59.0,47.0,30.0,30.0,21.0,17.0,36.0,52.0,49.0,32.0,37.0,38.0,32.0,29.0,41.0,21.0,38.0,41.0,18.0,27.0,17.0,34.0,56.0,56.0,55.0,23.0,23.0,44.0,39.0,21.0,30.0,18.0,73.0,30.0,49.0,19.0,41.0,66.0,44.0,77.0,20.0,39.0,17.0,24.0,17.0,63.0,68.0,41.0,38.0,27.0,45.0,54.0,25.0,45.0,64.0,38.0,42.0,38.0,26.0,60.0,37.0,17.0,17.0,75.0,53.0,33.0,43.0,84.0,31.0,48.0,35.0,28.0,16.0,91.0,28.0,43.0,23.0,35.0,42.0,50.0,53.0,20.0,60.0,27.0,70.0,48.0,72.0,32.0,41.0,43.0,53.0,21.0,45.0,17.0,29.0,24.0,28.0,58.0,36.0,24.0,30.0,16.0,23.0,20.0,56.0,35.0,29.0,35.0,58.0,40.0,47.0,35.0,32.0,22.0,41.0,52.0,45.0,30.0,37.0,42.0,35.0,25.0,27.0,37.0,45.0,87.0,29.0,51.0,59.0,81.0,36.0,27.0,45.0,54.0,35.0,61.0,45.0,18.0,54.0,27.0,85.0,23.0,64.0,18.0,37.0,52.0,91.0,68.0,75.0,16.0,46.0,61.0,53.0,25.0,43.0,30.0,37.0,32.0,35.0,57.0,65.0,83.0,38.0,28.0,47.0,31.0,45.0,39.0,40.0,26.0,25.0,38.0,63.0,28.0,43.0,30.0,50.0,75.0,29.0,65.0,35.0,20.0,48.0,35.0,29.0,46.0,44.0,47.0,34.0,51.0,28.0,26.0,28.0,37.0,26.0,25.0,58.0,31.0,47.0,43.0,33.0,16.0,37.0,34.0,21.0,41.0,53.0,32.0,36.0,38.0,47.0,63.0,24.0,28.0,18.0,47.0,30.0,42.0,27.0,29.0,75.0,54.0,40.0,19.0,47.0,42.0,53.0,21.0,75.0,45.0,19.0,40.0,31.0,55.0,63.0,43.0,26.0,37.0,40.0,49.0,30.0,48.0,27.0,34.0,56.0,73.0,39.0,46.0,33.0,49.0,21.0,34.0,38.0,35.0,21.0,31.0,38.0,42.0,26.0,38.0,48.0,51.0,36.0,38.0,35.0,24.0,35.0,28.0,35.0,37.0,31.0,39.0,23.0,32.0,45.0,24.0,41.0,35.0,39.0,50.0,34.0,30.0,17.0,24.0,53.0,45.0,26.0,73.0,20.0,24.0,17.0,71.0,45.0,55.0,26.0,20.0,34.0,56.0,36.0,33.0,24.0,36.0,33.0,40.0,27.0,35.0,22.0,23.0,48.0,32.0,30.0,44.0,17.0,35.0,35.0,31.0,55.0,59.0,36.0,45.0,45.0,23.0,19.0,78.0,22.0,44.0,17.0,53.0,17.0,83.0,32.0,29.0,26.0,45.0,43.0,32.0,45.0,64.0,43.0,37.0,16.0,59.0,79.0,50.0,66.0,75.0,43.0,34.0,35.0,22.0,35.0,19.0,35.0,29.0,77.0,37.0,33.0,41.0,55.0,35.0,53.0,47.0,18.0,48.0,37.0,40.0,40.0,44.0,20.0,77.0,55.0,48.0,17.0,35.0,33.0,60.0,25.0,26.0,52.0,51.0,25.0,35.0,71.0,63.0,52.0,28.0,45.0,18.0,34.0,65.0,29.0,38.0,67.0,33.0,21.0,18.0,23.0,55.0,37.0,38.0,41.0,30.0,23.0,36.0,16.0,51.0,90.0,50.0,24.0,34.0,23.0,36.0,57.0,35.0,36.0,38.0,38.0,36.0,18.0,44.0,42.0,18.0,27.0,35.0,27.0,51.0,56.0,52.0,65.0,38.0,60.0,45.0,32.0,22.0,29.0,63.0,56.0,41.0,83.0,36.0,24.0,59.0,65.0,37.0,18.0,31.0,34.0,57.0,45.0,52.0,33.0,17.0,36.0,34.0,39.0,42.0,35.0,39.0,25.0,42.0,49.0,48.0,54.0,21.0,22.0,59.0,21.0,50.0,64.0,28.0,37.0,42.0,70.0,63.0,45.0,69.0,31.0,41.0,21.0,34.0,56.0,43.0,46.0,27.0,27.0,26.0,24.0,36.0,27.0,51.0,24.0,55.0,37.0,21.0,16.0,36.0,28.0,56.0,30.0,38.0,41.0,63.0,27.0,34.0,56.0,59.0,21.0,27.0,50.0,17.0,17.0,77.0,33.0,64.0,47.0,16.0,22.0,51.0,18.0,27.0,24.0,28.0,44.0,60.0,18.0,29.0,31.0,20.0,25.0,28.0,60.0,17.0,30.0,50.0,20.0,17.0,27.0,18.0,40.0,75.0,67.0,22.0,56.0,19.0,44.0,32.0,53.0,33.0,35.0,31.0,23.0,20.0,61.0,27.0,21.0,23.0,17.0,23.0,33.0,31.0,24.0,25.0,45.0,42.0,18.0,42.0,37.0,41.0,17.0,55.0,18.0,42.0,42.0,40.0,35.0,32.0,16.0,70.0,20.0,43.0,81.0,66.0,57.0,42.0,35.0,27.0,54.0,67.0,41.0,33.0,27.0,37.0,30.0,46.0,79.0,55.0,28.0,41.0,83.0,31.0,79.0,74.0,43.0,24.0,30.0,18.0,25.0,25.0,61.0,55.0,39.0,36.0,28.0,29.0,42.0,27.0,32.0,56.0,33.0,28.0,22.0,35.0,56.0,47.0,40.0,30.0,57.0,19.0,32.0,29.0,56.0,37.0,33.0,18.0,55.0,23.0,30.0,33.0,29.0,50.0,37.0,36.0,45.0,49.0,24.0,22.0,71.0,50.0,23.0,41.0,47.0,59.0,49.0,22.0,59.0,19.0,44.0,24.0,17.0,19.0,18.0,27.0,53.0,20.0,42.0,18.0,62.0,16.0,28.0,35.0,42.0,31.0,21.0,35.0,35.0,34.0,19.0,64.0,62.0,53.0,31.0,30.0,65.0,38.0,28.0,34.0,51.0,33.0,65.0,52.0,70.0,22.0,25.0,59.0,82.0,58.0,16.0,30.0,74.0,45.0,45.0,63.0,63.0,43.0,28.0,25.0,52.0,16.0,50.0,53.0,25.0,62.0,25.0,40.0,53.0,28.0,38.0,40.0,65.0,46.0,35.0,18.0,31.0,34.0,32.0,16.0,75.0,30.0,37.0,62.0,52.0,30.0,32.0,30.0,19.0,32.0,62.0,24.0,23.0,40.0,27.0,23.0,51.0,17.0,29.0,37.0,66.0,17.0,20.0,24.0,20.0,29.0,25.0,25.0,33.0,64.0,16.0,35.0,21.0,17.0,24.0,29.0,54.0,22.0,49.0,54.0,37.0,53.0,25.0,71.0,37.0,54.0,48.0,37.0,33.0,17.0,29.0,44.0,33.0,58.0,73.0,28.0,29.0,51.0,19.0,54.0,18.0,60.0,35.0,30.0,19.0,28.0,29.0,25.0,50.0,33.0,19.0,30.0,41.0,50.0,40.0,89.0,30.0,40.0,17.0,23.0,32.0,31.0,72.0,25.0,16.0,45.0,52.0,39.0,37.0,67.0,43.0,17.0,29.0,20.0,20.0,65.0,52.0,58.0,46.0,39.0,29.0,52.0,30.0,27.0,17.0,48.0,45.0,58.0,65.0,18.0,68.0,36.0,42.0,36.0,47.0,33.0,23.0,54.0,16.0,20.0,36.0,32.0,23.0,41.0,36.0,87.0,22.0,25.0,22.0,25.0,35.0,37.0,23.0,25.0,61.0,81.0,18.0,24.0,27.0,41.0,29.0,57.0,52.0,18.0,45.0,34.0,45.0,27.0,19.0,33.0,70.0,50.0,50.0,47.0,32.0,25.0,64.0,32.0,23.0,89.0,20.0,33.0,30.0,51.0,52.0,63.0,25.0,60.0,18.0,43.0,20.0,46.0,24.0,39.0,30.0,55.0,44.0,50.0,40.0,29.0,42.0,45.0,53.0,33.0,32.0,37.0,65.0,38.0,27.0,26.0,39.0,48.0,18.0,21.0,34.0,27.0,18.0,30.0,35.0,33.0,31.0,33.0,44.0,20.0,57.0,54.0,26.0,20.0,51.0,39.0,80.0,85.0,53.0,25.0,58.0,26.0,30.0,20.0,68.0,36.0,29.0,64.0,66.0,40.0,22.0,55.0,27.0,58.0,39.0,52.0,20.0,19.0,25.0,30.0,56.0,57.0,67.0,31.0,27.0,35.0,32.0,60.0,31.0,35.0,45.0,34.0,36.0,32.0,28.0,25.0,78.0,65.0,35.0,33.0,49.0,23.0,52.0,36.0,75.0,51.0,60.0,45.0,49.0,57.0,43.0,27.0,24.0,50.0,70.0,57.0,75.0,40.0,25.0,30.0,25.0,37.0,27.0,58.0,28.0,29.0,73.0,42.0,62.0,30.0,49.0,30.0,42.0,45.0,22.0,41.0,83.0,41.0,35.0,42.0,18.0,35.0,36.0,63.0,30.0,52.0,47.0,25.0,30.0,30.0,64.0,29.0,24.0,29.0,35.0,38.0,21.0,34.0,40.0,22.0,23.0,32.0,25.0,47.0,79.0,27.0,35.0,44.0,30.0,23.0,78.0,43.0,46.0,35.0,18.0,29.0,47.0,24.0,29.0,53.0,56.0,26.0,35.0,56.0,30.0,65.0,21.0,53.0,37.0,38.0,27.0,30.0,43.0,30.0,22.0,28.0,22.0,69.0,55.0,40.0,26.0,60.0,21.0,80.0,31.0,53.0,43.0,28.0,55.0,87.0,70.0,75.0,41.0,65.0,60.0,23.0,35.0,18.0,43.0,60.0,34.0,61.0,32.0,56.0,46.0,36.0,32.0,63.0,22.0,32.0,36.0,67.0,19.0,55.0,50.0,17.0,33.0,30.0,30.0,25.0,21.0,20.0,25.0,57.0,22.0,66.0,27.0,30.0,77.0,36.0,35.0,47.0,67.0,61.0,35.0,43.0,68.0,33.0,66.0,55.0,33.0,17.0,35.0,60.0,41.0,55.0,28.0,25.0,19.0,27.0,16.0,32.0,59.0,39.0,88.0,40.0,33.0,47.0,30.0,39.0,39.0,32.0,24.0,30.0,17.0,35.0,43.0,28.0,22.0,28.0,50.0,40.0,57.0,61.0,42.0,28.0,50.0,19.0,59.0,29.0,26.0,16.0,27.0,37.0,26.0,34.0,31.0,77.0,45.0,37.0,47.0,36.0,55.0,30.0,17.0,40.0,16.0,33.0,30.0,34.0,69.0,40.0,54.0,25.0,55.0,53.0,29.0,45.0,70.0,35.0,30.0,45.0,42.0,30.0,21.0,26.0,39.0,35.0,36.0,32.0,30.0,59.0,16.0,25.0,17.0,60.0,53.0,31.0,21.0,34.0,47.0,27.0,49.0,86.0,42.0,40.0,59.0,26.0,31.0,20.0,44.0,69.0,17.0,32.0,33.0,69.0,59.0,47.0,73.0,22.0,18.0,16.0,80.0,50.0,23.0,53.0,33.0,20.0,41.0,16.0,51.0,32.0,18.0,20.0,30.0,55.0,67.0,20.0,75.0,42.0,25.0,40.0,53.0,55.0,53.0,71.0,21.0,70.0,61.0,32.0,76.0,27.0,32.0,30.0,84.0,24.0,36.0,28.0,24.0,52.0,78.0,17.0,37.0,42.0,40.0,22.0,42.0,23.0,29.0,24.0,22.0,19.0,33.0,53.0,62.0,68.0,19.0,21.0,26.0,18.0,32.0,29.0,33.0,58.0,55.0,27.0,50.0,50.0,34.0,46.0,38.0,21.0,61.0,61.0,54.0,31.0,34.0,63.0,45.0,28.0,45.0,51.0,57.0,29.0,37.0,18.0,20.0,42.0,19.0,19.0,39.0,18.0,33.0,39.0,38.0,53.0,25.0,48.0,76.0,30.0,38.0,35.0,38.0,61.0,36.0,26.0,26.0,18.0,34.0,17.0,75.0,49.0,31.0,44.0,31.0,25.0,60.0,17.0,37.0,63.0,24.0,35.0,57.0,18.0,47.0,17.0,30.0,51.0,31.0,33.0,19.0,16.0,38.0,47.0,17.0,37.0,29.0,30.0,29.0,73.0,33.0,35.0,70.0,75.0,58.0,57.0,69.0,30.0,28.0,29.0,35.0,47.0,53.0,28.0,50.0,26.0,31.0,38.0,56.0,22.0,20.0,61.0,35.0,33.0,51.0,41.0,43.0,16.0,49.0,59.0,20.0,50.0,56.0,50.0,29.0,34.0,34.0,25.0,23.0,51.0,38.0,43.0,38.0,65.0,64.0,18.0,22.0,32.0,53.0,33.0,30.0,30.0,16.0,23.0,39.0,40.0,70.0,36.0,17.0,21.0,33.0,19.0,20.0,58.0,42.0,38.0,24.0,18.0,49.0,52.0,22.0,23.0,35.0,39.0,49.0,36.0,32.0,32.0,17.0,27.0,29.0,32.0,31.0,46.0,34.0,20.0,55.0,30.0,54.0,25.0,23.0,36.0,54.0,41.0,16.0,29.0,28.0,32.0,24.0,41.0,27.0,59.0,35.0,43.0,55.0,40.0,32.0,38.0,49.0,39.0,36.0,23.0,36.0,78.0,45.0,80.0,54.0,54.0,17.0,40.0,21.0,23.0,58.0,41.0,20.0,41.0,34.0,28.0,18.0,24.0,37.0,37.0,18.0,29.0,35.0,39.0,27.0,29.0,29.0,48.0,54.0,33.0,26.0,33.0,17.0,38.0,58.0,28.0,24.0,35.0,36.0,27.0,19.0,66.0,28.0,27.0,25.0,18.0,50.0,60.0,40.0,22.0,23.0,44.0,48.0,41.0,41.0,36.0,48.0,29.0,32.0,16.0,35.0,30.0,27.0,43.0,25.0,38.0,21.0,65.0,37.0,35.0,79.0,40.0,72.0,43.0,74.0,29.0,29.0,45.0,55.0,34.0,38.0,23.0,67.0,53.0,54.0,22.0,38.0,30.0,33.0,37.0,25.0,26.0,26.0,55.0,60.0,40.0,60.0,24.0,37.0,18.0,47.0,25.0,27.0,59.0,44.0,20.0,31.0,42.0,25.0,47.0,31.0,17.0,41.0,37.0,56.0,68.0,22.0,35.0,17.0,19.0,22.0,36.0,38.0,16.0,42.0,20.0,42.0,80.0,27.0,45.0,77.0,45.0,32.0,48.0,32.0,48.0,47.0,77.0,29.0,50.0,20.0,45.0,42.0,17.0,54.0,68.0,55.0,29.0,59.0,45.0,31.0,38.0,39.0,35.0,18.0,35.0,33.0,28.0,35.0,48.0,35.0,34.0,69.0,25.0,40.0,52.0,21.0,21.0,22.0,49.0,26.0,28.0,51.0,46.0,55.0,33.0,29.0,39.0,30.0,17.0,28.0,37.0,50.0,23.0,85.0,34.0,16.0,38.0,59.0,37.0,27.0,23.0,74.0,56.0,79.0,30.0,35.0,67.0,42.0,66.0,32.0,40.0,53.0,47.0,50.0,32.0,38.0,58.0,31.0,52.0,60.0,18.0,21.0,35.0,48.0,48.0,61.0,38.0,30.0,32.0,28.0,17.0,28.0,76.0,19.0,75.0,32.0,71.0,19.0,38.0,25.0,76.0,32.0,22.0,18.0,39.0,64.0,34.0,28.0,38.0,19.0,85.0,24.0,73.0,51.0,44.0,57.0,73.0,19.0,42.0,64.0,35.0,16.0,41.0,52.0,30.0,45.0,53.0,45.0,83.0,47.0,55.0,27.0,25.0,26.0,34.0,20.0,79.0,70.0,47.0,24.0,44.0,35.0,27.0,49.0,23.0,31.0,19.0,46.0,33.0,79.0,23.0,51.0,47.0,20.0,40.0,19.0,33.0,25.0,80.0,30.0,90.0,34.0,46.0,33.0,60.0,32.0,63.0,20.0,71.0,56.0,40.0,26.0,24.0,22.0,19.0,46.0,32.0,25.0,35.0,31.0,32.0,38.0,69.0,50.0,52.0,29.0,55.0,41.0,19.0,28.0,29.0,45.0,25.0,35.0,18.0,33.0,56.0,17.0,29.0,49.0,57.0,49.0,28.0,31.0,27.0,55.0,33.0,43.0,23.0,null,null,null,null,null,null,20.0,38.0,21.0,27.0,78.0,35.0,55.0,34.0,44.0,28.0,84.0,52.0,66.0,52.0,50.0,50.0,23.0,28.0,20.0,21.0,76.0,50.0,45.0,60.0,44.0,22.0,50.0,38.0,73.0,66.0,45.0,28.0,38.0,39.0,45.0,28.0,62.0,18.0,45.0,34.0,63.0,45.0,28.0,24.0,20.0,57.0,55.0,61.0,21.0,45.0,30.0,27.0,25.0,33.0,45.0,57.0,57.0,48.0,41.0,57.0,79.0,32.0,33.0,31.0,35.0,21.0,47.0,24.0,82.0,26.0,35.0,47.0,54.0,60.0,54.0,19.0,95.0,30.0,32.0,24.0,77.0,27.0,53.0,20.0,35.0,60.0,42.0,54.0,20.0,50.0,65.0,60.0,75.0,57.0,28.0,21.0,23.0,38.0,32.0,42.0,55.0,21.0,75.0,17.0,35.0,62.0,43.0,45.0,38.0,59.0,45.0,37.0,47.0,49.0,19.0,47.0,47.0,32.0,30.0,30.0,41.0,24.0,31.0,52.0,33.0,54.0,28.0,21.0,63.0,26.0,22.0,27.0,30.0,31.0,54.0,71.0,19.0,60.0,28.0,35.0,28.0,55.0,34.0,31.0,40.0,55.0,16.0,37.0,19.0,28.0,31.0,17.0,41.0,67.0,41.0,19.0,19.0,72.0,16.0,39.0,23.0,85.0,54.0,25.0,46.0,31.0,34.0,34.0,27.0,24.0,17.0,62.0,24.0,46.0,26.0,51.0,66.0,31.0,41.0,76.0,40.0,35.0,65.0,25.0,83.0,74.0,31.0,53.0,63.0,49.0,null,null,null,null,30.0,64.0,45.0,40.0,70.0,60.0,28.0,20.0,16.0,20.0,42.0,17.0,36.0,48.0,35.0,34.0,67.0,28.0,20.0,49.0,78.0,30.0,28.0,16.0,18.0,17.0,25.0,27.0,71.0,19.0,40.0,45.0,38.0,35.0,50.0,26.0,33.0,68.0,45.0,42.0,54.0,19.0,18.0,44.0,30.0,41.0,20.0,31.0,25.0,46.0,28.0,19.0,40.0,80.0,20.0,35.0,27.0,34.0,32.0,46.0,36.0,23.0,45.0,27.0,34.0,24.0,32.0,47.0,20.0,71.0,19.0,43.0,65.0,51.0,35.0,60.0,52.0,18.0,52.0,31.0,27.0,42.0,40.0,25.0,64.0,42.0,33.0,69.0,56.0,29.0,40.0,26.0,33.0,77.0,40.0,34.0,43.0,26.0,30.0,28.0,21.0,47.0,53.0,34.0,30.0,65.0,38.0,41.0,56.0,25.0,34.0,53.0,80.0,33.0,25.0,23.0,49.0,20.0,54.0,22.0,19.0,48.0,35.0,46.0,33.0,38.0,39.0,30.0,27.0,35.0,64.0,16.0,26.0,40.0,51.0,55.0,53.0,32.0,19.0,43.0,61.0,44.0,24.0,34.0,45.0,75.0,23.0,87.0,31.0,36.0,68.0,17.0,22.0,16.0,30.0,26.0,29.0,23.0,88.0,43.0,34.0,32.0,30.0,67.0,35.0,37.0,49.0,20.0,28.0,38.0,35.0,67.0,65.0,55.0,73.0,34.0,37.0,33.0,25.0,42.0,45.0,66.0,35.0,16.0,28.0,27.0,16.0,16.0,27.0,24.0,56.0,37.0,44.0,71.0,24.0,37.0,55.0,18.0,36.0,30.0,63.0,34.0,40.0,18.0,27.0,55.0,35.0,32.0,21.0,80.0,43.0,38.0,66.0,31.0,28.0,29.0,33.0,67.0,28.0,36.0,26.0,62.0,33.0,75.0,41.0,33.0,49.0,67.0,49.0,24.0,26.0,47.0,44.0,45.0,41.0,64.0,21.0,23.0,28.0,17.0,31.0,85.0,26.0,44.0,29.0,24.0,30.0,70.0,21.0,27.0,16.0,77.0,52.0,65.0,46.0,19.0,30.0,35.0,32.0,60.0,26.0,27.0,18.0,27.0,50.0,28.0,33.0,24.0,28.0,65.0,64.0,28.0,43.0,28.0,41.0,18.0,25.0,23.0,37.0,26.0,61.0,56.0,80.0,48.0,38.0,28.0,22.0,30.0,26.0,30.0,70.0,26.0,67.0,19.0,45.0,33.0,41.0,25.0,34.0,27.0,62.0,32.0,25.0,40.0,31.0,53.0,74.0,35.0,22.0,76.0,35.0,25.0,19.0,38.0,55.0,40.0,37.0,45.0,22.0,24.0,35.0,18.0,25.0,32.0,48.0,40.0,47.0,43.0,35.0,28.0,45.0,37.0,28.0,32.0,28.0,23.0,35.0,52.0,35.0,35.0,49.0,34.0,29.0,23.0,57.0,31.0,58.0,16.0,53.0,29.0,24.0,32.0,29.0,24.0,61.0,40.0,30.0,44.0,30.0,55.0,37.0,39.0,40.0,53.0,64.0,48.0,19.0,65.0,20.0,52.0,40.0,29.0,22.0,37.0,25.0,20.0,41.0,52.0,23.0,21.0,54.0,49.0,29.0,19.0,63.0,80.0,31.0,40.0,47.0,32.0,24.0,38.0,26.0,59.0,16.0,72.0,18.0,18.0,40.0,35.0,37.0,35.0,31.0,46.0,35.0,56.0,37.0,61.0,22.0,21.0,31.0,65.0,65.0,79.0,24.0,32.0,22.0,35.0,45.0,29.0,34.0,52.0,48.0,24.0,28.0,20.0,64.0,25.0,25.0,28.0,34.0,38.0,26.0,34.0,29.0,22.0,57.0,23.0,20.0,45.0,30.0,81.0,75.0,28.0,34.0,28.0,35.0,78.0,30.0,30.0,16.0,50.0,40.0,17.0,67.0,47.0,36.0,28.0,47.0,37.0,50.0,34.0,56.0,57.0,55.0,48.0,40.0,30.0,25.0,40.0,30.0,39.0,47.0,19.0,61.0,51.0,85.0,38.0,31.0,31.0,41.0,27.0,35.0,41.0,30.0,49.0,35.0,30.0,25.0,68.0,39.0,37.0,32.0,64.0,43.0,47.0,33.0,32.0,45.0,57.0,39.0,66.0,31.0,60.0,49.0,18.0,70.0,60.0,62.0,39.0,56.0,22.0,32.0,53.0,54.0,77.0,40.0,30.0,72.0,33.0,31.0,42.0,48.0,45.0,71.0,34.0,18.0,28.0,66.0,43.0,36.0,51.0,38.0,19.0,22.0,28.0,55.0,43.0,45.0,64.0,35.0,30.0,46.0,28.0,41.0,46.0,54.0,53.0,39.0,30.0,32.0,43.0,48.0,75.0,58.0,25.0,31.0,28.0,30.0,77.0,26.0,28.0,29.0,29.0,29.0,35.0,57.0,38.0,54.0,24.0,37.0,48.0,16.0,44.0,26.0,59.0,60.0,27.0,35.0,22.0,38.0,36.0,30.0,27.0,34.0,27.0,42.0,31.0,21.0,32.0,35.0,28.0,63.0,52.0,57.0,25.0,72.0,30.0,35.0,38.0,64.0,42.0,52.0,21.0,21.0,24.0,67.0,60.0,44.0,17.0,43.0,20.0,26.0,40.0,36.0,28.0,32.0,75.0,54.0,75.0,41.0,46.0,24.0,25.0,85.0,38.0,74.0,56.0,31.0,35.0,37.0,51.0,35.0,44.0,52.0,26.0,47.0,65.0,34.0,85.0,18.0,27.0,43.0,33.0,59.0,26.0,30.0,75.0,41.0,59.0,70.0,19.0,24.0,45.0,31.0,27.0,17.0,25.0,31.0,24.0,35.0,16.0,27.0,27.0,28.0,56.0,20.0,35.0,53.0,46.0,23.0,43.0,44.0,24.0,27.0,32.0,25.0,23.0,52.0,64.0,32.0,41.0,41.0,25.0,28.0,20.0,27.0,16.0,48.0,29.0,22.0,73.0,20.0,18.0,30.0,28.0,33.0,27.0,21.0,26.0,35.0,74.0,43.0,30.0,29.0,37.0,41.0,38.0,33.0,24.0,18.0,18.0,31.0,35.0,38.0,35.0,76.0,59.0,28.0,55.0,54.0,38.0,41.0,53.0,29.0,28.0,29.0,55.0,43.0,41.0,23.0,22.0,81.0,21.0,16.0,42.0,27.0,18.0,25.0,35.0,84.0,27.0,30.0,32.0,25.0,38.0,47.0,45.0,30.0,18.0,30.0,42.0,40.0,45.0,50.0,45.0,40.0,26.0,26.0,51.0,26.0,67.0,56.0,20.0,43.0,30.0,65.0,48.0,52.0,24.0,39.0,35.0,57.0,32.0,18.0,54.0,22.0,68.0,36.0,44.0,58.0,28.0,18.0,21.0,36.0,57.0,20.0,30.0,50.0,24.0,62.0,26.0,18.0,31.0,17.0,52.0,43.0,27.0,20.0,62.0,45.0,16.0,40.0,78.0,21.0,70.0,70.0,65.0,30.0,23.0,28.0,68.0,55.0,23.0,52.0,73.0,58.0,27.0,60.0,35.0,36.0,23.0,30.0,21.0,50.0,52.0,24.0,31.0,40.0,33.0,30.0,28.0,37.0,21.0,59.0,56.0,58.0,73.0,54.0,45.0,31.0,73.0,41.0,24.0,31.0,24.0,52.0,22.0,59.0,54.0,19.0,63.0,70.0,46.0,30.0,52.0,39.0,62.0,38.0,35.0,18.0,21.0,69.0,39.0,37.0,73.0,21.0,22.0,35.0,30.0,17.0,37.0,71.0,34.0,47.0,59.0,47.0,23.0,26.0,41.0,34.0,23.0,60.0,33.0,41.0,30.0,59.0,49.0,50.0,40.0,61.0,38.0,72.0,72.0,36.0,28.0,44.0,39.0,43.0,31.0,36.0,33.0,33.0,20.0,33.0,36.0,18.0,17.0,45.0,36.0,18.0,17.0,29.0,42.0,19.0,23.0,26.0,34.0,18.0,29.0,30.0,41.0,46.0,40.0,37.0,23.0,43.0,53.0,25.0,55.0,65.0,27.0,20.0,38.0,30.0,26.0,21.0,59.0,42.0,36.0,39.0,28.0,38.0,30.0,26.0,33.0,40.0,88.0,23.0,60.0,27.0,54.0,32.0,73.0,48.0,65.0,39.0,28.0,45.0,17.0,67.0,23.0,34.0,54.0,32.0,27.0,20.0,59.0,32.0,23.0,37.0,41.0,26.0,51.0,22.0,41.0,48.0,45.0,16.0,34.0,20.0,23.0,53.0,33.0,37.0,34.0,34.0,16.0,28.0,57.0,49.0,20.0,35.0,70.0,36.0,36.0,50.0,19.0,23.0,28.0,48.0,43.0,39.0,25.0,25.0,41.0,30.0,19.0,66.0,31.0,51.0,38.0,29.0,29.0,53.0,36.0,49.0,50.0,80.0,72.0,30.0,24.0,38.0,43.0,34.0,16.0,53.0,44.0,16.0,57.0,35.0,16.0,27.0,16.0,46.0,57.0,27.0,89.0,40.0,30.0,50.0,37.0,16.0,43.0,40.0,50.0,36.0,30.0,39.0,47.0,60.0,47.0,33.0,49.0,30.0,23.0,67.0,73.0,34.0,22.0,23.0,41.0,75.0,16.0,48.0,38.0,22.0,39.0,34.0,18.0,55.0,61.0,21.0,28.0,40.0,67.0,43.0,55.0,28.0,39.0,33.0,32.0,43.0,39.0,90.0,47.0,53.0,60.0,49.0,27.0,68.0,36.0,50.0,79.0,33.0,41.0,37.0,35.0,41.0,28.0,31.0,41.0,21.0,30.0,56.0,28.0,41.0,48.0,53.0,69.0,36.0,36.0,56.0,55.0,35.0,67.0,27.0,24.0,35.0,27.0,30.0,19.0,41.0,85.0,34.0,52.0,31.0,18.0,31.0,27.0,29.0,34.0,33.0,53.0,30.0,67.0,27.0,19.0,46.0,45.0,22.0,33.0,37.0,70.0,18.0,29.0,57.0,28.0,38.0,27.0,34.0,60.0,30.0,65.0,19.0,26.0,29.0,87.0,20.0,80.0,35.0,26.0,31.0,35.0,66.0,30.0,39.0,35.0,30.0,48.0,55.0,26.0,32.0,66.0,31.0,34.0,56.0,73.0,17.0,46.0,52.0,27.0,52.0,21.0,23.0,39.0,30.0,44.0,64.0,47.0,40.0,30.0,61.0,30.0,23.0,34.0,46.0,26.0,34.0,17.0,25.0,40.0,31.0,41.0,68.0,53.0,47.0,18.0,35.0,45.0,32.0,66.0,16.0,37.0,51.0,21.0,50.0,96.0,24.0,75.0,47.0,76.0,48.0,57.0,59.0,23.0,32.0,19.0,59.0,47.0,38.0,25.0,50.0,19.0,70.0,63.0,80.0,46.0,25.0,27.0,20.0,26.0,61.0,17.0,29.0,21.0,80.0,31.0,52.0,30.0,30.0,61.0,44.0,54.0,35.0,25.0,27.0,59.0,51.0,33.0,30.0,58.0,35.0,34.0,33.0,41.0,29.0,83.0,39.0,73.0,35.0,52.0,47.0,37.0,19.0,17.0,37.0,41.0,59.0,57.0,26.0,43.0,39.0,27.0,77.0,24.0,26.0,29.0,53.0,24.0,27.0,26.0,21.0,40.0,55.0,18.0,41.0,45.0,32.0,81.0,61.0,41.0,48.0,37.0,45.0,18.0,42.0,64.0,29.0,18.0,53.0,35.0,42.0,74.0,55.0,42.0,28.0,56.0,32.0,39.0,19.0,27.0,41.0,62.0,39.0,38.0,33.0,51.0,31.0,49.0,42.0,65.0,31.0,22.0,100.0,19.0,21.0,24.0,21.0,42.0,31.0,59.0,65.0,30.0,35.0,22.0,43.0,34.0,17.0,38.0,27.0,60.0,18.0,26.0,21.0,33.0,21.0,55.0,35.0,51.0,43.0,51.0,22.0,20.0,44.0,25.0,41.0,43.0,20.0,27.0,31.0,28.0,63.0,40.0,34.0,31.0,40.0,74.0,75.0,33.0,25.0,75.0,24.0,16.0,41.0,20.0,73.0,55.0,42.0,40.0,21.0,47.0,72.0,65.0,30.0,31.0,49.0,75.0,30.0,27.0,30.0,22.0,42.0,33.0,18.0,44.0,37.0,36.0,23.0,39.0,20.0,25.0,18.0,29.0,31.0,33.0,21.0,42.0,27.0,45.0,36.0,17.0,69.0,40.0,25.0,57.0,28.0,58.0,20.0,33.0,60.0,24.0,29.0,26.0,34.0,45.0,43.0,28.0,25.0,43.0,21.0,64.0,31.0,45.0,40.0,19.0,29.0,27.0,28.0,48.0,38.0,20.0,29.0,19.0,36.0,51.0,32.0,49.0,33.0,27.0,43.0,50.0,24.0,38.0,35.0,38.0,58.0,24.0,25.0,51.0,23.0,19.0,30.0,43.0,25.0,40.0,37.0,29.0,61.0,32.0,39.0,74.0,48.0,20.0,51.0,60.0,27.0,29.0,58.0,50.0,52.0,75.0,19.0,25.0,28.0,75.0,26.0,86.0,23.0,19.0,19.0,70.0,23.0,40.0,23.0,37.0,53.0,50.0,25.0,37.0,18.0,36.0,60.0,34.0,25.0,37.0,80.0,27.0,78.0,43.0,28.0,60.0,25.0,36.0,40.0,57.0,45.0,26.0,35.0,60.0,50.0,60.0,26.0,25.0,25.0,57.0,30.0,23.0,38.0,31.0,52.0,22.0,40.0,36.0,17.0,36.0,47.0,69.0,31.0,17.0,40.0,90.0,51.0,55.0,29.0,31.0,32.0,28.0,64.0,17.0,48.0,31.0,53.0,38.0,18.0,23.0,70.0,23.0,20.0,60.0,37.0,19.0,22.0,28.0,44.0,16.0,55.0,32.0,32.0,20.0,30.0,38.0,16.0,30.0,26.0,35.0,29.0,66.0,60.0,73.0,32.0,50.0,25.0,24.0,20.0,65.0,76.0,28.0,57.0,47.0,50.0,42.0,42.0,48.0,23.0,35.0,25.0,27.0,32.0,36.0,30.0,35.0,25.0,29.0,39.0,34.0,29.0,25.0,16.0,70.0,48.0,45.0,66.0,37.0,55.0,30.0,44.0,36.0,38.0,64.0,17.0,59.0,46.0,47.0,25.0,31.0,72.0,33.0,29.0,36.0,18.0,79.0,16.0,57.0,32.0,54.0,19.0,20.0,31.0,65.0,67.0,35.0,58.0,29.0,65.0,25.0,23.0,20.0,38.0,56.0,48.0,71.0,44.0,69.0,21.0,34.0,22.0,25.0,29.0,29.0,31.0,27.0,70.0,25.0,29.0,37.0,53.0,20.0,36.0,31.0,56.0,48.0,31.0,27.0,23.0,25.0,26.0,58.0,90.0,31.0,65.0,26.0,25.0,23.0,46.0,48.0,17.0,24.0,41.0,50.0,33.0,30.0,35.0,26.0,59.0,20.0,33.0,57.0,45.0,33.0,49.0,23.0,40.0,32.0,33.0,49.0,57.0,19.0,45.0,51.0,32.0,23.0,28.0,89.0,54.0,31.0,29.0,34.0,43.0,60.0,33.0,39.0,36.0,19.0,30.0,21.0,33.0,20.0,24.0,24.0,49.0,18.0,42.0,24.0,40.0,40.0,20.0,33.0,34.0,75.0,88.0,30.0,24.0,20.0,45.0,23.0,98.0,37.0,31.0,21.0,48.0,18.0,67.0,35.0,45.0,62.0,19.0,29.0,34.0,45.0,24.0,18.0,23.0,27.0,17.0,18.0,35.0,47.0,55.0,43.0,22.0,43.0,35.0,54.0,77.0,62.0,42.0,30.0,61.0,32.0,16.0,25.0,34.0,32.0,45.0,45.0,42.0,37.0,59.0,25.0,47.0,91.0,46.0,31.0,28.0,36.0,60.0,35.0,25.0,55.0,47.0,30.0,37.0,34.0,32.0,32.0,16.0,27.0,50.0,41.0,53.0,24.0,43.0,70.0,44.0,37.0,25.0,30.0,57.0,32.0,49.0,31.0,44.0,29.0,16.0,34.0,19.0,36.0,17.0,17.0,36.0,42.0,35.0,32.0,50.0,33.0,55.0,36.0,55.0,25.0,50.0,24.0,28.0,19.0,43.0,37.0,22.0,33.0,36.0,43.0,40.0,45.0,46.0,46.0,20.0,43.0,78.0,23.0,41.0,26.0,57.0,17.0,49.0,22.0,41.0,52.0,25.0,66.0,26.0,32.0,28.0,48.0,32.0,47.0,25.0,55.0,27.0,63.0,20.0,40.0,44.0,62.0,25.0,26.0,26.0,59.0,37.0,25.0,30.0,20.0,65.0,44.0,35.0,36.0,28.0,45.0,52.0,42.0,30.0,71.0,20.0,28.0,27.0,43.0,50.0,42.0,34.0,40.0,61.0,54.0,33.0,37.0,30.0,19.0,60.0,70.0,26.0,34.0,18.0,23.0,80.0,43.0,21.0,45.0,24.0,28.0,24.0,35.0,57.0,43.0,35.0,38.0,28.0,88.0,23.0,32.0,58.0,27.0,19.0,51.0,19.0,30.0,65.0,18.0,28.0,44.0,21.0,32.0,32.0,16.0,63.0,27.0,52.0,36.0,28.0,36.0,69.0,34.0,26.0,26.0,48.0,56.0,22.0,23.0,23.0,26.0,75.0,39.0,36.0,30.0,32.0,42.0,49.0,57.0,55.0,40.0,62.0,41.0,27.0,28.0,45.0,40.0,19.0,70.0,21.0,26.0,22.0,60.0,45.0,92.0,43.0,35.0,22.0,70.0,41.0,53.0,29.0,22.0,46.0,51.0,23.0,45.0,24.0,42.0,70.0,45.0,60.0,40.0,66.0,49.0,75.0,61.0,37.0,46.0,47.0,68.0,21.0,36.0,26.0,21.0,33.0,70.0,19.0,72.0,21.0,36.0,54.0,95.0,45.0,44.0,28.0,48.0,25.0,47.0,41.0,26.0,26.0,32.0,45.0,35.0,18.0,58.0,78.0,36.0,28.0,88.0,42.0,22.0,35.0,39.0,27.0,78.0,67.0,18.0,62.0,58.0,23.0,41.0,20.0,68.0,40.0,30.0,50.0,46.0,50.0,25.0,60.0,43.0,25.0,18.0,36.0,35.0,17.0,61.0,23.0,53.0,53.0,51.0,82.0,57.0,24.0,30.0,26.0,27.0,26.0,24.0,17.0,17.0,55.0,80.0,39.0,22.0,35.0,52.0,27.0,68.0,28.0,19.0,65.0,45.0,54.0,17.0,24.0,45.0,59.0,30.0,45.0,38.0,37.0,22.0,26.0,41.0,28.0,40.0,29.0,39.0,61.0,27.0,82.0,32.0,40.0,24.0,24.0,34.0,17.0,61.0,46.0,80.0,70.0,71.0,60.0,42.0,39.0,20.0,16.0,83.0,35.0,23.0,20.0,21.0,33.0,23.0,42.0,50.0,20.0,23.0,24.0,42.0,33.0,27.0,48.0,38.0,28.0,30.0,22.0,22.0,24.0,25.0,31.0,65.0,49.0,37.0,30.0,30.0,35.0,47.0,56.0,26.0,70.0,47.0,65.0,70.0,60.0,28.0,85.0,46.0,35.0,60.0,54.0,30.0,20.0,62.0,47.0,65.0,45.0,25.0,17.0,23.0,27.0,55.0,38.0,41.0,35.0,24.0,24.0,21.0,21.0,68.0,36.0,25.0,28.0,24.0,47.0,30.0,53.0,70.0,20.0,63.0,37.0,46.0,63.0,21.0,45.0,57.0,28.0,27.0,30.0,35.0,56.0,22.0,36.0,57.0,35.0,45.0,25.0,23.0,25.0,18.0,34.0,49.0,30.0,25.0,21.0,66.0,28.0,22.0,75.0,70.0,39.0,45.0,68.0,20.0,24.0,60.0,36.0,29.0,30.0,20.0,26.0,43.0,40.0,61.0,24.0,16.0,31.0,41.0,40.0,27.0,37.0,18.0,42.0,32.0,45.0,49.0,28.0,25.0,25.0,56.0,45.0,72.0,37.0,20.0,40.0,21.0,45.0,26.0,20.0,18.0,35.0,22.0,32.0,56.0,26.0,49.0,25.0,30.0,38.0,29.0,34.0,73.0,27.0,21.0,35.0,72.0,16.0,38.0,50.0,39.0,80.0,24.0,80.0,35.0,29.0,22.0,38.0,48.0,65.0,22.0,43.0,25.0,30.0,17.0,50.0,54.0,48.0,80.0,46.0,16.0,25.0,25.0,26.0,42.0,31.0,24.0,42.0,28.0,65.0,23.0,36.0,30.0,18.0,67.0,23.0,24.0,30.0,29.0,32.0,30.0,31.0,48.0,79.0,70.0,20.0,70.0,30.0,28.0,35.0,46.0,20.0,78.0,77.0,16.0,36.0,16.0,28.0,36.0,37.0,72.0,49.0,50.0,28.0,33.0,32.0,35.0,28.0,29.0,22.0,55.0,27.0,30.0,28.0,31.0,25.0,65.0,20.0,58.0,27.0,16.0,23.0,34.0,23.0,46.0,47.0,46.0,65.0,38.0,19.0,45.0,27.0,60.0,39.0,18.0,27.0,37.0,35.0,20.0,18.0,39.0,24.0,36.0,26.0,28.0,34.0,16.0,32.0,22.0,30.0,29.0,30.0,48.0,30.0,50.0,65.0,25.0,40.0,40.0,74.0,24.0,33.0,65.0,60.0,72.0,28.0,40.0,42.0,25.0,19.0,17.0,21.0,40.0,48.0,35.0,65.0,68.0,16.0,60.0,60.0,40.0,27.0,66.0,33.0,43.0,40.0,22.0,40.0,22.0,28.0,36.0,45.0,23.0,41.0,45.0,16.0,41.0,82.0,56.0,26.0,23.0,16.0,27.0,70.0,17.0,25.0,48.0,30.0,58.0,39.0,27.0,55.0,41.0,58.0,19.0,32.0,31.0,45.0,43.0,38.0,19.0,40.0,40.0,26.0,70.0,65.0,45.0,37.0,38.0,35.0,48.0,33.0,22.0,28.0,18.0,45.0,70.0,23.0,32.0,32.0,41.0,79.0,39.0,46.0,36.0,27.0,57.0,60.0,24.0,25.0,27.0,47.0,27.0,29.0,21.0,28.0,70.0,28.0,41.0,39.0,37.0,29.0,58.0,51.0,19.0,60.0,18.0,48.0,60.0,22.0,40.0,22.0,38.0,52.0,27.0,22.0,47.0,41.0,63.0,43.0,34.0,48.0,33.0,28.0,24.0,33.0,40.0,23.0,53.0,34.0,43.0,46.0,28.0,32.0,43.0,24.0,24.0,30.0,55.0,30.0,60.0,53.0,16.0,32.0,74.0,70.0,24.0,30.0,47.0,89.0,22.0,52.0,16.0,40.0,28.0,24.0,43.0,17.0,51.0,30.0,23.0,20.0,51.0,22.0,76.0,48.0,21.0,19.0,39.0,40.0,24.0,38.0,39.0,51.0,20.0,32.0,23.0,20.0,20.0,17.0,39.0,42.0,23.0,18.0,19.0,70.0,60.0,27.0,32.0,38.0,26.0,28.0,48.0,20.0,17.0,45.0,28.0,22.0,50.0,64.0,37.0,35.0,22.0,24.0,22.0,39.0,63.0,35.0,40.0,19.0,30.0,43.0,20.0,59.0,60.0,65.0,43.0,75.0,24.0,94.0,40.0,32.0,48.0,23.0,30.0,24.0,36.0,18.0,80.0,28.0,67.0,23.0,21.0,16.0,34.0,18.0,25.0,40.0,42.0,18.0,23.0,36.0,71.0,43.0,24.0,21.0,21.0,25.0,70.0,35.0,70.0,32.0,29.0,17.0,37.0,30.0,49.0,78.0,22.0,32.0,58.0,32.0,39.0,80.0,19.0,45.0,80.0,47.0,30.0,23.0,34.0,57.0,65.0,30.0,50.0,33.0,70.0,65.0,33.0,62.0,27.0,37.0,35.0,59.0,30.0,63.0,42.0,36.0,30.0,22.0,18.0,30.0,70.0,34.0,36.0,27.0,28.0,45.0,51.0,28.0,18.0,58.0,27.0,44.0,22.0,50.0,19.0,80.0,18.0,18.0,16.0,29.0,33.0,26.0,21.0,42.0,38.0,20.0,34.0,45.0,28.0,39.0,26.0,18.0,63.0,19.0,32.0,24.0,68.0,51.0,25.0,23.0,19.0,35.0,25.0,21.0,83.0,74.0,28.0,18.0,32.0,25.0,20.0,20.0,28.0,24.0,19.0,16.0,45.0,36.0,21.0,88.0,35.0,75.0,43.0,31.0,35.0,29.0,99.0,47.0,28.0,38.0,37.0,41.0,27.0,37.0,34.0,28.0,36.0,67.0,16.0,44.0,42.0,31.0,45.0,50.0,57.0,24.0,68.0,35.0,60.0,19.0,25.0,38.0,24.0,38.0,32.0,56.0,16.0,50.0,54.0,52.0,30.0,51.0,33.0,25.0,35.0,21.0,32.0,28.0,34.0,68.0,63.0,30.0,23.0,42.0,20.0,20.0,20.0,18.0,35.0,50.0,45.0,31.0,26.0,54.0,49.0,54.0,22.0,71.0,21.0,29.0,60.0,24.0,30.0,22.0,49.0,30.0,75.0,30.0,30.0,71.0,58.0,55.0,66.0,77.0,34.0,42.0,45.0,37.0,26.0,43.0,70.0,67.0,22.0,23.0,60.0,42.0,45.0,24.0,25.0,34.0,23.0,20.0,29.0,21.0,16.0,25.0,45.0,22.0,30.0,56.0,20.0,40.0,37.0,34.0,40.0,32.0,20.0,24.0,49.0,43.0,39.0,42.0,20.0,22.0,60.0,60.0,32.0,29.0,28.0,44.0,22.0,38.0,19.0,21.0,17.0,27.0,29.0,30.0,67.0,60.0,40.0,40.0,40.0,54.0,35.0,62.0,31.0,30.0,77.0,22.0,22.0,24.0,72.0,31.0,50.0,17.0,32.0,64.0,30.0,39.0,24.0,17.0,44.0,35.0,21.0,35.0,40.0,45.0,46.0,26.0,35.0,30.0,70.0,59.0,57.0,60.0,50.0,22.0,20.0,16.0,18.0,56.0,67.0,22.0,25.0,50.0,24.0,40.0,41.0,17.0,63.0,35.0,23.0,65.0,63.0,38.0,32.0,55.0,23.0,30.0,18.0,22.0,43.0,21.0,17.0,26.0,34.0,19.0,27.0,35.0,62.0,27.0,20.0,52.0,30.0,47.0,68.0,27.0,17.0,20.0,35.0,20.0,28.0,49.0,30.0,80.0,30.0,35.0,36.0,40.0,28.0,17.0,26.0,22.0,42.0,43.0,70.0,54.0,64.0,37.0,20.0,35.0,40.0,16.0,28.0,63.0,50.0,40.0,68.0,34.0,78.0,34.0,42.0,20.0,27.0,39.0,48.0,50.0,22.0,20.0,23.0,20.0,57.0,39.0,49.0,25.0,30.0,65.0,25.0,31.0,19.0,39.0,20.0,36.0,81.0,32.0,50.0,23.0,22.0,54.0,28.0,59.0,23.0,31.0,23.0,49.0,52.0,23.0,36.0,21.0,28.0,46.0,27.0,18.0,30.0,21.0,79.0,36.0,66.0,52.0,36.0,19.0,32.0,38.0,20.0,38.0,33.0,29.0,43.0,31.0,22.0,48.0,87.0,20.0,25.0,61.0,42.0,63.0,72.0,27.0,27.0,29.0,63.0,52.0,66.0,36.0,45.0,26.0,39.0,52.0,18.0,73.0,17.0,36.0,28.0,20.0,34.0,20.0,35.0,28.0,37.0,41.0,55.0,33.0,50.0,null,21.0,29.0,40.0,18.0,65.0,39.0,50.0,39.0,17.0,45.0,64.0,18.0,30.0,65.0,30.0,54.0,70.0,32.0,32.0,65.0,32.0,30.0,28.0,35.0,26.0,22.0,30.0,36.0,23.0,19.0,23.0,24.0,35.0,28.0,41.0,56.0,44.0,38.0,38.0,33.0,25.0,64.0,78.0,30.0,29.0,20.0,35.0,68.0,36.0,38.0,28.0,62.0,45.0,18.0,25.0,45.0,45.0,28.0,23.0,40.0,30.0,45.0,38.0,74.0,28.0,24.0,60.0,22.0,59.0,32.0,60.0,29.0,50.0,53.0,30.0,20.0,47.0,25.0,78.0,53.0,40.0,43.0,45.0,35.0,40.0,40.0,44.0,34.0,52.0,53.0,18.0,25.0,32.0,16.0,32.0,51.0,38.0,72.0,54.0,22.0,80.0,17.0,18.0,22.0,42.0,30.0,46.0,32.0,40.0,45.0,32.0,32.0,20.0,38.0,25.0,16.0,41.0,38.0,25.0,60.0,32.0,35.0,30.0,52.0,56.0,60.0,80.0,33.0,27.0,18.0,51.0,32.0,29.0,50.0,40.0,25.0,47.0,36.0,28.0,30.0,48.0,24.0,18.0,18.0,56.0,20.0,33.0,31.0,30.0,59.0,49.0,34.0,26.0,28.0,28.0,22.0,42.0,69.0,18.0,55.0,72.0,17.0,67.0,22.0,60.0,17.0,51.0,50.0,25.0,50.0,23.0,50.0,20.0,63.0,37.0,20.0,54.0,22.0,27.0,36.0,59.0,16.0,22.0,30.0,82.0,19.0,27.0,43.0,35.0,42.0,51.0,51.0,17.0,49.0,35.0,20.0,24.0,50.0,25.0,24.0,38.0,45.0,52.0,41.0,32.0,41.0,22.0,50.0,25.0,40.0,40.0,19.0,45.0,37.0,22.0,36.0,32.0,27.0,36.0,67.0,21.0,23.0,16.0,40.0,45.0,23.0,22.0,52.0,30.0,73.0,62.0,29.0,30.0,37.0,48.0,27.0,17.0,30.0,24.0,48.0,67.0,35.0,50.0,28.0,30.0,49.0,63.0,21.0,80.0,73.0,25.0,20.0,82.0,90.0,30.0,47.0,30.0,34.0,23.0,32.0,null,null,null,null,18.0,20.0,38.0,21.0,16.0,60.0,44.0,51.0,21.0,17.0,29.0,25.0,48.0,54.0,21.0,17.0,16.0,30.0,45.0,28.0,40.0,44.0,25.0,48.0,31.0,61.0,54.0,29.0,30.0,25.0,54.0,55.0,25.0,30.0,39.0,58.0,32.0,27.0,22.0,16.0,44.0,23.0,35.0,38.0,35.0,47.0,40.0,43.0,65.0,79.0,20.0,25.0,45.0,45.0,43.0,31.0,28.0,21.0,52.0,27.0,38.0,19.0,58.0,49.0,55.0,35.0,26.0,30.0,22.0,38.0,44.0,65.0,20.0,37.0,18.0,17.0,76.0,45.0,65.0,55.0,21.0,18.0,18.0,60.0,39.0,35.0,34.0,17.0,44.0,65.0,27.0,36.0,30.0,44.0,23.0,35.0,25.0,30.0,34.0,52.0,57.0,28.0,41.0,18.0,32.0,44.0,16.0,35.0,28.0,50.0,40.0,42.0,63.0,42.0,51.0,22.0,33.0,32.0,45.0,58.0,28.0,35.0,61.0,35.0,18.0,35.0,22.0,18.0,75.0,30.0,18.0,19.0,26.0,16.0,23.0,22.0,27.0,60.0,49.0,38.0,37.0,39.0,43.0,30.0,53.0,53.0,45.0,25.0,41.0,16.0,35.0,28.0,20.0,48.0,24.0,33.0,31.0,30.0,31.0,43.0,21.0,26.0,19.0,19.0,51.0,82.0,53.0,61.0,55.0,16.0,28.0,22.0,77.0,34.0,50.0,52.0,21.0,30.0,19.0,47.0,38.0,39.0,80.0,24.0,29.0,25.0,34.0,90.0,25.0,20.0,75.0,53.0,33.0,18.0,49.0,22.0,40.0,26.0,47.0,35.0,34.0,22.0,25.0,29.0,25.0,50.0,35.0,30.0,51.0,48.0,22.0,66.0,28.0,17.0,85.0,33.0,36.0,29.0,40.0,36.0,30.0,46.0,45.0,40.0,35.0,28.0,63.0,75.0,26.0,50.0,29.0,34.0,50.0,50.0,36.0,32.0,55.0,16.0,33.0,34.0,18.0,39.0,20.0,31.0,20.0,55.0,28.0,33.0,42.0,73.0,20.0,42.0,26.0,77.0,25.0,65.0,40.0,28.0,57.0,70.0,39.0,64.0,31.0,41.0,21.0,48.0,70.0,49.0,29.0,48.0,43.0,35.0,18.0,33.0,70.0,25.0,27.0,54.0,30.0,28.0,62.0,32.0,22.0,52.0,41.0,22.0,18.0,50.0,23.0,33.0,65.0,30.0,45.0,22.0,82.0,23.0,30.0,23.0,28.0,32.0,21.0,41.0,47.0,35.0,49.0,63.0,40.0,52.0,28.0,34.0,35.0,53.0,21.0,30.0,35.0,60.0,40.0,23.0,31.0,22.0,22.0,52.0,78.0,17.0,28.0,27.0,37.0,53.0,36.0,22.0,29.0,34.0,53.0,24.0,54.0,20.0,21.0,22.0,44.0,29.0,56.0,42.0,24.0,17.0,36.0,70.0,29.0,40.0,25.0,20.0,22.0,22.0,34.0,47.0,82.0,38.0,27.0,49.0,61.0,53.0,43.0,23.0,49.0,41.0,27.0,35.0,40.0,37.0,70.0,88.0,17.0,21.0,38.0,40.0,46.0,28.0,79.0,26.0,49.0,82.0,40.0,34.0,32.0,45.0,48.0,28.0,40.0,42.0,33.0,43.0,24.0,41.0,26.0,25.0,59.0,22.0,28.0,34.0,52.0,34.0,26.0,42.0,26.0,23.0,65.0,22.0,40.0,51.0,45.0,44.0,35.0,25.0,27.0,26.0,30.0,51.0,26.0,56.0,23.0,56.0,30.0,51.0,67.0,56.0,33.0,53.0,47.0,29.0,59.0,42.0,24.0,26.0,43.0,23.0,26.0,43.0,31.0,50.0,38.0,25.0,28.0,21.0,17.0,37.0,25.0,60.0,43.0,22.0,18.0,41.0,36.0,28.0,23.0,21.0,47.0,34.0,45.0,26.0,21.0,31.0,23.0,54.0,23.0,63.0,67.0,62.0,20.0,24.0,18.0,29.0,47.0,37.0,26.0,28.0,30.0,36.0,31.0,67.0,37.0,37.0,16.0,35.0,33.0,33.0,69.0,30.0,51.0,32.0,30.0,19.0,26.0,null,null,29.0,44.0,33.0,47.0,77.0,22.0,30.0,50.0,25.0,65.0,17.0,60.0,23.0,26.0,31.0,21.0,21.0,47.0,38.0,38.0,34.0,85.0,18.0,32.0,16.0,53.0,41.0,41.0,46.0,62.0,53.0,16.0,38.0,28.0,30.0,23.0,51.0,18.0,60.0,35.0,35.0,44.0,40.0,75.0,35.0,37.0,42.0,42.0,30.0,16.0,26.0,39.0,41.0,38.0,34.0,32.0,23.0,25.0,20.0,19.0,72.0,16.0,40.0,40.0,34.0,38.0,30.0,35.0,18.0,17.0,46.0,25.0,23.0,19.0,55.0,75.0,25.0,49.0,63.0,42.0,20.0,45.0,47.0,22.0,37.0,22.0,50.0,50.0,22.0,56.0,30.0,54.0,47.0,65.0,34.0,27.0,57.0,23.0,30.0,72.0,42.0,42.0,24.0,17.0,57.0,34.0,22.0,22.0,40.0,30.0,70.0,31.0,50.0,32.0,17.0,70.0,70.0,30.0,36.0,35.0,31.0,51.0,56.0,22.0,26.0,37.0,24.0,29.0,42.0,27.0,41.0,67.0,32.0,74.0,40.0,31.0,22.0,20.0,25.0,30.0,37.0,16.0,16.0,30.0,32.0,73.0,36.0,30.0,24.0,18.0,45.0,33.0,52.0,47.0,70.0,34.0,17.0,74.0,29.0,25.0,25.0,32.0,39.0,22.0,54.0,70.0,70.0,43.0,28.0,38.0,23.0,27.0,40.0,25.0,32.0,52.0,45.0,38.0,52.0,45.0,44.0,25.0,40.0,34.0,22.0,47.0,18.0,19.0,43.0,16.0,52.0,20.0,19.0,26.0,36.0,58.0,20.0,47.0,21.0,62.0,40.0,42.0,50.0,23.0,50.0,37.0,36.0,47.0,59.0,40.0,23.0,45.0,50.0,85.0,36.0,42.0,37.0,37.0,26.0,37.0,27.0,25.0,41.0,39.0,51.0,35.0,32.0,39.0,42.0,21.0,27.0,19.0,44.0,30.0,30.0,26.0,23.0,22.0,26.0,48.0,16.0,22.0,38.0,25.0,22.0,22.0,31.0,25.0,72.0,35.0,32.0,73.0,34.0,20.0,42.0,55.0,38.0,27.0,25.0,34.0,18.0,36.0,55.0,43.0,17.0,30.0,46.0,57.0,56.0,35.0,19.0,72.0,21.0,26.0,23.0,24.0,42.0,38.0,36.0,17.0,37.0,41.0,40.0,28.0,41.0,27.0,16.0,31.0,31.0,31.0,31.0,21.0,18.0,38.0,52.0,40.0,45.0,50.0,16.0,29.0,60.0,35.0,39.0,32.0,30.0,30.0,26.0,32.0,60.0,60.0,24.0,68.0,25.0,48.0,46.0,42.0,28.0,42.0,23.0,70.0,23.0,36.0,70.0,47.0,22.0,67.0,43.0,49.0,43.0,27.0,48.0,33.0,38.0,23.0,50.0,23.0,29.0,63.0,35.0,38.0,18.0,30.0,35.0,70.0,40.0,25.0,47.0,65.0,65.0,68.0,30.0,26.0,36.0,35.0,30.0,29.0,28.0,35.0,24.0,28.0,18.0,50.0,38.0,30.0,38.0,25.0,60.0,46.0,30.0,21.0,45.0,25.0,33.0,16.0,57.0,51.0,38.0,35.0,57.0,16.0,31.0,32.0,24.0,18.0,26.0,31.0,20.0,28.0,45.0,43.0,34.0,72.0,60.0,21.0,55.0,60.0,39.0,65.0,41.0,26.0,47.0,61.0,90.0,48.0,27.0,19.0,17.0,75.0,35.0,49.0,25.0,30.0,56.0,18.0,24.0,45.0,44.0,32.0,43.0,23.0,27.0,32.0,33.0,28.0,49.0,30.0,86.0,30.0,32.0,19.0,24.0,19.0,27.0,56.0,30.0,49.0,34.0,45.0,43.0,38.0,66.0,32.0,31.0,39.0,30.0,22.0,65.0,24.0,33.0,31.0,39.0,24.0,48.0,32.0,35.0,25.0,21.0,17.0,35.0,21.0,18.0,45.0,64.0,29.0,63.0,33.0,32.0,42.0,59.0,45.0,21.0,38.0,23.0,40.0,28.0,30.0,75.0,49.0,16.0,43.0,25.0,59.0,26.0,20.0,33.0,30.0,35.0,42.0,35.0,25.0,31.0,55.0,39.0,20.0,25.0,40.0,19.0,22.0,35.0,69.0,25.0,28.0,28.0,45.0,32.0,36.0,37.0,32.0,30.0,75.0,39.0,22.0,34.0,66.0,16.0,35.0,20.0,25.0,35.0,63.0,51.0,30.0,22.0,29.0,24.0,27.0,40.0,23.0,25.0,32.0,17.0,27.0,33.0,59.0,20.0,51.0,40.0,24.0,32.0,40.0,34.0,48.0,28.0,28.0,45.0,40.0,35.0,68.0,16.0,56.0,48.0,75.0,35.0,38.0,43.0,32.0,75.0,67.0,35.0,53.0,50.0,30.0,20.0,20.0,39.0,18.0,38.0,35.0,34.0,43.0,32.0,37.0,29.0,78.0,68.0,45.0,29.0,19.0,31.0,59.0,31.0,26.0,32.0,31.0,20.0,24.0,19.0,27.0,30.0,26.0,67.0,19.0,35.0,27.0,32.0,37.0,29.0,26.0,20.0,37.0,20.0,34.0,31.0,16.0,18.0,46.0,36.0,60.0,35.0,58.0,26.0,31.0,53.0,52.0,21.0,45.0,33.0,54.0,25.0,61.0,43.0,40.0,38.0,31.0,42.0,65.0,48.0,16.0,68.0,42.0,25.0,35.0,44.0,64.0,32.0,82.0,50.0,48.0,38.0,53.0,17.0,26.0,76.0,46.0,30.0,17.0,35.0,58.0,26.0,32.0,62.0,24.0,20.0,39.0,62.0,30.0,29.0,36.0,20.0,45.0,20.0,21.0,30.0,40.0,30.0,49.0,23.0,60.0,29.0,40.0,46.0,30.0,21.0,65.0,35.0,38.0,30.0,26.0,24.0,42.0,32.0,41.0,73.0,16.0,21.0,30.0,32.0,41.0,21.0,67.0,44.0,53.0,42.0,25.0,37.0,33.0,52.0,47.0,35.0,32.0,70.0,39.0,17.0,45.0,29.0,28.0,30.0,29.0,19.0,39.0,74.0,30.0,25.0,16.0,40.0,24.0,30.0,28.0,35.0,23.0,34.0,27.0,42.0,37.0,39.0,77.0,23.0,60.0,23.0,17.0,32.0,31.0,30.0,23.0,32.0,59.0,80.0,49.0,20.0,47.0,24.0,21.0,53.0,18.0,36.0,31.0,24.0,25.0,16.0,52.0,24.0,23.0,42.0,25.0,18.0,32.0,20.0,41.0,57.0,33.0,19.0,23.0,54.0,55.0,58.0,18.0,25.0,53.0,35.0,57.0,22.0,41.0,63.0,28.0,33.0,57.0,54.0,27.0,46.0,38.0,19.0,25.0,49.0,42.0,36.0,52.0,35.0,30.0,35.0,56.0,26.0,26.0,36.0,27.0,28.0,27.0,43.0,25.0,45.0,20.0,25.0,30.0,29.0,36.0,61.0,40.0,42.0,26.0,48.0,27.0,48.0,30.0,48.0,37.0,18.0,16.0,26.0,27.0,81.0,61.0,38.0,40.0,20.0,66.0,28.0,29.0,24.0,24.0,23.0,28.0,18.0,28.0,47.0,35.0,40.0,29.0,54.0,50.0,27.0,33.0,32.0,75.0,74.0,51.0,52.0,19.0,36.0,46.0,25.0,60.0,19.0,62.0,42.0,18.0,73.0,40.0,28.0,70.0,37.0,40.0,17.0,38.0,71.0,33.0,34.0,75.0,38.0,29.0,18.0,44.0,25.0,42.0,47.0,22.0,35.0,31.0,27.0,42.0,45.0,30.0,34.0,23.0,21.0,32.0,49.0,72.0,27.0,23.0,27.0,20.0,31.0,25.0,65.0,25.0,31.0,29.0,59.0,46.0,25.0,29.0,43.0,42.0,37.0,18.0,30.0,47.0,35.0,25.0,55.0,80.0,28.0,45.0,46.0,32.0,28.0,39.0,39.0,38.0,32.0,42.0,36.0,24.0,37.0,20.0,49.0,38.0,31.0,36.0,19.0,80.0,33.0,16.0,25.0,30.0,57.0,32.0,49.0,45.0,71.0,34.0,33.0,34.0,61.0,31.0,48.0,56.0,37.0,47.0,27.0,17.0,35.0,56.0,37.0,25.0,34.0,37.0,22.0,24.0,32.0,45.0,19.0,20.0,22.0,44.0,67.0,27.0,40.0,51.0,25.0,55.0,38.0,90.0,21.0,27.0,51.0,28.0,29.0,40.0,49.0,76.0,74.0,24.0,78.0,65.0,65.0,40.0,79.0,27.0,27.0,47.0,34.0,33.0,36.0,17.0,42.0,25.0,54.0,24.0,30.0,39.0,42.0,41.0,33.0,26.0,36.0,34.0,26.0,36.0,35.0,23.0,71.0,34.0,24.0,20.0,40.0,45.0,49.0,39.0,37.0,65.0,72.0,17.0,40.0,50.0,20.0,18.0,20.0,83.0,58.0,20.0,65.0,27.0,52.0,19.0,79.0,40.0,58.0,16.0,38.0,23.0,26.0,59.0,24.0,35.0,23.0,31.0,46.0,27.0,64.0,59.0,29.0,40.0,54.0,30.0,22.0,17.0,85.0,22.0,43.0,52.0,41.0,61.0,24.0,51.0,54.0,42.0,56.0,35.0,51.0,54.0,56.0,78.0,35.0,27.0,46.0,45.0,45.0,47.0,26.0,65.0,40.0,32.0,48.0,33.0,50.0,40.0,40.0,16.0,45.0,17.0,30.0,57.0,75.0,40.0,35.0,65.0,41.0,41.0,55.0,60.0,24.0,22.0,22.0,30.0,38.0,30.0,37.0,33.0,40.0,22.0,45.0,44.0,18.0,30.0,45.0,64.0,48.0,27.0,30.0,49.0,49.0,36.0,50.0,35.0,23.0,23.0,40.0,81.0,22.0,46.0,30.0,38.0,40.0,30.0,42.0,21.0,34.0,35.0,77.0,19.0,21.0,42.0,80.0,30.0,40.0,26.0,30.0,26.0,30.0,40.0,30.0,28.0,36.0,29.0,33.0,40.0,45.0,57.0,40.0,47.0,17.0,21.0,21.0,25.0,58.0,41.0,38.0,65.0,48.0,72.0,37.0,63.0,33.0,55.0,55.0,29.0,75.0,30.0,33.0,48.0,26.0,21.0,54.0,21.0,56.0,23.0,60.0,32.0,29.0,24.0,50.0,40.0,47.0,40.0,32.0,42.0,23.0,24.0,25.0,35.0,39.0,50.0,18.0,25.0,40.0,47.0,35.0,45.0,33.0,27.0,34.0,24.0,40.0,49.0,16.0,40.0,36.0,58.0,53.0,53.0,56.0,78.0,18.0,30.0,81.0,35.0,59.0,38.0,58.0,22.0,25.0,44.0,62.0,62.0,16.0,45.0,70.0,62.0,32.0,49.0,36.0,34.0,23.0,16.0,27.0,65.0,21.0,33.0,25.0,36.0,26.0,19.0,16.0,17.0,30.0,17.0,20.0,19.0,18.0,32.0,43.0,67.0,16.0,70.0,76.0,51.0,65.0,52.0,22.0,17.0,24.0,39.0,46.0,90.0,32.0,37.0,60.0,25.0,29.0,46.0,27.0,27.0,26.0,30.0,16.0,37.0,50.0,49.0,22.0,76.0,40.0,30.0,70.0,25.0,37.0,34.0,40.0,38.0,57.0,33.0,30.0,50.0,60.0,35.0,34.0,24.0,23.0,58.0,43.0,27.0,19.0,32.0,32.0,85.0,31.0,48.0,22.0,24.0,17.0,62.0,42.0,50.0,28.0,23.0,40.0,62.0,16.0,26.0,30.0,22.0,17.0,35.0,30.0,25.0,30.0,16.0,28.0,20.0,21.0,18.0,23.0,20.0,49.0,61.0,28.0,40.0,100.0,66.0,40.0,17.0,35.0,47.0,31.0,60.0,53.0,24.0,16.0,24.0,60.0,29.0,22.0,32.0,27.0,30.0,56.0,55.0,43.0,62.0,23.0,36.0,45.0,30.0,38.0,65.0,28.0,34.0,42.0,37.0,20.0,30.0,42.0,30.0,44.0,48.0,55.0,27.0,20.0,38.0,37.0,28.0,40.0,17.0,52.0,24.0,22.0,24.0,30.0,28.0,48.0,19.0,16.0,53.0,22.0,20.0,66.0,40.0,30.0,31.0,53.0,62.0,33.0,38.0,67.0,60.0,35.0,65.0,30.0,29.0,29.0,27.0,39.0,65.0,42.0,19.0,28.0,56.0,33.0,50.0,44.0,30.0,23.0,58.0,17.0,22.0,51.0,30.0,66.0,16.0,21.0,50.0,38.0,25.0,83.0,27.0,35.0,27.0,40.0,20.0,67.0,24.0,44.0,35.0,37.0,32.0,78.0,45.0,46.0,45.0,35.0,33.0,52.0,74.0,16.0,27.0,26.0,30.0,29.0,65.0,50.0,33.0,20.0,25.0,41.0,67.0,23.0,39.0,35.0,58.0,17.0,35.0,31.0,47.0,34.0,70.0,25.0,47.0,72.0,58.0,28.0,45.0,49.0,85.0,59.0,57.0,40.0,18.0,31.0,61.0,45.0,37.0,68.0,88.0,56.0,57.0,47.0,45.0,20.0,32.0,30.0,47.0,65.0,35.0,65.0,75.0,20.0,48.0,50.0,29.0,81.0,80.0,50.0,75.0,25.0,34.0,52.0,28.0,39.0,52.0,55.0,43.0,43.0,26.0,25.0,36.0,36.0,49.0,34.0,40.0,35.0,60.0,43.0,35.0,63.0,70.0,32.0,22.0,25.0,49.0,36.0,53.0,25.0,52.0,53.0,70.0,48.0,86.0,43.0,50.0,16.0,42.0,56.0,28.0,23.0,40.0,95.0,32.0,40.0,31.0,37.0,42.0,38.0,65.0,42.0,23.0,40.0,23.0,18.0,41.0,26.0,26.0,28.0,23.0,85.0,18.0,49.0,28.0,80.0,16.0,35.0,51.0,56.0,70.0,30.0,40.0,29.0,16.0,53.0,30.0,40.0,49.0,32.0,45.0,40.0,70.0,80.0,52.0,45.0,34.0,20.0,27.0,63.0,36.0,39.0,32.0,19.0,45.0,25.0,61.0,25.0,30.0,20.0,16.0,26.0,22.0,68.0,70.0,30.0,56.0,55.0,37.0,31.0,20.0,47.0,55.0,26.0,24.0,22.0,23.0,26.0,17.0,65.0,49.0,21.0,34.0,34.0,76.0,22.0,19.0,33.0,38.0,40.0,45.0,30.0,52.0,60.0,70.0,37.0,45.0,51.0,39.0,35.0,34.0,31.0,26.0,40.0,23.0,43.0,25.0,91.0,24.0,54.0,47.0,26.0,38.0,45.0,24.0,21.0,26.0,42.0,43.0,40.0,35.0,21.0,40.0,27.0,45.0,60.0,68.0,23.0,62.0,36.0,30.0,18.0,22.0,25.0,63.0,17.0,44.0,53.0,38.0,40.0,22.0,30.0,19.0,46.0,41.0,23.0,53.0,28.0,27.0,35.0,52.0,45.0,20.0,29.0,40.0,73.0,25.0,44.0,23.0,26.0,68.0,24.0,83.0,33.0,67.0,19.0,30.0,71.0,30.0,48.0,22.0,32.0,49.0,17.0,25.0,51.0,30.0,17.0,41.0,28.0,39.0,31.0,21.0,32.0,30.0,32.0,26.0,30.0,30.0,29.0,52.0,36.0,25.0,26.0,28.0,50.0,40.0,26.0,35.0,35.0,65.0,32.0,24.0,61.0,29.0,45.0,29.0,36.0,32.0,87.0,20.0,50.0,38.0,33.0,71.0,72.0,67.0,25.0,28.0,47.0,28.0,31.0,30.0,23.0,27.0,21.0,34.0,60.0,29.0,25.0,33.0,22.0,52.0,76.0,35.0,22.0,32.0,17.0,80.0,22.0,53.0,30.0,86.0,17.0,90.0,49.0,58.0,39.0,25.0,38.0,44.0,30.0,40.0,50.0,52.0,25.0,26.0,35.0,33.0,19.0,38.0,43.0,56.0,19.0,66.0,25.0,20.0,28.0,43.0,52.0,30.0,16.0,22.0,30.0,50.0,35.0,65.0,47.0,32.0,36.0,39.0,60.0,45.0,32.0,29.0,20.0,27.0,67.0,62.0,25.0,75.0,55.0,22.0,37.0,49.0,70.0,26.0,48.0,30.0,17.0,55.0,70.0,34.0,26.0,16.0,46.0,20.0,30.0,35.0,18.0,43.0,53.0,22.0,25.0,81.0,23.0,35.0,30.0,24.0,26.0,29.0,45.0,33.0,25.0,17.0,67.0,19.0,65.0,52.0,28.0,32.0,46.0,29.0,39.0,34.0,35.0,26.0,53.0,25.0,31.0,17.0,22.0,53.0,54.0,46.0,36.0,39.0,47.0,41.0,43.0,28.0,34.0,37.0,27.0,27.0,60.0,40.0,28.0,43.0,50.0,17.0,25.0,75.0,31.0,20.0,29.0,25.0,54.0,32.0,37.0,46.0,30.0,81.0,45.0,45.0,21.0,17.0,45.0,40.0,52.0,55.0,54.0,20.0,32.0,27.0,18.0,68.0,48.0,65.0,27.0,28.0,32.0,30.0,26.0,32.0,66.0,50.0,32.0,50.0,32.0,26.0,75.0,37.0,38.0,70.0,57.0,50.0,28.0,50.0,43.0,24.0,29.0,23.0,52.0,18.0,65.0,23.0,19.0,34.0,21.0,65.0,28.0,40.0,62.0,32.0,60.0,28.0,21.0,42.0,23.0,44.0,33.0,28.0,24.0,28.0,46.0,18.0,26.0,20.0,30.0,80.0,30.0,29.0,50.0,22.0,21.0,22.0,47.0,25.0,17.0,69.0,45.0,17.0,19.0,82.0,50.0,44.0,19.0,70.0,77.0,19.0,46.0,59.0,35.0,51.0,23.0,35.0,36.0,71.0,49.0,34.0,46.0,60.0,65.0,48.0,28.0,45.0,47.0,35.0,42.0,27.0,72.0,31.0,30.0,51.0,35.0,30.0,34.0,23.0,22.0,35.0,53.0,22.0,20.0,34.0,34.0,16.0,44.0,22.0,66.0,63.0,17.0,25.0,36.0,47.0,39.0,28.0,56.0,27.0,81.0,21.0,61.0,40.0,21.0,19.0,50.0,24.0,45.0,28.0,22.0,48.0,40.0,24.0,40.0,20.0,43.0,38.0,78.0,45.0,29.0,42.0,50.0,32.0,20.0,80.0,79.0,65.0,46.0,30.0,39.0,56.0,61.0,36.0,44.0,45.0,82.0,24.0,58.0,43.0,32.0,28.0,29.0,72.0,21.0,29.0,29.0,27.0,31.0,65.0,34.0,40.0,18.0,50.0,42.0,21.0,22.0,17.0,16.0,17.0,17.0,45.0,24.0,30.0,47.0,19.0,40.0,28.0,70.0,30.0,32.0,58.0,28.0,42.0,30.0,20.0,28.0,57.0,19.0,42.0,22.0,36.0,35.0,20.0,43.0,65.0,56.0,32.0,32.0,82.0,27.0,16.0,28.0,78.0,19.0,51.0,27.0,26.0,16.0,25.0,30.0,22.0,36.0,30.0,54.0,19.0,30.0,32.0,48.0,66.0,30.0,30.0,79.0,45.0,47.0,22.0,78.0,58.0,95.0,40.0,37.0,42.0,39.0,33.0,39.0,25.0,38.0,38.0,22.0,23.0,30.0,24.0,23.0,27.0,34.0,23.0,20.0,20.0,70.0,32.0,19.0,57.0,56.0,55.0,38.0,22.0,26.0,36.0,43.0,60.0,67.0,36.0,32.0,52.0,24.0,45.0,22.0,56.0,57.0,29.0,45.0,30.0,50.0,37.0,34.0,26.0,22.0,48.0,59.0,74.0,46.0,26.0,16.0,32.0,45.0,42.0,20.0,27.0,42.0,26.0,18.0,38.0,51.0,39.0,28.0,60.0,48.0,17.0,31.0,17.0,18.0,57.0,48.0,70.0,32.0,56.0,47.0,40.0,56.0,25.0,37.0,19.0,58.0,47.0,60.0,47.0,80.0,94.0,32.0,37.0,47.0,25.0,17.0,21.0,35.0,22.0,22.0,53.0,57.0,25.0,21.0,38.0,29.0,26.0,31.0,32.0,50.0,37.0,50.0,31.0,42.0,19.0,16.0,19.0,64.0,39.0,42.0,28.0,47.0,20.0,16.0,75.0,49.0,63.0,47.0,33.0,34.0,65.0,33.0,43.0,53.0,27.0,23.0,28.0,33.0,23.0,44.0,58.0,68.0,22.0,24.0,59.0,23.0,35.0,41.0,68.0,20.0,46.0,34.0,68.0,76.0,27.0,72.0,80.0,18.0,44.0,18.0,26.0,34.0,38.0,23.0,38.0,35.0,30.0,51.0,39.0,24.0,21.0,58.0,45.0,16.0,37.0,32.0,32.0,42.0,56.0,70.0,19.0,27.0,76.0,44.0,46.0,25.0,42.0,21.0,45.0,90.0,25.0,22.0,22.0,32.0,63.0,18.0,30.0,22.0,25.0,55.0,38.0,45.0,60.0,22.0,60.0,49.0,27.0,55.0,27.0,46.0,16.0,32.0,45.0,21.0,18.0,30.0,17.0,30.0,33.0,48.0,40.0,38.0,27.0,35.0,45.0,37.0,32.0,44.0,50.0,22.0,34.0,35.0,58.0,34.0,50.0,66.0,26.0,35.0,53.0,28.0,27.0,70.0,28.0,82.0,57.0,25.0,20.0,53.0,23.0,33.0,43.0,52.0,29.0,35.0,24.0,24.0,19.0,40.0,78.0,60.0,25.0,29.0,29.0,21.0,30.0,35.0,19.0,16.0,33.0,35.0,24.0,75.0,16.0,25.0,28.0,75.0,32.0,37.0,24.0,17.0,18.0,37.0,17.0,28.0,19.0,60.0,18.0,24.0,46.0,35.0,77.0,38.0,46.0,43.0,22.0,38.0,24.0,70.0,21.0,55.0,17.0,22.0,35.0,36.0,60.0,35.0,32.0,35.0,40.0,34.0,27.0,32.0,47.0,80.0,61.0,28.0,30.0,46.0,47.0,25.0,54.0,21.0,18.0,47.0,38.0,19.0,40.0,23.0,35.0,33.0,40.0,68.0,40.0,25.0,20.0,35.0,16.0,30.0,40.0,98.0,56.0,36.0,22.0,18.0,63.0,41.0,68.0,21.0,27.0,67.0,66.0,23.0,36.0,35.0,55.0,69.0,56.0,41.0,27.0,42.0,49.0,30.0,26.0,36.0,30.0,45.0,47.0,62.0,53.0,58.0,24.0,22.0,40.0,30.0,27.0,36.0,63.0,22.0,78.0,28.0,44.0,61.0,62.0,52.0,50.0,35.0,35.0,49.0,25.0,32.0,25.0,53.0,16.0,26.0,60.0,32.0,42.0,41.0,45.0,85.0,19.0,37.0,34.0,53.0,56.0,70.0,32.0,50.0,86.0,30.0,22.0,60.0,60.0,50.0,28.0,17.0,56.0,21.0,29.0,44.0,45.0,22.0,63.0,80.0,30.0,25.0,22.0,27.0,29.0,26.0,42.0,23.0,39.0,19.0,26.0,34.0,38.0,54.0,61.0,71.0,50.0,63.0,19.0,54.0,27.0,27.0,32.0,28.0,65.0,18.0,50.0,60.0,34.0,30.0,23.0,30.0,50.0,78.0,35.0,55.0,48.0,40.0,20.0,53.0,26.0,21.0,48.0,50.0,16.0,34.0,23.0,40.0,56.0,45.0,43.0,64.0,40.0,35.0,35.0,35.0,28.0,30.0,65.0,18.0,32.0,27.0,25.0,29.0,44.0,87.0,32.0,36.0,50.0,49.0,61.0,25.0,85.0,29.0,20.0,26.0,16.0,36.0,70.0,27.0,27.0,36.0,75.0,43.0,21.0,27.0,25.0,61.0,55.0,45.0,30.0,40.0,46.0,39.0,49.0,84.0,36.0,16.0,28.0,64.0,51.0,45.0,32.0,22.0,36.0,25.0,26.0,30.0,39.0,45.0,39.0,39.0,50.0,29.0,20.0,30.0,58.0,25.0,56.0,62.0,33.0,85.0,26.0,26.0,22.0,37.0,66.0,18.0,34.0,57.0,77.0,23.0,79.0,22.0,42.0,19.0,34.0,20.0,20.0,70.0,65.0,30.0,18.0,86.0,21.0,19.0,19.0,31.0,46.0,40.0,53.0,62.0,20.0,20.0,39.0,50.0,52.0,24.0,20.0,45.0,32.0,50.0,30.0,46.0,19.0,18.0,47.0,27.0,42.0,38.0,38.0,48.0,27.0,29.0,25.0,23.0,20.0,19.0,42.0,61.0,27.0,78.0,40.0,27.0,25.0,38.0,40.0,37.0,18.0,47.0,47.0,35.0,35.0,22.0,39.0,35.0,69.0,70.0,63.0,63.0,64.0,28.0,23.0,57.0,53.0,71.0,26.0,20.0,37.0,47.0,24.0,27.0,32.0,35.0,27.0,35.0,68.0,52.0,23.0,50.0,61.0,24.0,38.0,19.0,25.0,32.0,21.0,51.0,45.0,65.0,29.0,35.0,48.0,36.0,70.0,28.0,35.0,24.0,70.0,53.0,37.0,42.0,27.0,24.0,36.0,25.0,45.0,46.0,32.0,57.0,34.0,34.0,29.0,46.0,31.0,38.0,52.0,50.0,32.0,31.0,45.0,50.0,33.0,17.0,30.0,47.0,82.0,24.0,42.0,63.0,49.0,25.0,44.0,30.0,69.0,40.0,36.0,32.0,33.0,49.0,60.0,40.0,40.0,38.0,29.0,18.0,37.0,23.0,69.0,35.0,69.0,48.0,40.0,18.0,40.0,27.0,17.0,26.0,38.0,29.0,35.0,24.0,29.0,50.0,52.0,41.0,35.0,82.0,61.0,22.0,34.0,23.0,20.0,31.0,17.0,37.0,63.0,32.0,27.0,25.0,20.0,44.0,26.0,72.0,43.0,53.0,70.0,24.0,29.0,40.0,75.0,68.0,20.0,30.0,42.0,48.0,42.0,39.0,51.0,17.0,21.0,70.0,22.0,34.0,23.0,22.0,33.0,58.0,40.0,25.0,55.0,45.0,35.0,26.0,46.0,28.0,24.0,19.0,19.0,50.0,23.0,34.0,33.0,25.0,30.0,18.0,27.0,60.0,20.0,21.0,38.0,33.0,43.0,24.0,57.0,36.0,26.0,25.0,18.0,36.0,17.0,39.0,42.0,34.0,30.0,51.0,63.0,24.0,49.0,25.0,65.0,23.0,62.0,39.0,16.0,30.0,23.0,22.0,70.0,35.0,56.0,25.0,27.0,27.0,25.0,24.0,20.0,60.0,51.0,28.0,38.0,23.0,20.0,18.0,36.0,18.0,33.0,48.0,16.0,42.0,54.0,30.0,22.0,60.0,17.0,70.0,47.0,18.0,33.0,27.0,38.0,18.0,30.0,25.0,35.0,60.0,34.0,98.0,68.0,18.0,38.0,26.0,33.0,51.0,24.0,23.0,55.0,49.0,40.0,28.0,38.0,50.0,47.0,18.0,18.0,42.0,18.0,28.0,65.0,42.0,22.0,18.0,22.0,52.0,80.0,38.0,57.0,31.0,28.0,40.0,57.0,49.0,86.0,36.0,71.0,48.0,28.0,32.0,26.0,70.0,51.0,18.0,51.0,18.0,28.0,19.0,35.0,33.0,43.0,34.0,36.0,16.0,76.0,57.0,50.0,27.0,25.0,19.0,25.0,35.0,44.0,52.0,22.0,37.0,23.0,18.0,37.0,19.0,33.0,31.0,28.0,19.0,58.0,45.0,27.0,35.0,24.0,32.0,76.0,17.0,17.0,18.0,64.0,46.0,38.0,26.0,68.0,58.0,25.0,59.0,49.0,20.0,30.0,78.0,52.0,48.0,50.0,75.0,40.0,36.0,18.0,59.0,37.0,26.0,25.0,100.0,26.0,52.0,42.0,18.0,86.0,20.0,45.0,32.0,27.0,36.0,41.0,18.0,83.0,63.0,29.0,49.0,85.0,69.0,23.0,29.0,24.0,32.0,20.0,28.0,39.0,26.0,27.0,26.0,29.0,49.0,32.0,40.0,36.0,26.0,26.0,26.0,26.0,17.0,27.0,34.0,75.0,36.0,27.0,27.0,53.0,57.0,32.0,39.0,23.0,44.0,28.0,80.0,39.0,37.0,26.0,46.0,40.0,47.0,39.0,27.0,50.0,25.0,27.0,85.0,18.0,36.0,40.0,57.0,54.0,24.0,70.0,34.0,32.0,39.0,23.0,33.0,38.0,33.0,30.0,39.0,29.0,30.0,31.0,28.0,39.0,37.0,40.0,24.0,35.0,41.0,28.0,20.0,58.0,75.0,35.0,22.0,76.0,28.0,46.0,38.0,36.0,25.0,27.0,38.0,58.0,31.0,27.0,28.0,18.0,42.0,45.0,42.0,43.0,71.0,50.0,56.0,50.0,29.0,49.0,33.0,52.0,41.0,37.0,26.0,40.0,30.0,74.0,26.0,17.0,31.0,41.0,17.0,78.0,16.0,44.0,26.0,37.0,19.0,41.0,49.0,26.0,22.0,27.0,45.0,68.0,26.0,34.0,18.0,60.0,22.0,20.0,23.0,42.0,38.0,42.0,33.0,66.0,68.0,16.0,35.0,28.0,34.0,33.0,26.0,59.0,33.0,42.0,39.0,33.0,24.0,45.0,30.0,29.0,41.0,68.0,61.0,18.0,34.0,42.0,33.0,46.0,29.0,28.0,21.0,47.0,20.0,70.0,48.0,19.0,40.0,65.0,70.0,23.0,30.0,41.0,44.0,20.0,22.0,53.0,30.0,21.0,41.0,36.0,26.0,42.0,29.0,17.0,59.0,57.0,43.0,21.0,48.0,30.0,45.0,49.0,35.0,29.0,24.0,100.0,47.0,59.0,85.0,42.0,17.0,47.0,90.0,20.0,80.0,50.0,25.0,43.0,23.0,24.0,49.0,42.0,29.0,20.0,40.0,85.0,39.0,50.0,30.0,24.0,27.0,33.0,28.0,38.0,19.0,40.0,55.0,27.0,28.0,69.0,38.0,61.0,50.0,20.0,65.0,40.0,28.0,53.0,25.0,32.0,51.0,40.0,22.0,54.0,57.0,27.0,16.0,20.0,68.0,63.0,52.0,60.0,46.0,24.0,67.0,47.0,22.0,30.0,50.0,42.0,24.0,39.0,31.0,45.0,25.0,50.0,52.0,77.0,68.0,24.0,26.0,52.0,50.0,38.0,54.0,59.0,63.0,60.0,18.0,33.0,30.0,25.0,23.0,36.0,75.0,35.0,44.0,35.0,52.0,45.0,30.0,31.0,20.0,20.0,22.0,16.0,27.0,56.0,23.0,59.0,63.0,39.0,44.0,31.0,16.0,73.0,29.0,75.0,70.0,30.0,44.0,62.0,24.0,23.0,36.0,28.0,43.0,32.0,57.0,23.0,35.0,30.0,37.0,43.0,44.0,22.0,25.0,32.0,24.0,28.0,42.0,50.0,22.0,24.0,18.0,35.0,30.0,29.0,52.0,43.0,45.0,48.0,47.0,33.0,55.0,22.0,78.0,74.0,52.0,24.0,32.0,48.0,38.0,21.0,25.0,22.0,81.0,39.0,70.0,28.0,35.0,46.0,53.0,43.0,82.0,20.0,46.0,29.0,37.0,35.0,48.0,38.0,28.0,28.0,22.0,30.0,31.0,41.0,32.0,30.0,26.0,75.0,35.0,90.0,22.0,60.0,70.0,33.0,35.0,23.0,20.0,34.0,26.0,26.0,32.0,52.0,46.0,55.0,69.0,40.0,23.0,42.0,40.0,32.0,19.0,63.0,35.0,16.0,88.0,48.0,31.0,20.0,26.0,100.0,43.0,40.0,54.0,50.0,21.0,19.0,22.0,26.0,27.0,19.0,34.0,46.0,62.0,26.0,44.0,40.0,30.0,30.0,24.0,55.0,56.0,29.0,30.0,25.0,41.0,18.0,35.0,76.0,49.0,19.0,32.0,17.0,22.0,22.0,42.0,34.0,60.0,50.0,57.0,40.0,45.0,32.0,61.0,50.0,34.0,54.0,55.0,19.0,17.0,27.0,31.0,17.0,20.0,43.0,17.0,55.0,37.0,18.0,46.0,25.0,30.0,28.0,35.0,34.0,45.0,59.0,26.0,30.0,50.0,30.0,55.0,18.0,33.0,17.0,75.0,56.0,27.0,38.0,28.0,32.0,52.0,29.0,17.0,42.0,51.0,30.0,45.0,20.0,26.0,25.0,33.0,22.0,20.0,32.0,54.0,60.0,31.0,77.0,19.0,48.0,35.0,56.0,62.0,54.0,21.0,44.0,29.0,76.0,22.0,45.0,24.0,24.0,52.0,30.0,40.0,61.0,36.0,30.0,30.0,24.0,46.0,50.0,24.0,32.0,22.0,46.0,43.0,22.0,65.0,23.0,34.0,40.0,29.0,33.0,28.0,59.0,24.0,32.0,34.0,22.0,null,null,null,null,null,null,null,null,null,null,72.0,34.0,39.0,60.0,18.0,25.0,58.0,72.0,76.0,33.0,50.0,74.0,45.0,90.0,23.0,26.0,32.0,47.0,18.0,38.0,18.0,29.0,27.0,17.0,25.0,43.0,68.0,48.0,19.0,43.0,62.0,21.0,41.0,42.0,60.0,36.0,60.0,38.0,63.0,17.0,60.0,60.0,28.0,70.0,21.0,30.0,32.0,31.0,38.0,34.0,32.0,34.0,33.0,25.0,35.0,53.0,35.0,25.0,28.0,20.0,28.0,60.0,49.0,30.0,42.0,29.0,51.0,43.0,32.0,64.0,25.0,33.0,18.0,45.0,16.0,40.0,27.0,74.0,23.0,65.0,43.0,26.0,34.0,28.0,38.0,21.0,48.0,30.0,21.0,84.0,22.0,22.0,20.0,20.0,54.0,40.0,25.0,46.0,28.0,31.0,32.0,69.0,23.0,31.0,71.0,42.0,43.0,41.0,24.0,31.0,71.0,18.0,50.0,47.0,30.0,50.0,38.0,22.0,27.0,50.0,27.0,32.0,50.0,66.0,30.0,55.0,70.0,20.0,44.0,43.0,22.0,43.0,40.0,58.0,39.0,35.0,60.0,23.0,28.0,29.0,35.0,35.0,51.0,22.0,21.0,20.0,30.0,21.0,29.0,60.0,33.0,22.0,21.0,58.0,53.0,35.0,37.0,40.0,48.0,43.0,37.0,83.0,38.0,41.0,28.0,25.0,19.0,30.0,16.0,40.0,90.0,48.0,58.0,85.0,42.0,18.0,23.0,27.0,34.0,34.0,58.0,30.0,30.0,28.0,65.0,80.0,31.0,24.0,60.0,60.0,30.0,57.0,17.0,28.0,28.0,36.0,26.0,56.0,25.0,65.0,60.0,22.0,35.0,17.0,37.0,38.0,20.0,66.0,55.0,47.0,29.0,75.0,45.0,30.0,67.0,64.0,40.0,23.0,25.0,28.0,40.0,21.0,40.0,38.0,47.0,39.0,51.0,20.0,40.0,29.0,26.0,41.0,60.0,17.0,16.0,63.0,79.0,23.0,23.0,24.0,30.0,25.0,36.0,58.0,39.0,75.0,35.0,18.0,27.0,19.0,49.0,20.0,24.0,30.0,42.0,78.0,64.0,40.0,24.0,28.0,69.0,25.0,43.0,47.0,19.0,27.0,42.0,53.0,29.0,21.0,27.0,66.0,24.0,58.0,36.0,63.0,24.0,37.0,68.0,37.0,30.0,26.0,37.0,46.0,45.0,63.0,50.0,47.0,25.0,39.0,32.0,29.0,75.0,70.0,68.0,38.0,47.0,23.0,63.0,30.0,24.0,31.0,61.0,20.0,60.0,96.0,28.0,32.0,35.0,34.0,27.0,35.0,29.0,58.0,30.0,49.0,49.0,47.0,65.0,75.0,29.0,69.0,25.0,52.0,16.0,48.0,25.0,32.0,65.0,35.0,25.0,18.0,27.0,78.0,28.0,33.0,45.0,40.0,23.0,18.0,26.0,27.0,32.0,50.0,21.0,20.0,60.0,24.0,30.0,40.0,22.0,24.0,33.0,21.0,27.0,28.0,37.0,34.0,25.0,52.0,49.0,36.0,27.0,36.0,26.0,23.0,34.0,50.0,65.0,22.0,36.0,20.0,42.0,18.0,20.0,36.0,52.0,21.0,26.0,18.0,19.0,32.0,51.0,23.0,67.0,24.0,78.0,48.0,65.0,65.0,35.0,24.0,39.0,68.0,22.0,17.0,68.0,24.0,30.0,24.0,25.0,26.0,25.0,30.0,20.0,56.0,32.0,19.0,65.0,40.0,21.0,29.0,20.0,33.0,29.0,30.0,25.0,25.0,26.0,31.0,50.0,26.0,39.0,63.0,28.0,30.0,25.0,50.0,34.0,35.0,33.0,18.0,33.0,31.0,27.0,35.0,28.0,22.0,25.0,27.0,34.0,29.0,35.0,20.0,50.0,23.0,28.0,29.0,37.0,23.0,76.0,28.0,16.0,60.0,37.0,47.0,23.0,55.0,35.0,39.0,45.0,64.0,51.0,16.0,26.0,45.0,37.0,24.0,20.0,21.0,25.0,40.0,78.0,23.0,55.0,72.0,40.0,31.0,30.0,40.0,80.0,65.0,18.0,27.0,70.0,56.0,18.0,36.0,30.0,42.0,16.0,90.0,36.0,30.0,34.0,21.0,38.0,72.0,37.0,32.0,40.0,40.0,50.0,71.0,66.0,41.0,67.0,73.0,18.0,37.0,51.0,60.0,32.0,29.0,18.0,16.0,29.0,24.0,18.0,43.0,29.0,45.0,23.0,38.0,20.0,33.0,19.0,31.0,54.0,24.0,29.0,35.0,19.0,17.0,27.0,41.0,37.0,71.0,27.0,54.0,22.0,18.0,25.0,32.0,62.0,67.0,16.0,20.0,29.0,42.0,58.0,26.0,71.0,50.0,50.0,25.0,28.0,29.0,64.0,22.0,20.0,19.0,70.0,79.0,41.0,50.0,21.0,39.0,19.0,43.0,40.0,22.0,50.0,38.0,48.0,36.0,49.0,30.0,45.0,23.0,33.0,32.0,23.0,33.0,29.0,38.0,25.0,16.0,33.0,42.0,21.0,20.0,35.0,32.0,38.0,40.0,48.0,22.0,38.0,23.0,56.0,51.0,48.0,18.0,36.0,57.0,25.0,19.0,39.0,50.0,28.0,22.0,23.0,18.0,36.0,25.0,26.0,19.0,25.0,36.0,65.0,20.0,63.0,26.0,21.0,31.0,35.0,33.0,48.0,70.0,18.0,77.0,35.0,23.0,30.0,21.0,56.0,22.0,33.0,28.0,16.0,25.0,28.0,54.0,25.0,18.0,33.0,40.0,85.0,50.0,20.0,26.0,18.0,31.0,19.0,24.0,40.0,30.0,21.0,25.0,20.0,28.0,28.0,45.0,19.0,40.0,16.0,18.0,19.0,22.0,25.0,24.0,21.0,65.0,22.0,44.0,39.0,28.0,30.0,38.0,45.0,22.0,33.0,19.0,38.0,32.0,23.0,84.0,47.0,20.0,34.0,60.0,37.0,31.0,32.0,75.0,60.0,44.0,21.0,57.0,16.0,18.0,22.0,28.0,44.0,28.0,23.0,45.0,39.0,68.0,75.0,62.0,17.0,47.0,20.0,57.0,18.0,62.0,35.0,35.0,58.0,22.0,53.0,19.0,36.0,35.0,35.0,35.0,31.0,65.0,18.0,53.0,48.0,60.0,36.0,25.0,65.0,32.0,29.0,53.0,62.0,40.0,40.0,30.0,22.0,35.0,52.0,21.0,32.0,21.0,31.0,32.0,60.0,56.0,21.0,18.0,90.0,24.0,48.0,68.0,21.0,78.0,46.0,30.0,23.0,16.0,42.0,16.0,39.0,26.0,65.0,52.0,23.0,16.0,65.0,22.0,25.0,39.0,30.0,17.0,34.0,21.0,50.0,29.0,50.0,60.0,45.0,60.0,30.0,40.0,35.0,34.0,35.0,19.0,63.0,20.0,21.0,34.0,30.0,23.0,18.0,29.0,16.0,45.0,31.0,18.0,35.0,20.0,65.0,20.0,41.0,32.0,16.0,21.0,54.0,20.0,31.0,20.0,30.0,39.0,60.0,25.0,31.0,65.0,29.0,50.0,60.0,37.0,17.0,54.0,80.0,48.0,40.0,51.0,34.0,20.0,31.0,40.0,22.0,38.0,39.0,24.0,23.0,68.0,25.0,48.0,26.0,23.0,29.0,25.0,37.0,24.0,25.0,50.0,18.0,79.0,65.0,19.0,45.0,44.0,56.0,49.0,19.0,45.0,42.0,27.0,56.0,28.0,20.0,60.0,31.0,39.0,25.0,30.0,47.0,36.0,21.0,23.0,30.0,24.0,28.0,16.0,20.0,45.0,52.0,31.0,35.0,60.0,75.0,24.0,32.0,43.0,23.0,23.0,25.0,50.0,18.0,30.0,65.0,52.0,23.0,38.0,25.0,19.0,20.0,59.0,33.0,43.0,28.0,21.0,43.0,45.0,25.0,40.0,39.0,43.0,20.0,48.0,53.0,44.0,33.0,20.0,22.0,28.0,50.0,38.0,30.0,17.0,22.0,52.0,65.0,30.0,25.0,41.0,21.0,51.0,34.0,56.0,45.0,66.0,40.0,18.0,64.0,39.0,37.0,24.0,28.0,30.0,23.0,32.0,24.0,32.0,35.0,50.0,30.0,33.0,23.0,26.0,23.0,22.0,64.0,53.0,22.0,48.0,75.0,23.0,45.0,20.0,70.0,23.0,21.0,65.0,29.0,54.0,21.0,32.0,58.0,19.0,28.0,63.0,36.0,30.0,28.0,63.0,23.0,58.0,65.0,67.0,19.0,46.0,55.0,26.0,32.0,28.0,24.0,20.0,23.0,32.0,24.0,40.0,49.0,30.0,49.0,30.0,35.0,30.0,39.0,30.0,17.0,19.0,70.0,48.0,60.0,30.0,45.0,30.0,50.0,30.0,31.0,25.0,47.0,63.0,19.0,21.0,24.0,65.0,27.0,33.0,28.0,34.0,59.0,58.0,65.0,31.0,20.0,30.0,22.0,50.0,35.0,50.0,40.0,43.0,76.0,29.0,17.0,32.0,52.0,32.0,42.0,34.0,64.0,50.0,26.0,79.0,31.0,24.0,24.0,64.0,98.0,42.0,25.0,28.0,21.0,30.0,38.0,32.0,71.0,38.0,33.0,41.0,26.0,32.0,40.0,40.0,25.0,22.0,35.0,25.0,29.0,21.0,23.0,22.0,40.0,67.0,26.0,40.0,49.0,38.0,16.0,17.0,28.0,58.0,28.0,24.0,37.0,40.0,33.0,40.0,73.0,32.0,45.0,43.0,65.0,29.0,30.0,30.0,30.0,80.0,17.0,27.0,38.0,24.0,30.0,25.0,26.0,30.0,35.0,73.0,60.0,29.0,16.0,30.0,20.0,36.0,45.0,27.0,50.0,45.0,20.0,56.0,38.0,24.0,27.0,40.0,35.0,65.0,24.0,26.0,60.0,58.0,25.0,16.0,35.0,19.0,18.0,26.0,45.0,20.0,44.0,70.0,66.0,27.0,17.0,49.0,36.0,32.0,31.0,58.0,23.0,62.0,75.0,50.0,33.0,35.0,40.0,54.0,21.0,36.0,65.0,23.0,47.0,19.0,33.0,32.0,28.0,18.0,26.0,50.0,64.0,30.0,22.0,21.0,39.0,30.0,39.0,22.0,30.0,18.0,31.0,18.0,18.0,38.0,25.0,18.0,40.0,18.0,19.0,28.0,65.0,38.0,32.0,20.0,30.0,18.0,25.0,40.0,35.0,30.0,19.0,28.0,40.0,65.0,41.0,32.0,23.0,21.0,28.0,22.0,22.0,24.0,45.0,20.0,43.0,23.0,46.0,31.0,32.0,49.0,43.0,25.0,35.0,31.0,28.0,19.0,25.0,38.0,35.0,26.0,52.0,50.0,43.0,21.0,20.0,29.0,35.0,34.0,29.0,18.0,24.0,58.0,25.0,29.0,41.0,44.0,30.0,20.0,25.0,48.0,49.0,25.0,20.0,47.0,33.0,42.0,19.0,30.0,35.0,26.0,25.0,40.0,20.0,20.0,42.0,30.0,18.0,22.0,19.0,20.0,46.0,43.0,36.0,16.0,23.0,28.0,48.0,36.0,28.0,22.0,45.0,30.0,45.0,53.0,40.0,47.0,75.0,32.0,28.0,67.0,28.0,28.0,25.0,28.0,40.0,54.0,54.0,30.0,23.0,24.0,25.0,27.0,48.0,20.0,38.0,48.0,22.0,27.0,45.0,24.0,48.0,25.0,20.0,29.0,27.0,23.0,21.0,30.0,43.0,40.0,21.0,16.0,50.0,43.0,45.0,22.0,19.0,50.0,16.0,24.0,24.0,30.0,25.0,20.0,21.0,32.0,23.0,29.0,24.0,50.0,29.0,30.0,81.0,44.0,65.0,25.0,43.0,69.0,32.0,35.0,19.0,34.0,40.0,23.0,43.0,24.0,23.0,30.0,30.0,17.0,25.0,54.0,30.0,53.0,30.0,39.0,80.0,60.0,20.0,32.0,16.0,32.0,18.0,50.0,30.0,55.0,48.0,22.0,24.0,52.0,53.0,35.0,71.0,20.0,29.0,37.0,36.0,16.0,28.0,79.0,60.0,22.0,18.0,37.0,54.0,30.0,32.0,19.0,37.0,69.0,23.0,20.0,22.0,28.0,30.0,27.0,26.0,24.0,35.0,19.0,44.0,45.0,17.0,28.0,28.0,24.0,33.0,18.0,54.0,46.0,50.0,27.0,31.0,40.0,33.0,32.0,45.0,24.0,19.0,27.0,28.0,60.0,68.0,49.0,33.0,26.0,28.0,33.0,70.0,16.0,60.0,23.0,33.0,53.0,39.0,52.0,31.0,35.0,27.0,40.0,21.0,40.0,40.0,30.0,39.0,40.0,21.0,33.0,30.0,38.0,25.0,61.0,37.0,32.0,69.0,19.0,32.0,24.0,19.0,37.0,48.0,44.0,30.0,42.0,30.0,37.0,22.0,25.0,36.0,40.0,36.0,17.0,37.0,68.0,38.0,40.0,51.0,27.0,29.0,60.0,21.0,35.0,18.0,47.0,21.0,22.0,20.0,55.0,50.0,34.0,18.0,42.0,43.0,34.0,22.0,23.0,23.0,51.0,33.0,55.0,24.0,35.0,30.0,22.0,28.0,25.0,18.0,40.0,22.0,46.0,29.0,70.0,42.0,55.0,50.0,21.0,58.0,39.0,47.0,65.0,17.0,28.0,44.0,29.0,17.0,75.0,19.0,26.0,18.0,18.0,17.0,28.0,19.0,33.0,49.0,52.0,25.0,32.0,50.0,29.0,18.0,36.0,23.0,65.0,33.0,33.0,39.0,56.0,23.0,51.0,24.0,33.0,24.0,20.0,27.0,22.0,39.0,50.0,63.0,70.0,20.0,41.0,25.0,27.0,25.0,45.0,45.0,38.0,22.0,26.0,48.0,17.0,52.0,41.0,24.0,32.0,22.0,72.0,24.0,18.0,65.0,23.0,54.0,40.0,45.0,22.0,45.0,29.0,34.0,27.0,60.0,29.0,42.0,32.0,40.0,45.0,20.0,38.0,24.0,23.0,29.0,30.0,16.0,35.0,45.0,70.0,37.0,37.0,28.0,26.0,25.0,25.0,29.0,18.0,21.0,73.0,44.0,73.0,55.0,60.0,25.0,34.0,37.0,30.0,24.0,65.0,23.0,52.0,45.0,65.0,30.0,31.0,60.0,45.0,32.0,25.0,19.0,19.0,25.0,25.0,27.0,20.0,51.0,40.0,24.0,40.0,60.0,32.0,51.0,30.0,79.0,43.0,28.0,34.0,23.0,32.0,28.0,62.0,30.0,19.0,38.0,33.0,30.0,28.0,24.0,67.0,31.0,59.0,30.0,36.0,74.0,25.0,21.0,50.0,40.0,51.0,55.0,75.0,38.0,29.0,27.0,59.0,45.0,78.0,32.0,68.0,65.0,22.0,33.0,65.0,33.0,65.0,42.0,20.0,52.0,27.0,20.0,50.0,17.0,51.0,43.0,32.0,24.0,21.0,27.0,53.0,27.0,23.0,30.0,38.0,24.0,34.0,65.0,36.0,38.0,24.0,40.0,21.0,20.0,20.0,45.0,24.0,17.0,61.0,45.0,23.0,60.0,26.0,42.0,16.0,27.0,32.0,19.0,21.0,36.0,38.0,22.0,26.0,25.0,28.0,30.0,56.0,45.0,42.0,40.0,37.0,16.0,42.0,27.0,25.0,20.0,65.0,20.0,56.0,29.0,26.0,23.0,30.0,25.0,51.0,40.0,20.0,50.0,46.0,23.0,48.0,33.0,34.0,55.0,27.0,16.0,35.0,27.0,28.0,65.0,38.0,20.0,58.0,53.0,21.0,29.0,60.0,33.0,17.0,27.0,24.0,39.0,34.0,28.0,45.0,65.0,20.0,29.0,45.0,36.0,48.0,48.0,49.0,48.0,21.0,18.0,35.0,19.0,36.0,32.0,17.0,30.0,51.0,28.0,54.0,30.0,18.0,36.0,21.0,44.0,19.0,34.0,38.0,30.0,20.0,47.0,43.0,26.0,19.0,61.0,64.0,48.0,18.0,16.0,24.0,21.0,28.0,52.0,25.0,73.0,55.0,54.0,24.0,48.0,30.0,59.0,30.0,30.0,16.0,22.0,18.0,24.0,21.0,56.0,80.0,47.0,36.0,28.0,30.0,43.0,28.0,20.0,20.0,35.0,26.0,26.0,58.0,23.0,54.0,19.0,22.0,25.0,25.0,47.0,18.0,60.0,18.0,41.0,50.0,46.0,32.0,24.0,24.0,25.0,33.0,38.0,95.0,29.0,39.0,46.0,25.0,44.0,40.0,32.0,20.0,78.0,34.0,43.0,45.0,24.0,25.0,39.0,60.0,41.0,58.0,35.0,30.0,25.0,28.0,25.0,39.0,48.0,26.0,43.0,25.0,28.0,78.0,37.0,18.0,20.0,45.0,30.0,45.0,17.0,32.0,19.0,32.0,45.0,20.0,46.0,50.0,28.0,31.0,58.0,23.0,19.0,27.0,28.0,60.0,45.0,62.0,40.0,23.0,50.0,98.0,29.0,18.0,25.0,43.0,26.0,37.0,19.0,52.0,30.0,21.0,21.0,49.0,21.0,55.0,20.0,19.0,32.0,40.0,20.0,18.0,60.0,38.0,22.0,54.0,34.0,65.0,34.0,17.0,19.0,21.0,47.0,19.0,26.0,20.0,55.0,45.0,52.0,16.0,39.0,40.0,43.0,30.0,33.0,23.0,22.0,55.0,44.0,36.0,35.0,25.0,38.0,30.0,64.0,36.0,40.0,19.0,28.0,20.0,26.0,18.0,26.0,28.0,27.0,21.0,70.0,32.0,32.0,19.0,26.0,38.0,17.0,19.0,27.0,27.0,43.0,45.0,65.0,48.0,25.0,34.0,24.0,38.0,31.0,49.0,23.0,65.0,20.0,23.0,27.0,60.0,28.0,35.0,50.0,34.0,16.0,73.0,44.0,25.0,21.0,23.0,28.0,64.0,48.0,23.0,46.0,25.0,19.0,38.0,60.0,25.0,27.0,29.0,56.0,26.0,56.0,23.0,48.0,46.0,18.0,28.0,35.0,21.0,32.0,24.0,19.0,22.0,24.0,42.0,19.0,52.0,26.0,20.0,30.0,28.0,53.0,25.0,32.0,33.0,23.0,51.0,33.0,44.0,65.0,18.0,21.0,33.0,53.0,25.0,18.0,70.0,30.0,32.0,19.0,27.0,26.0,19.0,34.0,64.0,51.0,45.0,18.0,19.0,20.0,30.0,19.0,22.0,46.0,20.0,38.0,36.0,30.0,80.0,34.0,32.0,37.0,47.0,55.0,20.0,17.0,55.0,26.0,31.0,28.0,45.0,22.0,23.0,47.0,20.0,18.0,46.0,23.0,38.0,38.0,18.0,40.0,20.0,25.0,16.0,27.0,25.0,49.0,45.0,43.0,23.0,39.0,18.0,22.0,22.0,30.0,31.0,29.0,39.0,35.0,38.0,40.0,35.0,30.0,29.0,45.0,58.0,31.0,33.0,17.0,40.0,37.0,17.0,18.0,32.0,45.0,29.0,35.0,29.0,45.0,25.0,64.0,23.0,32.0,21.0,16.0,25.0,52.0,32.0,26.0,59.0,37.0,50.0,33.0,19.0,51.0,25.0,26.0,31.0,43.0,20.0,39.0,50.0,43.0,21.0,44.0,25.0,60.0,20.0,24.0,19.0,49.0,53.0,60.0,20.0,55.0,35.0,23.0,20.0,21.0,24.0,54.0,19.0,22.0,26.0,25.0,21.0,30.0,34.0,16.0,25.0,50.0,25.0,65.0,23.0,27.0,23.0,24.0,19.0,16.0,35.0,21.0,32.0,16.0,36.0,86.0,21.0,65.0,39.0,50.0,18.0,50.0,60.0,52.0,50.0,18.0,18.0,35.0,40.0,60.0,30.0,28.0,24.0,18.0,35.0,48.0,29.0,28.0,27.0,34.0,40.0,82.0,34.0,32.0,20.0,43.0,18.0,28.0,61.0,20.0,18.0,31.0,17.0,23.0,25.0,57.0,26.0,21.0,85.0,27.0,48.0,79.0,25.0,19.0,25.0,18.0,22.0,25.0,29.0,20.0,26.0,37.0,28.0,19.0,24.0,41.0,90.0,28.0,28.0,23.0,23.0,29.0,22.0,46.0,50.0,32.0,43.0,16.0,80.0,19.0,20.0,28.0,16.0,39.0,60.0,35.0,59.0,24.0,24.0,31.0,29.0,23.0,22.0,18.0,40.0,52.0,65.0,20.0,34.0,65.0,29.0,17.0,54.0,26.0,60.0,48.0,47.0,19.0,26.0,26.0,38.0,68.0,58.0,20.0,25.0,26.0,48.0,16.0,49.0,24.0,30.0,42.0,31.0,42.0,17.0,44.0,28.0,24.0,30.0,35.0,23.0,36.0,65.0,25.0,28.0,18.0,37.0,20.0,30.0,34.0,40.0,32.0,52.0,28.0,49.0,26.0,28.0,25.0,21.0,60.0,74.0,26.0,16.0,26.0,22.0,17.0,40.0,24.0,45.0,22.0,28.0,65.0,20.0,30.0,19.0,57.0,26.0,24.0,16.0,35.0,16.0,20.0,48.0,27.0,27.0,30.0,20.0],\"x0\":\" \",\"xaxis\":\"x\",\"y0\":\" \",\"yaxis\":\"y\",\"type\":\"box\"}],                        {\"template\":{\"data\":{\"bar\":[{\"error_x\":{\"color\":\"#2a3f5f\"},\"error_y\":{\"color\":\"#2a3f5f\"},\"marker\":{\"line\":{\"color\":\"#E5ECF6\",\"width\":0.5},\"pattern\":{\"fillmode\":\"overlay\",\"size\":10,\"solidity\":0.2}},\"type\":\"bar\"}],\"barpolar\":[{\"marker\":{\"line\":{\"color\":\"#E5ECF6\",\"width\":0.5},\"pattern\":{\"fillmode\":\"overlay\",\"size\":10,\"solidity\":0.2}},\"type\":\"barpolar\"}],\"carpet\":[{\"aaxis\":{\"endlinecolor\":\"#2a3f5f\",\"gridcolor\":\"white\",\"linecolor\":\"white\",\"minorgridcolor\":\"white\",\"startlinecolor\":\"#2a3f5f\"},\"baxis\":{\"endlinecolor\":\"#2a3f5f\",\"gridcolor\":\"white\",\"linecolor\":\"white\",\"minorgridcolor\":\"white\",\"startlinecolor\":\"#2a3f5f\"},\"type\":\"carpet\"}],\"choropleth\":[{\"colorbar\":{\"outlinewidth\":0,\"ticks\":\"\"},\"type\":\"choropleth\"}],\"contour\":[{\"colorbar\":{\"outlinewidth\":0,\"ticks\":\"\"},\"colorscale\":[[0.0,\"#0d0887\"],[0.1111111111111111,\"#46039f\"],[0.2222222222222222,\"#7201a8\"],[0.3333333333333333,\"#9c179e\"],[0.4444444444444444,\"#bd3786\"],[0.5555555555555556,\"#d8576b\"],[0.6666666666666666,\"#ed7953\"],[0.7777777777777778,\"#fb9f3a\"],[0.8888888888888888,\"#fdca26\"],[1.0,\"#f0f921\"]],\"type\":\"contour\"}],\"contourcarpet\":[{\"colorbar\":{\"outlinewidth\":0,\"ticks\":\"\"},\"type\":\"contourcarpet\"}],\"heatmap\":[{\"colorbar\":{\"outlinewidth\":0,\"ticks\":\"\"},\"colorscale\":[[0.0,\"#0d0887\"],[0.1111111111111111,\"#46039f\"],[0.2222222222222222,\"#7201a8\"],[0.3333333333333333,\"#9c179e\"],[0.4444444444444444,\"#bd3786\"],[0.5555555555555556,\"#d8576b\"],[0.6666666666666666,\"#ed7953\"],[0.7777777777777778,\"#fb9f3a\"],[0.8888888888888888,\"#fdca26\"],[1.0,\"#f0f921\"]],\"type\":\"heatmap\"}],\"heatmapgl\":[{\"colorbar\":{\"outlinewidth\":0,\"ticks\":\"\"},\"colorscale\":[[0.0,\"#0d0887\"],[0.1111111111111111,\"#46039f\"],[0.2222222222222222,\"#7201a8\"],[0.3333333333333333,\"#9c179e\"],[0.4444444444444444,\"#bd3786\"],[0.5555555555555556,\"#d8576b\"],[0.6666666666666666,\"#ed7953\"],[0.7777777777777778,\"#fb9f3a\"],[0.8888888888888888,\"#fdca26\"],[1.0,\"#f0f921\"]],\"type\":\"heatmapgl\"}],\"histogram\":[{\"marker\":{\"pattern\":{\"fillmode\":\"overlay\",\"size\":10,\"solidity\":0.2}},\"type\":\"histogram\"}],\"histogram2d\":[{\"colorbar\":{\"outlinewidth\":0,\"ticks\":\"\"},\"colorscale\":[[0.0,\"#0d0887\"],[0.1111111111111111,\"#46039f\"],[0.2222222222222222,\"#7201a8\"],[0.3333333333333333,\"#9c179e\"],[0.4444444444444444,\"#bd3786\"],[0.5555555555555556,\"#d8576b\"],[0.6666666666666666,\"#ed7953\"],[0.7777777777777778,\"#fb9f3a\"],[0.8888888888888888,\"#fdca26\"],[1.0,\"#f0f921\"]],\"type\":\"histogram2d\"}],\"histogram2dcontour\":[{\"colorbar\":{\"outlinewidth\":0,\"ticks\":\"\"},\"colorscale\":[[0.0,\"#0d0887\"],[0.1111111111111111,\"#46039f\"],[0.2222222222222222,\"#7201a8\"],[0.3333333333333333,\"#9c179e\"],[0.4444444444444444,\"#bd3786\"],[0.5555555555555556,\"#d8576b\"],[0.6666666666666666,\"#ed7953\"],[0.7777777777777778,\"#fb9f3a\"],[0.8888888888888888,\"#fdca26\"],[1.0,\"#f0f921\"]],\"type\":\"histogram2dcontour\"}],\"mesh3d\":[{\"colorbar\":{\"outlinewidth\":0,\"ticks\":\"\"},\"type\":\"mesh3d\"}],\"parcoords\":[{\"line\":{\"colorbar\":{\"outlinewidth\":0,\"ticks\":\"\"}},\"type\":\"parcoords\"}],\"pie\":[{\"automargin\":true,\"type\":\"pie\"}],\"scatter\":[{\"marker\":{\"colorbar\":{\"outlinewidth\":0,\"ticks\":\"\"}},\"type\":\"scatter\"}],\"scatter3d\":[{\"line\":{\"colorbar\":{\"outlinewidth\":0,\"ticks\":\"\"}},\"marker\":{\"colorbar\":{\"outlinewidth\":0,\"ticks\":\"\"}},\"type\":\"scatter3d\"}],\"scattercarpet\":[{\"marker\":{\"colorbar\":{\"outlinewidth\":0,\"ticks\":\"\"}},\"type\":\"scattercarpet\"}],\"scattergeo\":[{\"marker\":{\"colorbar\":{\"outlinewidth\":0,\"ticks\":\"\"}},\"type\":\"scattergeo\"}],\"scattergl\":[{\"marker\":{\"colorbar\":{\"outlinewidth\":0,\"ticks\":\"\"}},\"type\":\"scattergl\"}],\"scattermapbox\":[{\"marker\":{\"colorbar\":{\"outlinewidth\":0,\"ticks\":\"\"}},\"type\":\"scattermapbox\"}],\"scatterpolar\":[{\"marker\":{\"colorbar\":{\"outlinewidth\":0,\"ticks\":\"\"}},\"type\":\"scatterpolar\"}],\"scatterpolargl\":[{\"marker\":{\"colorbar\":{\"outlinewidth\":0,\"ticks\":\"\"}},\"type\":\"scatterpolargl\"}],\"scatterternary\":[{\"marker\":{\"colorbar\":{\"outlinewidth\":0,\"ticks\":\"\"}},\"type\":\"scatterternary\"}],\"surface\":[{\"colorbar\":{\"outlinewidth\":0,\"ticks\":\"\"},\"colorscale\":[[0.0,\"#0d0887\"],[0.1111111111111111,\"#46039f\"],[0.2222222222222222,\"#7201a8\"],[0.3333333333333333,\"#9c179e\"],[0.4444444444444444,\"#bd3786\"],[0.5555555555555556,\"#d8576b\"],[0.6666666666666666,\"#ed7953\"],[0.7777777777777778,\"#fb9f3a\"],[0.8888888888888888,\"#fdca26\"],[1.0,\"#f0f921\"]],\"type\":\"surface\"}],\"table\":[{\"cells\":{\"fill\":{\"color\":\"#EBF0F8\"},\"line\":{\"color\":\"white\"}},\"header\":{\"fill\":{\"color\":\"#C8D4E3\"},\"line\":{\"color\":\"white\"}},\"type\":\"table\"}]},\"layout\":{\"annotationdefaults\":{\"arrowcolor\":\"#2a3f5f\",\"arrowhead\":0,\"arrowwidth\":1},\"autotypenumbers\":\"strict\",\"coloraxis\":{\"colorbar\":{\"outlinewidth\":0,\"ticks\":\"\"}},\"colorscale\":{\"diverging\":[[0,\"#8e0152\"],[0.1,\"#c51b7d\"],[0.2,\"#de77ae\"],[0.3,\"#f1b6da\"],[0.4,\"#fde0ef\"],[0.5,\"#f7f7f7\"],[0.6,\"#e6f5d0\"],[0.7,\"#b8e186\"],[0.8,\"#7fbc41\"],[0.9,\"#4d9221\"],[1,\"#276419\"]],\"sequential\":[[0.0,\"#0d0887\"],[0.1111111111111111,\"#46039f\"],[0.2222222222222222,\"#7201a8\"],[0.3333333333333333,\"#9c179e\"],[0.4444444444444444,\"#bd3786\"],[0.5555555555555556,\"#d8576b\"],[0.6666666666666666,\"#ed7953\"],[0.7777777777777778,\"#fb9f3a\"],[0.8888888888888888,\"#fdca26\"],[1.0,\"#f0f921\"]],\"sequentialminus\":[[0.0,\"#0d0887\"],[0.1111111111111111,\"#46039f\"],[0.2222222222222222,\"#7201a8\"],[0.3333333333333333,\"#9c179e\"],[0.4444444444444444,\"#bd3786\"],[0.5555555555555556,\"#d8576b\"],[0.6666666666666666,\"#ed7953\"],[0.7777777777777778,\"#fb9f3a\"],[0.8888888888888888,\"#fdca26\"],[1.0,\"#f0f921\"]]},\"colorway\":[\"#636efa\",\"#EF553B\",\"#00cc96\",\"#ab63fa\",\"#FFA15A\",\"#19d3f3\",\"#FF6692\",\"#B6E880\",\"#FF97FF\",\"#FECB52\"],\"font\":{\"color\":\"#2a3f5f\"},\"geo\":{\"bgcolor\":\"white\",\"lakecolor\":\"white\",\"landcolor\":\"#E5ECF6\",\"showlakes\":true,\"showland\":true,\"subunitcolor\":\"white\"},\"hoverlabel\":{\"align\":\"left\"},\"hovermode\":\"closest\",\"mapbox\":{\"style\":\"light\"},\"paper_bgcolor\":\"white\",\"plot_bgcolor\":\"#E5ECF6\",\"polar\":{\"angularaxis\":{\"gridcolor\":\"white\",\"linecolor\":\"white\",\"ticks\":\"\"},\"bgcolor\":\"#E5ECF6\",\"radialaxis\":{\"gridcolor\":\"white\",\"linecolor\":\"white\",\"ticks\":\"\"}},\"scene\":{\"xaxis\":{\"backgroundcolor\":\"#E5ECF6\",\"gridcolor\":\"white\",\"gridwidth\":2,\"linecolor\":\"white\",\"showbackground\":true,\"ticks\":\"\",\"zerolinecolor\":\"white\"},\"yaxis\":{\"backgroundcolor\":\"#E5ECF6\",\"gridcolor\":\"white\",\"gridwidth\":2,\"linecolor\":\"white\",\"showbackground\":true,\"ticks\":\"\",\"zerolinecolor\":\"white\"},\"zaxis\":{\"backgroundcolor\":\"#E5ECF6\",\"gridcolor\":\"white\",\"gridwidth\":2,\"linecolor\":\"white\",\"showbackground\":true,\"ticks\":\"\",\"zerolinecolor\":\"white\"}},\"shapedefaults\":{\"line\":{\"color\":\"#2a3f5f\"}},\"ternary\":{\"aaxis\":{\"gridcolor\":\"white\",\"linecolor\":\"white\",\"ticks\":\"\"},\"baxis\":{\"gridcolor\":\"white\",\"linecolor\":\"white\",\"ticks\":\"\"},\"bgcolor\":\"#E5ECF6\",\"caxis\":{\"gridcolor\":\"white\",\"linecolor\":\"white\",\"ticks\":\"\"}},\"title\":{\"x\":0.05},\"xaxis\":{\"automargin\":true,\"gridcolor\":\"white\",\"linecolor\":\"white\",\"ticks\":\"\",\"title\":{\"standoff\":15},\"zerolinecolor\":\"white\",\"zerolinewidth\":2},\"yaxis\":{\"automargin\":true,\"gridcolor\":\"white\",\"linecolor\":\"white\",\"ticks\":\"\",\"title\":{\"standoff\":15},\"zerolinecolor\":\"white\",\"zerolinewidth\":2}}},\"xaxis\":{\"anchor\":\"y\",\"domain\":[0.0,1.0],\"title\":{\"text\":\"respondent_age\"}},\"yaxis\":{\"anchor\":\"x\",\"domain\":[0.0,1.0]},\"legend\":{\"tracegroupgap\":0},\"margin\":{\"t\":60},\"boxmode\":\"group\",\"title\":{\"text\":\"Checking for Outliers in respondent age column\"},\"height\":800,\"width\":900},                        {\"responsive\": true}                    ).then(function(){\n",
              "                            \n",
              "var gd = document.getElementById('3d2c66ca-9b65-4ecd-8447-20171e8033ee');\n",
              "var x = new MutationObserver(function (mutations, observer) {{\n",
              "        var display = window.getComputedStyle(gd).display;\n",
              "        if (!display || display === 'none') {{\n",
              "            console.log([gd, 'removed!']);\n",
              "            Plotly.purge(gd);\n",
              "            observer.disconnect();\n",
              "        }}\n",
              "}});\n",
              "\n",
              "// Listen for the removal of the full notebook cells\n",
              "var notebookContainer = gd.closest('#notebook-container');\n",
              "if (notebookContainer) {{\n",
              "    x.observe(notebookContainer, {childList: true});\n",
              "}}\n",
              "\n",
              "// Listen for the clearing of the current output cell\n",
              "var outputEl = gd.closest('.output');\n",
              "if (outputEl) {{\n",
              "    x.observe(outputEl, {childList: true});\n",
              "}}\n",
              "\n",
              "                        })                };                            </script>        </div>\n",
              "</body>\n",
              "</html>"
            ]
          },
          "metadata": {}
        }
      ]
    },
    {
      "cell_type": "markdown",
      "source": [
        "**Observation**\n",
        "\n",
        "The boxplot shows that is positively skewed as the median is closer to the bottom of the box"
      ],
      "metadata": {
        "id": "dxaNiMOjf-D-"
      }
    },
    {
      "cell_type": "code",
      "source": [
        "#Checking the unique values in the year column\n",
        "Financial.year.unique()"
      ],
      "metadata": {
        "colab": {
          "base_uri": "https://localhost:8080/"
        },
        "id": "YbgcDr9qhjWG",
        "outputId": "003c3276-8266-434f-f439-0e0a4137d47e"
      },
      "execution_count": null,
      "outputs": [
        {
          "output_type": "execute_result",
          "data": {
            "text/plain": [
              "array([2018, 2029, 2056, 2016, 2039, 2017])"
            ]
          },
          "metadata": {},
          "execution_count": 19
        }
      ]
    },
    {
      "cell_type": "code",
      "source": [
        "#Deleting the year values that are greater than 2018 and saving it as an integer\n",
        "column_to_delete = Financial[ (Financial['year']>2018)].index\n",
        "column_to_delete"
      ],
      "metadata": {
        "colab": {
          "base_uri": "https://localhost:8080/"
        },
        "id": "Fj_e0tpmf9Yu",
        "outputId": "19970532-64fc-4f73-9b22-c5e4080de12c"
      },
      "execution_count": null,
      "outputs": [
        {
          "output_type": "execute_result",
          "data": {
            "text/plain": [
              "Int64Index([213, 308, 7014], dtype='int64')"
            ]
          },
          "metadata": {},
          "execution_count": 20
        }
      ]
    },
    {
      "cell_type": "code",
      "source": [
        "Financial['country'].value_counts()"
      ],
      "metadata": {
        "colab": {
          "base_uri": "https://localhost:8080/"
        },
        "id": "T6dpmr8jkbCS",
        "outputId": "0c8c1055-f74b-45c0-c4dc-32f1ff0ef984"
      },
      "execution_count": null,
      "outputs": [
        {
          "output_type": "execute_result",
          "data": {
            "text/plain": [
              "Rwanda      8735\n",
              "Tanzania    6606\n",
              "Kenya       6068\n",
              "Uganda      2101\n",
              "Name: country, dtype: int64"
            ]
          },
          "metadata": {},
          "execution_count": 21
        }
      ]
    },
    {
      "cell_type": "code",
      "source": [
        "# Checking the unique values in our categorical variables\n",
        "Financial = Financial[['country','year','uniqueid','has_a_bank_account','type_of_Location','cell_phone_access','household_size','respondent_age','gender_of_respondent',\n",
        "                       'the_relatioship_with_head','marital_status','level_of_education','type_of_Job']]\n",
        "\n",
        "for i in Financial.columns:\n",
        "    print(Financial[i].unique())"
      ],
      "metadata": {
        "colab": {
          "base_uri": "https://localhost:8080/"
        },
        "id": "qLaLOJSqpg-S",
        "outputId": "520c6956-0476-44dc-a8e9-cd4323f2acfc"
      },
      "execution_count": null,
      "outputs": [
        {
          "output_type": "stream",
          "name": "stdout",
          "text": [
            "['Kenya' 'Rwanda' 'Tanzania' nan 'Uganda']\n",
            "[2018 2029 2056 2016 2039 2017]\n",
            "['uniqueid_1' 'uniqueid_2' 'uniqueid_3' ... 'uniqueid_8757'\n",
            " 'uniqueid_8758' 'uniqueid_8759']\n",
            "['Yes' 'No' nan]\n",
            "['Rural' 'Urban' nan]\n",
            "['Yes' 'No' nan]\n",
            "[ 3.  5.  8.  7.  1.  6.  4. 10.  2. 11.  9. 12. 16. 15. 13. 14. 21. nan\n",
            "  0. 18. 17. 20.]\n",
            "[ 24.  70.  26.  34.  32.  42.  54.  76.  40.  69.  64.  31.  38.  47.\n",
            "  27.  48.  25.  21.  18.  22.  58.  55.  62.  29.  35.  45.  67.  19.\n",
            "  80.  66.  50.  33.  28.  51.  16.  17.  30.  37.  59.  65.  46.  56.\n",
            "  52.  23.  43.  49.  44.  72.  53.  63.  39.  81.  78.  36.  20.  60.\n",
            "  95.  71.  57.  85.  68.  41.  61.  75.  86.  73.  nan  93.  74.  88.\n",
            "  90.  77.  84.  82.  89.  79.  83.  94.  87.  92.  91.  98.  97.  96.\n",
            "  99. 100.]\n",
            "['Female' 'Male' nan]\n",
            "['Spouse' 'Head of Household' 'Other relative' 'Child' 'Parent'\n",
            " 'Other non-relatives' nan]\n",
            "['Married/Living together' 'Widowed' 'Single/Never Married'\n",
            " 'Divorced/Seperated' 'Dont know' nan]\n",
            "['Secondary education' 'No formal education'\n",
            " 'Vocational/Specialised training' 'Primary education'\n",
            " 'Tertiary education' 'Other/Dont know/RTA' '6' nan]\n",
            "['Self employed' 'Government Dependent' 'Formally employed Private'\n",
            " 'Informally employed' 'Formally employed Government'\n",
            " 'Farming and Fishing' 'Remittance Dependent' 'Other Income'\n",
            " 'Dont Know/Refuse to answer' nan 'No Income']\n"
          ]
        }
      ]
    },
    {
      "cell_type": "code",
      "source": [
        "Financial.info()"
      ],
      "metadata": {
        "colab": {
          "base_uri": "https://localhost:8080/"
        },
        "id": "As6jETCFiFrN",
        "outputId": "b8a5586d-8fb6-4c12-815e-f290fe655e1c"
      },
      "execution_count": null,
      "outputs": [
        {
          "output_type": "stream",
          "name": "stdout",
          "text": [
            "<class 'pandas.core.frame.DataFrame'>\n",
            "RangeIndex: 23524 entries, 0 to 23523\n",
            "Data columns (total 13 columns):\n",
            " #   Column                     Non-Null Count  Dtype  \n",
            "---  ------                     --------------  -----  \n",
            " 0   country                    23510 non-null  object \n",
            " 1   year                       23524 non-null  int64  \n",
            " 2   uniqueid                   23524 non-null  object \n",
            " 3   has_a_bank_account         23488 non-null  object \n",
            " 4   type_of_Location           23509 non-null  object \n",
            " 5   cell_phone_access          23513 non-null  object \n",
            " 6   household_size             23496 non-null  float64\n",
            " 7   respondent_age             23490 non-null  float64\n",
            " 8   gender_of_respondent       23490 non-null  object \n",
            " 9   the_relatioship_with_head  23520 non-null  object \n",
            " 10  marital_status             23492 non-null  object \n",
            " 11  level_of_education         23495 non-null  object \n",
            " 12  type_of_Job                23494 non-null  object \n",
            "dtypes: float64(2), int64(1), object(10)\n",
            "memory usage: 2.3+ MB\n"
          ]
        }
      ]
    },
    {
      "cell_type": "code",
      "source": [
        "#Replacing the missing values in the age column with the mean\n",
        "Financial['respondent_age'] = Financial['respondent_age'].fillna(Financial['respondent_age'].median())"
      ],
      "metadata": {
        "id": "oLsgSGDKVJva"
      },
      "execution_count": null,
      "outputs": []
    },
    {
      "cell_type": "code",
      "source": [
        "Financial['country'] = Financial['country'].replace (np.nan, 'Unknown')"
      ],
      "metadata": {
        "id": "MErSnar1Vsec"
      },
      "execution_count": null,
      "outputs": []
    },
    {
      "cell_type": "code",
      "source": [
        "Financial = Financial.dropna(subset=['has_a_bank_account'])"
      ],
      "metadata": {
        "id": "iIgQBZZYYnQL"
      },
      "execution_count": null,
      "outputs": []
    },
    {
      "cell_type": "code",
      "source": [
        "Financial['type_of_Location'] = Financial['type_of_Location'].replace (np.nan, 'Unknown')"
      ],
      "metadata": {
        "id": "tMNMrW1EYvMK"
      },
      "execution_count": null,
      "outputs": []
    },
    {
      "cell_type": "code",
      "source": [
        "Financial['cell_phone_access'] = Financial['cell_phone_access'].fillna(Financial['cell_phone_access'].mode())"
      ],
      "metadata": {
        "id": "gWBpn-3EZxyt"
      },
      "execution_count": null,
      "outputs": []
    },
    {
      "cell_type": "code",
      "source": [
        "Financial['household_size'] = Financial['household_size'].fillna(Financial['household_size'].median())"
      ],
      "metadata": {
        "id": "MCWbboJyZ71i"
      },
      "execution_count": null,
      "outputs": []
    },
    {
      "cell_type": "code",
      "source": [
        "Financial['gender_of_respondent'] = Financial['gender_of_respondent'].replace (np.nan, 'Unknown')"
      ],
      "metadata": {
        "id": "R457bBk9akIi"
      },
      "execution_count": null,
      "outputs": []
    },
    {
      "cell_type": "code",
      "source": [
        "Financial['marital_status'] = Financial['marital_status'].replace (np.nan, 'Unknown')"
      ],
      "metadata": {
        "id": "RpRFVck4bDpY"
      },
      "execution_count": null,
      "outputs": []
    },
    {
      "cell_type": "code",
      "source": [
        "Financial['level_of_education'] = Financial['level_of_education'].replace (np.nan, 'Unknown')"
      ],
      "metadata": {
        "id": "1OavR_k7bmpq"
      },
      "execution_count": null,
      "outputs": []
    },
    {
      "cell_type": "code",
      "source": [
        "Financial['type_of_Job'] = Financial['type_of_Job'].replace (np.nan, 'Unknown')"
      ],
      "metadata": {
        "id": "0eP62yOObwHp"
      },
      "execution_count": null,
      "outputs": []
    },
    {
      "cell_type": "markdown",
      "source": [
        "# 5) Exploratory Data Analysis\n",
        "\n",
        "\n",
        "> # a) Univariate Analysis\n",
        "\n"
      ],
      "metadata": {
        "id": "jnoIFLCQy9J2"
      }
    },
    {
      "cell_type": "code",
      "source": [
        "# Understanding the location and bank account distribution\n",
        "def label_function(val):\n",
        "    return f'{val / 100 * len(df):.0f}\\n{val:.0f}%'\n",
        "N = 50\n",
        "df = pd.DataFrame({'type_of_Location': np.random.choice(['Rural','Urban'], N),\n",
        "                   'has_a_bank_account': np.random.choice(['Yes', 'No'], N)})\n",
        "\n",
        "fig, (ax1, ax2) = plt.subplots(ncols=2, figsize=(10, 15))\n",
        "\n",
        "df.groupby('type_of_Location').size().plot(kind='pie', autopct=label_function, textprops={'fontsize': 15},\n",
        "                                  colors=['red','violet'], ax=ax1)\n",
        "df.groupby('has_a_bank_account').size().plot(kind='pie', autopct=label_function, textprops={'fontsize': 15},\n",
        "                                 colors=['violet', 'lime'], ax=ax2)\n",
        "ax1.set_xlabel('Per location', size=22)\n",
        "ax2.set_xlabel('Per bank accounts', size=22)\n",
        "plt.tight_layout()\n",
        "plt.show()"
      ],
      "metadata": {
        "colab": {
          "base_uri": "https://localhost:8080/",
          "height": 385
        },
        "id": "de3UvO3qZ4y0",
        "outputId": "c25f8123-80c5-4f89-99a1-77f79ce85a75"
      },
      "execution_count": null,
      "outputs": [
        {
          "output_type": "display_data",
          "data": {
            "text/plain": [
              "<Figure size 720x1080 with 2 Axes>"
            ],
            "image/png": "[encoded data removed]"
          },
          "metadata": {}
        }
      ]
    },
    {
      "cell_type": "code",
      "source": [
        "figsize=(8, 9)\n",
        "Financial['has_a_bank_account'].value_counts().plot.bar(title=\"Access to a Bank Account\", figsize=(12, 7), color='violet')"
      ],
      "metadata": {
        "colab": {
          "base_uri": "https://localhost:8080/",
          "height": 467
        },
        "id": "DCsdulB3OXYK",
        "outputId": "5a30f636-55d3-45b9-9f5d-2ccb064d5995"
      },
      "execution_count": null,
      "outputs": [
        {
          "output_type": "execute_result",
          "data": {
            "text/plain": [
              "<matplotlib.axes._subplots.AxesSubplot at 0x7f4bb98c4460>"
            ]
          },
          "metadata": {},
          "execution_count": 35
        },
        {
          "output_type": "display_data",
          "data": {
            "text/plain": [
              "<Figure size 864x504 with 1 Axes>"
            ],
            "image/png": "[encoded data removed]"
          },
          "metadata": {
            "needs_background": "light"
          }
        }
      ]
    },
    {
      "cell_type": "code",
      "source": [
        "# Checking the distribution of patients age and Household size using histogram\n",
        "#\n",
        "fig,ax=plt.subplots(1,2,figsize=(20,10))\n",
        "Financial['respondent_age'].plot.hist(ax=ax[0],bins=10,edgecolor='black',color='blue')\n",
        "ax[0].set_title('Age Distribution')\n",
        "ax[0].set_xlabel('Age of Persons')\n",
        "x1=list(range(0,100,5))\n",
        "ax[0].set_xticks(x1)\n",
        "Financial['household_size'].plot.hist(ax=ax[1],color='green',bins=10,edgecolor='black')\n",
        "ax[1].set_title('Distribution of Household size')\n",
        "ax[1].set_xlabel('Household size')\n",
        "x2=list(range(1,75,5))\n",
        "ax[1].set_xticks(x2)\n",
        "plt.show()"
      ],
      "metadata": {
        "colab": {
          "base_uri": "https://localhost:8080/",
          "height": 615
        },
        "id": "FeZeYzPqdbbQ",
        "outputId": "abda8c82-8f00-48ea-e2da-8c5f3d87b1e9"
      },
      "execution_count": null,
      "outputs": [
        {
          "output_type": "display_data",
          "data": {
            "text/plain": [
              "<Figure size 1440x720 with 2 Axes>"
            ],
            "image/png": "[encoded data removed]"
          },
          "metadata": {
            "needs_background": "light"
          }
        }
      ]
    },
    {
      "cell_type": "code",
      "source": [
        "#Distribution of gender\n",
        "Financial['gender_of_respondent'].value_counts().plot(kind='bar')"
      ],
      "metadata": {
        "colab": {
          "base_uri": "https://localhost:8080/",
          "height": 319
        },
        "id": "UDagnVZeoa_e",
        "outputId": "3779a1f3-1c50-45a5-fd4f-b1cd9384c7cc"
      },
      "execution_count": null,
      "outputs": [
        {
          "output_type": "execute_result",
          "data": {
            "text/plain": [
              "<matplotlib.axes._subplots.AxesSubplot at 0x7f4bb9893160>"
            ]
          },
          "metadata": {},
          "execution_count": 37
        },
        {
          "output_type": "display_data",
          "data": {
            "text/plain": [
              "<Figure size 432x288 with 1 Axes>"
            ],
            "image/png": "[encoded data removed]"
          },
          "metadata": {
            "needs_background": "light"
          }
        }
      ]
    },
    {
      "cell_type": "code",
      "source": [
        "#Exploding pie chart for the level of education\n",
        "# Creating dataset\n",
        "level_of_education = ['Secondary education','No formal education',\n",
        " 'Vocational/Specialised training','Primary education',\n",
        " 'Tertiary education','Other/Dont know/RTA','6']\n",
        " \n",
        "data = [23, 17, 35, 29, 12, 32, 41]\n",
        "\n",
        "# Creating explode data\n",
        "explode = (0.1, 0.0, 0.2, 0.3, 0.0, 0.0,0.2)\n",
        " \n",
        "# Creating color parameters\n",
        "colors = ( \"orange\", \"lightskyblue\", \"brown\",\n",
        "          \"grey\", \"cyan\", \"beige\",\"violet\")\n",
        " \n",
        "# Wedge properties\n",
        "wp = { 'linewidth' : 1, 'edgecolor' : \"green\" }\n",
        " \n",
        "# Creating autocpt arguments\n",
        "def func(pct, allvalues):\n",
        "    absolute = int(pct / 100.*np.sum(allvalues))\n",
        "    return \"{:.1f}%\\n({:d} g)\".format(pct, absolute)\n",
        "\n",
        "# Creating plot\n",
        "fig, ax = plt.subplots(figsize =(10, 7))\n",
        "wedges, texts, autotexts = ax.pie(data,\n",
        "                                  autopct = lambda pct: func(pct,data),\n",
        "                                  explode = explode,\n",
        "                                  labels = level_of_education,\n",
        "                                  shadow = True,\n",
        "                                  colors = colors,\n",
        "                                  startangle = 90,\n",
        "                                  wedgeprops = wp,\n",
        "                                  textprops = dict(color =\"black\"))\n",
        " \n",
        "# Adding legend\n",
        "ax.legend(wedges, level_of_education,\n",
        "          title =\"Level of Education\",\n",
        "          loc =\"upper left\",\n",
        "          bbox_to_anchor =(1, 0, 0.5, 1))\n",
        " \n",
        "plt.setp(autotexts, size = 8, weight =\"bold\")\n",
        "ax.set_title(\"Customizing pie chart\")\n",
        " \n",
        "# show plot\n",
        "plt.show()"
      ],
      "metadata": {
        "colab": {
          "base_uri": "https://localhost:8080/",
          "height": 452
        },
        "id": "Rc8gieeWxhh-",
        "outputId": "4f7453f5-7776-4ea5-d05b-b9aecf62af82"
      },
      "execution_count": null,
      "outputs": [
        {
          "output_type": "display_data",
          "data": {
            "text/plain": [
              "<Figure size 720x504 with 1 Axes>"
            ],
            "image/png": "[encoded data removed]"
          },
          "metadata": {}
        }
      ]
    },
    {
      "cell_type": "code",
      "source": [
        "# A bar graph for checking persons with access to cell phones\n",
        "#\n",
        "Financial['cell_phone_access'].value_counts().plot.bar(rot=45, figsize=(12,7), color='lightskyblue')\n",
        "plt.title('Persons per cellphone access')\n",
        "plt.xlabel('Cell Phone access')\n",
        "plt.ylabel('Count')\n",
        "plt.show"
      ],
      "metadata": {
        "colab": {
          "base_uri": "https://localhost:8080/",
          "height": 484
        },
        "id": "LsXi5kPFBzvw",
        "outputId": "8be50219-2c2e-41f0-8673-18f2b8a26c8b"
      },
      "execution_count": null,
      "outputs": [
        {
          "output_type": "execute_result",
          "data": {
            "text/plain": [
              "<function matplotlib.pyplot.show(*args, **kw)>"
            ]
          },
          "metadata": {},
          "execution_count": 39
        },
        {
          "output_type": "display_data",
          "data": {
            "text/plain": [
              "<Figure size 864x504 with 1 Axes>"
            ],
            "image/png": "[encoded data removed]"
          },
          "metadata": {
            "needs_background": "light"
          }
        }
      ]
    },
    {
      "cell_type": "markdown",
      "source": [
        "> # b) Bivariate Analysis"
      ],
      "metadata": {
        "id": "aT-C6UrNEXmU"
      }
    },
    {
      "cell_type": "code",
      "source": [
        "# Comparing the gender of respondent to the level of education\n",
        "fig = plt.figure(figsize=(14,7))\n",
        "sns.countplot(x = 'level_of_education', hue='gender_of_respondent',data=Financial)\n",
        "plt.xticks(rotation=60) "
      ],
      "metadata": {
        "colab": {
          "base_uri": "https://localhost:8080/",
          "height": 589
        },
        "id": "as5aqCVHkuFV",
        "outputId": "7c591554-21f3-4025-a512-6ac03a70c929"
      },
      "execution_count": null,
      "outputs": [
        {
          "output_type": "execute_result",
          "data": {
            "text/plain": [
              "(array([0, 1, 2, 3, 4, 5, 6, 7]), <a list of 8 Text major ticklabel objects>)"
            ]
          },
          "metadata": {},
          "execution_count": 40
        },
        {
          "output_type": "display_data",
          "data": {
            "text/plain": [
              "<Figure size 1008x504 with 1 Axes>"
            ],
            "image/png": "[encoded data removed]"
          },
          "metadata": {
            "needs_background": "light"
          }
        }
      ]
    },
    {
      "cell_type": "code",
      "source": [
        "# Comparing the type of location to the has bank account variable\n",
        "fig = plt.figure(figsize=(14,7))\n",
        "sns.countplot(x = 'has_a_bank_account', hue='type_of_Location',data=Financial)\n",
        "plt.xticks(rotation=60) "
      ],
      "metadata": {
        "colab": {
          "base_uri": "https://localhost:8080/",
          "height": 469
        },
        "id": "xa0xrt7W51DR",
        "outputId": "966a4eac-8cc8-40bb-d90a-140470c452cd"
      },
      "execution_count": null,
      "outputs": [
        {
          "output_type": "execute_result",
          "data": {
            "text/plain": [
              "(array([0, 1]), <a list of 2 Text major ticklabel objects>)"
            ]
          },
          "metadata": {},
          "execution_count": 41
        },
        {
          "output_type": "display_data",
          "data": {
            "text/plain": [
              "<Figure size 1008x504 with 1 Axes>"
            ],
            "image/png": "[encoded data removed]"
          },
          "metadata": {
            "needs_background": "light"
          }
        }
      ]
    },
    {
      "cell_type": "markdown",
      "source": [
        "> # c) Multivariate Analysis"
      ],
      "metadata": {
        "id": "iCabqZB3BZbC"
      }
    },
    {
      "cell_type": "code",
      "source": [
        "#Installing dython that will help with running a correlation matrix that includes the categorical variables\n",
        "!pip install dython"
      ],
      "metadata": {
        "colab": {
          "base_uri": "https://localhost:8080/"
        },
        "id": "-Oo24Qn0ICA0",
        "outputId": "f8694182-d397-48c4-aa74-6fae9cbb7523"
      },
      "execution_count": null,
      "outputs": [
        {
          "output_type": "stream",
          "name": "stdout",
          "text": [
            "Looking in indexes: https://pypi.org/simple, https://us-python.pkg.dev/colab-wheels/public/simple/\n",
            "Collecting dython\n",
            "  Downloading dython-0.7.3-py3-none-any.whl (23 kB)\n",
            "Collecting numpy>=1.23.0\n",
            "  Downloading numpy-1.24.1-cp38-cp38-manylinux_2_17_x86_64.manylinux2014_x86_64.whl (17.3 MB)\n",
            "\u001b[2K     \u001b[90m━━━━━━━━━━━━━━━━━━━━━━━━━━━━━━━━━━━━━━━━\u001b[0m \u001b[32m17.3/17.3 MB\u001b[0m \u001b[31m63.7 MB/s\u001b[0m eta \u001b[36m0:00:00\u001b[0m\n",
            "\u001b[?25hCollecting pandas>=1.4.2\n",
            "  Downloading pandas-1.5.2-cp38-cp38-manylinux_2_17_x86_64.manylinux2014_x86_64.whl (12.2 MB)\n",
            "\u001b[2K     \u001b[90m━━━━━━━━━━━━━━━━━━━━━━━━━━━━━━━━━━━━━━━━\u001b[0m \u001b[32m12.2/12.2 MB\u001b[0m \u001b[31m78.4 MB/s\u001b[0m eta \u001b[36m0:00:00\u001b[0m\n",
            "\u001b[?25hCollecting seaborn>=0.12.0\n",
            "  Downloading seaborn-0.12.2-py3-none-any.whl (293 kB)\n",
            "\u001b[2K     \u001b[90m━━━━━━━━━━━━━━━━━━━━━━━━━━━━━━━━━━━━━━\u001b[0m \u001b[32m293.3/293.3 KB\u001b[0m \u001b[31m31.5 MB/s\u001b[0m eta \u001b[36m0:00:00\u001b[0m\n",
            "\u001b[?25hCollecting psutil>=5.9.1\n",
            "  Downloading psutil-5.9.4-cp36-abi3-manylinux_2_12_x86_64.manylinux2010_x86_64.manylinux_2_17_x86_64.manylinux2014_x86_64.whl (280 kB)\n",
            "\u001b[2K     \u001b[90m━━━━━━━━━━━━━━━━━━━━━━━━━━━━━━━━━━━━━━\u001b[0m \u001b[32m280.2/280.2 KB\u001b[0m \u001b[31m28.9 MB/s\u001b[0m eta \u001b[36m0:00:00\u001b[0m\n",
            "\u001b[?25hRequirement already satisfied: scikit-learn>=0.24.2 in /usr/local/lib/python3.8/dist-packages (from dython) (1.0.2)\n",
            "Requirement already satisfied: scipy>=1.7.1 in /usr/local/lib/python3.8/dist-packages (from dython) (1.7.3)\n",
            "Collecting scikit-plot>=0.3.7\n",
            "  Downloading scikit_plot-0.3.7-py3-none-any.whl (33 kB)\n",
            "Collecting matplotlib>=3.5.3\n",
            "  Downloading matplotlib-3.6.2-cp38-cp38-manylinux_2_12_x86_64.manylinux2010_x86_64.whl (9.4 MB)\n",
            "\u001b[2K     \u001b[90m━━━━━━━━━━━━━━━━━━━━━━━━━━━━━━━━━━━━━━━━\u001b[0m \u001b[32m9.4/9.4 MB\u001b[0m \u001b[31m96.3 MB/s\u001b[0m eta \u001b[36m0:00:00\u001b[0m\n",
            "\u001b[?25hRequirement already satisfied: pillow>=6.2.0 in /usr/local/lib/python3.8/dist-packages (from matplotlib>=3.5.3->dython) (7.1.2)\n",
            "Collecting contourpy>=1.0.1\n",
            "  Downloading contourpy-1.0.6-cp38-cp38-manylinux_2_17_x86_64.manylinux2014_x86_64.whl (295 kB)\n",
            "\u001b[2K     \u001b[90m━━━━━━━━━━━━━━━━━━━━━━━━━━━━━━━━━━━━━━\u001b[0m \u001b[32m296.0/296.0 KB\u001b[0m \u001b[31m35.1 MB/s\u001b[0m eta \u001b[36m0:00:00\u001b[0m\n",
            "\u001b[?25hRequirement already satisfied: cycler>=0.10 in /usr/local/lib/python3.8/dist-packages (from matplotlib>=3.5.3->dython) (0.11.0)\n",
            "Collecting fonttools>=4.22.0\n",
            "  Downloading fonttools-4.38.0-py3-none-any.whl (965 kB)\n",
            "\u001b[2K     \u001b[90m━━━━━━━━━━━━━━━━━━━━━━━━━━━━━━━━━━━━━━\u001b[0m \u001b[32m965.4/965.4 KB\u001b[0m \u001b[31m64.7 MB/s\u001b[0m eta \u001b[36m0:00:00\u001b[0m\n",
            "\u001b[?25hRequirement already satisfied: python-dateutil>=2.7 in /usr/local/lib/python3.8/dist-packages (from matplotlib>=3.5.3->dython) (2.8.2)\n",
            "Requirement already satisfied: pyparsing>=2.2.1 in /usr/local/lib/python3.8/dist-packages (from matplotlib>=3.5.3->dython) (3.0.9)\n",
            "Requirement already satisfied: packaging>=20.0 in /usr/local/lib/python3.8/dist-packages (from matplotlib>=3.5.3->dython) (21.3)\n",
            "Requirement already satisfied: kiwisolver>=1.0.1 in /usr/local/lib/python3.8/dist-packages (from matplotlib>=3.5.3->dython) (1.4.4)\n",
            "Requirement already satisfied: pytz>=2020.1 in /usr/local/lib/python3.8/dist-packages (from pandas>=1.4.2->dython) (2022.7)\n",
            "Requirement already satisfied: joblib>=0.11 in /usr/local/lib/python3.8/dist-packages (from scikit-learn>=0.24.2->dython) (1.2.0)\n",
            "Requirement already satisfied: threadpoolctl>=2.0.0 in /usr/local/lib/python3.8/dist-packages (from scikit-learn>=0.24.2->dython) (3.1.0)\n",
            "Collecting scipy>=1.7.1\n",
            "  Downloading scipy-1.10.0-cp38-cp38-manylinux_2_17_x86_64.manylinux2014_x86_64.whl (34.5 MB)\n",
            "\u001b[2K     \u001b[90m━━━━━━━━━━━━━━━━━━━━━━━━━━━━━━━━━━━━━━━━\u001b[0m \u001b[32m34.5/34.5 MB\u001b[0m \u001b[31m15.4 MB/s\u001b[0m eta \u001b[36m0:00:00\u001b[0m\n",
            "\u001b[?25hRequirement already satisfied: six>=1.5 in /usr/local/lib/python3.8/dist-packages (from python-dateutil>=2.7->matplotlib>=3.5.3->dython) (1.15.0)\n",
            "Installing collected packages: psutil, numpy, fonttools, scipy, pandas, contourpy, matplotlib, seaborn, scikit-plot, dython\n",
            "  Attempting uninstall: psutil\n",
            "    Found existing installation: psutil 5.4.8\n",
            "    Uninstalling psutil-5.4.8:\n",
            "      Successfully uninstalled psutil-5.4.8\n",
            "  Attempting uninstall: numpy\n",
            "    Found existing installation: numpy 1.21.6\n",
            "    Uninstalling numpy-1.21.6:\n",
            "      Successfully uninstalled numpy-1.21.6\n",
            "  Attempting uninstall: scipy\n",
            "    Found existing installation: scipy 1.7.3\n",
            "    Uninstalling scipy-1.7.3:\n",
            "      Successfully uninstalled scipy-1.7.3\n",
            "  Attempting uninstall: pandas\n",
            "    Found existing installation: pandas 1.3.5\n",
            "    Uninstalling pandas-1.3.5:\n",
            "      Successfully uninstalled pandas-1.3.5\n",
            "  Attempting uninstall: matplotlib\n",
            "    Found existing installation: matplotlib 3.2.2\n",
            "    Uninstalling matplotlib-3.2.2:\n",
            "      Successfully uninstalled matplotlib-3.2.2\n",
            "  Attempting uninstall: seaborn\n",
            "    Found existing installation: seaborn 0.11.2\n",
            "    Uninstalling seaborn-0.11.2:\n",
            "      Successfully uninstalled seaborn-0.11.2\n",
            "\u001b[31mERROR: pip's dependency resolver does not currently take into account all the packages that are installed. This behaviour is the source of the following dependency conflicts.\n",
            "numba 0.56.4 requires numpy<1.24,>=1.18, but you have numpy 1.24.1 which is incompatible.\u001b[0m\u001b[31m\n",
            "\u001b[0mSuccessfully installed contourpy-1.0.6 dython-0.7.3 fonttools-4.38.0 matplotlib-3.6.2 numpy-1.24.1 pandas-1.5.2 psutil-5.9.4 scikit-plot-0.3.7 scipy-1.10.0 seaborn-0.12.2\n"
          ]
        }
      ]
    },
    {
      "cell_type": "code",
      "source": [
        "import pandas as pd\n",
        "from dython.nominal import associations"
      ],
      "metadata": {
        "id": "lcsL70KdIVWv"
      },
      "execution_count": null,
      "outputs": []
    },
    {
      "cell_type": "code",
      "source": [
        "# Creating a correlation matrix that includes the categorical variables\n",
        "complete_correlation= associations(Financial, filename= 'complete_correlation.png', figsize=(10,10))"
      ],
      "metadata": {
        "colab": {
          "base_uri": "https://localhost:8080/",
          "height": 667
        },
        "id": "rrDedlK2Be0i",
        "outputId": "f3c928aa-92eb-4862-b738-e8345c679375"
      },
      "execution_count": null,
      "outputs": [
        {
          "output_type": "display_data",
          "data": {
            "text/plain": [
              "<Figure size 720x720 with 2 Axes>"
            ],
            "image/png": "[encoded data removed]"
          },
          "metadata": {
            "needs_background": "light"
          }
        }
      ]
    },
    {
      "cell_type": "markdown",
      "source": [
        "## Data Pre -processing"
      ],
      "metadata": {
        "id": "eNvAy_ejOHG_"
      }
    },
    {
      "cell_type": "code",
      "source": [
        "#Confirming that there are no null values\n",
        "Financial.info()"
      ],
      "metadata": {
        "colab": {
          "base_uri": "https://localhost:8080/"
        },
        "id": "-XgEF5kqb6sM",
        "outputId": "c2417e99-fbac-4966-aaa5-c76b6db6d022"
      },
      "execution_count": null,
      "outputs": [
        {
          "output_type": "stream",
          "name": "stdout",
          "text": [
            "<class 'pandas.core.frame.DataFrame'>\n",
            "Int64Index: 23488 entries, 0 to 23523\n",
            "Data columns (total 13 columns):\n",
            " #   Column                     Non-Null Count  Dtype  \n",
            "---  ------                     --------------  -----  \n",
            " 0   country                    23488 non-null  object \n",
            " 1   year                       23488 non-null  int64  \n",
            " 2   uniqueid                   23488 non-null  object \n",
            " 3   has_a_bank_account         23488 non-null  object \n",
            " 4   type_of_Location           23488 non-null  object \n",
            " 5   cell_phone_access          23485 non-null  object \n",
            " 6   household_size             23488 non-null  float64\n",
            " 7   respondent_age             23488 non-null  float64\n",
            " 8   gender_of_respondent       23488 non-null  object \n",
            " 9   the_relatioship_with_head  23484 non-null  object \n",
            " 10  marital_status             23488 non-null  object \n",
            " 11  level_of_education         23488 non-null  object \n",
            " 12  type_of_Job                23488 non-null  object \n",
            "dtypes: float64(2), int64(1), object(10)\n",
            "memory usage: 3.0+ MB\n"
          ]
        }
      ]
    },
    {
      "cell_type": "code",
      "source": [
        "#Performing label encoding for categorical columns\n",
        "from sklearn.preprocessing import LabelEncoder,OneHotEncoder\n",
        "le=LabelEncoder()\n",
        "encoded1=le.fit_transform(Financial['country'])\n",
        "\n",
        "encoded2=le.fit_transform(Financial['has_a_bank_account'])\n",
        "\n",
        "encoded3=le.fit_transform(Financial['type_of_Location'])\n",
        "\n",
        "encoded4=le.fit_transform(Financial['cell_phone_access'])\n",
        "\n",
        "encoded5=le.fit_transform(Financial['gender_of_respondent'])\n",
        "\n",
        "encoded6=le.fit_transform(Financial['the_relatioship_with_head'])\n",
        "\n",
        "encoded7=le.fit_transform(Financial['marital_status'])\n",
        "\n",
        "encoded8=le.fit_transform(Financial['level_of_education'])\n",
        "\n",
        "encoded9=le.fit_transform(Financial['type_of_Job'])"
      ],
      "metadata": {
        "id": "zYrHD5WwZ0-4"
      },
      "execution_count": null,
      "outputs": []
    },
    {
      "cell_type": "code",
      "source": [
        "#Droping the categorical columns for appending\n",
        "Financial1=Financial.drop(columns=['country','has_a_bank_account','type_of_Location','cell_phone_access','gender_of_respondent','the_relatioship_with_head','marital_status','level_of_education','type_of_Job'])\n",
        "Financial1"
      ],
      "metadata": {
        "colab": {
          "base_uri": "https://localhost:8080/",
          "height": 424
        },
        "id": "QiUp23MOZ5IP",
        "outputId": "389a2147-7050-4df1-9238-2e4bed11f544"
      },
      "execution_count": null,
      "outputs": [
        {
          "output_type": "execute_result",
          "data": {
            "text/plain": [
              "       year       uniqueid  household_size  respondent_age\n",
              "0      2018     uniqueid_1             3.0            24.0\n",
              "1      2018     uniqueid_2             5.0            70.0\n",
              "2      2018     uniqueid_3             5.0            26.0\n",
              "3      2018     uniqueid_4             5.0            34.0\n",
              "4      2018     uniqueid_5             8.0            26.0\n",
              "...     ...            ...             ...             ...\n",
              "23519  2018  uniqueid_2113             4.0            48.0\n",
              "23520  2018  uniqueid_2114             2.0            27.0\n",
              "23521  2018  uniqueid_2115             5.0            27.0\n",
              "23522  2018  uniqueid_2116             7.0            30.0\n",
              "23523  2018  uniqueid_2117            10.0            20.0\n",
              "\n",
              "[23488 rows x 4 columns]"
            ],
            "text/html": [
              "\n",
              "  <div id=\"df-99674b67-5266-4dbd-911d-f504db31fc03\">\n",
              "    <div class=\"colab-df-container\">\n",
              "      <div>\n",
              "<style scoped>\n",
              "    .dataframe tbody tr th:only-of-type {\n",
              "        vertical-align: middle;\n",
              "    }\n",
              "\n",
              "    .dataframe tbody tr th {\n",
              "        vertical-align: top;\n",
              "    }\n",
              "\n",
              "    .dataframe thead th {\n",
              "        text-align: right;\n",
              "    }\n",
              "</style>\n",
              "<table border=\"1\" class=\"dataframe\">\n",
              "  <thead>\n",
              "    <tr style=\"text-align: right;\">\n",
              "      <th></th>\n",
              "      <th>year</th>\n",
              "      <th>uniqueid</th>\n",
              "      <th>household_size</th>\n",
              "      <th>respondent_age</th>\n",
              "    </tr>\n",
              "  </thead>\n",
              "  <tbody>\n",
              "    <tr>\n",
              "      <th>0</th>\n",
              "      <td>2018</td>\n",
              "      <td>uniqueid_1</td>\n",
              "      <td>3.0</td>\n",
              "      <td>24.0</td>\n",
              "    </tr>\n",
              "    <tr>\n",
              "      <th>1</th>\n",
              "      <td>2018</td>\n",
              "      <td>uniqueid_2</td>\n",
              "      <td>5.0</td>\n",
              "      <td>70.0</td>\n",
              "    </tr>\n",
              "    <tr>\n",
              "      <th>2</th>\n",
              "      <td>2018</td>\n",
              "      <td>uniqueid_3</td>\n",
              "      <td>5.0</td>\n",
              "      <td>26.0</td>\n",
              "    </tr>\n",
              "    <tr>\n",
              "      <th>3</th>\n",
              "      <td>2018</td>\n",
              "      <td>uniqueid_4</td>\n",
              "      <td>5.0</td>\n",
              "      <td>34.0</td>\n",
              "    </tr>\n",
              "    <tr>\n",
              "      <th>4</th>\n",
              "      <td>2018</td>\n",
              "      <td>uniqueid_5</td>\n",
              "      <td>8.0</td>\n",
              "      <td>26.0</td>\n",
              "    </tr>\n",
              "    <tr>\n",
              "      <th>...</th>\n",
              "      <td>...</td>\n",
              "      <td>...</td>\n",
              "      <td>...</td>\n",
              "      <td>...</td>\n",
              "    </tr>\n",
              "    <tr>\n",
              "      <th>23519</th>\n",
              "      <td>2018</td>\n",
              "      <td>uniqueid_2113</td>\n",
              "      <td>4.0</td>\n",
              "      <td>48.0</td>\n",
              "    </tr>\n",
              "    <tr>\n",
              "      <th>23520</th>\n",
              "      <td>2018</td>\n",
              "      <td>uniqueid_2114</td>\n",
              "      <td>2.0</td>\n",
              "      <td>27.0</td>\n",
              "    </tr>\n",
              "    <tr>\n",
              "      <th>23521</th>\n",
              "      <td>2018</td>\n",
              "      <td>uniqueid_2115</td>\n",
              "      <td>5.0</td>\n",
              "      <td>27.0</td>\n",
              "    </tr>\n",
              "    <tr>\n",
              "      <th>23522</th>\n",
              "      <td>2018</td>\n",
              "      <td>uniqueid_2116</td>\n",
              "      <td>7.0</td>\n",
              "      <td>30.0</td>\n",
              "    </tr>\n",
              "    <tr>\n",
              "      <th>23523</th>\n",
              "      <td>2018</td>\n",
              "      <td>uniqueid_2117</td>\n",
              "      <td>10.0</td>\n",
              "      <td>20.0</td>\n",
              "    </tr>\n",
              "  </tbody>\n",
              "</table>\n",
              "<p>23488 rows × 4 columns</p>\n",
              "</div>\n",
              "      <button class=\"colab-df-convert\" onclick=\"convertToInteractive('df-99674b67-5266-4dbd-911d-f504db31fc03')\"\n",
              "              title=\"Convert this dataframe to an interactive table.\"\n",
              "              style=\"display:none;\">\n",
              "        \n",
              "  <svg xmlns=\"http://www.w3.org/2000/svg\" height=\"24px\"viewBox=\"0 0 24 24\"\n",
              "       width=\"24px\">\n",
              "    <path d=\"M0 0h24v24H0V0z\" fill=\"none\"/>\n",
              "    <path d=\"M18.56 5.44l.94 2.06.94-2.06 2.06-.94-2.06-.94-.94-2.06-.94 2.06-2.06.94zm-11 1L8.5 8.5l.94-2.06 2.06-.94-2.06-.94L8.5 2.5l-.94 2.06-2.06.94zm10 10l.94 2.06.94-2.06 2.06-.94-2.06-.94-.94-2.06-.94 2.06-2.06.94z\"/><path d=\"M17.41 7.96l-1.37-1.37c-.4-.4-.92-.59-1.43-.59-.52 0-1.04.2-1.43.59L10.3 9.45l-7.72 7.72c-.78.78-.78 2.05 0 2.83L4 21.41c.39.39.9.59 1.41.59.51 0 1.02-.2 1.41-.59l7.78-7.78 2.81-2.81c.8-.78.8-2.07 0-2.86zM5.41 20L4 18.59l7.72-7.72 1.47 1.35L5.41 20z\"/>\n",
              "  </svg>\n",
              "      </button>\n",
              "      \n",
              "  <style>\n",
              "    .colab-df-container {\n",
              "      display:flex;\n",
              "      flex-wrap:wrap;\n",
              "      gap: 12px;\n",
              "    }\n",
              "\n",
              "    .colab-df-convert {\n",
              "      background-color: #E8F0FE;\n",
              "      border: none;\n",
              "      border-radius: 50%;\n",
              "      cursor: pointer;\n",
              "      display: none;\n",
              "      fill: #1967D2;\n",
              "      height: 32px;\n",
              "      padding: 0 0 0 0;\n",
              "      width: 32px;\n",
              "    }\n",
              "\n",
              "    .colab-df-convert:hover {\n",
              "      background-color: #E2EBFA;\n",
              "      box-shadow: 0px 1px 2px rgba(60, 64, 67, 0.3), 0px 1px 3px 1px rgba(60, 64, 67, 0.15);\n",
              "      fill: #174EA6;\n",
              "    }\n",
              "\n",
              "    [theme=dark] .colab-df-convert {\n",
              "      background-color: #3B4455;\n",
              "      fill: #D2E3FC;\n",
              "    }\n",
              "\n",
              "    [theme=dark] .colab-df-convert:hover {\n",
              "      background-color: #434B5C;\n",
              "      box-shadow: 0px 1px 3px 1px rgba(0, 0, 0, 0.15);\n",
              "      filter: drop-shadow(0px 1px 2px rgba(0, 0, 0, 0.3));\n",
              "      fill: #FFFFFF;\n",
              "    }\n",
              "  </style>\n",
              "\n",
              "      <script>\n",
              "        const buttonEl =\n",
              "          document.querySelector('#df-99674b67-5266-4dbd-911d-f504db31fc03 button.colab-df-convert');\n",
              "        buttonEl.style.display =\n",
              "          google.colab.kernel.accessAllowed ? 'block' : 'none';\n",
              "\n",
              "        async function convertToInteractive(key) {\n",
              "          const element = document.querySelector('#df-99674b67-5266-4dbd-911d-f504db31fc03');\n",
              "          const dataTable =\n",
              "            await google.colab.kernel.invokeFunction('convertToInteractive',\n",
              "                                                     [key], {});\n",
              "          if (!dataTable) return;\n",
              "\n",
              "          const docLinkHtml = 'Like what you see? Visit the ' +\n",
              "            '<a target=\"_blank\" href=https://colab.research.google.com/notebooks/data_table.ipynb>data table notebook</a>'\n",
              "            + ' to learn more about interactive tables.';\n",
              "          element.innerHTML = '';\n",
              "          dataTable['output_type'] = 'display_data';\n",
              "          await google.colab.output.renderOutput(dataTable, element);\n",
              "          const docLink = document.createElement('div');\n",
              "          docLink.innerHTML = docLinkHtml;\n",
              "          element.appendChild(docLink);\n",
              "        }\n",
              "      </script>\n",
              "    </div>\n",
              "  </div>\n",
              "  "
            ]
          },
          "metadata": {},
          "execution_count": 49
        }
      ]
    },
    {
      "cell_type": "code",
      "source": [
        "\n",
        "Financial1['country']=encoded1\n",
        "\n",
        "Financial1['has_a_bank_account']=encoded2\n",
        "\n",
        "Financial1['type_of_Location']=encoded3\n",
        "\n",
        "Financial1['cell_phone_access']=encoded4\n",
        "\n",
        "Financial1['gender_of_respondent']=encoded5\n",
        "\n",
        "Financial1['the_relatioship_with_head']=encoded6\n",
        "\n",
        "Financial1['marital_status']=encoded7\n",
        "\n",
        "Financial1['level_of_education']=encoded8\n",
        "\n",
        "Financial1['type_of_Job']=encoded9\n",
        "\n",
        "Financial1"
      ],
      "metadata": {
        "colab": {
          "base_uri": "https://localhost:8080/",
          "height": 488
        },
        "id": "mtqa_fP4Z6C8",
        "outputId": "de154c56-a70c-4050-d5c4-8e262c826633"
      },
      "execution_count": null,
      "outputs": [
        {
          "output_type": "execute_result",
          "data": {
            "text/plain": [
              "       year       uniqueid  household_size  respondent_age  country  \\\n",
              "0      2018     uniqueid_1             3.0            24.0        0   \n",
              "1      2018     uniqueid_2             5.0            70.0        0   \n",
              "2      2018     uniqueid_3             5.0            26.0        0   \n",
              "3      2018     uniqueid_4             5.0            34.0        0   \n",
              "4      2018     uniqueid_5             8.0            26.0        0   \n",
              "...     ...            ...             ...             ...      ...   \n",
              "23519  2018  uniqueid_2113             4.0            48.0        3   \n",
              "23520  2018  uniqueid_2114             2.0            27.0        3   \n",
              "23521  2018  uniqueid_2115             5.0            27.0        3   \n",
              "23522  2018  uniqueid_2116             7.0            30.0        3   \n",
              "23523  2018  uniqueid_2117            10.0            20.0        3   \n",
              "\n",
              "       has_a_bank_account  type_of_Location  cell_phone_access  \\\n",
              "0                       1                 0                  1   \n",
              "1                       0                 0                  0   \n",
              "2                       1                 2                  1   \n",
              "3                       0                 0                  1   \n",
              "4                       0                 2                  0   \n",
              "...                   ...               ...                ...   \n",
              "23519                   0                 0                  1   \n",
              "23520                   0                 0                  1   \n",
              "23521                   0                 0                  1   \n",
              "23522                   0                 2                  1   \n",
              "23523                   0                 0                  1   \n",
              "\n",
              "       gender_of_respondent  the_relatioship_with_head  marital_status  \\\n",
              "0                         0                          5               2   \n",
              "1                         0                          1               5   \n",
              "2                         1                          3               3   \n",
              "3                         0                          1               2   \n",
              "4                         1                          0               3   \n",
              "...                     ...                        ...             ...   \n",
              "23519                     0                          1               0   \n",
              "23520                     0                          1               3   \n",
              "23521                     0                          4               5   \n",
              "23522                     0                          4               0   \n",
              "23523                     1                          0               3   \n",
              "\n",
              "       level_of_education  type_of_Job  \n",
              "0                       4            9  \n",
              "1                       1            4  \n",
              "2                       7            9  \n",
              "3                       3            3  \n",
              "4                       3            5  \n",
              "...                   ...          ...  \n",
              "23519                   1            7  \n",
              "23520                   4            7  \n",
              "23521                   3            7  \n",
              "23522                   4            9  \n",
              "23523                   4            6  \n",
              "\n",
              "[23488 rows x 13 columns]"
            ],
            "text/html": [
              "\n",
              "  <div id=\"df-29f0f1ab-fcf2-40f0-bd49-30f02853c6ab\">\n",
              "    <div class=\"colab-df-container\">\n",
              "      <div>\n",
              "<style scoped>\n",
              "    .dataframe tbody tr th:only-of-type {\n",
              "        vertical-align: middle;\n",
              "    }\n",
              "\n",
              "    .dataframe tbody tr th {\n",
              "        vertical-align: top;\n",
              "    }\n",
              "\n",
              "    .dataframe thead th {\n",
              "        text-align: right;\n",
              "    }\n",
              "</style>\n",
              "<table border=\"1\" class=\"dataframe\">\n",
              "  <thead>\n",
              "    <tr style=\"text-align: right;\">\n",
              "      <th></th>\n",
              "      <th>year</th>\n",
              "      <th>uniqueid</th>\n",
              "      <th>household_size</th>\n",
              "      <th>respondent_age</th>\n",
              "      <th>country</th>\n",
              "      <th>has_a_bank_account</th>\n",
              "      <th>type_of_Location</th>\n",
              "      <th>cell_phone_access</th>\n",
              "      <th>gender_of_respondent</th>\n",
              "      <th>the_relatioship_with_head</th>\n",
              "      <th>marital_status</th>\n",
              "      <th>level_of_education</th>\n",
              "      <th>type_of_Job</th>\n",
              "    </tr>\n",
              "  </thead>\n",
              "  <tbody>\n",
              "    <tr>\n",
              "      <th>0</th>\n",
              "      <td>2018</td>\n",
              "      <td>uniqueid_1</td>\n",
              "      <td>3.0</td>\n",
              "      <td>24.0</td>\n",
              "      <td>0</td>\n",
              "      <td>1</td>\n",
              "      <td>0</td>\n",
              "      <td>1</td>\n",
              "      <td>0</td>\n",
              "      <td>5</td>\n",
              "      <td>2</td>\n",
              "      <td>4</td>\n",
              "      <td>9</td>\n",
              "    </tr>\n",
              "    <tr>\n",
              "      <th>1</th>\n",
              "      <td>2018</td>\n",
              "      <td>uniqueid_2</td>\n",
              "      <td>5.0</td>\n",
              "      <td>70.0</td>\n",
              "      <td>0</td>\n",
              "      <td>0</td>\n",
              "      <td>0</td>\n",
              "      <td>0</td>\n",
              "      <td>0</td>\n",
              "      <td>1</td>\n",
              "      <td>5</td>\n",
              "      <td>1</td>\n",
              "      <td>4</td>\n",
              "    </tr>\n",
              "    <tr>\n",
              "      <th>2</th>\n",
              "      <td>2018</td>\n",
              "      <td>uniqueid_3</td>\n",
              "      <td>5.0</td>\n",
              "      <td>26.0</td>\n",
              "      <td>0</td>\n",
              "      <td>1</td>\n",
              "      <td>2</td>\n",
              "      <td>1</td>\n",
              "      <td>1</td>\n",
              "      <td>3</td>\n",
              "      <td>3</td>\n",
              "      <td>7</td>\n",
              "      <td>9</td>\n",
              "    </tr>\n",
              "    <tr>\n",
              "      <th>3</th>\n",
              "      <td>2018</td>\n",
              "      <td>uniqueid_4</td>\n",
              "      <td>5.0</td>\n",
              "      <td>34.0</td>\n",
              "      <td>0</td>\n",
              "      <td>0</td>\n",
              "      <td>0</td>\n",
              "      <td>1</td>\n",
              "      <td>0</td>\n",
              "      <td>1</td>\n",
              "      <td>2</td>\n",
              "      <td>3</td>\n",
              "      <td>3</td>\n",
              "    </tr>\n",
              "    <tr>\n",
              "      <th>4</th>\n",
              "      <td>2018</td>\n",
              "      <td>uniqueid_5</td>\n",
              "      <td>8.0</td>\n",
              "      <td>26.0</td>\n",
              "      <td>0</td>\n",
              "      <td>0</td>\n",
              "      <td>2</td>\n",
              "      <td>0</td>\n",
              "      <td>1</td>\n",
              "      <td>0</td>\n",
              "      <td>3</td>\n",
              "      <td>3</td>\n",
              "      <td>5</td>\n",
              "    </tr>\n",
              "    <tr>\n",
              "      <th>...</th>\n",
              "      <td>...</td>\n",
              "      <td>...</td>\n",
              "      <td>...</td>\n",
              "      <td>...</td>\n",
              "      <td>...</td>\n",
              "      <td>...</td>\n",
              "      <td>...</td>\n",
              "      <td>...</td>\n",
              "      <td>...</td>\n",
              "      <td>...</td>\n",
              "      <td>...</td>\n",
              "      <td>...</td>\n",
              "      <td>...</td>\n",
              "    </tr>\n",
              "    <tr>\n",
              "      <th>23519</th>\n",
              "      <td>2018</td>\n",
              "      <td>uniqueid_2113</td>\n",
              "      <td>4.0</td>\n",
              "      <td>48.0</td>\n",
              "      <td>3</td>\n",
              "      <td>0</td>\n",
              "      <td>0</td>\n",
              "      <td>1</td>\n",
              "      <td>0</td>\n",
              "      <td>1</td>\n",
              "      <td>0</td>\n",
              "      <td>1</td>\n",
              "      <td>7</td>\n",
              "    </tr>\n",
              "    <tr>\n",
              "      <th>23520</th>\n",
              "      <td>2018</td>\n",
              "      <td>uniqueid_2114</td>\n",
              "      <td>2.0</td>\n",
              "      <td>27.0</td>\n",
              "      <td>3</td>\n",
              "      <td>0</td>\n",
              "      <td>0</td>\n",
              "      <td>1</td>\n",
              "      <td>0</td>\n",
              "      <td>1</td>\n",
              "      <td>3</td>\n",
              "      <td>4</td>\n",
              "      <td>7</td>\n",
              "    </tr>\n",
              "    <tr>\n",
              "      <th>23521</th>\n",
              "      <td>2018</td>\n",
              "      <td>uniqueid_2115</td>\n",
              "      <td>5.0</td>\n",
              "      <td>27.0</td>\n",
              "      <td>3</td>\n",
              "      <td>0</td>\n",
              "      <td>0</td>\n",
              "      <td>1</td>\n",
              "      <td>0</td>\n",
              "      <td>4</td>\n",
              "      <td>5</td>\n",
              "      <td>3</td>\n",
              "      <td>7</td>\n",
              "    </tr>\n",
              "    <tr>\n",
              "      <th>23522</th>\n",
              "      <td>2018</td>\n",
              "      <td>uniqueid_2116</td>\n",
              "      <td>7.0</td>\n",
              "      <td>30.0</td>\n",
              "      <td>3</td>\n",
              "      <td>0</td>\n",
              "      <td>2</td>\n",
              "      <td>1</td>\n",
              "      <td>0</td>\n",
              "      <td>4</td>\n",
              "      <td>0</td>\n",
              "      <td>4</td>\n",
              "      <td>9</td>\n",
              "    </tr>\n",
              "    <tr>\n",
              "      <th>23523</th>\n",
              "      <td>2018</td>\n",
              "      <td>uniqueid_2117</td>\n",
              "      <td>10.0</td>\n",
              "      <td>20.0</td>\n",
              "      <td>3</td>\n",
              "      <td>0</td>\n",
              "      <td>0</td>\n",
              "      <td>1</td>\n",
              "      <td>1</td>\n",
              "      <td>0</td>\n",
              "      <td>3</td>\n",
              "      <td>4</td>\n",
              "      <td>6</td>\n",
              "    </tr>\n",
              "  </tbody>\n",
              "</table>\n",
              "<p>23488 rows × 13 columns</p>\n",
              "</div>\n",
              "      <button class=\"colab-df-convert\" onclick=\"convertToInteractive('df-29f0f1ab-fcf2-40f0-bd49-30f02853c6ab')\"\n",
              "              title=\"Convert this dataframe to an interactive table.\"\n",
              "              style=\"display:none;\">\n",
              "        \n",
              "  <svg xmlns=\"http://www.w3.org/2000/svg\" height=\"24px\"viewBox=\"0 0 24 24\"\n",
              "       width=\"24px\">\n",
              "    <path d=\"M0 0h24v24H0V0z\" fill=\"none\"/>\n",
              "    <path d=\"M18.56 5.44l.94 2.06.94-2.06 2.06-.94-2.06-.94-.94-2.06-.94 2.06-2.06.94zm-11 1L8.5 8.5l.94-2.06 2.06-.94-2.06-.94L8.5 2.5l-.94 2.06-2.06.94zm10 10l.94 2.06.94-2.06 2.06-.94-2.06-.94-.94-2.06-.94 2.06-2.06.94z\"/><path d=\"M17.41 7.96l-1.37-1.37c-.4-.4-.92-.59-1.43-.59-.52 0-1.04.2-1.43.59L10.3 9.45l-7.72 7.72c-.78.78-.78 2.05 0 2.83L4 21.41c.39.39.9.59 1.41.59.51 0 1.02-.2 1.41-.59l7.78-7.78 2.81-2.81c.8-.78.8-2.07 0-2.86zM5.41 20L4 18.59l7.72-7.72 1.47 1.35L5.41 20z\"/>\n",
              "  </svg>\n",
              "      </button>\n",
              "      \n",
              "  <style>\n",
              "    .colab-df-container {\n",
              "      display:flex;\n",
              "      flex-wrap:wrap;\n",
              "      gap: 12px;\n",
              "    }\n",
              "\n",
              "    .colab-df-convert {\n",
              "      background-color: #E8F0FE;\n",
              "      border: none;\n",
              "      border-radius: 50%;\n",
              "      cursor: pointer;\n",
              "      display: none;\n",
              "      fill: #1967D2;\n",
              "      height: 32px;\n",
              "      padding: 0 0 0 0;\n",
              "      width: 32px;\n",
              "    }\n",
              "\n",
              "    .colab-df-convert:hover {\n",
              "      background-color: #E2EBFA;\n",
              "      box-shadow: 0px 1px 2px rgba(60, 64, 67, 0.3), 0px 1px 3px 1px rgba(60, 64, 67, 0.15);\n",
              "      fill: #174EA6;\n",
              "    }\n",
              "\n",
              "    [theme=dark] .colab-df-convert {\n",
              "      background-color: #3B4455;\n",
              "      fill: #D2E3FC;\n",
              "    }\n",
              "\n",
              "    [theme=dark] .colab-df-convert:hover {\n",
              "      background-color: #434B5C;\n",
              "      box-shadow: 0px 1px 3px 1px rgba(0, 0, 0, 0.15);\n",
              "      filter: drop-shadow(0px 1px 2px rgba(0, 0, 0, 0.3));\n",
              "      fill: #FFFFFF;\n",
              "    }\n",
              "  </style>\n",
              "\n",
              "      <script>\n",
              "        const buttonEl =\n",
              "          document.querySelector('#df-29f0f1ab-fcf2-40f0-bd49-30f02853c6ab button.colab-df-convert');\n",
              "        buttonEl.style.display =\n",
              "          google.colab.kernel.accessAllowed ? 'block' : 'none';\n",
              "\n",
              "        async function convertToInteractive(key) {\n",
              "          const element = document.querySelector('#df-29f0f1ab-fcf2-40f0-bd49-30f02853c6ab');\n",
              "          const dataTable =\n",
              "            await google.colab.kernel.invokeFunction('convertToInteractive',\n",
              "                                                     [key], {});\n",
              "          if (!dataTable) return;\n",
              "\n",
              "          const docLinkHtml = 'Like what you see? Visit the ' +\n",
              "            '<a target=\"_blank\" href=https://colab.research.google.com/notebooks/data_table.ipynb>data table notebook</a>'\n",
              "            + ' to learn more about interactive tables.';\n",
              "          element.innerHTML = '';\n",
              "          dataTable['output_type'] = 'display_data';\n",
              "          await google.colab.output.renderOutput(dataTable, element);\n",
              "          const docLink = document.createElement('div');\n",
              "          docLink.innerHTML = docLinkHtml;\n",
              "          element.appendChild(docLink);\n",
              "        }\n",
              "      </script>\n",
              "    </div>\n",
              "  </div>\n",
              "  "
            ]
          },
          "metadata": {},
          "execution_count": 50
        }
      ]
    },
    {
      "cell_type": "markdown",
      "source": [
        "The data has been transformed into numerical as follows:\n",
        "\n",
        "has_a_bank_account:\n",
        "\n",
        "1 = Yes, 0 = No"
      ],
      "metadata": {
        "id": "htqCex8_MrSg"
      }
    },
    {
      "cell_type": "code",
      "source": [
        "Financial['has_a_bank_account'].value_counts()\n"
      ],
      "metadata": {
        "colab": {
          "base_uri": "https://localhost:8080/"
        },
        "id": "WMgNK6E-XV3i",
        "outputId": "f634ddc6-6f48-4a4c-db37-6468ba6b0188"
      },
      "execution_count": null,
      "outputs": [
        {
          "output_type": "execute_result",
          "data": {
            "text/plain": [
              "No     20179\n",
              "Yes     3309\n",
              "Name: has_a_bank_account, dtype: int64"
            ]
          },
          "metadata": {},
          "execution_count": 51
        }
      ]
    },
    {
      "cell_type": "code",
      "source": [
        "Financial1['country'].value_counts()\n"
      ],
      "metadata": {
        "colab": {
          "base_uri": "https://localhost:8080/"
        },
        "id": "1HuFKB3FXelf",
        "outputId": "8281c8e7-4433-4f91-c2ee-090c335bd1ab"
      },
      "execution_count": null,
      "outputs": [
        {
          "output_type": "execute_result",
          "data": {
            "text/plain": [
              "1    8735\n",
              "2    6570\n",
              "0    6068\n",
              "3    2101\n",
              "4      14\n",
              "Name: country, dtype: int64"
            ]
          },
          "metadata": {},
          "execution_count": 52
        }
      ]
    },
    {
      "cell_type": "code",
      "source": [
        "Financial1['has_a_bank_account'].value_counts()\n"
      ],
      "metadata": {
        "colab": {
          "base_uri": "https://localhost:8080/"
        },
        "id": "bAkrCKplXCVr",
        "outputId": "e9367b6c-a10b-4ae0-8697-054e180b3628"
      },
      "execution_count": null,
      "outputs": [
        {
          "output_type": "execute_result",
          "data": {
            "text/plain": [
              "0    20179\n",
              "1     3309\n",
              "Name: has_a_bank_account, dtype: int64"
            ]
          },
          "metadata": {},
          "execution_count": 53
        }
      ]
    },
    {
      "cell_type": "code",
      "source": [
        "# Convert catergorical data to Numerical for modeling\n",
        "#from sklearn.preprocessing import LabelEncoder\n",
        "\n",
        "# instantiate labelencoder object\n",
        "#le = LabelEncoder()\n",
        "\n",
        "# apply le on categorical feature columns\n",
        "#categorical_cols = ['country','has_a_bank_account','type_of_Location','cell_phone_access','gender_of_respondent','the_relatioship_with_head','marital_status','level_of_education','type_of_Job']\n",
        "#Financial2 = Financial[categorical_cols].apply(lambda col: le.fit_transform(col))\n",
        "#Financial.head(5)\n"
      ],
      "metadata": {
        "id": "HZ7Z9srjJ3kg"
      },
      "execution_count": null,
      "outputs": []
    },
    {
      "cell_type": "code",
      "source": [
        "#Checking the datatypes present in the dataset\n",
        "Financial1.dtypes"
      ],
      "metadata": {
        "colab": {
          "base_uri": "https://localhost:8080/"
        },
        "id": "TZi6B0-7NF09",
        "outputId": "31a706ae-5925-48dd-d8e2-e62a03105f4c"
      },
      "execution_count": null,
      "outputs": [
        {
          "output_type": "execute_result",
          "data": {
            "text/plain": [
              "year                           int64\n",
              "uniqueid                      object\n",
              "household_size               float64\n",
              "respondent_age               float64\n",
              "country                        int64\n",
              "has_a_bank_account             int64\n",
              "type_of_Location               int64\n",
              "cell_phone_access              int64\n",
              "gender_of_respondent           int64\n",
              "the_relatioship_with_head      int64\n",
              "marital_status                 int64\n",
              "level_of_education             int64\n",
              "type_of_Job                    int64\n",
              "dtype: object"
            ]
          },
          "metadata": {},
          "execution_count": 55
        }
      ]
    },
    {
      "cell_type": "code",
      "source": [
        "Financial1.info()\n"
      ],
      "metadata": {
        "colab": {
          "base_uri": "https://localhost:8080/"
        },
        "id": "6beke_7RSq7k",
        "outputId": "766d221f-f6bc-4074-f718-fc392cc2f4af"
      },
      "execution_count": null,
      "outputs": [
        {
          "output_type": "stream",
          "name": "stdout",
          "text": [
            "<class 'pandas.core.frame.DataFrame'>\n",
            "Int64Index: 23488 entries, 0 to 23523\n",
            "Data columns (total 13 columns):\n",
            " #   Column                     Non-Null Count  Dtype  \n",
            "---  ------                     --------------  -----  \n",
            " 0   year                       23488 non-null  int64  \n",
            " 1   uniqueid                   23488 non-null  object \n",
            " 2   household_size             23488 non-null  float64\n",
            " 3   respondent_age             23488 non-null  float64\n",
            " 4   country                    23488 non-null  int64  \n",
            " 5   has_a_bank_account         23488 non-null  int64  \n",
            " 6   type_of_Location           23488 non-null  int64  \n",
            " 7   cell_phone_access          23488 non-null  int64  \n",
            " 8   gender_of_respondent       23488 non-null  int64  \n",
            " 9   the_relatioship_with_head  23488 non-null  int64  \n",
            " 10  marital_status             23488 non-null  int64  \n",
            " 11  level_of_education         23488 non-null  int64  \n",
            " 12  type_of_Job                23488 non-null  int64  \n",
            "dtypes: float64(2), int64(10), object(1)\n",
            "memory usage: 3.0+ MB\n"
          ]
        }
      ]
    },
    {
      "cell_type": "code",
      "source": [
        "#Converting float datatypes to Integer\n",
        "Financial1['household_size'] = Financial1['household_size'].astype(int)\n",
        "Financial1.info()"
      ],
      "metadata": {
        "colab": {
          "base_uri": "https://localhost:8080/"
        },
        "id": "M5wbnJeFx58V",
        "outputId": "1aa808ba-4f93-48b5-aefb-b2b62806830c"
      },
      "execution_count": null,
      "outputs": [
        {
          "output_type": "stream",
          "name": "stdout",
          "text": [
            "<class 'pandas.core.frame.DataFrame'>\n",
            "Int64Index: 23488 entries, 0 to 23523\n",
            "Data columns (total 13 columns):\n",
            " #   Column                     Non-Null Count  Dtype  \n",
            "---  ------                     --------------  -----  \n",
            " 0   year                       23488 non-null  int64  \n",
            " 1   uniqueid                   23488 non-null  object \n",
            " 2   household_size             23488 non-null  int64  \n",
            " 3   respondent_age             23488 non-null  float64\n",
            " 4   country                    23488 non-null  int64  \n",
            " 5   has_a_bank_account         23488 non-null  int64  \n",
            " 6   type_of_Location           23488 non-null  int64  \n",
            " 7   cell_phone_access          23488 non-null  int64  \n",
            " 8   gender_of_respondent       23488 non-null  int64  \n",
            " 9   the_relatioship_with_head  23488 non-null  int64  \n",
            " 10  marital_status             23488 non-null  int64  \n",
            " 11  level_of_education         23488 non-null  int64  \n",
            " 12  type_of_Job                23488 non-null  int64  \n",
            "dtypes: float64(1), int64(11), object(1)\n",
            "memory usage: 3.0+ MB\n"
          ]
        }
      ]
    },
    {
      "cell_type": "code",
      "source": [
        "#Converting float datatypes to Integer\n",
        "Financial1['respondent_age'] = Financial1['respondent_age'].astype(int)\n",
        "Financial1"
      ],
      "metadata": {
        "colab": {
          "base_uri": "https://localhost:8080/",
          "height": 488
        },
        "id": "DNhwgV4QyU-c",
        "outputId": "a20af16f-99af-40e9-ed56-cfb5b3c588cb"
      },
      "execution_count": null,
      "outputs": [
        {
          "output_type": "execute_result",
          "data": {
            "text/plain": [
              "       year       uniqueid  household_size  respondent_age  country  \\\n",
              "0      2018     uniqueid_1               3              24        0   \n",
              "1      2018     uniqueid_2               5              70        0   \n",
              "2      2018     uniqueid_3               5              26        0   \n",
              "3      2018     uniqueid_4               5              34        0   \n",
              "4      2018     uniqueid_5               8              26        0   \n",
              "...     ...            ...             ...             ...      ...   \n",
              "23519  2018  uniqueid_2113               4              48        3   \n",
              "23520  2018  uniqueid_2114               2              27        3   \n",
              "23521  2018  uniqueid_2115               5              27        3   \n",
              "23522  2018  uniqueid_2116               7              30        3   \n",
              "23523  2018  uniqueid_2117              10              20        3   \n",
              "\n",
              "       has_a_bank_account  type_of_Location  cell_phone_access  \\\n",
              "0                       1                 0                  1   \n",
              "1                       0                 0                  0   \n",
              "2                       1                 2                  1   \n",
              "3                       0                 0                  1   \n",
              "4                       0                 2                  0   \n",
              "...                   ...               ...                ...   \n",
              "23519                   0                 0                  1   \n",
              "23520                   0                 0                  1   \n",
              "23521                   0                 0                  1   \n",
              "23522                   0                 2                  1   \n",
              "23523                   0                 0                  1   \n",
              "\n",
              "       gender_of_respondent  the_relatioship_with_head  marital_status  \\\n",
              "0                         0                          5               2   \n",
              "1                         0                          1               5   \n",
              "2                         1                          3               3   \n",
              "3                         0                          1               2   \n",
              "4                         1                          0               3   \n",
              "...                     ...                        ...             ...   \n",
              "23519                     0                          1               0   \n",
              "23520                     0                          1               3   \n",
              "23521                     0                          4               5   \n",
              "23522                     0                          4               0   \n",
              "23523                     1                          0               3   \n",
              "\n",
              "       level_of_education  type_of_Job  \n",
              "0                       4            9  \n",
              "1                       1            4  \n",
              "2                       7            9  \n",
              "3                       3            3  \n",
              "4                       3            5  \n",
              "...                   ...          ...  \n",
              "23519                   1            7  \n",
              "23520                   4            7  \n",
              "23521                   3            7  \n",
              "23522                   4            9  \n",
              "23523                   4            6  \n",
              "\n",
              "[23488 rows x 13 columns]"
            ],
            "text/html": [
              "\n",
              "  <div id=\"df-7a04b49e-10b5-4cb5-bb6a-2011bcdf001d\">\n",
              "    <div class=\"colab-df-container\">\n",
              "      <div>\n",
              "<style scoped>\n",
              "    .dataframe tbody tr th:only-of-type {\n",
              "        vertical-align: middle;\n",
              "    }\n",
              "\n",
              "    .dataframe tbody tr th {\n",
              "        vertical-align: top;\n",
              "    }\n",
              "\n",
              "    .dataframe thead th {\n",
              "        text-align: right;\n",
              "    }\n",
              "</style>\n",
              "<table border=\"1\" class=\"dataframe\">\n",
              "  <thead>\n",
              "    <tr style=\"text-align: right;\">\n",
              "      <th></th>\n",
              "      <th>year</th>\n",
              "      <th>uniqueid</th>\n",
              "      <th>household_size</th>\n",
              "      <th>respondent_age</th>\n",
              "      <th>country</th>\n",
              "      <th>has_a_bank_account</th>\n",
              "      <th>type_of_Location</th>\n",
              "      <th>cell_phone_access</th>\n",
              "      <th>gender_of_respondent</th>\n",
              "      <th>the_relatioship_with_head</th>\n",
              "      <th>marital_status</th>\n",
              "      <th>level_of_education</th>\n",
              "      <th>type_of_Job</th>\n",
              "    </tr>\n",
              "  </thead>\n",
              "  <tbody>\n",
              "    <tr>\n",
              "      <th>0</th>\n",
              "      <td>2018</td>\n",
              "      <td>uniqueid_1</td>\n",
              "      <td>3</td>\n",
              "      <td>24</td>\n",
              "      <td>0</td>\n",
              "      <td>1</td>\n",
              "      <td>0</td>\n",
              "      <td>1</td>\n",
              "      <td>0</td>\n",
              "      <td>5</td>\n",
              "      <td>2</td>\n",
              "      <td>4</td>\n",
              "      <td>9</td>\n",
              "    </tr>\n",
              "    <tr>\n",
              "      <th>1</th>\n",
              "      <td>2018</td>\n",
              "      <td>uniqueid_2</td>\n",
              "      <td>5</td>\n",
              "      <td>70</td>\n",
              "      <td>0</td>\n",
              "      <td>0</td>\n",
              "      <td>0</td>\n",
              "      <td>0</td>\n",
              "      <td>0</td>\n",
              "      <td>1</td>\n",
              "      <td>5</td>\n",
              "      <td>1</td>\n",
              "      <td>4</td>\n",
              "    </tr>\n",
              "    <tr>\n",
              "      <th>2</th>\n",
              "      <td>2018</td>\n",
              "      <td>uniqueid_3</td>\n",
              "      <td>5</td>\n",
              "      <td>26</td>\n",
              "      <td>0</td>\n",
              "      <td>1</td>\n",
              "      <td>2</td>\n",
              "      <td>1</td>\n",
              "      <td>1</td>\n",
              "      <td>3</td>\n",
              "      <td>3</td>\n",
              "      <td>7</td>\n",
              "      <td>9</td>\n",
              "    </tr>\n",
              "    <tr>\n",
              "      <th>3</th>\n",
              "      <td>2018</td>\n",
              "      <td>uniqueid_4</td>\n",
              "      <td>5</td>\n",
              "      <td>34</td>\n",
              "      <td>0</td>\n",
              "      <td>0</td>\n",
              "      <td>0</td>\n",
              "      <td>1</td>\n",
              "      <td>0</td>\n",
              "      <td>1</td>\n",
              "      <td>2</td>\n",
              "      <td>3</td>\n",
              "      <td>3</td>\n",
              "    </tr>\n",
              "    <tr>\n",
              "      <th>4</th>\n",
              "      <td>2018</td>\n",
              "      <td>uniqueid_5</td>\n",
              "      <td>8</td>\n",
              "      <td>26</td>\n",
              "      <td>0</td>\n",
              "      <td>0</td>\n",
              "      <td>2</td>\n",
              "      <td>0</td>\n",
              "      <td>1</td>\n",
              "      <td>0</td>\n",
              "      <td>3</td>\n",
              "      <td>3</td>\n",
              "      <td>5</td>\n",
              "    </tr>\n",
              "    <tr>\n",
              "      <th>...</th>\n",
              "      <td>...</td>\n",
              "      <td>...</td>\n",
              "      <td>...</td>\n",
              "      <td>...</td>\n",
              "      <td>...</td>\n",
              "      <td>...</td>\n",
              "      <td>...</td>\n",
              "      <td>...</td>\n",
              "      <td>...</td>\n",
              "      <td>...</td>\n",
              "      <td>...</td>\n",
              "      <td>...</td>\n",
              "      <td>...</td>\n",
              "    </tr>\n",
              "    <tr>\n",
              "      <th>23519</th>\n",
              "      <td>2018</td>\n",
              "      <td>uniqueid_2113</td>\n",
              "      <td>4</td>\n",
              "      <td>48</td>\n",
              "      <td>3</td>\n",
              "      <td>0</td>\n",
              "      <td>0</td>\n",
              "      <td>1</td>\n",
              "      <td>0</td>\n",
              "      <td>1</td>\n",
              "      <td>0</td>\n",
              "      <td>1</td>\n",
              "      <td>7</td>\n",
              "    </tr>\n",
              "    <tr>\n",
              "      <th>23520</th>\n",
              "      <td>2018</td>\n",
              "      <td>uniqueid_2114</td>\n",
              "      <td>2</td>\n",
              "      <td>27</td>\n",
              "      <td>3</td>\n",
              "      <td>0</td>\n",
              "      <td>0</td>\n",
              "      <td>1</td>\n",
              "      <td>0</td>\n",
              "      <td>1</td>\n",
              "      <td>3</td>\n",
              "      <td>4</td>\n",
              "      <td>7</td>\n",
              "    </tr>\n",
              "    <tr>\n",
              "      <th>23521</th>\n",
              "      <td>2018</td>\n",
              "      <td>uniqueid_2115</td>\n",
              "      <td>5</td>\n",
              "      <td>27</td>\n",
              "      <td>3</td>\n",
              "      <td>0</td>\n",
              "      <td>0</td>\n",
              "      <td>1</td>\n",
              "      <td>0</td>\n",
              "      <td>4</td>\n",
              "      <td>5</td>\n",
              "      <td>3</td>\n",
              "      <td>7</td>\n",
              "    </tr>\n",
              "    <tr>\n",
              "      <th>23522</th>\n",
              "      <td>2018</td>\n",
              "      <td>uniqueid_2116</td>\n",
              "      <td>7</td>\n",
              "      <td>30</td>\n",
              "      <td>3</td>\n",
              "      <td>0</td>\n",
              "      <td>2</td>\n",
              "      <td>1</td>\n",
              "      <td>0</td>\n",
              "      <td>4</td>\n",
              "      <td>0</td>\n",
              "      <td>4</td>\n",
              "      <td>9</td>\n",
              "    </tr>\n",
              "    <tr>\n",
              "      <th>23523</th>\n",
              "      <td>2018</td>\n",
              "      <td>uniqueid_2117</td>\n",
              "      <td>10</td>\n",
              "      <td>20</td>\n",
              "      <td>3</td>\n",
              "      <td>0</td>\n",
              "      <td>0</td>\n",
              "      <td>1</td>\n",
              "      <td>1</td>\n",
              "      <td>0</td>\n",
              "      <td>3</td>\n",
              "      <td>4</td>\n",
              "      <td>6</td>\n",
              "    </tr>\n",
              "  </tbody>\n",
              "</table>\n",
              "<p>23488 rows × 13 columns</p>\n",
              "</div>\n",
              "      <button class=\"colab-df-convert\" onclick=\"convertToInteractive('df-7a04b49e-10b5-4cb5-bb6a-2011bcdf001d')\"\n",
              "              title=\"Convert this dataframe to an interactive table.\"\n",
              "              style=\"display:none;\">\n",
              "        \n",
              "  <svg xmlns=\"http://www.w3.org/2000/svg\" height=\"24px\"viewBox=\"0 0 24 24\"\n",
              "       width=\"24px\">\n",
              "    <path d=\"M0 0h24v24H0V0z\" fill=\"none\"/>\n",
              "    <path d=\"M18.56 5.44l.94 2.06.94-2.06 2.06-.94-2.06-.94-.94-2.06-.94 2.06-2.06.94zm-11 1L8.5 8.5l.94-2.06 2.06-.94-2.06-.94L8.5 2.5l-.94 2.06-2.06.94zm10 10l.94 2.06.94-2.06 2.06-.94-2.06-.94-.94-2.06-.94 2.06-2.06.94z\"/><path d=\"M17.41 7.96l-1.37-1.37c-.4-.4-.92-.59-1.43-.59-.52 0-1.04.2-1.43.59L10.3 9.45l-7.72 7.72c-.78.78-.78 2.05 0 2.83L4 21.41c.39.39.9.59 1.41.59.51 0 1.02-.2 1.41-.59l7.78-7.78 2.81-2.81c.8-.78.8-2.07 0-2.86zM5.41 20L4 18.59l7.72-7.72 1.47 1.35L5.41 20z\"/>\n",
              "  </svg>\n",
              "      </button>\n",
              "      \n",
              "  <style>\n",
              "    .colab-df-container {\n",
              "      display:flex;\n",
              "      flex-wrap:wrap;\n",
              "      gap: 12px;\n",
              "    }\n",
              "\n",
              "    .colab-df-convert {\n",
              "      background-color: #E8F0FE;\n",
              "      border: none;\n",
              "      border-radius: 50%;\n",
              "      cursor: pointer;\n",
              "      display: none;\n",
              "      fill: #1967D2;\n",
              "      height: 32px;\n",
              "      padding: 0 0 0 0;\n",
              "      width: 32px;\n",
              "    }\n",
              "\n",
              "    .colab-df-convert:hover {\n",
              "      background-color: #E2EBFA;\n",
              "      box-shadow: 0px 1px 2px rgba(60, 64, 67, 0.3), 0px 1px 3px 1px rgba(60, 64, 67, 0.15);\n",
              "      fill: #174EA6;\n",
              "    }\n",
              "\n",
              "    [theme=dark] .colab-df-convert {\n",
              "      background-color: #3B4455;\n",
              "      fill: #D2E3FC;\n",
              "    }\n",
              "\n",
              "    [theme=dark] .colab-df-convert:hover {\n",
              "      background-color: #434B5C;\n",
              "      box-shadow: 0px 1px 3px 1px rgba(0, 0, 0, 0.15);\n",
              "      filter: drop-shadow(0px 1px 2px rgba(0, 0, 0, 0.3));\n",
              "      fill: #FFFFFF;\n",
              "    }\n",
              "  </style>\n",
              "\n",
              "      <script>\n",
              "        const buttonEl =\n",
              "          document.querySelector('#df-7a04b49e-10b5-4cb5-bb6a-2011bcdf001d button.colab-df-convert');\n",
              "        buttonEl.style.display =\n",
              "          google.colab.kernel.accessAllowed ? 'block' : 'none';\n",
              "\n",
              "        async function convertToInteractive(key) {\n",
              "          const element = document.querySelector('#df-7a04b49e-10b5-4cb5-bb6a-2011bcdf001d');\n",
              "          const dataTable =\n",
              "            await google.colab.kernel.invokeFunction('convertToInteractive',\n",
              "                                                     [key], {});\n",
              "          if (!dataTable) return;\n",
              "\n",
              "          const docLinkHtml = 'Like what you see? Visit the ' +\n",
              "            '<a target=\"_blank\" href=https://colab.research.google.com/notebooks/data_table.ipynb>data table notebook</a>'\n",
              "            + ' to learn more about interactive tables.';\n",
              "          element.innerHTML = '';\n",
              "          dataTable['output_type'] = 'display_data';\n",
              "          await google.colab.output.renderOutput(dataTable, element);\n",
              "          const docLink = document.createElement('div');\n",
              "          docLink.innerHTML = docLinkHtml;\n",
              "          element.appendChild(docLink);\n",
              "        }\n",
              "      </script>\n",
              "    </div>\n",
              "  </div>\n",
              "  "
            ]
          },
          "metadata": {},
          "execution_count": 58
        }
      ]
    },
    {
      "cell_type": "code",
      "source": [
        "#Dropping unwanted columns\n",
        "Financial1.drop(['uniqueid','the_relatioship_with_head'], axis = 1, inplace= True)\n",
        "Financial1.info()"
      ],
      "metadata": {
        "colab": {
          "base_uri": "https://localhost:8080/"
        },
        "id": "8-5xuVH-5nZJ",
        "outputId": "77ee2cc2-ebb0-4d8f-d41b-056c905206e5"
      },
      "execution_count": null,
      "outputs": [
        {
          "output_type": "stream",
          "name": "stdout",
          "text": [
            "<class 'pandas.core.frame.DataFrame'>\n",
            "Int64Index: 23488 entries, 0 to 23523\n",
            "Data columns (total 11 columns):\n",
            " #   Column                Non-Null Count  Dtype\n",
            "---  ------                --------------  -----\n",
            " 0   year                  23488 non-null  int64\n",
            " 1   household_size        23488 non-null  int64\n",
            " 2   respondent_age        23488 non-null  int64\n",
            " 3   country               23488 non-null  int64\n",
            " 4   has_a_bank_account    23488 non-null  int64\n",
            " 5   type_of_Location      23488 non-null  int64\n",
            " 6   cell_phone_access     23488 non-null  int64\n",
            " 7   gender_of_respondent  23488 non-null  int64\n",
            " 8   marital_status        23488 non-null  int64\n",
            " 9   level_of_education    23488 non-null  int64\n",
            " 10  type_of_Job           23488 non-null  int64\n",
            "dtypes: int64(11)\n",
            "memory usage: 2.7 MB\n"
          ]
        }
      ]
    },
    {
      "cell_type": "markdown",
      "source": [
        "##TRAIN,TEST AND SPLIT"
      ],
      "metadata": {
        "id": "y8BIAsotYzuT"
      }
    },
    {
      "cell_type": "code",
      "source": [
        "# Splitting the dataset into train and test using train test split\n",
        "# We will use a test size of 20%\n",
        "#\n",
        "from sklearn.model_selection import train_test_split\n",
        "\n",
        "X=Financial1.drop('has_a_bank_account',axis=1)\n",
        "y=Financial1['has_a_bank_account']\n",
        "\n",
        "X_train,X_test,y_train,y_test=train_test_split(X,y,test_size=.20,random_state=0)"
      ],
      "metadata": {
        "id": "XEMTtonL9fu7"
      },
      "execution_count": null,
      "outputs": []
    },
    {
      "cell_type": "code",
      "source": [
        "# Checking the shapes of our feature variables\n",
        "X.shape, X_train.shape, X_test.shape"
      ],
      "metadata": {
        "colab": {
          "base_uri": "https://localhost:8080/"
        },
        "id": "PGZJNvqyynnO",
        "outputId": "3919f398-066e-4cb9-93c9-2ef5022792cd"
      },
      "execution_count": null,
      "outputs": [
        {
          "output_type": "execute_result",
          "data": {
            "text/plain": [
              "((23488, 10), (18790, 10), (4698, 10))"
            ]
          },
          "metadata": {},
          "execution_count": 61
        }
      ]
    },
    {
      "cell_type": "markdown",
      "source": [
        "**Observations**\n",
        "> Our feature variables have 23524 rows and 10 columns, X_train has 18819 rows and 10 columns and X_test has 4705 rows and 10 columns."
      ],
      "metadata": {
        "id": "oTKv24yIgf_L"
      }
    },
    {
      "cell_type": "code",
      "source": [
        "# Checking the shapes of our target variable\n",
        "y.shape, y_train.shape, y_test.shape"
      ],
      "metadata": {
        "colab": {
          "base_uri": "https://localhost:8080/"
        },
        "id": "LoLmsJbS0j3i",
        "outputId": "c280aaa2-28b4-41f4-81f4-9a39e3ae0461"
      },
      "execution_count": null,
      "outputs": [
        {
          "output_type": "execute_result",
          "data": {
            "text/plain": [
              "((23488,), (18790,), (4698,))"
            ]
          },
          "metadata": {},
          "execution_count": 62
        }
      ]
    },
    {
      "cell_type": "markdown",
      "source": [
        "**Observations**\n",
        "> Our target variables have 23524 rows y_train has 18819 rows  and y_test has 4705 rows."
      ],
      "metadata": {
        "id": "cHqntBFrhTgr"
      }
    },
    {
      "cell_type": "code",
      "source": [
        "# Checking the target variable to see if the classes are balanced\n",
        "#\n",
        "y_train.value_counts()"
      ],
      "metadata": {
        "colab": {
          "base_uri": "https://localhost:8080/"
        },
        "id": "CRbMC71vU1GC",
        "outputId": "ca7179e2-e565-4e9b-de70-4ee0fad22393"
      },
      "execution_count": null,
      "outputs": [
        {
          "output_type": "execute_result",
          "data": {
            "text/plain": [
              "0    16151\n",
              "1     2639\n",
              "Name: has_a_bank_account, dtype: int64"
            ]
          },
          "metadata": {},
          "execution_count": 63
        }
      ]
    },
    {
      "cell_type": "markdown",
      "source": [
        "**Observations**\n",
        "\n",
        "> The output shows that 16182 do not have bank accounts while only 2610 have . This means that our target variable is imbalanced."
      ],
      "metadata": {
        "id": "JOMiGYXFVCtI"
      }
    },
    {
      "cell_type": "markdown",
      "source": [
        "### **Normalization of data**"
      ],
      "metadata": {
        "id": "6uMUV4wnJESb"
      }
    },
    {
      "cell_type": "code",
      "source": [
        "# We will normalize our data by using StandardScaler\n",
        "# Initialize the scaler\n",
        "#\n",
        "from sklearn.preprocessing import StandardScaler\n",
        "scaler = StandardScaler()\n",
        "\n",
        "# Fitting the scaler\n",
        "scaler.fit(X_train)\n",
        "\n",
        "# Applying the transformation to the data\n",
        "X_train = scaler.transform(X_train)\n",
        "\n",
        "X_test = scaler.transform(X_test)"
      ],
      "metadata": {
        "id": "aHmWaIz1ah9s"
      },
      "execution_count": null,
      "outputs": []
    },
    {
      "cell_type": "markdown",
      "source": [
        "> # c) Implementing the Solution\n",
        "## Neural Network"
      ],
      "metadata": {
        "id": "GhWHLZXflcKc"
      }
    },
    {
      "cell_type": "code",
      "source": [
        "#Importing libraries\n",
        "import tensorflow as tf\n",
        "from tensorflow import keras\n",
        "tf.random.set_seed(0)"
      ],
      "metadata": {
        "id": "b0xFpJ7Zlbnw"
      },
      "execution_count": null,
      "outputs": []
    },
    {
      "cell_type": "markdown",
      "source": [
        "Importing the libraries needed for tensorflow.We imported Keras as it is a high api level for tensorflow.\n",
        "Also we import tensorflow as we are using neural network algorithm"
      ],
      "metadata": {
        "id": "d36O3tjYw-oN"
      }
    },
    {
      "cell_type": "code",
      "source": [
        "#Building the model\n",
        "My_model = keras.Sequential([\n",
        "    keras.layers.Dense(units=80, activation='relu'),\n",
        "    keras.layers.Dense(units=60, activation='relu'),\n",
        "    #keras.layers.Dense(units=128, activation='relu'),\n",
        "    keras.layers.Dense(units=1, activation='sigmoid')\n",
        "])"
      ],
      "metadata": {
        "id": "OlGq8XHMyEsc"
      },
      "execution_count": null,
      "outputs": []
    },
    {
      "cell_type": "markdown",
      "source": [
        "Converted the 2D array to a 1D array.The parameter units set the number of neurons(units) for each layer.Then we use the relu activation function on the layers to decide the opinion of each neuoron should be taken to what account and to what degree.Also Relu was preffered as it does not have  vanishing gradient hence improving the accuracy of the model.And also preffered in input layers as compared to other activation functions that are used in the output layer.Then we used sigmoid in the output layer as we are building a binary classifier and that our dataset is a predictive analysis.We used 2 layers as we have two values 0 and 1."
      ],
      "metadata": {
        "id": "MY_3p4a3AZYk"
      }
    },
    {
      "cell_type": "code",
      "source": [
        "#Training the model\n",
        "My_model.compile(optimizer='adam',\n",
        "    loss=tf.keras.losses.binary_crossentropy,\n",
        "    metrics=[\n",
        "        tf.keras.metrics.BinaryAccuracy(name='accuracy'),\n",
        "        tf.keras.metrics.Precision(name='precision'),\n",
        "        tf.keras.metrics.Recall(name='recall'),\n",
        "    ])\n",
        "history = My_model.fit(X_train, y_train, epochs = 10)"
      ],
      "metadata": {
        "id": "TNTtSjfhMEcF",
        "colab": {
          "base_uri": "https://localhost:8080/"
        },
        "outputId": "2a97eb3d-dc46-48a9-91c7-f894a0fedc5d"
      },
      "execution_count": null,
      "outputs": [
        {
          "output_type": "stream",
          "name": "stdout",
          "text": [
            "Epoch 1/10\n",
            "588/588 [==============================] - 2s 2ms/step - loss: 0.3199 - accuracy: 0.8703 - precision: 0.6115 - recall: 0.2088\n",
            "Epoch 2/10\n",
            "588/588 [==============================] - 1s 2ms/step - loss: 0.3005 - accuracy: 0.8773 - precision: 0.6491 - recall: 0.2747\n",
            "Epoch 3/10\n",
            "588/588 [==============================] - 1s 2ms/step - loss: 0.2971 - accuracy: 0.8790 - precision: 0.6535 - recall: 0.2944\n",
            "Epoch 4/10\n",
            "588/588 [==============================] - 1s 2ms/step - loss: 0.2939 - accuracy: 0.8790 - precision: 0.6495 - recall: 0.3005\n",
            "Epoch 5/10\n",
            "588/588 [==============================] - 1s 2ms/step - loss: 0.2914 - accuracy: 0.8808 - precision: 0.6572 - recall: 0.3168\n",
            "Epoch 6/10\n",
            "588/588 [==============================] - 1s 2ms/step - loss: 0.2904 - accuracy: 0.8816 - precision: 0.6638 - recall: 0.3187\n",
            "Epoch 7/10\n",
            "588/588 [==============================] - 1s 2ms/step - loss: 0.2883 - accuracy: 0.8808 - precision: 0.6592 - recall: 0.3138\n",
            "Epoch 8/10\n",
            "588/588 [==============================] - 1s 2ms/step - loss: 0.2873 - accuracy: 0.8825 - precision: 0.6619 - recall: 0.3346\n",
            "Epoch 9/10\n",
            "588/588 [==============================] - 1s 2ms/step - loss: 0.2855 - accuracy: 0.8839 - precision: 0.6735 - recall: 0.3361\n",
            "Epoch 10/10\n",
            "588/588 [==============================] - 1s 2ms/step - loss: 0.2837 - accuracy: 0.8831 - precision: 0.6695 - recall: 0.3308\n"
          ]
        }
      ]
    },
    {
      "cell_type": "code",
      "source": [
        "#Making predictions\n",
        "predictions= np.argmax(My_model.predict(X_test), axis=-1)\n",
        "predictions"
      ],
      "metadata": {
        "colab": {
          "base_uri": "https://localhost:8080/"
        },
        "id": "DrU6iW-6Bfqx",
        "outputId": "e565e7fc-56e0-41dd-b15d-13e81bb96084"
      },
      "execution_count": null,
      "outputs": [
        {
          "output_type": "stream",
          "name": "stdout",
          "text": [
            "147/147 [==============================] - 0s 1ms/step\n"
          ]
        },
        {
          "output_type": "execute_result",
          "data": {
            "text/plain": [
              "array([0, 0, 0, ..., 0, 0, 0])"
            ]
          },
          "metadata": {},
          "execution_count": 68
        }
      ]
    },
    {
      "cell_type": "code",
      "source": [
        "# Evaluating the model\n",
        "from sklearn.metrics import classification_report, confusion_matrix\n",
        "\n",
        "confusion_matrix = confusion_matrix(y_test, predictions)\n",
        "print(confusion_matrix)\n",
        "\n",
        "# Looking at the classification report\n",
        "print(classification_report(y_test, predictions))"
      ],
      "metadata": {
        "colab": {
          "base_uri": "https://localhost:8080/"
        },
        "id": "DSZrUyO2CbD0",
        "outputId": "5e93418f-6534-441a-dc26-052159460fef"
      },
      "execution_count": null,
      "outputs": [
        {
          "output_type": "stream",
          "name": "stdout",
          "text": [
            "[[4028    0]\n",
            " [ 670    0]]\n",
            "              precision    recall  f1-score   support\n",
            "\n",
            "           0       0.86      1.00      0.92      4028\n",
            "           1       0.00      0.00      0.00       670\n",
            "\n",
            "    accuracy                           0.86      4698\n",
            "   macro avg       0.43      0.50      0.46      4698\n",
            "weighted avg       0.74      0.86      0.79      4698\n",
            "\n"
          ]
        },
        {
          "output_type": "stream",
          "name": "stderr",
          "text": [
            "/usr/local/lib/python3.8/dist-packages/sklearn/metrics/_classification.py:1318: UndefinedMetricWarning:\n",
            "\n",
            "Precision and F-score are ill-defined and being set to 0.0 in labels with no predicted samples. Use `zero_division` parameter to control this behavior.\n",
            "\n",
            "/usr/local/lib/python3.8/dist-packages/sklearn/metrics/_classification.py:1318: UndefinedMetricWarning:\n",
            "\n",
            "Precision and F-score are ill-defined and being set to 0.0 in labels with no predicted samples. Use `zero_division` parameter to control this behavior.\n",
            "\n",
            "/usr/local/lib/python3.8/dist-packages/sklearn/metrics/_classification.py:1318: UndefinedMetricWarning:\n",
            "\n",
            "Precision and F-score are ill-defined and being set to 0.0 in labels with no predicted samples. Use `zero_division` parameter to control this behavior.\n",
            "\n"
          ]
        }
      ]
    },
    {
      "cell_type": "markdown",
      "source": [
        "**a**.The confusion matrix shows that 4028 and 0 are the number of correct predictions whereas 670 and 0 are the number of wrong predictions.\n",
        "\n",
        "**b**.The model has a precision score of 86% and 0,a recall of 100% and 0 and an f1 score of 92% and 0."
      ],
      "metadata": {
        "id": "i8GAC4feHKMr"
      }
    },
    {
      "cell_type": "markdown",
      "source": [
        "> # c) Challenging the Solution"
      ],
      "metadata": {
        "id": "TbXGDNs7PCcr"
      }
    },
    {
      "cell_type": "code",
      "source": [
        "# import SMOTE oversampling\n",
        "from collections import Counter\n",
        "from imblearn.over_sampling import SMOTE\n",
        "\n",
        "# summarize class distribution\n",
        "print(\"Before oversampling: \",Counter(y_train))\n",
        "\n",
        "# define oversampling strategy\n",
        "SMOTE = SMOTE()\n",
        "\n",
        "# fit and apply the transform\n",
        "X_train_SMOTE, y_train_SMOTE = SMOTE.fit_resample(X_train, y_train)\n",
        "\n",
        "# summarize class distribution\n",
        "print(\"After oversampling: \",Counter(y_train_SMOTE))"
      ],
      "metadata": {
        "colab": {
          "base_uri": "https://localhost:8080/"
        },
        "id": "Fiqn4M-dCXrC",
        "outputId": "48853730-6246-4426-c902-e5654273a2c1"
      },
      "execution_count": null,
      "outputs": [
        {
          "output_type": "stream",
          "name": "stdout",
          "text": [
            "Before oversampling:  Counter({0: 16151, 1: 2639})\n",
            "After oversampling:  Counter({0: 16151, 1: 16151})\n"
          ]
        }
      ]
    },
    {
      "cell_type": "markdown",
      "source": [
        "I used SMOTE for solving imbalancing in the dataset.Hence the output shows that imbalancing has been solved thus dataset is balanced."
      ],
      "metadata": {
        "id": "N5ONGkKsMfoi"
      }
    },
    {
      "cell_type": "code",
      "source": [
        "#Challenging the model after solving imbalancing\n",
        "#Building the model\n",
        "My_model2 = keras.Sequential([\n",
        "    keras.layers.Dense(units=80, activation='relu'),\n",
        "    keras.layers.Dense(units=60, activation='relu'),\n",
        "    #keras.layers.Dense(units=128, activation='relu'),\n",
        "    keras.layers.Dense(units=1, activation='sigmoid')\n",
        "])"
      ],
      "metadata": {
        "id": "Mg37r1ykMzTi"
      },
      "execution_count": null,
      "outputs": []
    },
    {
      "cell_type": "code",
      "source": [
        "#Training the model\n",
        "My_model2.compile(optimizer='adam',\n",
        "    loss=tf.keras.losses.binary_crossentropy,\n",
        "    metrics=[\n",
        "        tf.keras.metrics.BinaryAccuracy(name='accuracy'),\n",
        "        tf.keras.metrics.Precision(name='precision'),\n",
        "        tf.keras.metrics.Recall(name='recall'),\n",
        "    ])\n",
        "history2 = My_model2.fit(X_train_SMOTE, y_train_SMOTE, epochs = 10)"
      ],
      "metadata": {
        "colab": {
          "base_uri": "https://localhost:8080/"
        },
        "id": "Gk0--f1kNFih",
        "outputId": "78f04647-4560-4e59-b6d5-bd8469ff24aa"
      },
      "execution_count": null,
      "outputs": [
        {
          "output_type": "stream",
          "name": "stdout",
          "text": [
            "Epoch 1/10\n",
            "1010/1010 [==============================] - 3s 2ms/step - loss: 0.4863 - accuracy: 0.7618 - precision: 0.7541 - recall: 0.7769\n",
            "Epoch 2/10\n",
            "1010/1010 [==============================] - 2s 2ms/step - loss: 0.4576 - accuracy: 0.7833 - precision: 0.7776 - recall: 0.7935\n",
            "Epoch 3/10\n",
            "1010/1010 [==============================] - 2s 2ms/step - loss: 0.4458 - accuracy: 0.7890 - precision: 0.7813 - recall: 0.8025\n",
            "Epoch 4/10\n",
            "1010/1010 [==============================] - 2s 2ms/step - loss: 0.4382 - accuracy: 0.7932 - precision: 0.7883 - recall: 0.8017\n",
            "Epoch 5/10\n",
            "1010/1010 [==============================] - 2s 2ms/step - loss: 0.4321 - accuracy: 0.7966 - precision: 0.7922 - recall: 0.8042\n",
            "Epoch 6/10\n",
            "1010/1010 [==============================] - 2s 2ms/step - loss: 0.4266 - accuracy: 0.7986 - precision: 0.7919 - recall: 0.8100\n",
            "Epoch 7/10\n",
            "1010/1010 [==============================] - 2s 2ms/step - loss: 0.4218 - accuracy: 0.8018 - precision: 0.7949 - recall: 0.8136\n",
            "Epoch 8/10\n",
            "1010/1010 [==============================] - 2s 2ms/step - loss: 0.4166 - accuracy: 0.8057 - precision: 0.7992 - recall: 0.8167\n",
            "Epoch 9/10\n",
            "1010/1010 [==============================] - 2s 2ms/step - loss: 0.4122 - accuracy: 0.8075 - precision: 0.7997 - recall: 0.8207\n",
            "Epoch 10/10\n",
            "1010/1010 [==============================] - 2s 2ms/step - loss: 0.4079 - accuracy: 0.8111 - precision: 0.8031 - recall: 0.8243\n"
          ]
        }
      ]
    },
    {
      "cell_type": "code",
      "source": [
        "#Making predictions\n",
        "predictions= My_model2.predict(X_test)\n",
        "\n",
        "# extract the predicted class labels\n",
        "predictions_new = np.where(predictions > 0.5, 1, 0)"
      ],
      "metadata": {
        "colab": {
          "base_uri": "https://localhost:8080/"
        },
        "id": "kAf00fTxNL6m",
        "outputId": "126f7449-5275-407d-ebe6-8576a05ce9d5"
      },
      "execution_count": null,
      "outputs": [
        {
          "output_type": "stream",
          "name": "stdout",
          "text": [
            "147/147 [==============================] - 0s 1ms/step\n"
          ]
        }
      ]
    },
    {
      "cell_type": "code",
      "source": [
        "# Evaluating the model\n",
        "from sklearn.metrics import classification_report, confusion_matrix\n",
        "\n",
        "confusion_matrix = confusion_matrix(y_test, predictions_new)\n",
        "print(confusion_matrix)\n",
        "\n",
        "# Looking at the classification report\n",
        "print(classification_report(y_test, predictions_new))"
      ],
      "metadata": {
        "colab": {
          "base_uri": "https://localhost:8080/"
        },
        "id": "9l3aYQiQNMnm",
        "outputId": "1283af83-86bf-41b3-b15d-fece9aa4ade2"
      },
      "execution_count": null,
      "outputs": [
        {
          "output_type": "stream",
          "name": "stdout",
          "text": [
            "[[3245  783]\n",
            " [ 189  481]]\n",
            "              precision    recall  f1-score   support\n",
            "\n",
            "           0       0.94      0.81      0.87      4028\n",
            "           1       0.38      0.72      0.50       670\n",
            "\n",
            "    accuracy                           0.79      4698\n",
            "   macro avg       0.66      0.76      0.68      4698\n",
            "weighted avg       0.86      0.79      0.82      4698\n",
            "\n"
          ]
        }
      ]
    },
    {
      "cell_type": "markdown",
      "source": [
        "# **8. Follow up questions**"
      ],
      "metadata": {
        "id": "hNhHRpgCothh"
      }
    },
    {
      "cell_type": "markdown",
      "source": [
        "### a). Did we have the right data?\n",
        "\n",
        "The given data was relevant in answering our research question as we were able to effectively investigate the given variables and gain insights on the characteristics of people who have bank accounts."
      ],
      "metadata": {
        "id": "4k03xvAOo-fe"
      }
    },
    {
      "cell_type": "markdown",
      "source": [
        "### b). Do we need other data to answer our question?\n",
        "In order for us to get a clear view of why most people do not have bank accounts we would need more variables"
      ],
      "metadata": {
        "id": "wmMo8wZipC-q"
      }
    },
    {
      "cell_type": "markdown",
      "source": [
        "### c). Did we have the right question?\n",
        "Our question was right because it enabled us have correct objectives that enabled us create a model that would predict which individuals have bank accounts and those who do not have."
      ],
      "metadata": {
        "id": "aONQsXQ7pErZ"
      }
    },
    {
      "cell_type": "markdown",
      "source": [
        "# **9. Recommendations**\n",
        "\n",
        "1. Educate people in the rural areas about banking and having accounts.\n",
        "\n",
        "2. Male gender should know the benefits of having a bank account\n",
        "\n",
        "3. Encourage the male gender the  benefits of education and also educate them on the benefits of having bank accounts."
      ],
      "metadata": {
        "id": "pF989LaKdN1q"
      }
    },
    {
      "cell_type": "markdown",
      "source": [
        "# **10. Conclusion**\n"
      ],
      "metadata": {
        "id": "9V-VKQxINbQ8"
      }
    },
    {
      "cell_type": "markdown",
      "source": [
        "The purpose of the model was to predict the type of individuals who have/use bank accounts.This is by comparing the different variables against access to bank accounts.\n",
        "\n",
        " This model would have performed better with presence of more variables to compare."
      ],
      "metadata": {
        "id": "IKJrHRkGeoGv"
      }
    }
  ]
}